{
 "cells": [
  {
   "cell_type": "markdown",
   "id": "10a3f717",
   "metadata": {},
   "source": [
    "## The Dataset\n",
    "\n",
    "The IMDb Movies Dataset comprises the top 1000 most popular and highly-rated films on the IMDb website, which serves as an extensive online database for information on movies, television series, videos, and related content.\n",
    "\n",
    "According to the information page of the dataset, the IMDb Movies Dataset was constructed using web scraping techniques to extract information directly from the IMDB site itself. Web scraping is an automated extraction of data from relevant webpages in a short amount of time (Hillier, 2021). \n",
    "\n",
    "Knowing this, the dataset could potentially have data inconsistencies due to variations in how information is presented on web pages. As such, data cleaning and preprocessing efforts are required for this dataset.\n",
    "\n",
    "In the dataset, one can see that there are a total of 1000 observations (rows), across 16 variables (columns). Here are the descriptions of each variable in the dataset:\n",
    "\n",
    "- **`Poster_Link`** - link to the image of the movie's poster on IMDb\n",
    "- **`Series_Title`** - title of the movie\n",
    "- **`Released_Year`** - year in which the movie was publicly released\n",
    "- **`Certificate`** - rating that indicates the appropriate audience or age group for which the movie is suitable\n",
    "- **`Runtime`** - total duration or length of the movie, measured in minutes\n",
    "- **`Genre`** - type, category, or theme of the movie\n",
    "- **`IMDB_Rating`** - numerical score based on user reviews and rating on IMDb\n",
    "- **`Overview`** - brief summary or description of the movie's plot, storyline, or premise\n",
    "- **`Meta_score`** - numerical score based on reputed critics on IMDb\n",
    "- **`Director`** - name of the movie's director\n",
    "- **`Star1`** - name of the first lead actor/actress in the movie\n",
    "- **`Star2`** - name of the second lead actor/actress in the movie\n",
    "- **`Star3`** - name of the third lead actor/actress in the movie\n",
    "- **`Star4`** - name of the fourth lead actor/actress in the movie\n",
    "- **`No_of_votes`** - total number of votes or user reviews/ratings the movie has received on IMDb\n",
    "- **`Gross`** - amount of money earned or grossed by the movie"
   ]
  },
  {
   "cell_type": "markdown",
   "id": "36940e43",
   "metadata": {},
   "source": [
    "## Reading the Dataset\n",
    "Our first step is to load the dataset using pandas. This will load the dataset into a pandas `DataFrame`. To load the dataset, we use the [`read_csv`](https://pandas.pydata.org/pandas-docs/stable/reference/api/pandas.read_csv.html) function. Note that you may need to change the path depending on the location of the file in your machine.\n",
    "\n",
    "Note: Copied and pasted this from the activity. We might want to revise this."
   ]
  },
  {
   "cell_type": "code",
   "execution_count": 1,
   "id": "fc814c14",
   "metadata": {
    "tags": []
   },
   "outputs": [],
   "source": [
    "import pandas as pd\n",
    "import numpy as np\n",
    "import warnings\n",
    "warnings.filterwarnings(\"ignore\")"
   ]
  },
  {
   "cell_type": "code",
   "execution_count": 2,
   "id": "6a8210dd-d94e-44d5-801c-335cc381cafe",
   "metadata": {
    "tags": []
   },
   "outputs": [],
   "source": [
    "imdb_df = pd.read_csv(\"imdb_top_1000.csv\")"
   ]
  },
  {
   "cell_type": "markdown",
   "id": "f312c3b7-7e18-4a27-9fcb-3853d2a7dde8",
   "metadata": {},
   "source": [
    "## Data Cleaning\n",
    "The researchers took a better look at the dataset prior to data cleaning. It seems like there are missing values in some of the variables. There are also inconsistent data types."
   ]
  },
  {
   "cell_type": "code",
   "execution_count": 3,
   "id": "1bfb2774-2948-4262-b8c3-a62474ca03f5",
   "metadata": {
    "tags": []
   },
   "outputs": [
    {
     "name": "stdout",
     "output_type": "stream",
     "text": [
      "<class 'pandas.core.frame.DataFrame'>\n",
      "RangeIndex: 1000 entries, 0 to 999\n",
      "Data columns (total 16 columns):\n",
      " #   Column         Non-Null Count  Dtype  \n",
      "---  ------         --------------  -----  \n",
      " 0   Poster_Link    1000 non-null   object \n",
      " 1   Series_Title   1000 non-null   object \n",
      " 2   Released_Year  1000 non-null   object \n",
      " 3   Certificate    899 non-null    object \n",
      " 4   Runtime        1000 non-null   object \n",
      " 5   Genre          1000 non-null   object \n",
      " 6   IMDB_Rating    1000 non-null   float64\n",
      " 7   Overview       1000 non-null   object \n",
      " 8   Meta_score     843 non-null    float64\n",
      " 9   Director       1000 non-null   object \n",
      " 10  Star1          1000 non-null   object \n",
      " 11  Star2          1000 non-null   object \n",
      " 12  Star3          1000 non-null   object \n",
      " 13  Star4          1000 non-null   object \n",
      " 14  No_of_Votes    1000 non-null   int64  \n",
      " 15  Gross          831 non-null    object \n",
      "dtypes: float64(2), int64(1), object(13)\n",
      "memory usage: 125.1+ KB\n"
     ]
    }
   ],
   "source": [
    "imdb_df.info()"
   ]
  },
  {
   "cell_type": "code",
   "execution_count": 4,
   "id": "6c426e8e-baf2-4632-b9ee-5cbececb12b2",
   "metadata": {
    "tags": []
   },
   "outputs": [
    {
     "name": "stdout",
     "output_type": "stream",
     "text": [
      "Poster_Link        0\n",
      "Series_Title       0\n",
      "Released_Year      0\n",
      "Certificate      101\n",
      "Runtime            0\n",
      "Genre              0\n",
      "IMDB_Rating        0\n",
      "Overview           0\n",
      "Meta_score       157\n",
      "Director           0\n",
      "Star1              0\n",
      "Star2              0\n",
      "Star3              0\n",
      "Star4              0\n",
      "No_of_Votes        0\n",
      "Gross            169\n",
      "dtype: int64\n"
     ]
    }
   ],
   "source": [
    "print(imdb_df.isnull().sum())"
   ]
  },
  {
   "cell_type": "markdown",
   "id": "3d5dfc0a-06b7-4252-8ee5-e9da6920d63b",
   "metadata": {
    "tags": []
   },
   "source": [
    "There are missing values in the following variables. Since they are important to the analysis, imputation will be done.\n",
    "* Certificate\n",
    "* Meta_score\n",
    "* Gross"
   ]
  },
  {
   "cell_type": "code",
   "execution_count": 5,
   "id": "b1c1e1bd-73ee-4b95-b31c-12d55dedc950",
   "metadata": {
    "tags": []
   },
   "outputs": [
    {
     "name": "stdout",
     "output_type": "stream",
     "text": [
      "Number of duplicated data: 0\n"
     ]
    }
   ],
   "source": [
    "print(\"Number of duplicated data:\", imdb_df.duplicated().sum())"
   ]
  },
  {
   "cell_type": "code",
   "execution_count": 6,
   "id": "cc7d9d08-7af1-405a-a883-a739665c0c9b",
   "metadata": {
    "tags": []
   },
   "outputs": [
    {
     "data": {
      "text/plain": [
       "Certificate\n",
       "U           234\n",
       "A           197\n",
       "UA          175\n",
       "R           146\n",
       "PG-13        43\n",
       "PG           37\n",
       "Passed       34\n",
       "G            12\n",
       "Approved     11\n",
       "TV-PG         3\n",
       "GP            2\n",
       "TV-14         1\n",
       "16            1\n",
       "TV-MA         1\n",
       "Unrated       1\n",
       "U/A           1\n",
       "Name: count, dtype: int64"
      ]
     },
     "execution_count": 6,
     "metadata": {},
     "output_type": "execute_result"
    }
   ],
   "source": [
    "imdb_df['Certificate'].value_counts()"
   ]
  },
  {
   "cell_type": "markdown",
   "id": "acadac2d-2127-4094-afbf-5a4be28bdb71",
   "metadata": {},
   "source": [
    "There are different types of Certificate values, which may seem inconsistent. (insert source bc of diff values)"
   ]
  },
  {
   "cell_type": "code",
   "execution_count": 7,
   "id": "32e06404-b8db-40ae-b179-907ab7b821a3",
   "metadata": {
    "tags": []
   },
   "outputs": [],
   "source": [
    "## Replace null values in certificate to the most frequent category\n",
    "imdb_df['Certificate'].fillna('U', inplace=True)"
   ]
  },
  {
   "cell_type": "code",
   "execution_count": 8,
   "id": "9ca96fc2-1333-4c6e-b05d-1f91881c577b",
   "metadata": {
    "tags": []
   },
   "outputs": [],
   "source": [
    "## Convert the Runtime object to int\n",
    "imdb_df['Runtime'] = imdb_df['Runtime'].str.replace(' min', '').astype(int)"
   ]
  },
  {
   "cell_type": "code",
   "execution_count": 9,
   "id": "177b2eb3-75d7-4ded-8e2a-151c041d0895",
   "metadata": {
    "tags": []
   },
   "outputs": [],
   "source": [
    "## Replace null values in Meta_score with the mean\n",
    "imdb_df['Meta_score'].fillna(imdb_df['Meta_score'].mean(), inplace=True)"
   ]
  },
  {
   "cell_type": "code",
   "execution_count": 10,
   "id": "a357f3e9-0e3e-4200-af46-757d205615d2",
   "metadata": {
    "tags": []
   },
   "outputs": [],
   "source": [
    "## Convert Gross to float\n",
    "imdb_df['Gross'] = imdb_df['Gross'].str.replace(',', '').astype(float)"
   ]
  },
  {
   "cell_type": "code",
   "execution_count": 11,
   "id": "081643ea-770d-46ce-908f-9b82dd3b4b38",
   "metadata": {
    "tags": []
   },
   "outputs": [],
   "source": [
    "## Replace null values in Gross with the mean\n",
    "imdb_df['Gross'].fillna(imdb_df['Gross'].mean(), inplace=True)"
   ]
  },
  {
   "cell_type": "code",
   "execution_count": 12,
   "id": "6e152a2c-2457-46ff-8de1-342dc66cbc21",
   "metadata": {
    "tags": []
   },
   "outputs": [
    {
     "data": {
      "text/plain": [
       "Released_Year\n",
       "2014    32\n",
       "2004    31\n",
       "2009    29\n",
       "2013    28\n",
       "2016    28\n",
       "        ..\n",
       "1926     1\n",
       "1936     1\n",
       "1924     1\n",
       "1921     1\n",
       "PG       1\n",
       "Name: count, Length: 100, dtype: int64"
      ]
     },
     "execution_count": 12,
     "metadata": {},
     "output_type": "execute_result"
    }
   ],
   "source": [
    "# Check values in Released_Year\n",
    "imdb_df['Released_Year'].value_counts()"
   ]
  },
  {
   "cell_type": "markdown",
   "id": "3d4552c1-eb75-4be2-bb8f-bd3cbb551c8d",
   "metadata": {},
   "source": [
    "There seems to be an error in encoding in one of the observations."
   ]
  },
  {
   "cell_type": "code",
   "execution_count": 13,
   "id": "cb716017-df6a-4eef-bcaa-1e708714ee85",
   "metadata": {
    "tags": []
   },
   "outputs": [
    {
     "data": {
      "text/html": [
       "<div>\n",
       "<style scoped>\n",
       "    .dataframe tbody tr th:only-of-type {\n",
       "        vertical-align: middle;\n",
       "    }\n",
       "\n",
       "    .dataframe tbody tr th {\n",
       "        vertical-align: top;\n",
       "    }\n",
       "\n",
       "    .dataframe thead th {\n",
       "        text-align: right;\n",
       "    }\n",
       "</style>\n",
       "<table border=\"1\" class=\"dataframe\">\n",
       "  <thead>\n",
       "    <tr style=\"text-align: right;\">\n",
       "      <th></th>\n",
       "      <th>Poster_Link</th>\n",
       "      <th>Series_Title</th>\n",
       "      <th>Released_Year</th>\n",
       "      <th>Certificate</th>\n",
       "      <th>Runtime</th>\n",
       "      <th>Genre</th>\n",
       "      <th>IMDB_Rating</th>\n",
       "      <th>Overview</th>\n",
       "      <th>Meta_score</th>\n",
       "      <th>Director</th>\n",
       "      <th>Star1</th>\n",
       "      <th>Star2</th>\n",
       "      <th>Star3</th>\n",
       "      <th>Star4</th>\n",
       "      <th>No_of_Votes</th>\n",
       "      <th>Gross</th>\n",
       "    </tr>\n",
       "  </thead>\n",
       "  <tbody>\n",
       "    <tr>\n",
       "      <th>966</th>\n",
       "      <td>https://m.media-amazon.com/images/M/MV5BNjEzYj...</td>\n",
       "      <td>Apollo 13</td>\n",
       "      <td>PG</td>\n",
       "      <td>U</td>\n",
       "      <td>140</td>\n",
       "      <td>Adventure, Drama, History</td>\n",
       "      <td>7.6</td>\n",
       "      <td>NASA must devise a strategy to return Apollo 1...</td>\n",
       "      <td>77.0</td>\n",
       "      <td>Ron Howard</td>\n",
       "      <td>Tom Hanks</td>\n",
       "      <td>Bill Paxton</td>\n",
       "      <td>Kevin Bacon</td>\n",
       "      <td>Gary Sinise</td>\n",
       "      <td>269197</td>\n",
       "      <td>173837933.0</td>\n",
       "    </tr>\n",
       "  </tbody>\n",
       "</table>\n",
       "</div>"
      ],
      "text/plain": [
       "                                           Poster_Link Series_Title  \\\n",
       "966  https://m.media-amazon.com/images/M/MV5BNjEzYj...    Apollo 13   \n",
       "\n",
       "    Released_Year Certificate  Runtime                      Genre  \\\n",
       "966            PG           U      140  Adventure, Drama, History   \n",
       "\n",
       "     IMDB_Rating                                           Overview  \\\n",
       "966          7.6  NASA must devise a strategy to return Apollo 1...   \n",
       "\n",
       "     Meta_score    Director      Star1        Star2        Star3        Star4  \\\n",
       "966        77.0  Ron Howard  Tom Hanks  Bill Paxton  Kevin Bacon  Gary Sinise   \n",
       "\n",
       "     No_of_Votes        Gross  \n",
       "966       269197  173837933.0  "
      ]
     },
     "execution_count": 13,
     "metadata": {},
     "output_type": "execute_result"
    }
   ],
   "source": [
    "imdb_df[imdb_df['Released_Year'] == 'PG']"
   ]
  },
  {
   "cell_type": "markdown",
   "id": "91b44ba5-4039-4f95-a00e-b08bb9d0f20a",
   "metadata": {},
   "source": [
    "Instead of 'PG' as Apollo 13's release year, it will be replaced by its release year of 1995."
   ]
  },
  {
   "cell_type": "code",
   "execution_count": 14,
   "id": "c2e160f3-44b6-4d7f-9a1b-ad3509cfdafd",
   "metadata": {
    "tags": []
   },
   "outputs": [
    {
     "data": {
      "text/html": [
       "<div>\n",
       "<style scoped>\n",
       "    .dataframe tbody tr th:only-of-type {\n",
       "        vertical-align: middle;\n",
       "    }\n",
       "\n",
       "    .dataframe tbody tr th {\n",
       "        vertical-align: top;\n",
       "    }\n",
       "\n",
       "    .dataframe thead th {\n",
       "        text-align: right;\n",
       "    }\n",
       "</style>\n",
       "<table border=\"1\" class=\"dataframe\">\n",
       "  <thead>\n",
       "    <tr style=\"text-align: right;\">\n",
       "      <th></th>\n",
       "      <th>Poster_Link</th>\n",
       "      <th>Series_Title</th>\n",
       "      <th>Released_Year</th>\n",
       "      <th>Certificate</th>\n",
       "      <th>Runtime</th>\n",
       "      <th>Genre</th>\n",
       "      <th>IMDB_Rating</th>\n",
       "      <th>Overview</th>\n",
       "      <th>Meta_score</th>\n",
       "      <th>Director</th>\n",
       "      <th>Star1</th>\n",
       "      <th>Star2</th>\n",
       "      <th>Star3</th>\n",
       "      <th>Star4</th>\n",
       "      <th>No_of_Votes</th>\n",
       "      <th>Gross</th>\n",
       "    </tr>\n",
       "  </thead>\n",
       "  <tbody>\n",
       "    <tr>\n",
       "      <th>966</th>\n",
       "      <td>https://m.media-amazon.com/images/M/MV5BNjEzYj...</td>\n",
       "      <td>Apollo 13</td>\n",
       "      <td>1995</td>\n",
       "      <td>U</td>\n",
       "      <td>140</td>\n",
       "      <td>Adventure, Drama, History</td>\n",
       "      <td>7.6</td>\n",
       "      <td>NASA must devise a strategy to return Apollo 1...</td>\n",
       "      <td>77.0</td>\n",
       "      <td>Ron Howard</td>\n",
       "      <td>Tom Hanks</td>\n",
       "      <td>Bill Paxton</td>\n",
       "      <td>Kevin Bacon</td>\n",
       "      <td>Gary Sinise</td>\n",
       "      <td>269197</td>\n",
       "      <td>173837933.0</td>\n",
       "    </tr>\n",
       "  </tbody>\n",
       "</table>\n",
       "</div>"
      ],
      "text/plain": [
       "                                           Poster_Link Series_Title  \\\n",
       "966  https://m.media-amazon.com/images/M/MV5BNjEzYj...    Apollo 13   \n",
       "\n",
       "    Released_Year Certificate  Runtime                      Genre  \\\n",
       "966          1995           U      140  Adventure, Drama, History   \n",
       "\n",
       "     IMDB_Rating                                           Overview  \\\n",
       "966          7.6  NASA must devise a strategy to return Apollo 1...   \n",
       "\n",
       "     Meta_score    Director      Star1        Star2        Star3        Star4  \\\n",
       "966        77.0  Ron Howard  Tom Hanks  Bill Paxton  Kevin Bacon  Gary Sinise   \n",
       "\n",
       "     No_of_Votes        Gross  \n",
       "966       269197  173837933.0  "
      ]
     },
     "execution_count": 14,
     "metadata": {},
     "output_type": "execute_result"
    }
   ],
   "source": [
    "imdb_df['Released_Year'] = imdb_df['Released_Year'].replace('PG', '1995')\n",
    "imdb_df[imdb_df['Series_Title'] == 'Apollo 13']"
   ]
  },
  {
   "cell_type": "code",
   "execution_count": 15,
   "id": "3b7581df-5426-46fb-9879-d2e5bb1f9b78",
   "metadata": {
    "tags": []
   },
   "outputs": [],
   "source": [
    "## https://stackoverflow.com/questions/62408093/one-hot-encoding-multiple-categorical-data-in-a-column\n",
    "genre = imdb_df['Genre'].str.split(', ').tolist()\n",
    "\n",
    "flat_genre = [item for sublist in genre for item in sublist]\n",
    "\n",
    "set_genre = set(flat_genre)\n",
    "\n",
    "unique_genre = list(set_genre)\n",
    "\n",
    "imdb_df = imdb_df.reindex(imdb_df.columns.tolist() + unique_genre, axis=1, fill_value=0)\n",
    "\n",
    "# for each value inside column, update the dummy\n",
    "for index, row in imdb_df.iterrows():\n",
    "    for val in row.Genre.split(', '):\n",
    "        if val != 'NA':\n",
    "            imdb_df.loc[index, val] = 1\n",
    "\n",
    "imdb_df.drop('Genre', axis = 1, inplace = True)    "
   ]
  },
  {
   "cell_type": "code",
   "execution_count": 16,
   "id": "23263993-5463-4886-9735-5605fe16340d",
   "metadata": {
    "tags": []
   },
   "outputs": [],
   "source": [
    "## Merge stars\n",
    "imdb_df['Stars'] = ''\n",
    "for i in range(imdb_df.shape[0]):\n",
    "    imdb_df['Stars'][i] = [imdb_df['Star1'][i], imdb_df['Star2'][i], imdb_df['Star3'][i], imdb_df['Star4'][i]]\n",
    "    \n",
    "imdb_df.drop(['Star1', 'Star2', 'Star3', 'Star4'], axis = 1, inplace = True)"
   ]
  },
  {
   "cell_type": "code",
   "execution_count": 24,
   "id": "8fe53be9-02bd-4b03-a717-5b61b6897f86",
   "metadata": {
    "tags": []
   },
   "outputs": [],
   "source": [
    "imdb_df.drop(['Poster_Link', 'Overview'], axis = 1, inplace = True)"
   ]
  },
  {
   "cell_type": "code",
   "execution_count": 25,
   "id": "3775fe29-56ae-4b4f-99f2-596581730e77",
   "metadata": {
    "tags": []
   },
   "outputs": [
    {
     "name": "stdout",
     "output_type": "stream",
     "text": [
      "<class 'pandas.core.frame.DataFrame'>\n",
      "RangeIndex: 1000 entries, 0 to 999\n",
      "Data columns (total 31 columns):\n",
      " #   Column         Non-Null Count  Dtype  \n",
      "---  ------         --------------  -----  \n",
      " 0   Series_Title   1000 non-null   object \n",
      " 1   Released_Year  1000 non-null   object \n",
      " 2   Certificate    1000 non-null   object \n",
      " 3   Runtime        1000 non-null   int32  \n",
      " 4   IMDB_Rating    1000 non-null   float64\n",
      " 5   Meta_score     1000 non-null   float64\n",
      " 6   Director       1000 non-null   object \n",
      " 7   No_of_Votes    1000 non-null   int64  \n",
      " 8   Gross          1000 non-null   float64\n",
      " 9   Thriller       1000 non-null   int64  \n",
      " 10  Drama          1000 non-null   int64  \n",
      " 11  Biography      1000 non-null   int64  \n",
      " 12  Action         1000 non-null   int64  \n",
      " 13  Adventure      1000 non-null   int64  \n",
      " 14  Crime          1000 non-null   int64  \n",
      " 15  Family         1000 non-null   int64  \n",
      " 16  Comedy         1000 non-null   int64  \n",
      " 17  Sport          1000 non-null   int64  \n",
      " 18  History        1000 non-null   int64  \n",
      " 19  War            1000 non-null   int64  \n",
      " 20  Film-Noir      1000 non-null   int64  \n",
      " 21  Horror         1000 non-null   int64  \n",
      " 22  Romance        1000 non-null   int64  \n",
      " 23  Music          1000 non-null   int64  \n",
      " 24  Fantasy        1000 non-null   int64  \n",
      " 25  Mystery        1000 non-null   int64  \n",
      " 26  Sci-Fi         1000 non-null   int64  \n",
      " 27  Animation      1000 non-null   int64  \n",
      " 28  Musical        1000 non-null   int64  \n",
      " 29  Western        1000 non-null   int64  \n",
      " 30  Stars          1000 non-null   object \n",
      "dtypes: float64(3), int32(1), int64(22), object(5)\n",
      "memory usage: 238.4+ KB\n"
     ]
    }
   ],
   "source": [
    "imdb_df.info()"
   ]
  },
  {
   "cell_type": "code",
   "execution_count": 20,
   "id": "1a601c59-4c74-44b2-8536-e62eb7e53f0f",
   "metadata": {
    "tags": []
   },
   "outputs": [],
   "source": [
    "reordered_cols = ['Series_Title', 'Released_Year', 'Certificate', 'Runtime', 'IMDB_Rating', 'Meta_score', 'Director', 'Stars', 'No_of_Votes', 'Gross']\n",
    "final_cols = reordered_cols + unique_genre"
   ]
  },
  {
   "cell_type": "code",
   "execution_count": 26,
   "id": "d3a1ad16-1301-454a-99ac-a4cb4699c616",
   "metadata": {
    "tags": []
   },
   "outputs": [
    {
     "data": {
      "text/plain": [
       "True"
      ]
     },
     "execution_count": 26,
     "metadata": {},
     "output_type": "execute_result"
    }
   ],
   "source": [
    "set(imdb_df.columns) == set(final_cols)"
   ]
  },
  {
   "cell_type": "code",
   "execution_count": 27,
   "id": "798ac527-7edd-49f1-b81e-2edf881d8894",
   "metadata": {
    "tags": []
   },
   "outputs": [],
   "source": [
    "imdb_df = imdb_df[final_cols]"
   ]
  },
  {
   "cell_type": "code",
   "execution_count": 2,
   "id": "33d1a4e4",
   "metadata": {
    "tags": []
   },
   "outputs": [
    {
     "ename": "NameError",
     "evalue": "name 'imdb_df' is not defined",
     "output_type": "error",
     "traceback": [
      "\u001b[1;31m---------------------------------------------------------------------------\u001b[0m",
      "\u001b[1;31mNameError\u001b[0m                                 Traceback (most recent call last)",
      "Cell \u001b[1;32mIn[2], line 1\u001b[0m\n\u001b[1;32m----> 1\u001b[0m imdb_df\u001b[38;5;241m.\u001b[39mhead()\n",
      "\u001b[1;31mNameError\u001b[0m: name 'imdb_df' is not defined"
     ]
    }
   ],
   "source": [
    "imdb_df.head()"
   ]
  },
  {
   "cell_type": "markdown",
   "id": "b8101566",
   "metadata": {},
   "source": [
    "## Exploratory Data Analysis\n",
    "\n",
    "* Identify at least 4 exploratory data analysis questions. Properly state the questions in the notebook. Having more than 4 questions is acceptable, especially if this will help in understanding the data better.\n",
    "* Answer the EDA questions using both:\n",
    " - Numerical Summaries – measures of central tendency, measures of dispersion, and correlation\n",
    " - Visualization – Appropriate visualization should be used. Each visualization should be accompanied by a brief explanation.\n",
    "\n",
    "1. What is the distribution of movie ratings on IMDB (IMDB_Rating)?\n",
    "2. Is there any relationship between the movie's rating on IMDB (IMDB_Rating) and the score earned by the movie (Meta_score)?\n",
    "3. How does the movie's gross earnings (Gross) relate to its IMDB rating (IMDB_Rating)?\n",
    "4. How has the distribution of movie releases (Released_Year) evolved over time?\n",
    "5. What are the most common movie genres in the dataset, and how do they correlate with the movie's IMDB rating (IMDB_Rating)?\n",
    "6. What is the distribution of the gross earnings (Gross) for movies in the dataset?\n",
    "7. Are there any trends or patterns in the relationship between the number of votes (No_of_votes) and the IMDB rating (IMDB_Rating) of movies?"
   ]
  },
  {
   "cell_type": "code",
   "execution_count": null,
   "id": "263b1b5a",
   "metadata": {},
   "outputs": [],
   "source": []
  }
 ],
 "metadata": {
  "kernelspec": {
   "display_name": "Python 3 (ipykernel)",
   "language": "python",
   "name": "python3"
  },
  "language_info": {
   "codemirror_mode": {
    "name": "ipython",
    "version": 3
   },
   "file_extension": ".py",
   "mimetype": "text/x-python",
   "name": "python",
   "nbconvert_exporter": "python",
   "pygments_lexer": "ipython3",
   "version": "3.11.4"
  }
 },
 "nbformat": 4,
 "nbformat_minor": 5
}
