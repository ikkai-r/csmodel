{
 "cells": [
  {
   "cell_type": "markdown",
   "id": "10a3f717",
   "metadata": {},
   "source": [
    "## The Dataset\n",
    "\n",
    "The IMDb Movies Dataset comprises the top 1000 most popular and highly-rated films on the IMDb website, which serves as an extensive online database for information on movies, television series, videos, and related content.\n",
    "\n",
    "According to the information page of the dataset, the IMDb Movies Dataset was constructed using web scraping techniques to extract information directly from the IMDB site itself. Web scraping is an automated extraction of data from relevant webpages in a short amount of time (Hillier, 2021). \n",
    "\n",
    "Knowing this, the dataset could potentially have data inconsistencies due to variations in how information is presented on web pages. As such, data cleaning and preprocessing efforts are required for this dataset.\n",
    "\n",
    "In the dataset, one can see that there are a total of 1000 observations (rows), across 16 variables (columns). Here are the descriptions of each variable in the dataset:\n",
    "\n",
    "- **`Poster_Link`** - link to the image of the movie's poster on IMDb\n",
    "- **`Series_Title`** - title of the movie\n",
    "- **`Released_Year`** - year in which the movie was publicly released\n",
    "- **`Certificate`** - rating that indicates the appropriate audience or age group for which the movie is suitable\n",
    "- **`Runtime`** - total duration or length of the movie, measured in minutes\n",
    "- **`Genre`** - type, category, or theme of the movie\n",
    "- **`IMDB_Rating`** - numerical score based on user reviews and rating on IMDb\n",
    "- **`Overview`** - brief summary or description of the movie's plot, storyline, or premise\n",
    "- **`Meta_score`** - numerical score based on reputed critics on IMDb\n",
    "- **`Director`** - name of the movie's director\n",
    "- **`Star1`** - name of the first lead actor/actress in the movie\n",
    "- **`Star2`** - name of the second lead actor/actress in the movie\n",
    "- **`Star3`** - name of the third lead actor/actress in the movie\n",
    "- **`Star4`** - name of the fourth lead actor/actress in the movie\n",
    "- **`No_of_votes`** - total number of votes or user reviews/ratings the movie has received on IMDb\n",
    "- **`Gross`** - amount of money earned or grossed by the movie"
   ]
  },
  {
   "cell_type": "markdown",
   "id": "36940e43",
   "metadata": {},
   "source": [
    "## Reading the Dataset\n",
    "To load the dataset, we are going to use pandas. Using the [`read_csv`](https://pandas.pydata.org/pandas-docs/stable/reference/api/pandas.read_csv.html) , the dataset will be loaded into a pandas `DataFrame`."
   ]
  },
  {
   "cell_type": "code",
   "execution_count": 1,
   "id": "fc814c14",
   "metadata": {
    "tags": []
   },
   "outputs": [],
   "source": [
    "import pandas as pd\n",
    "import numpy as np\n",
    "import matplotlib.pyplot as plt\n",
    "import warnings\n",
    "warnings.filterwarnings(\"ignore\")"
   ]
  },
  {
   "cell_type": "code",
   "execution_count": 2,
   "id": "6a8210dd-d94e-44d5-801c-335cc381cafe",
   "metadata": {
    "tags": []
   },
   "outputs": [],
   "source": [
    "imdb_df = pd.read_csv(\"imdb_top_1000.csv\")"
   ]
  },
  {
   "cell_type": "markdown",
   "id": "f312c3b7-7e18-4a27-9fcb-3853d2a7dde8",
   "metadata": {},
   "source": [
    "## Data Cleaning\n",
    "The researchers took a better look at the dataset prior to data cleaning. It seems like there are missing values in some of the variables. There are also inconsistent data types."
   ]
  },
  {
   "cell_type": "code",
   "execution_count": 3,
   "id": "1bfb2774-2948-4262-b8c3-a62474ca03f5",
   "metadata": {
    "tags": []
   },
   "outputs": [
    {
     "name": "stdout",
     "output_type": "stream",
     "text": [
      "<class 'pandas.core.frame.DataFrame'>\n",
      "RangeIndex: 1000 entries, 0 to 999\n",
      "Data columns (total 16 columns):\n",
      " #   Column         Non-Null Count  Dtype  \n",
      "---  ------         --------------  -----  \n",
      " 0   Poster_Link    1000 non-null   object \n",
      " 1   Series_Title   1000 non-null   object \n",
      " 2   Released_Year  1000 non-null   object \n",
      " 3   Certificate    899 non-null    object \n",
      " 4   Runtime        1000 non-null   object \n",
      " 5   Genre          1000 non-null   object \n",
      " 6   IMDB_Rating    1000 non-null   float64\n",
      " 7   Overview       1000 non-null   object \n",
      " 8   Meta_score     843 non-null    float64\n",
      " 9   Director       1000 non-null   object \n",
      " 10  Star1          1000 non-null   object \n",
      " 11  Star2          1000 non-null   object \n",
      " 12  Star3          1000 non-null   object \n",
      " 13  Star4          1000 non-null   object \n",
      " 14  No_of_Votes    1000 non-null   int64  \n",
      " 15  Gross          831 non-null    object \n",
      "dtypes: float64(2), int64(1), object(13)\n",
      "memory usage: 125.1+ KB\n"
     ]
    }
   ],
   "source": [
    "imdb_df.info()"
   ]
  },
  {
   "cell_type": "code",
   "execution_count": 4,
   "id": "6c426e8e-baf2-4632-b9ee-5cbececb12b2",
   "metadata": {
    "tags": []
   },
   "outputs": [
    {
     "name": "stdout",
     "output_type": "stream",
     "text": [
      "Poster_Link        0\n",
      "Series_Title       0\n",
      "Released_Year      0\n",
      "Certificate      101\n",
      "Runtime            0\n",
      "Genre              0\n",
      "IMDB_Rating        0\n",
      "Overview           0\n",
      "Meta_score       157\n",
      "Director           0\n",
      "Star1              0\n",
      "Star2              0\n",
      "Star3              0\n",
      "Star4              0\n",
      "No_of_Votes        0\n",
      "Gross            169\n",
      "dtype: int64\n"
     ]
    }
   ],
   "source": [
    "print(imdb_df.isnull().sum())"
   ]
  },
  {
   "cell_type": "markdown",
   "id": "3d5dfc0a-06b7-4252-8ee5-e9da6920d63b",
   "metadata": {
    "tags": []
   },
   "source": [
    "There are missing values in the following variables. Since they are important to the analysis, imputation will be done.\n",
    "* Certificate\n",
    "* Meta_score\n",
    "* Gross"
   ]
  },
  {
   "cell_type": "code",
   "execution_count": 5,
   "id": "b1c1e1bd-73ee-4b95-b31c-12d55dedc950",
   "metadata": {
    "tags": []
   },
   "outputs": [
    {
     "name": "stdout",
     "output_type": "stream",
     "text": [
      "Number of duplicated data: 0\n"
     ]
    }
   ],
   "source": [
    "print(\"Number of duplicated data:\", imdb_df.duplicated().sum())"
   ]
  },
  {
   "cell_type": "code",
   "execution_count": 6,
   "id": "cc7d9d08-7af1-405a-a883-a739665c0c9b",
   "metadata": {
    "tags": []
   },
   "outputs": [
    {
     "data": {
      "text/plain": [
       "Certificate\n",
       "U           234\n",
       "A           197\n",
       "UA          175\n",
       "R           146\n",
       "PG-13        43\n",
       "PG           37\n",
       "Passed       34\n",
       "G            12\n",
       "Approved     11\n",
       "TV-PG         3\n",
       "GP            2\n",
       "TV-14         1\n",
       "16            1\n",
       "TV-MA         1\n",
       "Unrated       1\n",
       "U/A           1\n",
       "Name: count, dtype: int64"
      ]
     },
     "execution_count": 6,
     "metadata": {},
     "output_type": "execute_result"
    }
   ],
   "source": [
    "imdb_df['Certificate'].value_counts()"
   ]
  },
  {
   "cell_type": "markdown",
   "id": "acadac2d-2127-4094-afbf-5a4be28bdb71",
   "metadata": {},
   "source": [
    "There are different types of Certificate values, which may seem inconsistent. (insert source bc of diff values)"
   ]
  },
  {
   "cell_type": "code",
   "execution_count": 7,
   "id": "32e06404-b8db-40ae-b179-907ab7b821a3",
   "metadata": {
    "tags": []
   },
   "outputs": [],
   "source": [
    "## Replace null values in certificate to the most frequent category\n",
    "imdb_df['Certificate'].fillna('U', inplace=True)"
   ]
  },
  {
   "cell_type": "code",
   "execution_count": 8,
   "id": "9ca96fc2-1333-4c6e-b05d-1f91881c577b",
   "metadata": {
    "tags": []
   },
   "outputs": [],
   "source": [
    "## Convert the Runtime object to int\n",
    "imdb_df['Runtime'] = imdb_df['Runtime'].str.replace(' min', '').astype(int)"
   ]
  },
  {
   "cell_type": "code",
<<<<<<< HEAD
   "execution_count": 44,
=======
   "execution_count": 9,
>>>>>>> dbd6035b8e8a26fd64e53da0467ad4f08262d2f9
   "id": "177b2eb3-75d7-4ded-8e2a-151c041d0895",
   "metadata": {
    "tags": []
   },
   "outputs": [],
   "source": [
    "## Replace null values in Meta_score with the mean\n",
    "imdb_df['Meta_score'].fillna(imdb_df['Meta_score'].mean(), inplace=True)"
   ]
  },
  {
   "cell_type": "code",
<<<<<<< HEAD
   "execution_count": 43,
=======
   "execution_count": 10,
>>>>>>> dbd6035b8e8a26fd64e53da0467ad4f08262d2f9
   "id": "a357f3e9-0e3e-4200-af46-757d205615d2",
   "metadata": {
    "tags": []
   },
   "outputs": [
    {
     "ename": "AttributeError",
     "evalue": "Can only use .str accessor with string values!",
     "output_type": "error",
     "traceback": [
      "\u001b[1;31m---------------------------------------------------------------------------\u001b[0m",
      "\u001b[1;31mAttributeError\u001b[0m                            Traceback (most recent call last)",
      "Cell \u001b[1;32mIn[43], line 2\u001b[0m\n\u001b[0;32m      1\u001b[0m \u001b[38;5;66;03m## Convert Gross to float\u001b[39;00m\n\u001b[1;32m----> 2\u001b[0m imdb_df[\u001b[38;5;124m'\u001b[39m\u001b[38;5;124mGross\u001b[39m\u001b[38;5;124m'\u001b[39m] \u001b[38;5;241m=\u001b[39m imdb_df[\u001b[38;5;124m'\u001b[39m\u001b[38;5;124mGross\u001b[39m\u001b[38;5;124m'\u001b[39m]\u001b[38;5;241m.\u001b[39mstr\u001b[38;5;241m.\u001b[39mreplace(\u001b[38;5;124m'\u001b[39m\u001b[38;5;124m,\u001b[39m\u001b[38;5;124m'\u001b[39m, \u001b[38;5;124m'\u001b[39m\u001b[38;5;124m'\u001b[39m)\u001b[38;5;241m.\u001b[39mastype(\u001b[38;5;28mfloat\u001b[39m)\n",
      "File \u001b[1;32m~\\anaconda3\\Lib\\site-packages\\pandas\\core\\generic.py:5902\u001b[0m, in \u001b[0;36mNDFrame.__getattr__\u001b[1;34m(self, name)\u001b[0m\n\u001b[0;32m   5895\u001b[0m \u001b[38;5;28;01mif\u001b[39;00m (\n\u001b[0;32m   5896\u001b[0m     name \u001b[38;5;129;01mnot\u001b[39;00m \u001b[38;5;129;01min\u001b[39;00m \u001b[38;5;28mself\u001b[39m\u001b[38;5;241m.\u001b[39m_internal_names_set\n\u001b[0;32m   5897\u001b[0m     \u001b[38;5;129;01mand\u001b[39;00m name \u001b[38;5;129;01mnot\u001b[39;00m \u001b[38;5;129;01min\u001b[39;00m \u001b[38;5;28mself\u001b[39m\u001b[38;5;241m.\u001b[39m_metadata\n\u001b[0;32m   5898\u001b[0m     \u001b[38;5;129;01mand\u001b[39;00m name \u001b[38;5;129;01mnot\u001b[39;00m \u001b[38;5;129;01min\u001b[39;00m \u001b[38;5;28mself\u001b[39m\u001b[38;5;241m.\u001b[39m_accessors\n\u001b[0;32m   5899\u001b[0m     \u001b[38;5;129;01mand\u001b[39;00m \u001b[38;5;28mself\u001b[39m\u001b[38;5;241m.\u001b[39m_info_axis\u001b[38;5;241m.\u001b[39m_can_hold_identifiers_and_holds_name(name)\n\u001b[0;32m   5900\u001b[0m ):\n\u001b[0;32m   5901\u001b[0m     \u001b[38;5;28;01mreturn\u001b[39;00m \u001b[38;5;28mself\u001b[39m[name]\n\u001b[1;32m-> 5902\u001b[0m \u001b[38;5;28;01mreturn\u001b[39;00m \u001b[38;5;28mobject\u001b[39m\u001b[38;5;241m.\u001b[39m\u001b[38;5;21m__getattribute__\u001b[39m(\u001b[38;5;28mself\u001b[39m, name)\n",
      "File \u001b[1;32m~\\anaconda3\\Lib\\site-packages\\pandas\\core\\accessor.py:182\u001b[0m, in \u001b[0;36mCachedAccessor.__get__\u001b[1;34m(self, obj, cls)\u001b[0m\n\u001b[0;32m    179\u001b[0m \u001b[38;5;28;01mif\u001b[39;00m obj \u001b[38;5;129;01mis\u001b[39;00m \u001b[38;5;28;01mNone\u001b[39;00m:\n\u001b[0;32m    180\u001b[0m     \u001b[38;5;66;03m# we're accessing the attribute of the class, i.e., Dataset.geo\u001b[39;00m\n\u001b[0;32m    181\u001b[0m     \u001b[38;5;28;01mreturn\u001b[39;00m \u001b[38;5;28mself\u001b[39m\u001b[38;5;241m.\u001b[39m_accessor\n\u001b[1;32m--> 182\u001b[0m accessor_obj \u001b[38;5;241m=\u001b[39m \u001b[38;5;28mself\u001b[39m\u001b[38;5;241m.\u001b[39m_accessor(obj)\n\u001b[0;32m    183\u001b[0m \u001b[38;5;66;03m# Replace the property with the accessor object. Inspired by:\u001b[39;00m\n\u001b[0;32m    184\u001b[0m \u001b[38;5;66;03m# https://www.pydanny.com/cached-property.html\u001b[39;00m\n\u001b[0;32m    185\u001b[0m \u001b[38;5;66;03m# We need to use object.__setattr__ because we overwrite __setattr__ on\u001b[39;00m\n\u001b[0;32m    186\u001b[0m \u001b[38;5;66;03m# NDFrame\u001b[39;00m\n\u001b[0;32m    187\u001b[0m \u001b[38;5;28mobject\u001b[39m\u001b[38;5;241m.\u001b[39m\u001b[38;5;21m__setattr__\u001b[39m(obj, \u001b[38;5;28mself\u001b[39m\u001b[38;5;241m.\u001b[39m_name, accessor_obj)\n",
      "File \u001b[1;32m~\\anaconda3\\Lib\\site-packages\\pandas\\core\\strings\\accessor.py:181\u001b[0m, in \u001b[0;36mStringMethods.__init__\u001b[1;34m(self, data)\u001b[0m\n\u001b[0;32m    178\u001b[0m \u001b[38;5;28;01mdef\u001b[39;00m \u001b[38;5;21m__init__\u001b[39m(\u001b[38;5;28mself\u001b[39m, data) \u001b[38;5;241m-\u001b[39m\u001b[38;5;241m>\u001b[39m \u001b[38;5;28;01mNone\u001b[39;00m:\n\u001b[0;32m    179\u001b[0m     \u001b[38;5;28;01mfrom\u001b[39;00m \u001b[38;5;21;01mpandas\u001b[39;00m\u001b[38;5;21;01m.\u001b[39;00m\u001b[38;5;21;01mcore\u001b[39;00m\u001b[38;5;21;01m.\u001b[39;00m\u001b[38;5;21;01marrays\u001b[39;00m\u001b[38;5;21;01m.\u001b[39;00m\u001b[38;5;21;01mstring_\u001b[39;00m \u001b[38;5;28;01mimport\u001b[39;00m StringDtype\n\u001b[1;32m--> 181\u001b[0m     \u001b[38;5;28mself\u001b[39m\u001b[38;5;241m.\u001b[39m_inferred_dtype \u001b[38;5;241m=\u001b[39m \u001b[38;5;28mself\u001b[39m\u001b[38;5;241m.\u001b[39m_validate(data)\n\u001b[0;32m    182\u001b[0m     \u001b[38;5;28mself\u001b[39m\u001b[38;5;241m.\u001b[39m_is_categorical \u001b[38;5;241m=\u001b[39m is_categorical_dtype(data\u001b[38;5;241m.\u001b[39mdtype)\n\u001b[0;32m    183\u001b[0m     \u001b[38;5;28mself\u001b[39m\u001b[38;5;241m.\u001b[39m_is_string \u001b[38;5;241m=\u001b[39m \u001b[38;5;28misinstance\u001b[39m(data\u001b[38;5;241m.\u001b[39mdtype, StringDtype)\n",
      "File \u001b[1;32m~\\anaconda3\\Lib\\site-packages\\pandas\\core\\strings\\accessor.py:235\u001b[0m, in \u001b[0;36mStringMethods._validate\u001b[1;34m(data)\u001b[0m\n\u001b[0;32m    232\u001b[0m inferred_dtype \u001b[38;5;241m=\u001b[39m lib\u001b[38;5;241m.\u001b[39minfer_dtype(values, skipna\u001b[38;5;241m=\u001b[39m\u001b[38;5;28;01mTrue\u001b[39;00m)\n\u001b[0;32m    234\u001b[0m \u001b[38;5;28;01mif\u001b[39;00m inferred_dtype \u001b[38;5;129;01mnot\u001b[39;00m \u001b[38;5;129;01min\u001b[39;00m allowed_types:\n\u001b[1;32m--> 235\u001b[0m     \u001b[38;5;28;01mraise\u001b[39;00m \u001b[38;5;167;01mAttributeError\u001b[39;00m(\u001b[38;5;124m\"\u001b[39m\u001b[38;5;124mCan only use .str accessor with string values!\u001b[39m\u001b[38;5;124m\"\u001b[39m)\n\u001b[0;32m    236\u001b[0m \u001b[38;5;28;01mreturn\u001b[39;00m inferred_dtype\n",
      "\u001b[1;31mAttributeError\u001b[0m: Can only use .str accessor with string values!"
     ]
    }
   ],
   "source": [
    "## Convert Gross to float\n",
    "imdb_df['Gross'] = imdb_df['Gross'].str.replace(',', '').astype(float)"
   ]
  },
  {
   "cell_type": "code",
<<<<<<< HEAD
   "execution_count": null,
=======
   "execution_count": 11,
>>>>>>> dbd6035b8e8a26fd64e53da0467ad4f08262d2f9
   "id": "081643ea-770d-46ce-908f-9b82dd3b4b38",
   "metadata": {
    "tags": []
   },
   "outputs": [],
   "source": [
    "## Replace null values in Gross with the mean, change all to int\n",
    "imdb_df['Gross'].fillna(imdb_df['Gross'].mean(), inplace=True)\n",
    "imdb_df['Gross'] = imdb_df['Gross'].astype(int)"
   ]
  },
  {
   "cell_type": "code",
   "execution_count": 12,
   "id": "6e152a2c-2457-46ff-8de1-342dc66cbc21",
   "metadata": {
    "tags": []
   },
   "outputs": [
    {
     "data": {
      "text/plain": [
       "Released_Year\n",
       "2014    32\n",
       "2004    31\n",
       "2009    29\n",
       "2013    28\n",
       "2016    28\n",
       "        ..\n",
       "1926     1\n",
       "1936     1\n",
       "1924     1\n",
       "1921     1\n",
       "PG       1\n",
       "Name: count, Length: 100, dtype: int64"
      ]
     },
     "execution_count": 12,
     "metadata": {},
     "output_type": "execute_result"
    }
   ],
   "source": [
    "# Check values in Released_Year\n",
    "imdb_df['Released_Year'].value_counts()"
   ]
  },
  {
   "cell_type": "markdown",
   "id": "3d4552c1-eb75-4be2-bb8f-bd3cbb551c8d",
   "metadata": {},
   "source": [
    "There seems to be an error in encoding in one of the observations."
   ]
  },
  {
   "cell_type": "code",
   "execution_count": 13,
   "id": "cb716017-df6a-4eef-bcaa-1e708714ee85",
   "metadata": {
    "tags": []
   },
   "outputs": [
    {
     "data": {
      "text/html": [
       "<div>\n",
       "<style scoped>\n",
       "    .dataframe tbody tr th:only-of-type {\n",
       "        vertical-align: middle;\n",
       "    }\n",
       "\n",
       "    .dataframe tbody tr th {\n",
       "        vertical-align: top;\n",
       "    }\n",
       "\n",
       "    .dataframe thead th {\n",
       "        text-align: right;\n",
       "    }\n",
       "</style>\n",
       "<table border=\"1\" class=\"dataframe\">\n",
       "  <thead>\n",
       "    <tr style=\"text-align: right;\">\n",
       "      <th></th>\n",
       "      <th>Poster_Link</th>\n",
       "      <th>Series_Title</th>\n",
       "      <th>Released_Year</th>\n",
       "      <th>Certificate</th>\n",
       "      <th>Runtime</th>\n",
       "      <th>Genre</th>\n",
       "      <th>IMDB_Rating</th>\n",
       "      <th>Overview</th>\n",
       "      <th>Meta_score</th>\n",
       "      <th>Director</th>\n",
       "      <th>Star1</th>\n",
       "      <th>Star2</th>\n",
       "      <th>Star3</th>\n",
       "      <th>Star4</th>\n",
       "      <th>No_of_Votes</th>\n",
       "      <th>Gross</th>\n",
       "    </tr>\n",
       "  </thead>\n",
       "  <tbody>\n",
       "    <tr>\n",
       "      <th>966</th>\n",
       "      <td>https://m.media-amazon.com/images/M/MV5BNjEzYj...</td>\n",
       "      <td>Apollo 13</td>\n",
       "      <td>PG</td>\n",
       "      <td>U</td>\n",
       "      <td>140</td>\n",
       "      <td>Adventure, Drama, History</td>\n",
       "      <td>7.6</td>\n",
       "      <td>NASA must devise a strategy to return Apollo 1...</td>\n",
       "      <td>77.0</td>\n",
       "      <td>Ron Howard</td>\n",
       "      <td>Tom Hanks</td>\n",
       "      <td>Bill Paxton</td>\n",
       "      <td>Kevin Bacon</td>\n",
       "      <td>Gary Sinise</td>\n",
       "      <td>269197</td>\n",
       "      <td>173837933</td>\n",
       "    </tr>\n",
       "  </tbody>\n",
       "</table>\n",
       "</div>"
      ],
      "text/plain": [
       "                                           Poster_Link Series_Title  \\\n",
       "966  https://m.media-amazon.com/images/M/MV5BNjEzYj...    Apollo 13   \n",
       "\n",
       "    Released_Year Certificate  Runtime                      Genre  \\\n",
       "966            PG           U      140  Adventure, Drama, History   \n",
       "\n",
       "     IMDB_Rating                                           Overview  \\\n",
       "966          7.6  NASA must devise a strategy to return Apollo 1...   \n",
       "\n",
       "     Meta_score    Director      Star1        Star2        Star3        Star4  \\\n",
       "966        77.0  Ron Howard  Tom Hanks  Bill Paxton  Kevin Bacon  Gary Sinise   \n",
       "\n",
       "     No_of_Votes      Gross  \n",
       "966       269197  173837933  "
      ]
     },
     "execution_count": 13,
     "metadata": {},
     "output_type": "execute_result"
    }
   ],
   "source": [
    "imdb_df[imdb_df['Released_Year'] == 'PG']"
   ]
  },
  {
   "cell_type": "markdown",
   "id": "91b44ba5-4039-4f95-a00e-b08bb9d0f20a",
   "metadata": {},
   "source": [
    "Instead of 'PG' as Apollo 13's release year, it will be replaced by its release year of 1995."
   ]
  },
  {
   "cell_type": "code",
   "execution_count": 14,
   "id": "c2e160f3-44b6-4d7f-9a1b-ad3509cfdafd",
   "metadata": {
    "tags": []
   },
   "outputs": [
    {
     "data": {
      "text/html": [
       "<div>\n",
       "<style scoped>\n",
       "    .dataframe tbody tr th:only-of-type {\n",
       "        vertical-align: middle;\n",
       "    }\n",
       "\n",
       "    .dataframe tbody tr th {\n",
       "        vertical-align: top;\n",
       "    }\n",
       "\n",
       "    .dataframe thead th {\n",
       "        text-align: right;\n",
       "    }\n",
       "</style>\n",
       "<table border=\"1\" class=\"dataframe\">\n",
       "  <thead>\n",
       "    <tr style=\"text-align: right;\">\n",
       "      <th></th>\n",
       "      <th>Poster_Link</th>\n",
       "      <th>Series_Title</th>\n",
       "      <th>Released_Year</th>\n",
       "      <th>Certificate</th>\n",
       "      <th>Runtime</th>\n",
       "      <th>Genre</th>\n",
       "      <th>IMDB_Rating</th>\n",
       "      <th>Overview</th>\n",
       "      <th>Meta_score</th>\n",
       "      <th>Director</th>\n",
       "      <th>Star1</th>\n",
       "      <th>Star2</th>\n",
       "      <th>Star3</th>\n",
       "      <th>Star4</th>\n",
       "      <th>No_of_Votes</th>\n",
       "      <th>Gross</th>\n",
       "    </tr>\n",
       "  </thead>\n",
       "  <tbody>\n",
       "    <tr>\n",
       "      <th>966</th>\n",
       "      <td>https://m.media-amazon.com/images/M/MV5BNjEzYj...</td>\n",
       "      <td>Apollo 13</td>\n",
       "      <td>1995</td>\n",
       "      <td>U</td>\n",
       "      <td>140</td>\n",
       "      <td>Adventure, Drama, History</td>\n",
       "      <td>7.6</td>\n",
       "      <td>NASA must devise a strategy to return Apollo 1...</td>\n",
       "      <td>77.0</td>\n",
       "      <td>Ron Howard</td>\n",
       "      <td>Tom Hanks</td>\n",
       "      <td>Bill Paxton</td>\n",
       "      <td>Kevin Bacon</td>\n",
       "      <td>Gary Sinise</td>\n",
       "      <td>269197</td>\n",
       "      <td>173837933</td>\n",
       "    </tr>\n",
       "  </tbody>\n",
       "</table>\n",
       "</div>"
      ],
      "text/plain": [
       "                                           Poster_Link Series_Title  \\\n",
       "966  https://m.media-amazon.com/images/M/MV5BNjEzYj...    Apollo 13   \n",
       "\n",
       "    Released_Year Certificate  Runtime                      Genre  \\\n",
       "966          1995           U      140  Adventure, Drama, History   \n",
       "\n",
       "     IMDB_Rating                                           Overview  \\\n",
       "966          7.6  NASA must devise a strategy to return Apollo 1...   \n",
       "\n",
       "     Meta_score    Director      Star1        Star2        Star3        Star4  \\\n",
       "966        77.0  Ron Howard  Tom Hanks  Bill Paxton  Kevin Bacon  Gary Sinise   \n",
       "\n",
       "     No_of_Votes      Gross  \n",
       "966       269197  173837933  "
      ]
     },
     "execution_count": 14,
     "metadata": {},
     "output_type": "execute_result"
    }
   ],
   "source": [
    "imdb_df['Released_Year'] = imdb_df['Released_Year'].replace('PG', '1995')\n",
    "imdb_df[imdb_df['Series_Title'] == 'Apollo 13']"
   ]
  },
  {
   "cell_type": "code",
   "execution_count": 15,
<<<<<<< HEAD
=======
   "id": "1afe09af-0b0c-4176-b357-5a8431b36dc7",
   "metadata": {
    "tags": []
   },
   "outputs": [],
   "source": [
    "imdb_df['Released_Year']= imdb_df['Released_Year'].astype(str).astype(int)"
   ]
  },
  {
   "cell_type": "code",
   "execution_count": 16,
>>>>>>> dbd6035b8e8a26fd64e53da0467ad4f08262d2f9
   "id": "3b7581df-5426-46fb-9879-d2e5bb1f9b78",
   "metadata": {
    "tags": []
   },
   "outputs": [],
   "source": [
    "## https://stackoverflow.com/questions/62408093/one-hot-encoding-multiple-categorical-data-in-a-column\n",
    "genre = imdb_df['Genre'].str.split(', ').tolist()\n",
    "genre_joined = imdb_df['Genre'].str.split(', ')\n",
    "\n",
    "\n",
    "flat_genre = [item for sublist in genre for item in sublist]\n",
    "\n",
    "set_genre = set(flat_genre)\n",
    "\n",
    "unique_genre = list(set_genre)\n",
    "\n",
    "imdb_df = imdb_df.reindex(imdb_df.columns.tolist() + unique_genre, axis=1, fill_value=0)\n",
    "\n",
    "# for each value inside column, update the dummy\n",
    "for index, row in imdb_df.iterrows():\n",
    "    for val in row.Genre.split(', '):\n",
    "        if val != 'NA':\n",
    "            imdb_df.loc[index, val] = 1\n",
    "\n",
    "imdb_df['Genre'] = ''\n",
    "for i in range(imdb_df.shape[0]):\n",
    "    imdb_df['Genre'][i] = genre_joined[i]"
   ]
  },
  {
   "cell_type": "code",
<<<<<<< HEAD
   "execution_count": 16,
=======
   "execution_count": 17,
>>>>>>> dbd6035b8e8a26fd64e53da0467ad4f08262d2f9
   "id": "23263993-5463-4886-9735-5605fe16340d",
   "metadata": {
    "tags": []
   },
   "outputs": [],
   "source": [
    "## Merge stars\n",
    "imdb_df['Stars'] = ''\n",
    "for i in range(imdb_df.shape[0]):\n",
    "    imdb_df['Stars'][i] = [imdb_df['Star1'][i], imdb_df['Star2'][i], imdb_df['Star3'][i], imdb_df['Star4'][i]]\n",
    "    \n",
    "imdb_df.drop(['Star1', 'Star2', 'Star3', 'Star4'], axis = 1, inplace = True)"
   ]
  },
  {
   "cell_type": "code",
<<<<<<< HEAD
   "execution_count": 17,
=======
   "execution_count": 18,
>>>>>>> dbd6035b8e8a26fd64e53da0467ad4f08262d2f9
   "id": "8fe53be9-02bd-4b03-a717-5b61b6897f86",
   "metadata": {
    "tags": []
   },
   "outputs": [],
   "source": [
    "imdb_df.drop(['Poster_Link', 'Overview'], axis = 1, inplace = True)"
   ]
  },
  {
   "cell_type": "code",
<<<<<<< HEAD
   "execution_count": 18,
=======
   "execution_count": 19,
>>>>>>> dbd6035b8e8a26fd64e53da0467ad4f08262d2f9
   "id": "3775fe29-56ae-4b4f-99f2-596581730e77",
   "metadata": {
    "tags": []
   },
   "outputs": [
    {
     "name": "stdout",
     "output_type": "stream",
     "text": [
      "<class 'pandas.core.frame.DataFrame'>\n",
      "RangeIndex: 1000 entries, 0 to 999\n",
      "Data columns (total 32 columns):\n",
      " #   Column         Non-Null Count  Dtype  \n",
      "---  ------         --------------  -----  \n",
      " 0   Series_Title   1000 non-null   object \n",
      " 1   Released_Year  1000 non-null   int32  \n",
      " 2   Certificate    1000 non-null   object \n",
      " 3   Runtime        1000 non-null   int32  \n",
<<<<<<< HEAD
      " 4   IMDB_Rating    1000 non-null   float64\n",
      " 5   Meta_score     1000 non-null   float64\n",
      " 6   Director       1000 non-null   object \n",
      " 7   No_of_Votes    1000 non-null   int64  \n",
      " 8   Gross          1000 non-null   float64\n",
      " 9   War            1000 non-null   int64  \n",
      " 10  Drama          1000 non-null   int64  \n",
      " 11  Action         1000 non-null   int64  \n",
      " 12  Adventure      1000 non-null   int64  \n",
      " 13  Musical        1000 non-null   int64  \n",
      " 14  Thriller       1000 non-null   int64  \n",
      " 15  Music          1000 non-null   int64  \n",
      " 16  History        1000 non-null   int64  \n",
      " 17  Mystery        1000 non-null   int64  \n",
      " 18  Crime          1000 non-null   int64  \n",
      " 19  Comedy         1000 non-null   int64  \n",
      " 20  Animation      1000 non-null   int64  \n",
      " 21  Film-Noir      1000 non-null   int64  \n",
      " 22  Sci-Fi         1000 non-null   int64  \n",
      " 23  Biography      1000 non-null   int64  \n",
      " 24  Sport          1000 non-null   int64  \n",
      " 25  Western        1000 non-null   int64  \n",
      " 26  Romance        1000 non-null   int64  \n",
      " 27  Family         1000 non-null   int64  \n",
      " 28  Fantasy        1000 non-null   int64  \n",
      " 29  Horror         1000 non-null   int64  \n",
      " 30  Stars          1000 non-null   object \n",
      "dtypes: float64(3), int32(1), int64(22), object(5)\n",
=======
      " 4   Genre          1000 non-null   object \n",
      " 5   IMDB_Rating    1000 non-null   float64\n",
      " 6   Meta_score     1000 non-null   float64\n",
      " 7   Director       1000 non-null   object \n",
      " 8   No_of_Votes    1000 non-null   int64  \n",
      " 9   Gross          1000 non-null   int32  \n",
      " 10  History        1000 non-null   int64  \n",
      " 11  Horror         1000 non-null   int64  \n",
      " 12  Music          1000 non-null   int64  \n",
      " 13  Biography      1000 non-null   int64  \n",
      " 14  Mystery        1000 non-null   int64  \n",
      " 15  Family         1000 non-null   int64  \n",
      " 16  Sport          1000 non-null   int64  \n",
      " 17  Film-Noir      1000 non-null   int64  \n",
      " 18  Adventure      1000 non-null   int64  \n",
      " 19  Musical        1000 non-null   int64  \n",
      " 20  Sci-Fi         1000 non-null   int64  \n",
      " 21  Romance        1000 non-null   int64  \n",
      " 22  Comedy         1000 non-null   int64  \n",
      " 23  Thriller       1000 non-null   int64  \n",
      " 24  Western        1000 non-null   int64  \n",
      " 25  Drama          1000 non-null   int64  \n",
      " 26  Animation      1000 non-null   int64  \n",
      " 27  Action         1000 non-null   int64  \n",
      " 28  War            1000 non-null   int64  \n",
      " 29  Fantasy        1000 non-null   int64  \n",
      " 30  Crime          1000 non-null   int64  \n",
      " 31  Stars          1000 non-null   object \n",
      "dtypes: float64(2), int32(3), int64(22), object(5)\n",
>>>>>>> dbd6035b8e8a26fd64e53da0467ad4f08262d2f9
      "memory usage: 238.4+ KB\n"
     ]
    }
   ],
   "source": [
    "imdb_df.info()"
   ]
  },
  {
   "cell_type": "code",
<<<<<<< HEAD
   "execution_count": 19,
=======
   "execution_count": 20,
>>>>>>> dbd6035b8e8a26fd64e53da0467ad4f08262d2f9
   "id": "1a601c59-4c74-44b2-8536-e62eb7e53f0f",
   "metadata": {
    "tags": []
   },
   "outputs": [],
   "source": [
    "reordered_cols = ['Series_Title', 'Released_Year', 'Certificate', 'Runtime', 'Genre', 'IMDB_Rating', 'Meta_score', 'Director', 'Stars', 'No_of_Votes', 'Gross']\n",
    "final_cols = reordered_cols + unique_genre"
   ]
  },
  {
   "cell_type": "code",
<<<<<<< HEAD
   "execution_count": 20,
=======
   "execution_count": 21,
>>>>>>> dbd6035b8e8a26fd64e53da0467ad4f08262d2f9
   "id": "d3a1ad16-1301-454a-99ac-a4cb4699c616",
   "metadata": {
    "tags": []
   },
   "outputs": [
    {
     "data": {
      "text/plain": [
       "True"
      ]
     },
<<<<<<< HEAD
     "execution_count": 20,
=======
     "execution_count": 21,
>>>>>>> dbd6035b8e8a26fd64e53da0467ad4f08262d2f9
     "metadata": {},
     "output_type": "execute_result"
    }
   ],
   "source": [
    "set(imdb_df.columns) == set(final_cols)"
   ]
  },
  {
   "cell_type": "code",
<<<<<<< HEAD
   "execution_count": 21,
=======
   "execution_count": 22,
>>>>>>> dbd6035b8e8a26fd64e53da0467ad4f08262d2f9
   "id": "798ac527-7edd-49f1-b81e-2edf881d8894",
   "metadata": {
    "tags": []
   },
   "outputs": [],
   "source": [
    "imdb_df = imdb_df[final_cols]"
   ]
  },
  {
   "cell_type": "code",
<<<<<<< HEAD
   "execution_count": 22,
=======
   "execution_count": 23,
>>>>>>> dbd6035b8e8a26fd64e53da0467ad4f08262d2f9
   "id": "33d1a4e4",
   "metadata": {
    "tags": []
   },
   "outputs": [
    {
     "data": {
      "text/html": [
       "<div>\n",
       "<style scoped>\n",
       "    .dataframe tbody tr th:only-of-type {\n",
       "        vertical-align: middle;\n",
       "    }\n",
       "\n",
       "    .dataframe tbody tr th {\n",
       "        vertical-align: top;\n",
       "    }\n",
       "\n",
       "    .dataframe thead th {\n",
       "        text-align: right;\n",
       "    }\n",
       "</style>\n",
       "<table border=\"1\" class=\"dataframe\">\n",
       "  <thead>\n",
       "    <tr style=\"text-align: right;\">\n",
       "      <th></th>\n",
       "      <th>Series_Title</th>\n",
       "      <th>Released_Year</th>\n",
       "      <th>Certificate</th>\n",
       "      <th>Runtime</th>\n",
       "      <th>Genre</th>\n",
       "      <th>IMDB_Rating</th>\n",
       "      <th>Meta_score</th>\n",
       "      <th>Director</th>\n",
       "      <th>Stars</th>\n",
       "      <th>No_of_Votes</th>\n",
       "      <th>...</th>\n",
<<<<<<< HEAD
       "      <th>Animation</th>\n",
       "      <th>Film-Noir</th>\n",
       "      <th>Sci-Fi</th>\n",
       "      <th>Biography</th>\n",
       "      <th>Sport</th>\n",
       "      <th>Western</th>\n",
       "      <th>Romance</th>\n",
       "      <th>Family</th>\n",
       "      <th>Fantasy</th>\n",
       "      <th>Horror</th>\n",
=======
       "      <th>Romance</th>\n",
       "      <th>Comedy</th>\n",
       "      <th>Thriller</th>\n",
       "      <th>Western</th>\n",
       "      <th>Drama</th>\n",
       "      <th>Animation</th>\n",
       "      <th>Action</th>\n",
       "      <th>War</th>\n",
       "      <th>Fantasy</th>\n",
       "      <th>Crime</th>\n",
>>>>>>> dbd6035b8e8a26fd64e53da0467ad4f08262d2f9
       "    </tr>\n",
       "  </thead>\n",
       "  <tbody>\n",
       "    <tr>\n",
       "      <th>0</th>\n",
       "      <td>The Shawshank Redemption</td>\n",
       "      <td>1994</td>\n",
       "      <td>A</td>\n",
       "      <td>142</td>\n",
       "      <td>[Drama]</td>\n",
       "      <td>9.3</td>\n",
       "      <td>80.0</td>\n",
       "      <td>Frank Darabont</td>\n",
       "      <td>[Tim Robbins, Morgan Freeman, Bob Gunton, Will...</td>\n",
       "      <td>2343110</td>\n",
       "      <td>...</td>\n",
       "      <td>0</td>\n",
       "      <td>0</td>\n",
       "      <td>0</td>\n",
       "      <td>0</td>\n",
       "      <td>1</td>\n",
       "      <td>0</td>\n",
       "      <td>0</td>\n",
       "      <td>0</td>\n",
       "      <td>0</td>\n",
       "      <td>0</td>\n",
       "    </tr>\n",
       "    <tr>\n",
       "      <th>1</th>\n",
       "      <td>The Godfather</td>\n",
       "      <td>1972</td>\n",
       "      <td>A</td>\n",
       "      <td>175</td>\n",
       "      <td>[Crime, Drama]</td>\n",
       "      <td>9.2</td>\n",
       "      <td>100.0</td>\n",
       "      <td>Francis Ford Coppola</td>\n",
       "      <td>[Marlon Brando, Al Pacino, James Caan, Diane K...</td>\n",
       "      <td>1620367</td>\n",
       "      <td>...</td>\n",
       "      <td>0</td>\n",
       "      <td>0</td>\n",
       "      <td>0</td>\n",
       "      <td>0</td>\n",
<<<<<<< HEAD
=======
       "      <td>1</td>\n",
>>>>>>> dbd6035b8e8a26fd64e53da0467ad4f08262d2f9
       "      <td>0</td>\n",
       "      <td>0</td>\n",
       "      <td>0</td>\n",
       "      <td>0</td>\n",
       "      <td>1</td>\n",
       "    </tr>\n",
       "    <tr>\n",
       "      <th>2</th>\n",
       "      <td>The Dark Knight</td>\n",
       "      <td>2008</td>\n",
       "      <td>UA</td>\n",
       "      <td>152</td>\n",
       "      <td>[Action, Crime, Drama]</td>\n",
       "      <td>9.0</td>\n",
       "      <td>84.0</td>\n",
       "      <td>Christopher Nolan</td>\n",
       "      <td>[Christian Bale, Heath Ledger, Aaron Eckhart, ...</td>\n",
       "      <td>2303232</td>\n",
       "      <td>...</td>\n",
       "      <td>0</td>\n",
       "      <td>0</td>\n",
       "      <td>0</td>\n",
       "      <td>0</td>\n",
<<<<<<< HEAD
=======
       "      <td>1</td>\n",
>>>>>>> dbd6035b8e8a26fd64e53da0467ad4f08262d2f9
       "      <td>0</td>\n",
       "      <td>1</td>\n",
       "      <td>0</td>\n",
       "      <td>0</td>\n",
       "      <td>1</td>\n",
       "    </tr>\n",
       "    <tr>\n",
       "      <th>3</th>\n",
       "      <td>The Godfather: Part II</td>\n",
       "      <td>1974</td>\n",
       "      <td>A</td>\n",
       "      <td>202</td>\n",
       "      <td>[Crime, Drama]</td>\n",
       "      <td>9.0</td>\n",
       "      <td>90.0</td>\n",
       "      <td>Francis Ford Coppola</td>\n",
       "      <td>[Al Pacino, Robert De Niro, Robert Duvall, Dia...</td>\n",
       "      <td>1129952</td>\n",
       "      <td>...</td>\n",
       "      <td>0</td>\n",
       "      <td>0</td>\n",
       "      <td>0</td>\n",
       "      <td>0</td>\n",
<<<<<<< HEAD
=======
       "      <td>1</td>\n",
>>>>>>> dbd6035b8e8a26fd64e53da0467ad4f08262d2f9
       "      <td>0</td>\n",
       "      <td>0</td>\n",
       "      <td>0</td>\n",
       "      <td>0</td>\n",
       "      <td>1</td>\n",
       "    </tr>\n",
       "    <tr>\n",
       "      <th>4</th>\n",
       "      <td>12 Angry Men</td>\n",
       "      <td>1957</td>\n",
       "      <td>U</td>\n",
       "      <td>96</td>\n",
       "      <td>[Crime, Drama]</td>\n",
       "      <td>9.0</td>\n",
       "      <td>96.0</td>\n",
       "      <td>Sidney Lumet</td>\n",
       "      <td>[Henry Fonda, Lee J. Cobb, Martin Balsam, John...</td>\n",
       "      <td>689845</td>\n",
       "      <td>...</td>\n",
       "      <td>0</td>\n",
       "      <td>0</td>\n",
       "      <td>0</td>\n",
       "      <td>0</td>\n",
<<<<<<< HEAD
=======
       "      <td>1</td>\n",
>>>>>>> dbd6035b8e8a26fd64e53da0467ad4f08262d2f9
       "      <td>0</td>\n",
       "      <td>0</td>\n",
       "      <td>0</td>\n",
       "      <td>0</td>\n",
       "      <td>1</td>\n",
       "    </tr>\n",
       "  </tbody>\n",
       "</table>\n",
       "<p>5 rows × 32 columns</p>\n",
       "</div>"
      ],
      "text/plain": [
       "               Series_Title  Released_Year Certificate  Runtime  \\\n",
       "0  The Shawshank Redemption           1994           A      142   \n",
       "1             The Godfather           1972           A      175   \n",
       "2           The Dark Knight           2008          UA      152   \n",
       "3    The Godfather: Part II           1974           A      202   \n",
       "4              12 Angry Men           1957           U       96   \n",
       "\n",
       "                    Genre  IMDB_Rating  Meta_score              Director  \\\n",
       "0                 [Drama]          9.3        80.0        Frank Darabont   \n",
       "1          [Crime, Drama]          9.2       100.0  Francis Ford Coppola   \n",
       "2  [Action, Crime, Drama]          9.0        84.0     Christopher Nolan   \n",
       "3          [Crime, Drama]          9.0        90.0  Francis Ford Coppola   \n",
       "4          [Crime, Drama]          9.0        96.0          Sidney Lumet   \n",
       "\n",
       "                                               Stars  No_of_Votes  ...  \\\n",
       "0  [Tim Robbins, Morgan Freeman, Bob Gunton, Will...      2343110  ...   \n",
       "1  [Marlon Brando, Al Pacino, James Caan, Diane K...      1620367  ...   \n",
       "2  [Christian Bale, Heath Ledger, Aaron Eckhart, ...      2303232  ...   \n",
       "3  [Al Pacino, Robert De Niro, Robert Duvall, Dia...      1129952  ...   \n",
       "4  [Henry Fonda, Lee J. Cobb, Martin Balsam, John...       689845  ...   \n",
       "\n",
<<<<<<< HEAD
       "         Gross  ...  Animation  Film-Noir  Sci-Fi  Biography  Sport  Western  \\\n",
       "0   28341469.0  ...          0          0       0          0      0        0   \n",
       "1  134966411.0  ...          0          0       0          0      0        0   \n",
       "2  534858444.0  ...          0          0       0          0      0        0   \n",
       "3   57300000.0  ...          0          0       0          0      0        0   \n",
       "4    4360000.0  ...          0          0       0          0      0        0   \n",
       "\n",
       "   Romance  Family  Fantasy  Horror  \n",
       "0        0       0        0       0  \n",
       "1        0       0        0       0  \n",
       "2        0       0        0       0  \n",
       "3        0       0        0       0  \n",
       "4        0       0        0       0  \n",
=======
       "   Romance  Comedy  Thriller  Western  Drama  Animation  Action  War  Fantasy  \\\n",
       "0        0       0         0        0      1          0       0    0        0   \n",
       "1        0       0         0        0      1          0       0    0        0   \n",
       "2        0       0         0        0      1          0       1    0        0   \n",
       "3        0       0         0        0      1          0       0    0        0   \n",
       "4        0       0         0        0      1          0       0    0        0   \n",
       "\n",
       "   Crime  \n",
       "0      0  \n",
       "1      1  \n",
       "2      1  \n",
       "3      1  \n",
       "4      1  \n",
>>>>>>> dbd6035b8e8a26fd64e53da0467ad4f08262d2f9
       "\n",
       "[5 rows x 32 columns]"
      ]
     },
<<<<<<< HEAD
     "execution_count": 22,
=======
     "execution_count": 23,
>>>>>>> dbd6035b8e8a26fd64e53da0467ad4f08262d2f9
     "metadata": {},
     "output_type": "execute_result"
    }
   ],
   "source": [
    "imdb_df.head()"
   ]
  },
  {
   "cell_type": "markdown",
   "id": "b8101566",
   "metadata": {},
   "source": [
    "## Exploratory Data Analysis\n",
    "\n",
    "The primary aim of this analysis is to delve into and thoroughly examine the dataset, with the goal of acquiring valuable insights into the top 1000 movies featured on IMDb. This exploration seeks to understand the distinct features of these movies, uncover any connections between variables, and detect potential patterns or trends that may emerge.\n",
    "\n",
    "* Answer the EDA questions using both:\n",
    " - Numerical Summaries – measures of central tendency, measures of dispersion, and correlation\n",
    " - Visualization – Appropriate visualization should be used. Each visualization should be accompanied by a brief explanation.\n",
    "\n",
    "### What is the distribution of movie ratings on IMDb?\n",
    "\n",
    "The primary focus to answer this question is the variable:\n",
    "* `IMDB_Rating`: numerical score based on user reviews and rating on IMDb\n",
    "\n",
    "Write code to select the `IMDB_Rating` column as a series."
   ]
  },
  {
   "cell_type": "code",
   "execution_count": 24,
<<<<<<< HEAD
   "id": "ae7f64cb",
=======
   "id": "263b1b5a",
>>>>>>> dbd6035b8e8a26fd64e53da0467ad4f08262d2f9
   "metadata": {},
   "outputs": [
    {
     "data": {
<<<<<<< HEAD
      "text/plain": [
       "0      9.3\n",
       "1      9.2\n",
       "2      9.0\n",
       "3      9.0\n",
       "4      9.0\n",
       "      ... \n",
       "995    7.6\n",
       "996    7.6\n",
       "997    7.6\n",
       "998    7.6\n",
       "999    7.6\n",
       "Name: IMDB_Rating, Length: 1000, dtype: float64"
=======
      "text/html": [
       "<div>\n",
       "<style scoped>\n",
       "    .dataframe tbody tr th:only-of-type {\n",
       "        vertical-align: middle;\n",
       "    }\n",
       "\n",
       "    .dataframe tbody tr th {\n",
       "        vertical-align: top;\n",
       "    }\n",
       "\n",
       "    .dataframe thead th {\n",
       "        text-align: right;\n",
       "    }\n",
       "</style>\n",
       "<table border=\"1\" class=\"dataframe\">\n",
       "  <thead>\n",
       "    <tr style=\"text-align: right;\">\n",
       "      <th></th>\n",
       "      <th>Series_Title</th>\n",
       "      <th>Released_Year</th>\n",
       "      <th>Certificate</th>\n",
       "      <th>Runtime</th>\n",
       "      <th>Genre</th>\n",
       "      <th>IMDB_Rating</th>\n",
       "      <th>Meta_score</th>\n",
       "      <th>Director</th>\n",
       "      <th>Stars</th>\n",
       "      <th>No_of_Votes</th>\n",
       "      <th>...</th>\n",
       "      <th>Romance</th>\n",
       "      <th>Comedy</th>\n",
       "      <th>Thriller</th>\n",
       "      <th>Western</th>\n",
       "      <th>Drama</th>\n",
       "      <th>Animation</th>\n",
       "      <th>Action</th>\n",
       "      <th>War</th>\n",
       "      <th>Fantasy</th>\n",
       "      <th>Crime</th>\n",
       "    </tr>\n",
       "  </thead>\n",
       "  <tbody>\n",
       "    <tr>\n",
       "      <th>0</th>\n",
       "      <td>The Shawshank Redemption</td>\n",
       "      <td>1994</td>\n",
       "      <td>A</td>\n",
       "      <td>142</td>\n",
       "      <td>[Drama]</td>\n",
       "      <td>9.3</td>\n",
       "      <td>80.00000</td>\n",
       "      <td>Frank Darabont</td>\n",
       "      <td>[Tim Robbins, Morgan Freeman, Bob Gunton, Will...</td>\n",
       "      <td>2343110</td>\n",
       "      <td>...</td>\n",
       "      <td>0</td>\n",
       "      <td>0</td>\n",
       "      <td>0</td>\n",
       "      <td>0</td>\n",
       "      <td>1</td>\n",
       "      <td>0</td>\n",
       "      <td>0</td>\n",
       "      <td>0</td>\n",
       "      <td>0</td>\n",
       "      <td>0</td>\n",
       "    </tr>\n",
       "    <tr>\n",
       "      <th>1</th>\n",
       "      <td>The Godfather</td>\n",
       "      <td>1972</td>\n",
       "      <td>A</td>\n",
       "      <td>175</td>\n",
       "      <td>[Crime, Drama]</td>\n",
       "      <td>9.2</td>\n",
       "      <td>100.00000</td>\n",
       "      <td>Francis Ford Coppola</td>\n",
       "      <td>[Marlon Brando, Al Pacino, James Caan, Diane K...</td>\n",
       "      <td>1620367</td>\n",
       "      <td>...</td>\n",
       "      <td>0</td>\n",
       "      <td>0</td>\n",
       "      <td>0</td>\n",
       "      <td>0</td>\n",
       "      <td>1</td>\n",
       "      <td>0</td>\n",
       "      <td>0</td>\n",
       "      <td>0</td>\n",
       "      <td>0</td>\n",
       "      <td>1</td>\n",
       "    </tr>\n",
       "    <tr>\n",
       "      <th>2</th>\n",
       "      <td>The Dark Knight</td>\n",
       "      <td>2008</td>\n",
       "      <td>UA</td>\n",
       "      <td>152</td>\n",
       "      <td>[Action, Crime, Drama]</td>\n",
       "      <td>9.0</td>\n",
       "      <td>84.00000</td>\n",
       "      <td>Christopher Nolan</td>\n",
       "      <td>[Christian Bale, Heath Ledger, Aaron Eckhart, ...</td>\n",
       "      <td>2303232</td>\n",
       "      <td>...</td>\n",
       "      <td>0</td>\n",
       "      <td>0</td>\n",
       "      <td>0</td>\n",
       "      <td>0</td>\n",
       "      <td>1</td>\n",
       "      <td>0</td>\n",
       "      <td>1</td>\n",
       "      <td>0</td>\n",
       "      <td>0</td>\n",
       "      <td>1</td>\n",
       "    </tr>\n",
       "    <tr>\n",
       "      <th>3</th>\n",
       "      <td>The Godfather: Part II</td>\n",
       "      <td>1974</td>\n",
       "      <td>A</td>\n",
       "      <td>202</td>\n",
       "      <td>[Crime, Drama]</td>\n",
       "      <td>9.0</td>\n",
       "      <td>90.00000</td>\n",
       "      <td>Francis Ford Coppola</td>\n",
       "      <td>[Al Pacino, Robert De Niro, Robert Duvall, Dia...</td>\n",
       "      <td>1129952</td>\n",
       "      <td>...</td>\n",
       "      <td>0</td>\n",
       "      <td>0</td>\n",
       "      <td>0</td>\n",
       "      <td>0</td>\n",
       "      <td>1</td>\n",
       "      <td>0</td>\n",
       "      <td>0</td>\n",
       "      <td>0</td>\n",
       "      <td>0</td>\n",
       "      <td>1</td>\n",
       "    </tr>\n",
       "    <tr>\n",
       "      <th>4</th>\n",
       "      <td>12 Angry Men</td>\n",
       "      <td>1957</td>\n",
       "      <td>U</td>\n",
       "      <td>96</td>\n",
       "      <td>[Crime, Drama]</td>\n",
       "      <td>9.0</td>\n",
       "      <td>96.00000</td>\n",
       "      <td>Sidney Lumet</td>\n",
       "      <td>[Henry Fonda, Lee J. Cobb, Martin Balsam, John...</td>\n",
       "      <td>689845</td>\n",
       "      <td>...</td>\n",
       "      <td>0</td>\n",
       "      <td>0</td>\n",
       "      <td>0</td>\n",
       "      <td>0</td>\n",
       "      <td>1</td>\n",
       "      <td>0</td>\n",
       "      <td>0</td>\n",
       "      <td>0</td>\n",
       "      <td>0</td>\n",
       "      <td>1</td>\n",
       "    </tr>\n",
       "    <tr>\n",
       "      <th>...</th>\n",
       "      <td>...</td>\n",
       "      <td>...</td>\n",
       "      <td>...</td>\n",
       "      <td>...</td>\n",
       "      <td>...</td>\n",
       "      <td>...</td>\n",
       "      <td>...</td>\n",
       "      <td>...</td>\n",
       "      <td>...</td>\n",
       "      <td>...</td>\n",
       "      <td>...</td>\n",
       "      <td>...</td>\n",
       "      <td>...</td>\n",
       "      <td>...</td>\n",
       "      <td>...</td>\n",
       "      <td>...</td>\n",
       "      <td>...</td>\n",
       "      <td>...</td>\n",
       "      <td>...</td>\n",
       "      <td>...</td>\n",
       "      <td>...</td>\n",
       "    </tr>\n",
       "    <tr>\n",
       "      <th>912</th>\n",
       "      <td>Zombieland</td>\n",
       "      <td>2009</td>\n",
       "      <td>A</td>\n",
       "      <td>88</td>\n",
       "      <td>[Adventure, Comedy, Fantasy]</td>\n",
       "      <td>7.6</td>\n",
       "      <td>73.00000</td>\n",
       "      <td>Ruben Fleischer</td>\n",
       "      <td>[Jesse Eisenberg, Emma Stone, Woody Harrelson,...</td>\n",
       "      <td>520041</td>\n",
       "      <td>...</td>\n",
       "      <td>0</td>\n",
       "      <td>1</td>\n",
       "      <td>0</td>\n",
       "      <td>0</td>\n",
       "      <td>0</td>\n",
       "      <td>0</td>\n",
       "      <td>0</td>\n",
       "      <td>0</td>\n",
       "      <td>1</td>\n",
       "      <td>0</td>\n",
       "    </tr>\n",
       "    <tr>\n",
       "      <th>911</th>\n",
       "      <td>La piel que habito</td>\n",
       "      <td>2011</td>\n",
       "      <td>R</td>\n",
       "      <td>120</td>\n",
       "      <td>[Drama, Horror, Thriller]</td>\n",
       "      <td>7.6</td>\n",
       "      <td>70.00000</td>\n",
       "      <td>Pedro Almodóvar</td>\n",
       "      <td>[Antonio Banderas, Elena Anaya, Jan Cornet, Ma...</td>\n",
       "      <td>138959</td>\n",
       "      <td>...</td>\n",
       "      <td>0</td>\n",
       "      <td>0</td>\n",
       "      <td>1</td>\n",
       "      <td>0</td>\n",
       "      <td>1</td>\n",
       "      <td>0</td>\n",
       "      <td>0</td>\n",
       "      <td>0</td>\n",
       "      <td>0</td>\n",
       "      <td>0</td>\n",
       "    </tr>\n",
       "    <tr>\n",
       "      <th>910</th>\n",
       "      <td>Moneyball</td>\n",
       "      <td>2011</td>\n",
       "      <td>PG-13</td>\n",
       "      <td>133</td>\n",
       "      <td>[Biography, Drama, Sport]</td>\n",
       "      <td>7.6</td>\n",
       "      <td>87.00000</td>\n",
       "      <td>Bennett Miller</td>\n",
       "      <td>[Brad Pitt, Robin Wright, Jonah Hill, Philip S...</td>\n",
       "      <td>369529</td>\n",
       "      <td>...</td>\n",
       "      <td>0</td>\n",
       "      <td>0</td>\n",
       "      <td>0</td>\n",
       "      <td>0</td>\n",
       "      <td>1</td>\n",
       "      <td>0</td>\n",
       "      <td>0</td>\n",
       "      <td>0</td>\n",
       "      <td>0</td>\n",
       "      <td>0</td>\n",
       "    </tr>\n",
       "    <tr>\n",
       "      <th>909</th>\n",
       "      <td>Celda 211</td>\n",
       "      <td>2009</td>\n",
       "      <td>U</td>\n",
       "      <td>113</td>\n",
       "      <td>[Action, Adventure, Crime]</td>\n",
       "      <td>7.6</td>\n",
       "      <td>77.97153</td>\n",
       "      <td>Daniel Monzón</td>\n",
       "      <td>[Luis Tosar, Alberto Ammann, Antonio Resines, ...</td>\n",
       "      <td>63882</td>\n",
       "      <td>...</td>\n",
       "      <td>0</td>\n",
       "      <td>0</td>\n",
       "      <td>0</td>\n",
       "      <td>0</td>\n",
       "      <td>0</td>\n",
       "      <td>0</td>\n",
       "      <td>1</td>\n",
       "      <td>0</td>\n",
       "      <td>0</td>\n",
       "      <td>1</td>\n",
       "    </tr>\n",
       "    <tr>\n",
       "      <th>999</th>\n",
       "      <td>The 39 Steps</td>\n",
       "      <td>1935</td>\n",
       "      <td>U</td>\n",
       "      <td>86</td>\n",
       "      <td>[Crime, Mystery, Thriller]</td>\n",
       "      <td>7.6</td>\n",
       "      <td>93.00000</td>\n",
       "      <td>Alfred Hitchcock</td>\n",
       "      <td>[Robert Donat, Madeleine Carroll, Lucie Mannhe...</td>\n",
       "      <td>51853</td>\n",
       "      <td>...</td>\n",
       "      <td>0</td>\n",
       "      <td>0</td>\n",
       "      <td>1</td>\n",
       "      <td>0</td>\n",
       "      <td>0</td>\n",
       "      <td>0</td>\n",
       "      <td>0</td>\n",
       "      <td>0</td>\n",
       "      <td>0</td>\n",
       "      <td>1</td>\n",
       "    </tr>\n",
       "  </tbody>\n",
       "</table>\n",
       "<p>1000 rows × 32 columns</p>\n",
       "</div>"
      ],
      "text/plain": [
       "                 Series_Title  Released_Year Certificate  Runtime  \\\n",
       "0    The Shawshank Redemption           1994           A      142   \n",
       "1               The Godfather           1972           A      175   \n",
       "2             The Dark Knight           2008          UA      152   \n",
       "3      The Godfather: Part II           1974           A      202   \n",
       "4                12 Angry Men           1957           U       96   \n",
       "..                        ...            ...         ...      ...   \n",
       "912                Zombieland           2009           A       88   \n",
       "911        La piel que habito           2011           R      120   \n",
       "910                 Moneyball           2011       PG-13      133   \n",
       "909                 Celda 211           2009           U      113   \n",
       "999              The 39 Steps           1935           U       86   \n",
       "\n",
       "                            Genre  IMDB_Rating  Meta_score  \\\n",
       "0                         [Drama]          9.3    80.00000   \n",
       "1                  [Crime, Drama]          9.2   100.00000   \n",
       "2          [Action, Crime, Drama]          9.0    84.00000   \n",
       "3                  [Crime, Drama]          9.0    90.00000   \n",
       "4                  [Crime, Drama]          9.0    96.00000   \n",
       "..                            ...          ...         ...   \n",
       "912  [Adventure, Comedy, Fantasy]          7.6    73.00000   \n",
       "911     [Drama, Horror, Thriller]          7.6    70.00000   \n",
       "910     [Biography, Drama, Sport]          7.6    87.00000   \n",
       "909    [Action, Adventure, Crime]          7.6    77.97153   \n",
       "999    [Crime, Mystery, Thriller]          7.6    93.00000   \n",
       "\n",
       "                 Director                                              Stars  \\\n",
       "0          Frank Darabont  [Tim Robbins, Morgan Freeman, Bob Gunton, Will...   \n",
       "1    Francis Ford Coppola  [Marlon Brando, Al Pacino, James Caan, Diane K...   \n",
       "2       Christopher Nolan  [Christian Bale, Heath Ledger, Aaron Eckhart, ...   \n",
       "3    Francis Ford Coppola  [Al Pacino, Robert De Niro, Robert Duvall, Dia...   \n",
       "4            Sidney Lumet  [Henry Fonda, Lee J. Cobb, Martin Balsam, John...   \n",
       "..                    ...                                                ...   \n",
       "912       Ruben Fleischer  [Jesse Eisenberg, Emma Stone, Woody Harrelson,...   \n",
       "911       Pedro Almodóvar  [Antonio Banderas, Elena Anaya, Jan Cornet, Ma...   \n",
       "910        Bennett Miller  [Brad Pitt, Robin Wright, Jonah Hill, Philip S...   \n",
       "909         Daniel Monzón  [Luis Tosar, Alberto Ammann, Antonio Resines, ...   \n",
       "999      Alfred Hitchcock  [Robert Donat, Madeleine Carroll, Lucie Mannhe...   \n",
       "\n",
       "     No_of_Votes  ...  Romance  Comedy  Thriller  Western  Drama  Animation  \\\n",
       "0        2343110  ...        0       0         0        0      1          0   \n",
       "1        1620367  ...        0       0         0        0      1          0   \n",
       "2        2303232  ...        0       0         0        0      1          0   \n",
       "3        1129952  ...        0       0         0        0      1          0   \n",
       "4         689845  ...        0       0         0        0      1          0   \n",
       "..           ...  ...      ...     ...       ...      ...    ...        ...   \n",
       "912       520041  ...        0       1         0        0      0          0   \n",
       "911       138959  ...        0       0         1        0      1          0   \n",
       "910       369529  ...        0       0         0        0      1          0   \n",
       "909        63882  ...        0       0         0        0      0          0   \n",
       "999        51853  ...        0       0         1        0      0          0   \n",
       "\n",
       "     Action  War  Fantasy  Crime  \n",
       "0         0    0        0      0  \n",
       "1         0    0        0      1  \n",
       "2         1    0        0      1  \n",
       "3         0    0        0      1  \n",
       "4         0    0        0      1  \n",
       "..      ...  ...      ...    ...  \n",
       "912       0    0        1      0  \n",
       "911       0    0        0      0  \n",
       "910       0    0        0      0  \n",
       "909       1    0        0      1  \n",
       "999       0    0        0      1  \n",
       "\n",
       "[1000 rows x 32 columns]"
>>>>>>> dbd6035b8e8a26fd64e53da0467ad4f08262d2f9
      ]
     },
     "execution_count": 24,
     "metadata": {},
     "output_type": "execute_result"
    }
   ],
   "source": [
    "imdb_df[\"IMDB_Rating\"]"
   ]
  },
  {
   "cell_type": "markdown",
   "id": "8bb061fb",
   "metadata": {},
   "source": [
    "To understand its distribution numerically, one can look at the mean, median, mode, and standard deviation of the IMDB rating."
   ]
  },
  {
   "cell_type": "code",
<<<<<<< HEAD
   "execution_count": 27,
   "id": "925c7616",
=======
   "execution_count": 25,
   "id": "de10918a",
>>>>>>> dbd6035b8e8a26fd64e53da0467ad4f08262d2f9
   "metadata": {},
   "outputs": [
    {
     "data": {
<<<<<<< HEAD
      "text/plain": [
       "7.949299999999999"
=======
      "text/html": [
       "<div>\n",
       "<style scoped>\n",
       "    .dataframe tbody tr th:only-of-type {\n",
       "        vertical-align: middle;\n",
       "    }\n",
       "\n",
       "    .dataframe tbody tr th {\n",
       "        vertical-align: top;\n",
       "    }\n",
       "\n",
       "    .dataframe thead th {\n",
       "        text-align: right;\n",
       "    }\n",
       "</style>\n",
       "<table border=\"1\" class=\"dataframe\">\n",
       "  <thead>\n",
       "    <tr style=\"text-align: right;\">\n",
       "      <th></th>\n",
       "      <th>Series_Title</th>\n",
       "      <th>Released_Year</th>\n",
       "      <th>Certificate</th>\n",
       "      <th>Runtime</th>\n",
       "      <th>Genre</th>\n",
       "      <th>IMDB_Rating</th>\n",
       "      <th>Meta_score</th>\n",
       "      <th>Director</th>\n",
       "      <th>Stars</th>\n",
       "      <th>No_of_Votes</th>\n",
       "      <th>...</th>\n",
       "      <th>Romance</th>\n",
       "      <th>Comedy</th>\n",
       "      <th>Thriller</th>\n",
       "      <th>Western</th>\n",
       "      <th>Drama</th>\n",
       "      <th>Animation</th>\n",
       "      <th>Action</th>\n",
       "      <th>War</th>\n",
       "      <th>Fantasy</th>\n",
       "      <th>Crime</th>\n",
       "    </tr>\n",
       "  </thead>\n",
       "  <tbody>\n",
       "    <tr>\n",
       "      <th>0</th>\n",
       "      <td>The Shawshank Redemption</td>\n",
       "      <td>1994</td>\n",
       "      <td>A</td>\n",
       "      <td>142</td>\n",
       "      <td>[Drama]</td>\n",
       "      <td>9.3</td>\n",
       "      <td>80.00000</td>\n",
       "      <td>Frank Darabont</td>\n",
       "      <td>[Tim Robbins, Morgan Freeman, Bob Gunton, Will...</td>\n",
       "      <td>2343110</td>\n",
       "      <td>...</td>\n",
       "      <td>0</td>\n",
       "      <td>0</td>\n",
       "      <td>0</td>\n",
       "      <td>0</td>\n",
       "      <td>1</td>\n",
       "      <td>0</td>\n",
       "      <td>0</td>\n",
       "      <td>0</td>\n",
       "      <td>0</td>\n",
       "      <td>0</td>\n",
       "    </tr>\n",
       "    <tr>\n",
       "      <th>2</th>\n",
       "      <td>The Dark Knight</td>\n",
       "      <td>2008</td>\n",
       "      <td>UA</td>\n",
       "      <td>152</td>\n",
       "      <td>[Action, Crime, Drama]</td>\n",
       "      <td>9.0</td>\n",
       "      <td>84.00000</td>\n",
       "      <td>Christopher Nolan</td>\n",
       "      <td>[Christian Bale, Heath Ledger, Aaron Eckhart, ...</td>\n",
       "      <td>2303232</td>\n",
       "      <td>...</td>\n",
       "      <td>0</td>\n",
       "      <td>0</td>\n",
       "      <td>0</td>\n",
       "      <td>0</td>\n",
       "      <td>1</td>\n",
       "      <td>0</td>\n",
       "      <td>1</td>\n",
       "      <td>0</td>\n",
       "      <td>0</td>\n",
       "      <td>1</td>\n",
       "    </tr>\n",
       "    <tr>\n",
       "      <th>8</th>\n",
       "      <td>Inception</td>\n",
       "      <td>2010</td>\n",
       "      <td>UA</td>\n",
       "      <td>148</td>\n",
       "      <td>[Action, Adventure, Sci-Fi]</td>\n",
       "      <td>8.8</td>\n",
       "      <td>74.00000</td>\n",
       "      <td>Christopher Nolan</td>\n",
       "      <td>[Leonardo DiCaprio, Joseph Gordon-Levitt, Elli...</td>\n",
       "      <td>2067042</td>\n",
       "      <td>...</td>\n",
       "      <td>0</td>\n",
       "      <td>0</td>\n",
       "      <td>0</td>\n",
       "      <td>0</td>\n",
       "      <td>0</td>\n",
       "      <td>0</td>\n",
       "      <td>1</td>\n",
       "      <td>0</td>\n",
       "      <td>0</td>\n",
       "      <td>0</td>\n",
       "    </tr>\n",
       "    <tr>\n",
       "      <th>9</th>\n",
       "      <td>Fight Club</td>\n",
       "      <td>1999</td>\n",
       "      <td>A</td>\n",
       "      <td>139</td>\n",
       "      <td>[Drama]</td>\n",
       "      <td>8.8</td>\n",
       "      <td>66.00000</td>\n",
       "      <td>David Fincher</td>\n",
       "      <td>[Brad Pitt, Edward Norton, Meat Loaf, Zach Gre...</td>\n",
       "      <td>1854740</td>\n",
       "      <td>...</td>\n",
       "      <td>0</td>\n",
       "      <td>0</td>\n",
       "      <td>0</td>\n",
       "      <td>0</td>\n",
       "      <td>1</td>\n",
       "      <td>0</td>\n",
       "      <td>0</td>\n",
       "      <td>0</td>\n",
       "      <td>0</td>\n",
       "      <td>0</td>\n",
       "    </tr>\n",
       "    <tr>\n",
       "      <th>6</th>\n",
       "      <td>Pulp Fiction</td>\n",
       "      <td>1994</td>\n",
       "      <td>A</td>\n",
       "      <td>154</td>\n",
       "      <td>[Crime, Drama]</td>\n",
       "      <td>8.9</td>\n",
       "      <td>94.00000</td>\n",
       "      <td>Quentin Tarantino</td>\n",
       "      <td>[John Travolta, Uma Thurman, Samuel L. Jackson...</td>\n",
       "      <td>1826188</td>\n",
       "      <td>...</td>\n",
       "      <td>0</td>\n",
       "      <td>0</td>\n",
       "      <td>0</td>\n",
       "      <td>0</td>\n",
       "      <td>1</td>\n",
       "      <td>0</td>\n",
       "      <td>0</td>\n",
       "      <td>0</td>\n",
       "      <td>0</td>\n",
       "      <td>1</td>\n",
       "    </tr>\n",
       "    <tr>\n",
       "      <th>...</th>\n",
       "      <td>...</td>\n",
       "      <td>...</td>\n",
       "      <td>...</td>\n",
       "      <td>...</td>\n",
       "      <td>...</td>\n",
       "      <td>...</td>\n",
       "      <td>...</td>\n",
       "      <td>...</td>\n",
       "      <td>...</td>\n",
       "      <td>...</td>\n",
       "      <td>...</td>\n",
       "      <td>...</td>\n",
       "      <td>...</td>\n",
       "      <td>...</td>\n",
       "      <td>...</td>\n",
       "      <td>...</td>\n",
       "      <td>...</td>\n",
       "      <td>...</td>\n",
       "      <td>...</td>\n",
       "      <td>...</td>\n",
       "      <td>...</td>\n",
       "    </tr>\n",
       "    <tr>\n",
       "      <th>570</th>\n",
       "      <td>Raazi</td>\n",
       "      <td>2018</td>\n",
       "      <td>UA</td>\n",
       "      <td>138</td>\n",
       "      <td>[Action, Drama, Thriller]</td>\n",
       "      <td>7.8</td>\n",
       "      <td>77.97153</td>\n",
       "      <td>Meghna Gulzar</td>\n",
       "      <td>[Alia Bhatt, Vicky Kaushal, Rajit Kapoor, Shis...</td>\n",
       "      <td>25344</td>\n",
       "      <td>...</td>\n",
       "      <td>0</td>\n",
       "      <td>0</td>\n",
       "      <td>1</td>\n",
       "      <td>0</td>\n",
       "      <td>1</td>\n",
       "      <td>0</td>\n",
       "      <td>1</td>\n",
       "      <td>0</td>\n",
       "      <td>0</td>\n",
       "      <td>0</td>\n",
       "    </tr>\n",
       "    <tr>\n",
       "      <th>718</th>\n",
       "      <td>Scarface: The Shame of the Nation</td>\n",
       "      <td>1932</td>\n",
       "      <td>PG</td>\n",
       "      <td>93</td>\n",
       "      <td>[Action, Crime, Drama]</td>\n",
       "      <td>7.8</td>\n",
       "      <td>87.00000</td>\n",
       "      <td>Howard Hawks</td>\n",
       "      <td>[Richard Rosson, Paul Muni, Ann Dvorak, Karen ...</td>\n",
       "      <td>25312</td>\n",
       "      <td>...</td>\n",
       "      <td>0</td>\n",
       "      <td>0</td>\n",
       "      <td>0</td>\n",
       "      <td>0</td>\n",
       "      <td>1</td>\n",
       "      <td>0</td>\n",
       "      <td>1</td>\n",
       "      <td>0</td>\n",
       "      <td>0</td>\n",
       "      <td>1</td>\n",
       "    </tr>\n",
       "    <tr>\n",
       "      <th>694</th>\n",
       "      <td>La planète sauvage</td>\n",
       "      <td>1973</td>\n",
       "      <td>U</td>\n",
       "      <td>72</td>\n",
       "      <td>[Animation, Sci-Fi]</td>\n",
       "      <td>7.8</td>\n",
       "      <td>73.00000</td>\n",
       "      <td>René Laloux</td>\n",
       "      <td>[Barry Bostwick, Jennifer Drake, Eric Baugin, ...</td>\n",
       "      <td>25229</td>\n",
       "      <td>...</td>\n",
       "      <td>0</td>\n",
       "      <td>0</td>\n",
       "      <td>0</td>\n",
       "      <td>0</td>\n",
       "      <td>0</td>\n",
       "      <td>1</td>\n",
       "      <td>0</td>\n",
       "      <td>0</td>\n",
       "      <td>0</td>\n",
       "      <td>0</td>\n",
       "    </tr>\n",
       "    <tr>\n",
       "      <th>721</th>\n",
       "      <td>God's Own Country</td>\n",
       "      <td>2017</td>\n",
       "      <td>U</td>\n",
       "      <td>104</td>\n",
       "      <td>[Drama, Romance]</td>\n",
       "      <td>7.7</td>\n",
       "      <td>85.00000</td>\n",
       "      <td>Francis Lee</td>\n",
       "      <td>[Josh O'Connor, Alec Secareanu, Gemma Jones, I...</td>\n",
       "      <td>25198</td>\n",
       "      <td>...</td>\n",
       "      <td>1</td>\n",
       "      <td>0</td>\n",
       "      <td>0</td>\n",
       "      <td>0</td>\n",
       "      <td>1</td>\n",
       "      <td>0</td>\n",
       "      <td>0</td>\n",
       "      <td>0</td>\n",
       "      <td>0</td>\n",
       "      <td>0</td>\n",
       "    </tr>\n",
       "    <tr>\n",
       "      <th>264</th>\n",
       "      <td>Ba wang bie ji</td>\n",
       "      <td>1993</td>\n",
       "      <td>R</td>\n",
       "      <td>171</td>\n",
       "      <td>[Drama, Music, Romance]</td>\n",
       "      <td>8.1</td>\n",
       "      <td>77.97153</td>\n",
       "      <td>Kaige Chen</td>\n",
       "      <td>[Leslie Cheung, Fengyi Zhang, Gong Li, You Ge]</td>\n",
       "      <td>25088</td>\n",
       "      <td>...</td>\n",
       "      <td>1</td>\n",
       "      <td>0</td>\n",
       "      <td>0</td>\n",
       "      <td>0</td>\n",
       "      <td>1</td>\n",
       "      <td>0</td>\n",
       "      <td>0</td>\n",
       "      <td>0</td>\n",
       "      <td>0</td>\n",
       "      <td>0</td>\n",
       "    </tr>\n",
       "  </tbody>\n",
       "</table>\n",
       "<p>1000 rows × 32 columns</p>\n",
       "</div>"
      ],
      "text/plain": [
       "                          Series_Title  Released_Year Certificate  Runtime  \\\n",
       "0             The Shawshank Redemption           1994           A      142   \n",
       "2                      The Dark Knight           2008          UA      152   \n",
       "8                            Inception           2010          UA      148   \n",
       "9                           Fight Club           1999           A      139   \n",
       "6                         Pulp Fiction           1994           A      154   \n",
       "..                                 ...            ...         ...      ...   \n",
       "570                              Raazi           2018          UA      138   \n",
       "718  Scarface: The Shame of the Nation           1932          PG       93   \n",
       "694                 La planète sauvage           1973           U       72   \n",
       "721                  God's Own Country           2017           U      104   \n",
       "264                     Ba wang bie ji           1993           R      171   \n",
       "\n",
       "                           Genre  IMDB_Rating  Meta_score           Director  \\\n",
       "0                        [Drama]          9.3    80.00000     Frank Darabont   \n",
       "2         [Action, Crime, Drama]          9.0    84.00000  Christopher Nolan   \n",
       "8    [Action, Adventure, Sci-Fi]          8.8    74.00000  Christopher Nolan   \n",
       "9                        [Drama]          8.8    66.00000      David Fincher   \n",
       "6                 [Crime, Drama]          8.9    94.00000  Quentin Tarantino   \n",
       "..                           ...          ...         ...                ...   \n",
       "570    [Action, Drama, Thriller]          7.8    77.97153      Meghna Gulzar   \n",
       "718       [Action, Crime, Drama]          7.8    87.00000       Howard Hawks   \n",
       "694          [Animation, Sci-Fi]          7.8    73.00000        René Laloux   \n",
       "721             [Drama, Romance]          7.7    85.00000        Francis Lee   \n",
       "264      [Drama, Music, Romance]          8.1    77.97153         Kaige Chen   \n",
       "\n",
       "                                                 Stars  No_of_Votes  ...  \\\n",
       "0    [Tim Robbins, Morgan Freeman, Bob Gunton, Will...      2343110  ...   \n",
       "2    [Christian Bale, Heath Ledger, Aaron Eckhart, ...      2303232  ...   \n",
       "8    [Leonardo DiCaprio, Joseph Gordon-Levitt, Elli...      2067042  ...   \n",
       "9    [Brad Pitt, Edward Norton, Meat Loaf, Zach Gre...      1854740  ...   \n",
       "6    [John Travolta, Uma Thurman, Samuel L. Jackson...      1826188  ...   \n",
       "..                                                 ...          ...  ...   \n",
       "570  [Alia Bhatt, Vicky Kaushal, Rajit Kapoor, Shis...        25344  ...   \n",
       "718  [Richard Rosson, Paul Muni, Ann Dvorak, Karen ...        25312  ...   \n",
       "694  [Barry Bostwick, Jennifer Drake, Eric Baugin, ...        25229  ...   \n",
       "721  [Josh O'Connor, Alec Secareanu, Gemma Jones, I...        25198  ...   \n",
       "264     [Leslie Cheung, Fengyi Zhang, Gong Li, You Ge]        25088  ...   \n",
       "\n",
       "     Romance  Comedy  Thriller  Western  Drama  Animation  Action  War  \\\n",
       "0          0       0         0        0      1          0       0    0   \n",
       "2          0       0         0        0      1          0       1    0   \n",
       "8          0       0         0        0      0          0       1    0   \n",
       "9          0       0         0        0      1          0       0    0   \n",
       "6          0       0         0        0      1          0       0    0   \n",
       "..       ...     ...       ...      ...    ...        ...     ...  ...   \n",
       "570        0       0         1        0      1          0       1    0   \n",
       "718        0       0         0        0      1          0       1    0   \n",
       "694        0       0         0        0      0          1       0    0   \n",
       "721        1       0         0        0      1          0       0    0   \n",
       "264        1       0         0        0      1          0       0    0   \n",
       "\n",
       "     Fantasy  Crime  \n",
       "0          0      0  \n",
       "2          0      1  \n",
       "8          0      0  \n",
       "9          0      0  \n",
       "6          0      1  \n",
       "..       ...    ...  \n",
       "570        0      0  \n",
       "718        0      1  \n",
       "694        0      0  \n",
       "721        0      0  \n",
       "264        0      0  \n",
       "\n",
       "[1000 rows x 32 columns]"
>>>>>>> dbd6035b8e8a26fd64e53da0467ad4f08262d2f9
      ]
     },
     "execution_count": 25,
     "metadata": {},
     "output_type": "execute_result"
    }
   ],
   "source": [
    "imdb_df[\"IMDB_Rating\"].mean()"
   ]
  },
  {
   "cell_type": "code",
   "execution_count": 28,
   "id": "7a76eaf3",
   "metadata": {},
   "outputs": [
    {
     "data": {
      "text/plain": [
       "7.9"
      ]
     },
     "execution_count": 28,
     "metadata": {},
     "output_type": "execute_result"
    }
   ],
   "source": [
    "imdb_df[\"IMDB_Rating\"].median()"
   ]
  },
  {
   "cell_type": "code",
   "execution_count": 29,
   "id": "d4a0b2a2",
   "metadata": {},
   "outputs": [
    {
     "data": {
      "text/plain": [
       "0    7.7\n",
       "Name: IMDB_Rating, dtype: float64"
      ]
     },
     "execution_count": 29,
     "metadata": {},
     "output_type": "execute_result"
    }
   ],
   "source": [
    "imdb_df[\"IMDB_Rating\"].mode()"
   ]
  },
  {
   "cell_type": "code",
   "execution_count": 30,
   "id": "70747d4e",
   "metadata": {},
   "outputs": [
    {
     "data": {
      "text/plain": [
       "0.27549120749200917"
      ]
     },
     "execution_count": 30,
     "metadata": {},
     "output_type": "execute_result"
    }
   ],
   "source": [
    "imdb_df[\"IMDB_Rating\"].std()"
   ]
  },
  {
   "cell_type": "markdown",
<<<<<<< HEAD
   "id": "01d31ea1",
   "metadata": {},
   "source": [
    "It can be said that <>.\n",
    "\n",
    "Create a histogram to further understand and visualize the distribution of the movie ratings."
   ]
  },
  {
   "cell_type": "code",
   "execution_count": 54,
   "id": "70475bdc",
   "metadata": {
    "scrolled": true
   },
   "outputs": [
    {
     "data": {
      "text/plain": [
       "array([[<Axes: title={'center': 'IMDB_Rating'}>]], dtype=object)"
      ]
     },
     "execution_count": 54,
     "metadata": {},
     "output_type": "execute_result"
    },
    {
     "data": {
      "image/png": "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",
      "text/plain": [
       "<Figure size 1000x200 with 1 Axes>"
      ]
     },
     "metadata": {},
     "output_type": "display_data"
    }
   ],
   "source": [
    "imdb_df.hist(\"IMDB_Rating\", bins=30, edgecolor='w', figsize=(10, 2))"
   ]
  },
  {
   "cell_type": "markdown",
   "id": "35daec17",
   "metadata": {},
   "source": [
    "Put interpretation"
   ]
  },
  {
   "cell_type": "markdown",
   "id": "7aed817c",
   "metadata": {},
   "source": [
    "### What is the distribution of the gross earnings for movies?\n",
    "\n",
    "The primary focus to answer this question is the variable:\n",
    "\n",
    "- `Gross`: amount of money earned or grossed by the movie"
   ]
  },
  {
   "cell_type": "code",
   "execution_count": 45,
   "id": "bfe28b54",
   "metadata": {},
   "outputs": [
    {
     "data": {
      "text/plain": [
       "0      2.834147e+07\n",
       "1      1.349664e+08\n",
       "2      5.348584e+08\n",
       "3      5.730000e+07\n",
       "4      4.360000e+06\n",
       "           ...     \n",
       "995    6.803475e+07\n",
       "996    6.803475e+07\n",
       "997    3.050000e+07\n",
       "998    6.803475e+07\n",
       "999    6.803475e+07\n",
       "Name: Gross, Length: 1000, dtype: float64"
      ]
     },
     "execution_count": 45,
     "metadata": {},
     "output_type": "execute_result"
    }
   ],
   "source": [
    "imdb_df[\"Gross\"]"
   ]
  },
  {
   "cell_type": "markdown",
   "id": "e7b10e6e",
   "metadata": {},
   "source": [
    "Similar to IMDB_Ratings' distribution, one can also get the mean, median, mode, and standard deviation of the gross earnings to generate insights about the variable."
   ]
  },
  {
   "cell_type": "code",
   "execution_count": 47,
   "id": "ea5d634c",
   "metadata": {},
   "outputs": [
    {
     "data": {
      "text/plain": [
       "68034750.87364621"
      ]
     },
     "execution_count": 47,
     "metadata": {},
     "output_type": "execute_result"
    }
   ],
   "source": [
    "imdb_df[\"Gross\"].mean()"
   ]
  },
  {
   "cell_type": "code",
   "execution_count": 48,
   "id": "3d2b2652",
   "metadata": {},
   "outputs": [
    {
     "data": {
      "text/plain": [
       "42389449.0"
      ]
     },
     "execution_count": 48,
     "metadata": {},
     "output_type": "execute_result"
    }
   ],
   "source": [
    "imdb_df[\"Gross\"].median()"
   ]
  },
  {
   "cell_type": "code",
   "execution_count": 49,
   "id": "be3cee19",
   "metadata": {},
   "outputs": [
    {
     "data": {
      "text/plain": [
       "0    6.803475e+07\n",
       "Name: Gross, dtype: float64"
      ]
     },
     "execution_count": 49,
     "metadata": {},
     "output_type": "execute_result"
    }
   ],
   "source": [
    "imdb_df[\"Gross\"].mode()"
   ]
  },
  {
   "cell_type": "code",
   "execution_count": 50,
   "id": "57b4e2c6",
   "metadata": {},
   "outputs": [
    {
     "data": {
      "text/plain": [
       "100037078.9314189"
      ]
     },
     "execution_count": 50,
     "metadata": {},
     "output_type": "execute_result"
    }
   ],
   "source": [
    "imdb_df[\"Gross\"].std()"
   ]
  },
  {
   "cell_type": "markdown",
   "id": "156b520d",
   "metadata": {},
   "source": [
    "The <> interpretation chuchu\n",
    "\n",
    "A histogram will also be useful in this case to visualize the distribution of gross earnings."
   ]
  },
  {
   "cell_type": "code",
   "execution_count": 57,
   "id": "21a01d49",
   "metadata": {
    "scrolled": false
   },
   "outputs": [
    {
     "data": {
      "text/plain": [
       "array([[<Axes: title={'center': 'Gross'}>]], dtype=object)"
      ]
     },
     "execution_count": 57,
     "metadata": {},
     "output_type": "execute_result"
    },
    {
     "data": {
      "image/png": "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",
      "text/plain": [
       "<Figure size 1000x300 with 1 Axes>"
      ]
     },
     "metadata": {},
     "output_type": "display_data"
    }
   ],
   "source": [
    "imdb_df.hist(\"Gross\", bins=30, edgecolor='w', figsize=(10, 3))"
   ]
  },
  {
   "cell_type": "markdown",
   "id": "73eb4682",
   "metadata": {},
   "source": [
    "### What are the most common movie genres in the dataset?\n",
    "\n",
    "The primary focus to answer this question are the variables:\n",
    "\n",
    "- `War`: \n",
    "- `Drama`:\n",
    "- `Action`:\n",
    "- `Adventure`:\n",
    "- `Musical`:\n",
    "- `Thriller`:\n",
    "- `Music`:\n",
    "- `History`:\n",
    "- `Mystery`:\n",
    "- `Crime`:\n",
    "- `Comedy`:\n",
    "- `Animation`:\n",
    "- `Film-Noir`:\n",
    "- `Sci-Fi`:\n",
    "- `Biography`:\n",
    "- `Sport`:\n",
    "- `Western`:\n",
    "- `Romance`:\n",
    "- `Family`:\n",
    "- `Fantasy`:\n",
    "- `Horror`:"
   ]
  },
  {
   "cell_type": "code",
   "execution_count": 73,
   "id": "034c12ad",
   "metadata": {
    "scrolled": true
   },
   "outputs": [],
   "source": [
    "genre_columns = ['War', 'Drama', 'Action', 'Adventure', 'Musical', 'Thriller', 'Music', 'History', 'Mystery', 'Crime', 'Comedy', 'Animation', 'Film-Noir', 'Sci-Fi', 'Biography', 'Sport', 'Western', 'Romance', 'Family', 'Fantasy', 'Horror']"
   ]
  },
  {
   "cell_type": "markdown",
   "id": "eb2d32c1",
   "metadata": {},
   "source": [
    "Use the panda function, `dtypes` to check the data types of the genre variables in the IMDb dataset."
   ]
  },
  {
   "cell_type": "code",
   "execution_count": 77,
   "id": "cc566af5",
   "metadata": {},
   "outputs": [
    {
     "data": {
      "text/plain": [
       "War          bool\n",
       "Drama        bool\n",
       "Action       bool\n",
       "Adventure    bool\n",
       "Musical      bool\n",
       "Thriller     bool\n",
       "Music        bool\n",
       "History      bool\n",
       "Mystery      bool\n",
       "Crime        bool\n",
       "Comedy       bool\n",
       "Animation    bool\n",
       "Film-Noir    bool\n",
       "Sci-Fi       bool\n",
       "Biography    bool\n",
       "Sport        bool\n",
       "Western      bool\n",
       "Romance      bool\n",
       "Family       bool\n",
       "Fantasy      bool\n",
       "Horror       bool\n",
       "dtype: object"
      ]
     },
     "execution_count": 77,
     "metadata": {},
     "output_type": "execute_result"
    }
   ],
   "source": [
    "imdb_df[genre_columns].dtypes"
   ]
  },
  {
   "cell_type": "markdown",
   "id": "144bd376",
   "metadata": {},
   "source": [
    "The datatype is seen to be int64. To convert it, use the following code, `astype` to bool."
   ]
  },
  {
   "cell_type": "code",
   "execution_count": 78,
   "id": "5a58aa58",
   "metadata": {},
   "outputs": [],
   "source": [
    "imdb_df[genre_columns] = imdb_df[genre_columns].astype(bool)"
   ]
  },
  {
   "cell_type": "markdown",
   "id": "b1c0908a",
   "metadata": {},
   "source": [
    "Now that the genres are in a boolean datatype, you can use the `sum` function to count how many movies have the genres for the following."
   ]
  },
  {
   "cell_type": "code",
   "execution_count": 79,
   "id": "d5e26f02",
   "metadata": {},
   "outputs": [],
   "source": [
    "genre_counts = imdb_df[genre_columns].sum()"
   ]
  },
  {
   "cell_type": "markdown",
   "id": "adcf63a0",
   "metadata": {},
   "source": [
    "Sort values based on the genre counts."
   ]
  },
  {
   "cell_type": "code",
   "execution_count": 81,
   "id": "a2619d97",
   "metadata": {},
   "outputs": [
    {
     "data": {
      "text/plain": [
       "Drama        724\n",
       "Comedy       233\n",
       "Crime        209\n",
       "Adventure    196\n",
       "Action       189\n",
       "Thriller     137\n",
       "Romance      125\n",
       "Biography    109\n",
       "Mystery       99\n",
       "Animation     82\n",
       "Sci-Fi        67\n",
       "Fantasy       66\n",
       "Family        56\n",
       "History       56\n",
       "War           51\n",
       "Music         35\n",
       "Horror        32\n",
       "Western       20\n",
       "Sport         19\n",
       "Film-Noir     19\n",
       "Musical       17\n",
       "dtype: int64"
      ]
     },
     "execution_count": 81,
     "metadata": {},
     "output_type": "execute_result"
    }
   ],
   "source": [
    "genre_counts.sort_values(ascending=False)"
   ]
  },
  {
   "cell_type": "markdown",
   "id": "28abfbe9",
   "metadata": {},
   "source": [
    "### Which genre has the most gross earnings for movies?\n",
    "\n",
    "The primary focus to answer this question are the variables:\n"
   ]
  },
  {
   "cell_type": "markdown",
   "id": "d516873d",
   "metadata": {},
   "source": [
    "### How has the distribution of movie releases evolved over time?\n",
    "\n",
    "The primary focus to answer this question are the variables:\n"
   ]
  },
  {
   "cell_type": "markdown",
   "id": "adac8de8",
   "metadata": {},
   "source": [
    "### Are there commonalities among the top-rated movies, top-voted movies, and highest-grossing movies?\n"
   ]
  },
  {
   "cell_type": "markdown",
   "id": "e95db8f7",
   "metadata": {},
   "source": [
    "### How does the movie's gross earnings relate to its IMDb rating?\n"
   ]
  },
  {
   "cell_type": "markdown",
   "id": "63936c1c",
   "metadata": {},
   "source": [
    "### Is there a relationship between the movie's genres and the movie's gross earnings?\n"
   ]
  },
  {
   "cell_type": "markdown",
   "id": "b08cc974",
   "metadata": {},
   "source": [
    "### Are there any trends or patterns in the relationship between the movie's gross earnings and the metascore from critics of movies?\n"
   ]
  },
  {
   "cell_type": "markdown",
   "id": "15bb7e9d",
   "metadata": {},
   "source": [
    "### Are there any trends or patterns in the relationship between the movie's director and the metascore from critics of movies and the gross earnings?\n"
   ]
  },
  {
   "cell_type": "markdown",
   "id": "6e5b0c90",
   "metadata": {},
   "source": [
    "### Is there any relationship between the movie's rating on IMDb and the metascore earned by the movie?\n"
   ]
  },
  {
   "cell_type": "markdown",
   "id": "8166473e",
   "metadata": {},
   "source": [
    "###  How does the distribution of ratings, votes, and earnings change over time?\n"
   ]
  },
  {
   "cell_type": "markdown",
   "id": "b019f6ce",
   "metadata": {},
   "source": [
    "### How do ratings, votes, and earnings correlate with each other?\n"
=======
   "id": "6719148c-bca8-416f-8094-cccf865854e2",
   "metadata": {},
   "source": [
    "### What are the top movies by gross?"
   ]
  },
  {
   "cell_type": "code",
   "execution_count": 26,
   "id": "55589d46-ce3f-4fbb-b412-c2a9afc37cb6",
   "metadata": {
    "tags": []
   },
   "outputs": [
    {
     "data": {
      "text/html": [
       "<div>\n",
       "<style scoped>\n",
       "    .dataframe tbody tr th:only-of-type {\n",
       "        vertical-align: middle;\n",
       "    }\n",
       "\n",
       "    .dataframe tbody tr th {\n",
       "        vertical-align: top;\n",
       "    }\n",
       "\n",
       "    .dataframe thead th {\n",
       "        text-align: right;\n",
       "    }\n",
       "</style>\n",
       "<table border=\"1\" class=\"dataframe\">\n",
       "  <thead>\n",
       "    <tr style=\"text-align: right;\">\n",
       "      <th></th>\n",
       "      <th>Series_Title</th>\n",
       "      <th>Gross</th>\n",
       "    </tr>\n",
       "  </thead>\n",
       "  <tbody>\n",
       "    <tr>\n",
       "      <th>0</th>\n",
       "      <td>Star Wars: Episode VII - The Force Awakens</td>\n",
       "      <td>936662225</td>\n",
       "    </tr>\n",
       "    <tr>\n",
       "      <th>1</th>\n",
       "      <td>Avengers: Endgame</td>\n",
       "      <td>858373000</td>\n",
       "    </tr>\n",
       "    <tr>\n",
       "      <th>2</th>\n",
       "      <td>Avatar</td>\n",
       "      <td>760507625</td>\n",
       "    </tr>\n",
       "    <tr>\n",
       "      <th>3</th>\n",
       "      <td>Avengers: Infinity War</td>\n",
       "      <td>678815482</td>\n",
       "    </tr>\n",
       "    <tr>\n",
       "      <th>4</th>\n",
       "      <td>Titanic</td>\n",
       "      <td>659325379</td>\n",
       "    </tr>\n",
       "    <tr>\n",
       "      <th>5</th>\n",
       "      <td>The Avengers</td>\n",
       "      <td>623279547</td>\n",
       "    </tr>\n",
       "    <tr>\n",
       "      <th>6</th>\n",
       "      <td>Incredibles 2</td>\n",
       "      <td>608581744</td>\n",
       "    </tr>\n",
       "    <tr>\n",
       "      <th>7</th>\n",
       "      <td>The Dark Knight</td>\n",
       "      <td>534858444</td>\n",
       "    </tr>\n",
       "    <tr>\n",
       "      <th>8</th>\n",
       "      <td>Rogue One</td>\n",
       "      <td>532177324</td>\n",
       "    </tr>\n",
       "    <tr>\n",
       "      <th>9</th>\n",
       "      <td>The Dark Knight Rises</td>\n",
       "      <td>448139099</td>\n",
       "    </tr>\n",
       "  </tbody>\n",
       "</table>\n",
       "</div>"
      ],
      "text/plain": [
       "                                 Series_Title      Gross\n",
       "0  Star Wars: Episode VII - The Force Awakens  936662225\n",
       "1                           Avengers: Endgame  858373000\n",
       "2                                      Avatar  760507625\n",
       "3                      Avengers: Infinity War  678815482\n",
       "4                                     Titanic  659325379\n",
       "5                                The Avengers  623279547\n",
       "6                               Incredibles 2  608581744\n",
       "7                             The Dark Knight  534858444\n",
       "8                                   Rogue One  532177324\n",
       "9                       The Dark Knight Rises  448139099"
      ]
     },
     "execution_count": 26,
     "metadata": {},
     "output_type": "execute_result"
    }
   ],
   "source": [
    "top_gross_movies = pd.DataFrame(imdb_df[['Series_Title', 'Gross']].sort_values(by=['Gross'], ascending=False)).reset_index(drop=True)\n",
    "top_gross_movies.head(10)"
   ]
  },
  {
   "cell_type": "code",
   "execution_count": 27,
   "id": "db7b48a5-042e-4f5b-b017-8226a1571c31",
   "metadata": {
    "tags": []
   },
   "outputs": [
    {
     "data": {
      "image/png": "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",
      "text/plain": [
       "<Figure size 1400x1000 with 1 Axes>"
      ]
     },
     "metadata": {},
     "output_type": "display_data"
    }
   ],
   "source": [
    "top_gross_movies_fig=top_gross_movies.head(10).reset_index(drop=True)\n",
    "plt.figure(figsize=(14, 10))\n",
    "plt.title('Top 10 movies with the highest gross')\n",
    "plt.barh(top_gross_movies_fig['Series_Title'], top_gross_movies_fig['Gross'])\n",
    "plt.xlabel('Gross')\n",
    "plt.show()"
   ]
  },
  {
   "cell_type": "markdown",
   "id": "33e5b6fb-6d37-470f-b5ec-27f581a4a75e",
   "metadata": {},
   "source": [
    "### What is the distribution of movie ratings on IMDb?"
   ]
  },
  {
   "cell_type": "code",
   "execution_count": 28,
   "id": "90b1bdb0-8270-4938-87a1-80f2e5793afb",
   "metadata": {
    "tags": []
   },
   "outputs": [
    {
     "data": {
      "text/plain": [
       "count    1000.000000\n",
       "mean        7.949300\n",
       "std         0.275491\n",
       "min         7.600000\n",
       "25%         7.700000\n",
       "50%         7.900000\n",
       "75%         8.100000\n",
       "max         9.300000\n",
       "Name: IMDB_Rating, dtype: float64"
      ]
     },
     "execution_count": 28,
     "metadata": {},
     "output_type": "execute_result"
    }
   ],
   "source": [
    "imdb_df['IMDB_Rating'].describe()"
   ]
  },
  {
   "cell_type": "code",
   "execution_count": 29,
   "id": "0057b4bc-1a68-49a9-b20a-7b3e211cd4b3",
   "metadata": {
    "tags": []
   },
   "outputs": [
    {
     "data": {
      "text/plain": [
       "Text(0, 0.5, 'Movies')"
      ]
     },
     "execution_count": 29,
     "metadata": {},
     "output_type": "execute_result"
    },
    {
     "data": {
      "image/png": "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",
      "text/plain": [
       "<Figure size 640x480 with 1 Axes>"
      ]
     },
     "metadata": {},
     "output_type": "display_data"
    }
   ],
   "source": [
    "plt.hist(imdb_df['IMDB_Rating'], ec='black', bins=50)\n",
    "plt.xlabel('IMDB Rating')\n",
    "plt.ylabel('Movies')"
   ]
  },
  {
   "cell_type": "markdown",
   "id": "4ac27378-9217-47f1-b884-ee881b42291a",
   "metadata": {},
   "source": [
    "### What are the most common movie genres in the dataset?"
   ]
  },
  {
   "cell_type": "code",
   "execution_count": 30,
   "id": "92452d17-62e7-4fd3-8244-954d8b72108c",
   "metadata": {
    "tags": []
   },
   "outputs": [
    {
     "data": {
      "text/html": [
       "<div>\n",
       "<style scoped>\n",
       "    .dataframe tbody tr th:only-of-type {\n",
       "        vertical-align: middle;\n",
       "    }\n",
       "\n",
       "    .dataframe tbody tr th {\n",
       "        vertical-align: top;\n",
       "    }\n",
       "\n",
       "    .dataframe thead th {\n",
       "        text-align: right;\n",
       "    }\n",
       "</style>\n",
       "<table border=\"1\" class=\"dataframe\">\n",
       "  <thead>\n",
       "    <tr style=\"text-align: right;\">\n",
       "      <th></th>\n",
       "      <th>count</th>\n",
       "    </tr>\n",
       "    <tr>\n",
       "      <th>Genre</th>\n",
       "      <th></th>\n",
       "    </tr>\n",
       "  </thead>\n",
       "  <tbody>\n",
       "    <tr>\n",
       "      <th>Drama</th>\n",
       "      <td>724</td>\n",
       "    </tr>\n",
       "    <tr>\n",
       "      <th>Comedy</th>\n",
       "      <td>233</td>\n",
       "    </tr>\n",
       "    <tr>\n",
       "      <th>Crime</th>\n",
       "      <td>209</td>\n",
       "    </tr>\n",
       "    <tr>\n",
       "      <th>Adventure</th>\n",
       "      <td>196</td>\n",
       "    </tr>\n",
       "    <tr>\n",
       "      <th>Action</th>\n",
       "      <td>189</td>\n",
       "    </tr>\n",
       "    <tr>\n",
       "      <th>Thriller</th>\n",
       "      <td>137</td>\n",
       "    </tr>\n",
       "    <tr>\n",
       "      <th>Romance</th>\n",
       "      <td>125</td>\n",
       "    </tr>\n",
       "    <tr>\n",
       "      <th>Biography</th>\n",
       "      <td>109</td>\n",
       "    </tr>\n",
       "    <tr>\n",
       "      <th>Mystery</th>\n",
       "      <td>99</td>\n",
       "    </tr>\n",
       "    <tr>\n",
       "      <th>Animation</th>\n",
       "      <td>82</td>\n",
       "    </tr>\n",
       "  </tbody>\n",
       "</table>\n",
       "</div>"
      ],
      "text/plain": [
       "           count\n",
       "Genre           \n",
       "Drama        724\n",
       "Comedy       233\n",
       "Crime        209\n",
       "Adventure    196\n",
       "Action       189\n",
       "Thriller     137\n",
       "Romance      125\n",
       "Biography    109\n",
       "Mystery       99\n",
       "Animation     82"
      ]
     },
     "execution_count": 30,
     "metadata": {},
     "output_type": "execute_result"
    }
   ],
   "source": [
    "common_genres = pd.DataFrame(imdb_df['Genre'].explode().value_counts())\n",
    "common_genres.head(10)"
   ]
  },
  {
   "cell_type": "code",
   "execution_count": 31,
   "id": "f4c08977-d378-4703-89b1-a6dfcfbff1c6",
   "metadata": {},
   "outputs": [],
   "source": [
    "### What is the distribution of the gross earnings for movies?"
   ]
  },
  {
   "cell_type": "code",
   "execution_count": 32,
   "id": "9b0d84d2-7f7d-4295-b4e2-f0bd18ee381b",
   "metadata": {
    "tags": []
   },
   "outputs": [
    {
     "data": {
      "text/plain": [
       "count    1.000000e+03\n",
       "mean     6.803475e+07\n",
       "std      1.000371e+08\n",
       "min      1.305000e+03\n",
       "25%      5.012919e+06\n",
       "50%      4.238945e+07\n",
       "75%      6.803475e+07\n",
       "max      9.366622e+08\n",
       "Name: Gross, dtype: float64"
      ]
     },
     "execution_count": 32,
     "metadata": {},
     "output_type": "execute_result"
    }
   ],
   "source": [
    "imdb_df['Gross'].describe()"
   ]
  },
  {
   "cell_type": "code",
   "execution_count": 33,
   "id": "5e5c20f3-33d0-4f0f-819d-f487bac92129",
   "metadata": {
    "tags": []
   },
   "outputs": [
    {
     "data": {
      "text/plain": [
       "(array([483., 292.,  62.,  41.,  27.,  26.,  20.,  11.,  14.,   4.,   6.,\n",
       "          5.,   0.,   0.,   2.,   0.,   2.,   1.,   1.,   0.,   1.,   0.,\n",
       "          1.,   0.,   1.]),\n",
       " array([1.30500000e+03, 3.74677418e+07, 7.49341786e+07, 1.12400615e+08,\n",
       "        1.49867052e+08, 1.87333489e+08, 2.24799926e+08, 2.62266363e+08,\n",
       "        2.99732799e+08, 3.37199236e+08, 3.74665673e+08, 4.12132110e+08,\n",
       "        4.49598547e+08, 4.87064983e+08, 5.24531420e+08, 5.61997857e+08,\n",
       "        5.99464294e+08, 6.36930731e+08, 6.74397167e+08, 7.11863604e+08,\n",
       "        7.49330041e+08, 7.86796478e+08, 8.24262915e+08, 8.61729351e+08,\n",
       "        8.99195788e+08, 9.36662225e+08]),\n",
       " <BarContainer object of 25 artists>)"
      ]
     },
     "execution_count": 33,
     "metadata": {},
     "output_type": "execute_result"
    },
    {
     "data": {
      "image/png": "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",
      "text/plain": [
       "<Figure size 640x480 with 1 Axes>"
      ]
     },
     "metadata": {},
     "output_type": "display_data"
    }
   ],
   "source": [
    "plt.hist(imdb_df['Gross'], ec='black', bins=25)"
   ]
  },
  {
   "cell_type": "code",
   "execution_count": 34,
   "id": "9dd5a677-8836-47f4-b3e4-7e3b5cb8a0e2",
   "metadata": {},
   "outputs": [],
   "source": [
    "### How has the distribution of movie releases evolved over time?"
   ]
  },
  {
   "cell_type": "code",
   "execution_count": 35,
   "id": "db4df88e-9596-4f04-b43a-699f55b7d487",
   "metadata": {
    "tags": []
   },
   "outputs": [
    {
     "data": {
      "text/html": [
       "<div>\n",
       "<style scoped>\n",
       "    .dataframe tbody tr th:only-of-type {\n",
       "        vertical-align: middle;\n",
       "    }\n",
       "\n",
       "    .dataframe tbody tr th {\n",
       "        vertical-align: top;\n",
       "    }\n",
       "\n",
       "    .dataframe thead th {\n",
       "        text-align: right;\n",
       "    }\n",
       "</style>\n",
       "<table border=\"1\" class=\"dataframe\">\n",
       "  <thead>\n",
       "    <tr style=\"text-align: right;\">\n",
       "      <th></th>\n",
       "      <th>Released_Year</th>\n",
       "    </tr>\n",
       "  </thead>\n",
       "  <tbody>\n",
       "    <tr>\n",
       "      <th>mean</th>\n",
       "      <td>1991.221000</td>\n",
       "    </tr>\n",
       "    <tr>\n",
       "      <th>median</th>\n",
       "      <td>1999.000000</td>\n",
       "    </tr>\n",
       "    <tr>\n",
       "      <th>std</th>\n",
       "      <td>23.285669</td>\n",
       "    </tr>\n",
       "  </tbody>\n",
       "</table>\n",
       "</div>"
      ],
      "text/plain": [
       "        Released_Year\n",
       "mean      1991.221000\n",
       "median    1999.000000\n",
       "std         23.285669"
      ]
     },
     "execution_count": 35,
     "metadata": {},
     "output_type": "execute_result"
    }
   ],
   "source": [
    "imdb_df.agg({\"Released_Year\": [\"mean\", \"median\", \"std\"]})"
   ]
  },
  {
   "cell_type": "code",
   "execution_count": 36,
   "id": "beca27ce-b300-495b-b823-2f24ab8946b7",
   "metadata": {
    "tags": []
   },
   "outputs": [
    {
     "data": {
      "text/plain": [
       "Released_Year\n",
       "2014    32\n",
       "2004    31\n",
       "2009    29\n",
       "2013    28\n",
       "2016    28\n",
       "        ..\n",
       "1930     1\n",
       "1921     1\n",
       "1936     1\n",
       "1922     1\n",
       "1943     1\n",
       "Name: count, Length: 99, dtype: int64"
      ]
     },
     "execution_count": 36,
     "metadata": {},
     "output_type": "execute_result"
    }
   ],
   "source": [
    "imdb_df['Released_Year'].value_counts()"
   ]
  },
  {
   "cell_type": "code",
   "execution_count": 37,
   "id": "9126ee1c-025a-43b6-b872-fc1eaf7f7a50",
   "metadata": {
    "tags": []
   },
   "outputs": [
    {
     "data": {
      "text/plain": [
       "(array([ 2.,  1.,  3.,  3.,  2.,  4.,  5.,  5.,  2.,  8.,  9.,  4.,  6.,\n",
       "         7.,  9., 10.,  9., 12., 14., 11., 16., 18., 11., 17., 11., 12.,\n",
       "        20., 15., 10., 19., 12., 16., 18., 21., 22., 20., 35., 33., 29.,\n",
       "        34., 46., 41., 48., 52., 50., 41., 52., 57., 50., 48.]),\n",
       " array([1920., 1922., 1924., 1926., 1928., 1930., 1932., 1934., 1936.,\n",
       "        1938., 1940., 1942., 1944., 1946., 1948., 1950., 1952., 1954.,\n",
       "        1956., 1958., 1960., 1962., 1964., 1966., 1968., 1970., 1972.,\n",
       "        1974., 1976., 1978., 1980., 1982., 1984., 1986., 1988., 1990.,\n",
       "        1992., 1994., 1996., 1998., 2000., 2002., 2004., 2006., 2008.,\n",
       "        2010., 2012., 2014., 2016., 2018., 2020.]),\n",
       " <BarContainer object of 50 artists>)"
      ]
     },
     "execution_count": 37,
     "metadata": {},
     "output_type": "execute_result"
    },
    {
     "data": {
      "image/png": "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",
      "text/plain": [
       "<Figure size 640x480 with 1 Axes>"
      ]
     },
     "metadata": {},
     "output_type": "display_data"
    }
   ],
   "source": [
    "plt.hist(imdb_df['Released_Year'], ec='black', bins=50)"
   ]
  },
  {
   "cell_type": "code",
   "execution_count": 38,
   "id": "b86e31bc-28e4-49d8-8488-9c4978d9af35",
   "metadata": {},
   "outputs": [],
   "source": [
    "### How does the movie's gross earnings relate to its IMDb rating?"
   ]
  },
  {
   "cell_type": "code",
   "execution_count": 48,
   "id": "aa9c2d87-52c0-4571-881e-ab44357c51b7",
   "metadata": {
    "tags": []
   },
   "outputs": [
    {
     "data": {
      "text/plain": [
       "<Axes: xlabel='Gross', ylabel='IMDB_Rating'>"
      ]
     },
     "execution_count": 48,
     "metadata": {},
     "output_type": "execute_result"
    },
    {
     "data": {
      "image/png": "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",
      "text/plain": [
       "<Figure size 640x480 with 1 Axes>"
      ]
     },
     "metadata": {},
     "output_type": "display_data"
    }
   ],
   "source": [
    "imdb_df.plot.scatter('Gross', 'IMDB_Rating')"
   ]
  },
  {
   "cell_type": "code",
   "execution_count": null,
   "id": "3ceb6339-818c-4a42-aa0b-2da6c6057793",
   "metadata": {},
   "outputs": [],
   "source": [
    "### Is there a relationship between the movie's genres and the movie's gross earnings?"
   ]
  },
  {
   "cell_type": "code",
   "execution_count": null,
   "id": "c6d6c958-7f49-4aea-833f-11ae063ca560",
   "metadata": {
    "tags": []
   },
   "outputs": [],
   "source": []
  },
  {
   "cell_type": "code",
   "execution_count": null,
   "id": "6de40695-e80e-4584-85b0-e7a7ba99fe28",
   "metadata": {},
   "outputs": [],
   "source": [
    "### Can we identify any trends or patterns in movie ratings over the years? Is there any correlation between the release year and movie ratings?"
   ]
  },
  {
   "cell_type": "code",
   "execution_count": null,
   "id": "db033876-fbdf-4597-9f84-9ef03a6fda3a",
   "metadata": {},
   "outputs": [],
   "source": [
    "### Is there any relationship between the movie's rating on IMDb and the metascore earned by the movie?"
   ]
  },
  {
   "cell_type": "code",
   "execution_count": null,
   "id": "cbae059e-7a81-4c1b-947c-0c7871f18ebf",
   "metadata": {},
   "outputs": [],
   "source": [
    "### Are there any trends or patterns in the relationship between the movie's gross earnings and the metascore from critics of movies?"
   ]
  },
  {
   "cell_type": "markdown",
   "id": "c0a49b5d",
   "metadata": {},
   "source": [
    "### Are there any trends or patterns in the relationship between the movie's director and the metascore from critics of movies and the gross earnings?"
>>>>>>> dbd6035b8e8a26fd64e53da0467ad4f08262d2f9
   ]
  }
 ],
 "metadata": {
  "kernelspec": {
   "display_name": "Python 3 (ipykernel)",
   "language": "python",
   "name": "python3"
  },
  "language_info": {
   "codemirror_mode": {
    "name": "ipython",
    "version": 3
   },
   "file_extension": ".py",
   "mimetype": "text/x-python",
   "name": "python",
   "nbconvert_exporter": "python",
   "pygments_lexer": "ipython3",
   "version": "3.11.4"
  }
 },
 "nbformat": 4,
 "nbformat_minor": 5
}
