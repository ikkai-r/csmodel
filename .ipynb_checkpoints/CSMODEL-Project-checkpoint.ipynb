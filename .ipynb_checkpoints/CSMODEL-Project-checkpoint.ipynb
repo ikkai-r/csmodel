{
 "cells": [
  {
   "cell_type": "markdown",
   "id": "10a3f717",
   "metadata": {},
   "source": [
    "## The Dataset\n",
    "\n",
    "The IMDb Movies Dataset comprises the top 1000 most popular and highly-rated films on the IMDb website, which serves as an extensive online database for information on movies, television series, videos, and related content.\n",
    "\n",
    "According to the information page of the dataset, the IMDb Movies Dataset was constructed using web scraping techniques to extract information directly from the IMDB site itself. Web scraping is an automated extraction of data from relevant webpages in a short amount of time (Hillier, 2021).\n",
    "\n",
    "Knowing this, the dataset could potentially have data inconsistencies due to variations in how information is presented on web pages. As such, data cleaning and preprocessing efforts are required for this dataset.\n",
    "\n",
    "In the dataset, one can see that there are a total of 1000 observations (rows), across 16 variables (columns). Here are the descriptions of each variable in the dataset:\n",
    "\n",
    "- **`Poster_Link`** - link to the image of the movie's poster on IMDb\n",
    "- **`Series_Title`** - title of the movie\n",
    "- **`Released_Year`** - year in which the movie was publicly released\n",
    "- **`Certificate`** - rating that indicates the appropriate audience or age group for which the movie is suitable\n",
    "- **`Runtime`** - total duration or length of the movie, measured in minutes\n",
    "- **`Genre`** - type, category, or theme of the movie\n",
    "- **`IMDB_Rating`** - numerical score based on user reviews and rating on IMDb\n",
    "- **`Overview`** - brief summary or description of the movie's plot, storyline, or premise\n",
    "- **`Meta_score`** - numerical score based on reputed critics on IMDb\n",
    "- **`Director`** - name of the movie's director\n",
    "- **`Star1`** - name of the first lead actor/actress in the movie\n",
    "- **`Star2`** - name of the second lead actor/actress in the movie\n",
    "- **`Star3`** - name of the third lead actor/actress in the movie\n",
    "- **`Star4`** - name of the fourth lead actor/actress in the movie\n",
    "- **`No_of_votes`** - total number of votes or user reviews/ratings the movie has received on IMDb\n",
    "- **`Gross`** - amount of money earned or grossed by the movie\n"
   ]
  },
  {
   "cell_type": "markdown",
   "id": "36940e43",
   "metadata": {},
   "source": [
    "## Reading the Dataset\n",
    "\n",
    "The function [`read_csv`](https://pandas.pydata.org/pandas-docs/stable/reference/api/pandas.read_csv.html) will load the IMDb Movie Dataset into a pandas `DataFrame`. Now, one can perform various data manipulation and analysis tasks with the dataset. Make sure to replace `'imdb_top_1000.csv'` in the `read_csv` parameter with the actual path to the dataset file in your local storage.\n"
   ]
  },
  {
   "cell_type": "code",
   "execution_count": 1,
   "id": "7cc26ffa",
   "metadata": {},
   "outputs": [
    {
     "name": "stdout",
     "output_type": "stream",
     "text": [
      "Defaulting to user installation because normal site-packages is not writeable\n",
      "Requirement already satisfied: mlxtend in c:\\users\\harol\\appdata\\roaming\\python\\python311\\site-packages (0.23.0)\n",
      "Requirement already satisfied: scipy>=1.2.1 in c:\\users\\harol\\appdata\\roaming\\python\\python311\\site-packages (from mlxtend) (1.10.1)\n",
      "Requirement already satisfied: numpy>=1.16.2 in c:\\users\\harol\\appdata\\roaming\\python\\python311\\site-packages (from mlxtend) (1.24.2)\n",
      "Requirement already satisfied: pandas>=0.24.2 in c:\\users\\harol\\appdata\\roaming\\python\\python311\\site-packages (from mlxtend) (2.0.0)\n",
      "Requirement already satisfied: scikit-learn>=1.0.2 in c:\\users\\harol\\appdata\\roaming\\python\\python311\\site-packages (from mlxtend) (1.2.2)\n",
      "Requirement already satisfied: matplotlib>=3.0.0 in c:\\users\\harol\\appdata\\roaming\\python\\python311\\site-packages (from mlxtend) (3.7.1)\n",
      "Requirement already satisfied: joblib>=0.13.2 in c:\\users\\harol\\appdata\\roaming\\python\\python311\\site-packages (from mlxtend) (1.2.0)\n",
      "Requirement already satisfied: contourpy>=1.0.1 in c:\\users\\harol\\appdata\\roaming\\python\\python311\\site-packages (from matplotlib>=3.0.0->mlxtend) (1.0.7)\n",
      "Requirement already satisfied: cycler>=0.10 in c:\\users\\harol\\appdata\\roaming\\python\\python311\\site-packages (from matplotlib>=3.0.0->mlxtend) (0.11.0)\n",
      "Requirement already satisfied: fonttools>=4.22.0 in c:\\users\\harol\\appdata\\roaming\\python\\python311\\site-packages (from matplotlib>=3.0.0->mlxtend) (4.39.3)\n",
      "Requirement already satisfied: kiwisolver>=1.0.1 in c:\\users\\harol\\appdata\\roaming\\python\\python311\\site-packages (from matplotlib>=3.0.0->mlxtend) (1.4.4)\n",
      "Requirement already satisfied: packaging>=20.0 in c:\\users\\harol\\appdata\\roaming\\python\\python311\\site-packages (from matplotlib>=3.0.0->mlxtend) (23.1)\n",
      "Requirement already satisfied: pillow>=6.2.0 in c:\\users\\harol\\appdata\\roaming\\python\\python311\\site-packages (from matplotlib>=3.0.0->mlxtend) (9.5.0)\n",
      "Requirement already satisfied: pyparsing>=2.3.1 in c:\\users\\harol\\appdata\\roaming\\python\\python311\\site-packages (from matplotlib>=3.0.0->mlxtend) (3.0.9)\n",
      "Requirement already satisfied: python-dateutil>=2.7 in c:\\users\\harol\\appdata\\roaming\\python\\python311\\site-packages (from matplotlib>=3.0.0->mlxtend) (2.8.2)\n",
      "Requirement already satisfied: pytz>=2020.1 in c:\\users\\harol\\appdata\\roaming\\python\\python311\\site-packages (from pandas>=0.24.2->mlxtend) (2023.3)\n",
      "Requirement already satisfied: tzdata>=2022.1 in c:\\users\\harol\\appdata\\roaming\\python\\python311\\site-packages (from pandas>=0.24.2->mlxtend) (2023.3)\n",
      "Requirement already satisfied: threadpoolctl>=2.0.0 in c:\\users\\harol\\appdata\\roaming\\python\\python311\\site-packages (from scikit-learn>=1.0.2->mlxtend) (3.1.0)\n",
      "Requirement already satisfied: six>=1.5 in c:\\users\\harol\\appdata\\roaming\\python\\python311\\site-packages (from python-dateutil>=2.7->matplotlib>=3.0.0->mlxtend) (1.16.0)\n",
      "Defaulting to user installation because normal site-packages is not writeable\n",
      "Requirement already satisfied: matplotlib_venn in c:\\users\\harol\\appdata\\roaming\\python\\python311\\site-packages (0.11.9)\n",
      "Requirement already satisfied: matplotlib in c:\\users\\harol\\appdata\\roaming\\python\\python311\\site-packages (from matplotlib_venn) (3.7.1)\n",
      "Requirement already satisfied: numpy in c:\\users\\harol\\appdata\\roaming\\python\\python311\\site-packages (from matplotlib_venn) (1.24.2)\n",
      "Requirement already satisfied: scipy in c:\\users\\harol\\appdata\\roaming\\python\\python311\\site-packages (from matplotlib_venn) (1.10.1)\n",
      "Requirement already satisfied: contourpy>=1.0.1 in c:\\users\\harol\\appdata\\roaming\\python\\python311\\site-packages (from matplotlib->matplotlib_venn) (1.0.7)\n",
      "Requirement already satisfied: cycler>=0.10 in c:\\users\\harol\\appdata\\roaming\\python\\python311\\site-packages (from matplotlib->matplotlib_venn) (0.11.0)\n",
      "Requirement already satisfied: fonttools>=4.22.0 in c:\\users\\harol\\appdata\\roaming\\python\\python311\\site-packages (from matplotlib->matplotlib_venn) (4.39.3)\n",
      "Requirement already satisfied: kiwisolver>=1.0.1 in c:\\users\\harol\\appdata\\roaming\\python\\python311\\site-packages (from matplotlib->matplotlib_venn) (1.4.4)\n",
      "Requirement already satisfied: packaging>=20.0 in c:\\users\\harol\\appdata\\roaming\\python\\python311\\site-packages (from matplotlib->matplotlib_venn) (23.1)\n",
      "Requirement already satisfied: pillow>=6.2.0 in c:\\users\\harol\\appdata\\roaming\\python\\python311\\site-packages (from matplotlib->matplotlib_venn) (9.5.0)\n",
      "Requirement already satisfied: pyparsing>=2.3.1 in c:\\users\\harol\\appdata\\roaming\\python\\python311\\site-packages (from matplotlib->matplotlib_venn) (3.0.9)\n",
      "Requirement already satisfied: python-dateutil>=2.7 in c:\\users\\harol\\appdata\\roaming\\python\\python311\\site-packages (from matplotlib->matplotlib_venn) (2.8.2)\n",
      "Requirement already satisfied: six>=1.5 in c:\\users\\harol\\appdata\\roaming\\python\\python311\\site-packages (from python-dateutil>=2.7->matplotlib->matplotlib_venn) (1.16.0)\n"
     ]
    }
   ],
   "source": [
    "!pip install mlxtend\n",
    "!pip install matplotlib_venn"
   ]
  },
  {
   "cell_type": "code",
   "execution_count": 2,
   "id": "fc814c14",
   "metadata": {
    "tags": []
   },
   "outputs": [],
   "source": [
    "import pandas as pd\n",
    "import numpy as np\n",
    "from mlxtend.frequent_patterns import apriori, association_rules\n",
    "import matplotlib.pyplot as plt\n",
    "from matplotlib_venn import venn2\n",
    "from pandas.plotting import scatter_matrix\n",
    "import warnings\n",
    "warnings.filterwarnings(\"ignore\")\n",
    "import scipy.stats as stats\n",
    "from scipy.stats import chi2_contingency"
   ]
  },
  {
   "cell_type": "code",
   "execution_count": 3,
   "id": "6a8210dd-d94e-44d5-801c-335cc381cafe",
   "metadata": {
    "tags": []
   },
   "outputs": [],
   "source": [
    "imdb_df = pd.read_csv(\"imdb_top_1000.csv\")"
   ]
  },
  {
   "cell_type": "markdown",
   "id": "f312c3b7-7e18-4a27-9fcb-3853d2a7dde8",
   "metadata": {},
   "source": [
    "## Data Cleaning\n",
    "\n",
    "The researchers took a better look at the dataset prior to data cleaning. It seems like there are missing values in some of the variables. There are also inconsistent data types.\n"
   ]
  },
  {
   "cell_type": "markdown",
   "id": "9ffc2b0e",
   "metadata": {},
   "source": [
    "### A. General Information\n"
   ]
  },
  {
   "cell_type": "code",
   "execution_count": 4,
   "id": "1bfb2774-2948-4262-b8c3-a62474ca03f5",
   "metadata": {
    "scrolled": true,
    "tags": []
   },
   "outputs": [
    {
     "name": "stdout",
     "output_type": "stream",
     "text": [
      "<class 'pandas.core.frame.DataFrame'>\n",
      "RangeIndex: 1000 entries, 0 to 999\n",
      "Data columns (total 16 columns):\n",
      " #   Column         Non-Null Count  Dtype  \n",
      "---  ------         --------------  -----  \n",
      " 0   Poster_Link    1000 non-null   object \n",
      " 1   Series_Title   1000 non-null   object \n",
      " 2   Released_Year  1000 non-null   object \n",
      " 3   Certificate    899 non-null    object \n",
      " 4   Runtime        1000 non-null   object \n",
      " 5   Genre          1000 non-null   object \n",
      " 6   IMDB_Rating    1000 non-null   float64\n",
      " 7   Overview       1000 non-null   object \n",
      " 8   Meta_score     843 non-null    float64\n",
      " 9   Director       1000 non-null   object \n",
      " 10  Star1          1000 non-null   object \n",
      " 11  Star2          1000 non-null   object \n",
      " 12  Star3          1000 non-null   object \n",
      " 13  Star4          1000 non-null   object \n",
      " 14  No_of_Votes    1000 non-null   int64  \n",
      " 15  Gross          831 non-null    object \n",
      "dtypes: float64(2), int64(1), object(13)\n",
      "memory usage: 125.1+ KB\n"
     ]
    }
   ],
   "source": [
    "# Display general information\n",
    "imdb_df.info()"
   ]
  },
  {
   "cell_type": "markdown",
   "id": "a12fb1e1",
   "metadata": {},
   "source": [
    "### B. Dropping of Variables\n"
   ]
  },
  {
   "cell_type": "code",
   "execution_count": 5,
   "id": "f796d799",
   "metadata": {},
   "outputs": [
    {
     "name": "stdout",
     "output_type": "stream",
     "text": [
      "<class 'pandas.core.frame.DataFrame'>\n",
      "RangeIndex: 1000 entries, 0 to 999\n",
      "Data columns (total 14 columns):\n",
      " #   Column         Non-Null Count  Dtype  \n",
      "---  ------         --------------  -----  \n",
      " 0   Series_Title   1000 non-null   object \n",
      " 1   Released_Year  1000 non-null   object \n",
      " 2   Certificate    899 non-null    object \n",
      " 3   Runtime        1000 non-null   object \n",
      " 4   Genre          1000 non-null   object \n",
      " 5   IMDB_Rating    1000 non-null   float64\n",
      " 6   Meta_score     843 non-null    float64\n",
      " 7   Director       1000 non-null   object \n",
      " 8   Star1          1000 non-null   object \n",
      " 9   Star2          1000 non-null   object \n",
      " 10  Star3          1000 non-null   object \n",
      " 11  Star4          1000 non-null   object \n",
      " 12  No_of_Votes    1000 non-null   int64  \n",
      " 13  Gross          831 non-null    object \n",
      "dtypes: float64(2), int64(1), object(11)\n",
      "memory usage: 109.5+ KB\n"
     ]
    }
   ],
   "source": [
    "# Drop variables not utilized in the study\n",
    "imdb_df = imdb_df.drop(columns=['Poster_Link', 'Overview'])\n",
    "imdb_df.info()"
   ]
  },
  {
   "cell_type": "markdown",
   "id": "3b951cd3",
   "metadata": {},
   "source": [
    "### C. Missing Data\n"
   ]
  },
  {
   "cell_type": "code",
   "execution_count": 6,
   "id": "6c426e8e-baf2-4632-b9ee-5cbececb12b2",
   "metadata": {
    "scrolled": true,
    "tags": []
   },
   "outputs": [
    {
     "data": {
      "text/plain": [
       "Series_Title       0\n",
       "Released_Year      0\n",
       "Certificate      101\n",
       "Runtime            0\n",
       "Genre              0\n",
       "IMDB_Rating        0\n",
       "Meta_score       157\n",
       "Director           0\n",
       "Star1              0\n",
       "Star2              0\n",
       "Star3              0\n",
       "Star4              0\n",
       "No_of_Votes        0\n",
       "Gross            169\n",
       "dtype: int64"
      ]
     },
     "execution_count": 6,
     "metadata": {},
     "output_type": "execute_result"
    }
   ],
   "source": [
    "# Check for missing data\n",
    "imdb_df.isnull().sum()"
   ]
  },
  {
   "cell_type": "markdown",
   "id": "3d5dfc0a-06b7-4252-8ee5-e9da6920d63b",
   "metadata": {
    "tags": []
   },
   "source": [
    "There are missing values in the following variables. Since they are important to the analysis, imputation will be done.\n",
    "\n",
    "- Certificate\n",
    "- Meta_score\n",
    "- Gross\n"
   ]
  },
  {
   "cell_type": "markdown",
   "id": "e4ec18a7",
   "metadata": {},
   "source": [
    "#### C.1 Missing Data - Certificate\n"
   ]
  },
  {
   "cell_type": "code",
   "execution_count": 7,
   "id": "cc7d9d08-7af1-405a-a883-a739665c0c9b",
   "metadata": {
    "tags": []
   },
   "outputs": [
    {
     "data": {
      "text/plain": [
       "Certificate\n",
       "U           234\n",
       "A           197\n",
       "UA          175\n",
       "R           146\n",
       "PG-13        43\n",
       "PG           37\n",
       "Passed       34\n",
       "G            12\n",
       "Approved     11\n",
       "TV-PG         3\n",
       "GP            2\n",
       "TV-14         1\n",
       "16            1\n",
       "TV-MA         1\n",
       "Unrated       1\n",
       "U/A           1\n",
       "Name: count, dtype: int64"
      ]
     },
     "execution_count": 7,
     "metadata": {},
     "output_type": "execute_result"
    }
   ],
   "source": [
    "# Find the most frequent Certificate category\n",
    "imdb_df['Certificate'].value_counts()"
   ]
  },
  {
   "cell_type": "code",
   "execution_count": 8,
   "id": "32e06404-b8db-40ae-b179-907ab7b821a3",
   "metadata": {
    "tags": []
   },
   "outputs": [],
   "source": [
    "# Replace null values in Certificate to the most frequent category\n",
    "imdb_df['Certificate'].fillna('U', inplace=True)"
   ]
  },
  {
   "cell_type": "markdown",
   "id": "6dec86aa",
   "metadata": {},
   "source": [
    "#### C.2 Missing Data - Meta_score\n"
   ]
  },
  {
   "cell_type": "code",
   "execution_count": 9,
   "id": "b5b5f8c8",
   "metadata": {},
   "outputs": [
    {
     "data": {
      "text/plain": [
       "0       80.0\n",
       "1      100.0\n",
       "2       84.0\n",
       "3       90.0\n",
       "4       96.0\n",
       "       ...  \n",
       "995     76.0\n",
       "996     84.0\n",
       "997     85.0\n",
       "998     78.0\n",
       "999     93.0\n",
       "Name: Meta_score, Length: 1000, dtype: float64"
      ]
     },
     "metadata": {},
     "output_type": "display_data"
    }
   ],
   "source": [
    "# Check the contents of Meta_score\n",
    "display(imdb_df['Meta_score'])"
   ]
  },
  {
   "cell_type": "code",
   "execution_count": 10,
   "id": "177b2eb3-75d7-4ded-8e2a-151c041d0895",
   "metadata": {
    "tags": []
   },
   "outputs": [],
   "source": [
    "# Replace null values in Meta_score with the mean\n",
    "imdb_df['Meta_score'].fillna(round(imdb_df['Meta_score'].mean()), inplace=True)\n",
    "\n",
    "# Convert Meta_score data to int\n",
    "imdb_df['Meta_score'] = imdb_df['Meta_score'].astype('int')"
   ]
  },
  {
   "cell_type": "markdown",
   "id": "d1192af1",
   "metadata": {},
   "source": [
    "#### C.3 Missing Data - Gross\n"
   ]
  },
  {
   "cell_type": "code",
   "execution_count": 11,
   "id": "d277c1f1",
   "metadata": {},
   "outputs": [
    {
     "data": {
      "text/plain": [
       "0       28,341,469\n",
       "1      134,966,411\n",
       "2      534,858,444\n",
       "3       57,300,000\n",
       "4        4,360,000\n",
       "          ...     \n",
       "995            NaN\n",
       "996            NaN\n",
       "997     30,500,000\n",
       "998            NaN\n",
       "999            NaN\n",
       "Name: Gross, Length: 1000, dtype: object"
      ]
     },
     "metadata": {},
     "output_type": "display_data"
    }
   ],
   "source": [
    "# Check the contents of Gross\n",
    "display(imdb_df['Gross'])"
   ]
  },
  {
   "cell_type": "code",
   "execution_count": 12,
   "id": "a357f3e9-0e3e-4200-af46-757d205615d2",
   "metadata": {
    "tags": []
   },
   "outputs": [
    {
     "name": "stdout",
     "output_type": "stream",
     "text": [
      "Number of non-numerical data:  0\n"
     ]
    }
   ],
   "source": [
    "# Remove commas in Gross\n",
    "imdb_df['Gross'] = imdb_df['Gross'].str.replace(',', '')\n",
    "\n",
    "# Check if there are non-numerical data (because dtype is object)\n",
    "print('Number of non-numerical data: ', len(imdb_df[imdb_df['Gross'].str.match('^\\d+$') == False]))"
   ]
  },
  {
   "cell_type": "code",
   "execution_count": 13,
   "id": "d782f0f7",
   "metadata": {},
   "outputs": [],
   "source": [
    "# Convert Gross data to float (to handle NaN)\n",
    "imdb_df['Gross'] = imdb_df['Gross'].astype(float).astype('Int64')\n",
    "\n",
    "# Replace null values in Gross with the mean\n",
    "imdb_df['Gross'].fillna(round(imdb_df['Gross'].mean()), inplace=True)\n",
    "\n",
    "# Convert Gross data to int\n",
    "imdb_df['Gross'] = imdb_df['Gross'].astype('int')"
   ]
  },
  {
   "cell_type": "markdown",
   "id": "abb895b2",
   "metadata": {},
   "source": [
    "### D. Data Types\n"
   ]
  },
  {
   "cell_type": "code",
   "execution_count": 14,
   "id": "b525a408",
   "metadata": {},
   "outputs": [
    {
     "name": "stdout",
     "output_type": "stream",
     "text": [
      "<class 'pandas.core.frame.DataFrame'>\n",
      "RangeIndex: 1000 entries, 0 to 999\n",
      "Data columns (total 14 columns):\n",
      " #   Column         Non-Null Count  Dtype  \n",
      "---  ------         --------------  -----  \n",
      " 0   Series_Title   1000 non-null   object \n",
      " 1   Released_Year  1000 non-null   object \n",
      " 2   Certificate    1000 non-null   object \n",
      " 3   Runtime        1000 non-null   object \n",
      " 4   Genre          1000 non-null   object \n",
      " 5   IMDB_Rating    1000 non-null   float64\n",
      " 6   Meta_score     1000 non-null   int32  \n",
      " 7   Director       1000 non-null   object \n",
      " 8   Star1          1000 non-null   object \n",
      " 9   Star2          1000 non-null   object \n",
      " 10  Star3          1000 non-null   object \n",
      " 11  Star4          1000 non-null   object \n",
      " 12  No_of_Votes    1000 non-null   int64  \n",
      " 13  Gross          1000 non-null   int32  \n",
      "dtypes: float64(1), int32(2), int64(1), object(10)\n",
      "memory usage: 101.7+ KB\n"
     ]
    }
   ],
   "source": [
    "# Display general information\n",
    "imdb_df.info()"
   ]
  },
  {
   "cell_type": "markdown",
   "id": "98b63605",
   "metadata": {},
   "source": [
    "Released_Year and Runtime should be represented as int\n"
   ]
  },
  {
   "cell_type": "markdown",
   "id": "e737fe7b",
   "metadata": {},
   "source": [
    "#### D.1 Data Types - Released_Year\n"
   ]
  },
  {
   "cell_type": "code",
   "execution_count": 15,
   "id": "6e152a2c-2457-46ff-8de1-342dc66cbc21",
   "metadata": {
    "scrolled": true,
    "tags": []
   },
   "outputs": [
    {
     "data": {
      "text/plain": [
       "0      1994\n",
       "1      1972\n",
       "2      2008\n",
       "3      1974\n",
       "4      1957\n",
       "       ... \n",
       "995    1961\n",
       "996    1956\n",
       "997    1953\n",
       "998    1944\n",
       "999    1935\n",
       "Name: Released_Year, Length: 1000, dtype: object"
      ]
     },
     "metadata": {},
     "output_type": "display_data"
    }
   ],
   "source": [
    "# Check values in Released_Year\n",
    "display(imdb_df['Released_Year'])"
   ]
  },
  {
   "cell_type": "code",
   "execution_count": 16,
   "id": "bb314bab",
   "metadata": {},
   "outputs": [
    {
     "name": "stdout",
     "output_type": "stream",
     "text": [
      "Number of non-numerical data:  1\n"
     ]
    }
   ],
   "source": [
    "# Check if there are non-numerical data (because dtype is object)\n",
    "print('Number of non-numerical data: ', len(imdb_df[imdb_df['Released_Year'].str.match('^\\d+$') == False]))"
   ]
  },
  {
   "cell_type": "markdown",
   "id": "3d4552c1-eb75-4be2-bb8f-bd3cbb551c8d",
   "metadata": {},
   "source": [
    "There seems to be an error in encoding in one of the observations.\n"
   ]
  },
  {
   "cell_type": "code",
   "execution_count": 17,
   "id": "cb716017-df6a-4eef-bcaa-1e708714ee85",
   "metadata": {
    "tags": []
   },
   "outputs": [
    {
     "data": {
      "text/html": [
       "<div>\n",
       "<style scoped>\n",
       "    .dataframe tbody tr th:only-of-type {\n",
       "        vertical-align: middle;\n",
       "    }\n",
       "\n",
       "    .dataframe tbody tr th {\n",
       "        vertical-align: top;\n",
       "    }\n",
       "\n",
       "    .dataframe thead th {\n",
       "        text-align: right;\n",
       "    }\n",
       "</style>\n",
       "<table border=\"1\" class=\"dataframe\">\n",
       "  <thead>\n",
       "    <tr style=\"text-align: right;\">\n",
       "      <th></th>\n",
       "      <th>Series_Title</th>\n",
       "      <th>Released_Year</th>\n",
       "      <th>Certificate</th>\n",
       "      <th>Runtime</th>\n",
       "      <th>Genre</th>\n",
       "      <th>IMDB_Rating</th>\n",
       "      <th>Meta_score</th>\n",
       "      <th>Director</th>\n",
       "      <th>Star1</th>\n",
       "      <th>Star2</th>\n",
       "      <th>Star3</th>\n",
       "      <th>Star4</th>\n",
       "      <th>No_of_Votes</th>\n",
       "      <th>Gross</th>\n",
       "    </tr>\n",
       "  </thead>\n",
       "  <tbody>\n",
       "    <tr>\n",
       "      <th>966</th>\n",
       "      <td>Apollo 13</td>\n",
       "      <td>PG</td>\n",
       "      <td>U</td>\n",
       "      <td>140 min</td>\n",
       "      <td>Adventure, Drama, History</td>\n",
       "      <td>7.6</td>\n",
       "      <td>77</td>\n",
       "      <td>Ron Howard</td>\n",
       "      <td>Tom Hanks</td>\n",
       "      <td>Bill Paxton</td>\n",
       "      <td>Kevin Bacon</td>\n",
       "      <td>Gary Sinise</td>\n",
       "      <td>269197</td>\n",
       "      <td>173837933</td>\n",
       "    </tr>\n",
       "  </tbody>\n",
       "</table>\n",
       "</div>"
      ],
      "text/plain": [
       "    Series_Title Released_Year Certificate  Runtime   \n",
       "966    Apollo 13            PG           U  140 min  \\\n",
       "\n",
       "                         Genre  IMDB_Rating  Meta_score    Director   \n",
       "966  Adventure, Drama, History          7.6          77  Ron Howard  \\\n",
       "\n",
       "         Star1        Star2        Star3        Star4  No_of_Votes      Gross  \n",
       "966  Tom Hanks  Bill Paxton  Kevin Bacon  Gary Sinise       269197  173837933  "
      ]
     },
     "execution_count": 17,
     "metadata": {},
     "output_type": "execute_result"
    }
   ],
   "source": [
    "# Identify the non-numerical data\n",
    "imdb_df[imdb_df['Released_Year'].str.match('^\\d+$') == False]"
   ]
  },
  {
   "cell_type": "markdown",
   "id": "91b44ba5-4039-4f95-a00e-b08bb9d0f20a",
   "metadata": {},
   "source": [
    "Instead of 'PG' as Apollo 13's release year, it will be replaced by its release year of 1995.\n"
   ]
  },
  {
   "cell_type": "code",
   "execution_count": 18,
   "id": "c2e160f3-44b6-4d7f-9a1b-ad3509cfdafd",
   "metadata": {
    "tags": []
   },
   "outputs": [
    {
     "data": {
      "text/html": [
       "<div>\n",
       "<style scoped>\n",
       "    .dataframe tbody tr th:only-of-type {\n",
       "        vertical-align: middle;\n",
       "    }\n",
       "\n",
       "    .dataframe tbody tr th {\n",
       "        vertical-align: top;\n",
       "    }\n",
       "\n",
       "    .dataframe thead th {\n",
       "        text-align: right;\n",
       "    }\n",
       "</style>\n",
       "<table border=\"1\" class=\"dataframe\">\n",
       "  <thead>\n",
       "    <tr style=\"text-align: right;\">\n",
       "      <th></th>\n",
       "      <th>Series_Title</th>\n",
       "      <th>Released_Year</th>\n",
       "      <th>Certificate</th>\n",
       "      <th>Runtime</th>\n",
       "      <th>Genre</th>\n",
       "      <th>IMDB_Rating</th>\n",
       "      <th>Meta_score</th>\n",
       "      <th>Director</th>\n",
       "      <th>Star1</th>\n",
       "      <th>Star2</th>\n",
       "      <th>Star3</th>\n",
       "      <th>Star4</th>\n",
       "      <th>No_of_Votes</th>\n",
       "      <th>Gross</th>\n",
       "    </tr>\n",
       "  </thead>\n",
       "  <tbody>\n",
       "    <tr>\n",
       "      <th>966</th>\n",
       "      <td>Apollo 13</td>\n",
       "      <td>1995</td>\n",
       "      <td>U</td>\n",
       "      <td>140 min</td>\n",
       "      <td>Adventure, Drama, History</td>\n",
       "      <td>7.6</td>\n",
       "      <td>77</td>\n",
       "      <td>Ron Howard</td>\n",
       "      <td>Tom Hanks</td>\n",
       "      <td>Bill Paxton</td>\n",
       "      <td>Kevin Bacon</td>\n",
       "      <td>Gary Sinise</td>\n",
       "      <td>269197</td>\n",
       "      <td>173837933</td>\n",
       "    </tr>\n",
       "  </tbody>\n",
       "</table>\n",
       "</div>"
      ],
      "text/plain": [
       "    Series_Title Released_Year Certificate  Runtime   \n",
       "966    Apollo 13          1995           U  140 min  \\\n",
       "\n",
       "                         Genre  IMDB_Rating  Meta_score    Director   \n",
       "966  Adventure, Drama, History          7.6          77  Ron Howard  \\\n",
       "\n",
       "         Star1        Star2        Star3        Star4  No_of_Votes      Gross  \n",
       "966  Tom Hanks  Bill Paxton  Kevin Bacon  Gary Sinise       269197  173837933  "
      ]
     },
     "execution_count": 18,
     "metadata": {},
     "output_type": "execute_result"
    }
   ],
   "source": [
    "# Replace the value for Released_Year\n",
    "imdb_df['Released_Year'] = imdb_df['Released_Year'].replace('PG', '1995')\n",
    "imdb_df[imdb_df['Series_Title'] == 'Apollo 13']"
   ]
  },
  {
   "cell_type": "code",
   "execution_count": 19,
   "id": "1afe09af-0b0c-4176-b357-5a8431b36dc7",
   "metadata": {
    "tags": []
   },
   "outputs": [],
   "source": [
    "# Convert Released_Year data to int\n",
    "imdb_df['Released_Year'] = imdb_df['Released_Year'].astype(int)"
   ]
  },
  {
   "cell_type": "markdown",
   "id": "f3ee5a90",
   "metadata": {},
   "source": [
    "#### D.2 Data Types - Runtime\n"
   ]
  },
  {
   "cell_type": "code",
   "execution_count": 20,
   "id": "3604967e",
   "metadata": {
    "scrolled": true
   },
   "outputs": [
    {
     "data": {
      "text/plain": [
       "0      142 min\n",
       "1      175 min\n",
       "2      152 min\n",
       "3      202 min\n",
       "4       96 min\n",
       "        ...   \n",
       "995    115 min\n",
       "996    201 min\n",
       "997    118 min\n",
       "998     97 min\n",
       "999     86 min\n",
       "Name: Runtime, Length: 1000, dtype: object"
      ]
     },
     "metadata": {},
     "output_type": "display_data"
    }
   ],
   "source": [
    "# Check values in Runtime\n",
    "display(imdb_df['Runtime'])"
   ]
  },
  {
   "cell_type": "code",
   "execution_count": 21,
   "id": "9ca96fc2-1333-4c6e-b05d-1f91881c577b",
   "metadata": {
    "tags": []
   },
   "outputs": [
    {
     "name": "stdout",
     "output_type": "stream",
     "text": [
      "Number of non-numerical data:  0\n"
     ]
    }
   ],
   "source": [
    "# Remove ' min' in Runtime\n",
    "imdb_df['Runtime'] = imdb_df['Runtime'].str.replace(' min', '')\n",
    "\n",
    "# Check if there are non-numerical data (because dtype is object)\n",
    "print('Number of non-numerical data: ', len(imdb_df[imdb_df['Runtime'].str.match('^\\d+$') == False]))"
   ]
  },
  {
   "cell_type": "code",
   "execution_count": 22,
   "id": "8b7d3db2",
   "metadata": {},
   "outputs": [],
   "source": [
    "# Convert Runtime data to int\n",
    "imdb_df['Runtime'] = imdb_df['Runtime'].astype(int)"
   ]
  },
  {
   "cell_type": "markdown",
   "id": "3bf9407f",
   "metadata": {},
   "source": [
    "### E. Duplicate Data\n"
   ]
  },
  {
   "cell_type": "code",
   "execution_count": 23,
   "id": "b1c1e1bd-73ee-4b95-b31c-12d55dedc950",
   "metadata": {
    "tags": []
   },
   "outputs": [
    {
     "name": "stdout",
     "output_type": "stream",
     "text": [
      "Number of duplicate rows: 0\n",
      "Number of duplicate data for 'Series_Titles': 1\n"
     ]
    }
   ],
   "source": [
    "# Check for duplicate data\n",
    "print(\"Number of duplicate rows:\", imdb_df.duplicated().sum())\n",
    "print(\"Number of duplicate data for 'Series_Titles':\", imdb_df.Series_Title.duplicated().sum())"
   ]
  },
  {
   "cell_type": "code",
   "execution_count": 24,
   "id": "c48dd2de",
   "metadata": {},
   "outputs": [
    {
     "data": {
      "text/plain": [
       "136    Drishyam\n",
       "Name: Series_Title, dtype: object"
      ]
     },
     "execution_count": 24,
     "metadata": {},
     "output_type": "execute_result"
    }
   ],
   "source": [
    "# Identify the duplicated series title\n",
    "duplicated_ST = imdb_df[imdb_df.Series_Title.duplicated()]\n",
    "duplicated_ST.Series_Title"
   ]
  },
  {
   "cell_type": "code",
   "execution_count": 25,
   "id": "0bec3401",
   "metadata": {
    "scrolled": true
   },
   "outputs": [
    {
     "data": {
      "text/html": [
       "<div>\n",
       "<style scoped>\n",
       "    .dataframe tbody tr th:only-of-type {\n",
       "        vertical-align: middle;\n",
       "    }\n",
       "\n",
       "    .dataframe tbody tr th {\n",
       "        vertical-align: top;\n",
       "    }\n",
       "\n",
       "    .dataframe thead th {\n",
       "        text-align: right;\n",
       "    }\n",
       "</style>\n",
       "<table border=\"1\" class=\"dataframe\">\n",
       "  <thead>\n",
       "    <tr style=\"text-align: right;\">\n",
       "      <th></th>\n",
       "      <th>Series_Title</th>\n",
       "      <th>Released_Year</th>\n",
       "      <th>Certificate</th>\n",
       "      <th>Runtime</th>\n",
       "      <th>Genre</th>\n",
       "      <th>IMDB_Rating</th>\n",
       "      <th>Meta_score</th>\n",
       "      <th>Director</th>\n",
       "      <th>Star1</th>\n",
       "      <th>Star2</th>\n",
       "      <th>Star3</th>\n",
       "      <th>Star4</th>\n",
       "      <th>No_of_Votes</th>\n",
       "      <th>Gross</th>\n",
       "    </tr>\n",
       "  </thead>\n",
       "  <tbody>\n",
       "    <tr>\n",
       "      <th>87</th>\n",
       "      <td>Drishyam</td>\n",
       "      <td>2013</td>\n",
       "      <td>U</td>\n",
       "      <td>160</td>\n",
       "      <td>Crime, Drama, Thriller</td>\n",
       "      <td>8.3</td>\n",
       "      <td>78</td>\n",
       "      <td>Jeethu Joseph</td>\n",
       "      <td>Mohanlal</td>\n",
       "      <td>Meena</td>\n",
       "      <td>Asha Sharath</td>\n",
       "      <td>Ansiba</td>\n",
       "      <td>30722</td>\n",
       "      <td>68034751</td>\n",
       "    </tr>\n",
       "    <tr>\n",
       "      <th>136</th>\n",
       "      <td>Drishyam</td>\n",
       "      <td>2015</td>\n",
       "      <td>UA</td>\n",
       "      <td>163</td>\n",
       "      <td>Crime, Drama, Mystery</td>\n",
       "      <td>8.2</td>\n",
       "      <td>78</td>\n",
       "      <td>Nishikant Kamat</td>\n",
       "      <td>Ajay Devgn</td>\n",
       "      <td>Shriya Saran</td>\n",
       "      <td>Tabu</td>\n",
       "      <td>Rajat Kapoor</td>\n",
       "      <td>70367</td>\n",
       "      <td>739478</td>\n",
       "    </tr>\n",
       "  </tbody>\n",
       "</table>\n",
       "</div>"
      ],
      "text/plain": [
       "    Series_Title  Released_Year Certificate  Runtime                   Genre   \n",
       "87      Drishyam           2013           U      160  Crime, Drama, Thriller  \\\n",
       "136     Drishyam           2015          UA      163   Crime, Drama, Mystery   \n",
       "\n",
       "     IMDB_Rating  Meta_score         Director       Star1         Star2   \n",
       "87           8.3          78    Jeethu Joseph    Mohanlal         Meena  \\\n",
       "136          8.2          78  Nishikant Kamat  Ajay Devgn  Shriya Saran   \n",
       "\n",
       "            Star3         Star4  No_of_Votes     Gross  \n",
       "87   Asha Sharath        Ansiba        30722  68034751  \n",
       "136          Tabu  Rajat Kapoor        70367    739478  "
      ]
     },
     "execution_count": 25,
     "metadata": {},
     "output_type": "execute_result"
    }
   ],
   "source": [
    "# Identify the rows with 'Drishyam' as the series title\n",
    "imdb_df[(imdb_df.Series_Title == 'Drishyam')]"
   ]
  },
  {
   "cell_type": "code",
   "execution_count": 26,
   "id": "64fbc09e",
   "metadata": {},
   "outputs": [
    {
     "data": {
      "text/html": [
       "<div>\n",
       "<style scoped>\n",
       "    .dataframe tbody tr th:only-of-type {\n",
       "        vertical-align: middle;\n",
       "    }\n",
       "\n",
       "    .dataframe tbody tr th {\n",
       "        vertical-align: top;\n",
       "    }\n",
       "\n",
       "    .dataframe thead th {\n",
       "        text-align: right;\n",
       "    }\n",
       "</style>\n",
       "<table border=\"1\" class=\"dataframe\">\n",
       "  <thead>\n",
       "    <tr style=\"text-align: right;\">\n",
       "      <th></th>\n",
       "      <th>Series_Title</th>\n",
       "      <th>Released_Year</th>\n",
       "      <th>Certificate</th>\n",
       "      <th>Runtime</th>\n",
       "      <th>Genre</th>\n",
       "      <th>IMDB_Rating</th>\n",
       "      <th>Meta_score</th>\n",
       "      <th>Director</th>\n",
       "      <th>Star1</th>\n",
       "      <th>Star2</th>\n",
       "      <th>Star3</th>\n",
       "      <th>Star4</th>\n",
       "      <th>No_of_Votes</th>\n",
       "      <th>Gross</th>\n",
       "    </tr>\n",
       "  </thead>\n",
       "  <tbody>\n",
       "    <tr>\n",
       "      <th>87</th>\n",
       "      <td>Drishyam (2013)</td>\n",
       "      <td>2013</td>\n",
       "      <td>U</td>\n",
       "      <td>160</td>\n",
       "      <td>Crime, Drama, Thriller</td>\n",
       "      <td>8.3</td>\n",
       "      <td>78</td>\n",
       "      <td>Jeethu Joseph</td>\n",
       "      <td>Mohanlal</td>\n",
       "      <td>Meena</td>\n",
       "      <td>Asha Sharath</td>\n",
       "      <td>Ansiba</td>\n",
       "      <td>30722</td>\n",
       "      <td>68034751</td>\n",
       "    </tr>\n",
       "    <tr>\n",
       "      <th>136</th>\n",
       "      <td>Drishyam (2015)</td>\n",
       "      <td>2015</td>\n",
       "      <td>UA</td>\n",
       "      <td>163</td>\n",
       "      <td>Crime, Drama, Mystery</td>\n",
       "      <td>8.2</td>\n",
       "      <td>78</td>\n",
       "      <td>Nishikant Kamat</td>\n",
       "      <td>Ajay Devgn</td>\n",
       "      <td>Shriya Saran</td>\n",
       "      <td>Tabu</td>\n",
       "      <td>Rajat Kapoor</td>\n",
       "      <td>70367</td>\n",
       "      <td>739478</td>\n",
       "    </tr>\n",
       "  </tbody>\n",
       "</table>\n",
       "</div>"
      ],
      "text/plain": [
       "        Series_Title  Released_Year Certificate  Runtime   \n",
       "87   Drishyam (2013)           2013           U      160  \\\n",
       "136  Drishyam (2015)           2015          UA      163   \n",
       "\n",
       "                      Genre  IMDB_Rating  Meta_score         Director   \n",
       "87   Crime, Drama, Thriller          8.3          78    Jeethu Joseph  \\\n",
       "136   Crime, Drama, Mystery          8.2          78  Nishikant Kamat   \n",
       "\n",
       "          Star1         Star2         Star3         Star4  No_of_Votes   \n",
       "87     Mohanlal         Meena  Asha Sharath        Ansiba        30722  \\\n",
       "136  Ajay Devgn  Shriya Saran          Tabu  Rajat Kapoor        70367   \n",
       "\n",
       "        Gross  \n",
       "87   68034751  \n",
       "136    739478  "
      ]
     },
     "execution_count": 26,
     "metadata": {},
     "output_type": "execute_result"
    }
   ],
   "source": [
    "# Rename the two series by adding the year of release\n",
    "imdb_df.at[87, 'Series_Title'] = 'Drishyam (2013)'\n",
    "imdb_df.at[136, 'Series_Title'] = 'Drishyam (2015)'\n",
    "imdb_df.iloc[[87, 136]]"
   ]
  },
  {
   "cell_type": "markdown",
   "id": "734e8489",
   "metadata": {},
   "source": [
    "### F. One-hot encoding - Genre\n"
   ]
  },
  {
   "cell_type": "code",
   "execution_count": 27,
   "id": "3b7581df-5426-46fb-9879-d2e5bb1f9b78",
   "metadata": {
    "tags": []
   },
   "outputs": [],
   "source": [
    "# split\n",
    "genre = imdb_df['Genre'].str.split(', ').tolist()\n",
    "genre_joined = imdb_df['Genre'].str.split(', ')\n",
    "\n",
    "flat_genre = [item for sublist in genre for item in sublist]\n",
    "\n",
    "unique_genre = list(set(flat_genre))\n",
    "\n",
    "imdb_df = imdb_df.reindex(imdb_df.columns.tolist() + unique_genre, axis=1, fill_value=0)\n",
    "\n",
    "for index, row in imdb_df.iterrows():\n",
    "    for val in row.Genre.split(', '):\n",
    "        imdb_df.loc[index, val] = 1\n",
    "\n",
    "imdb_df['Genre'] = ''\n",
    "for i in range(imdb_df.shape[0]):\n",
    "    imdb_df['Genre'][i] = genre_joined[i]"
   ]
  },
  {
   "cell_type": "markdown",
   "id": "2b607a64",
   "metadata": {},
   "source": [
    "### G. Merging data - Stars\n"
   ]
  },
  {
   "cell_type": "code",
   "execution_count": 28,
   "id": "23263993-5463-4886-9735-5605fe16340d",
   "metadata": {
    "tags": []
   },
   "outputs": [],
   "source": [
    "# Merge stars\n",
    "imdb_df['Stars'] = ''\n",
    "for i in range(imdb_df.shape[0]):\n",
    "    imdb_df['Stars'][i] = [imdb_df['Star1'][i], imdb_df['Star2'][i], imdb_df['Star3'][i], imdb_df['Star4'][i]]\n",
    "    \n",
    "imdb_df.drop(['Star1', 'Star2', 'Star3', 'Star4'], axis = 1, inplace = True)"
   ]
  },
  {
   "cell_type": "markdown",
   "id": "b67433ba",
   "metadata": {},
   "source": [
    "### H. Finalizing the Variables\n"
   ]
  },
  {
   "cell_type": "code",
   "execution_count": 29,
   "id": "3775fe29-56ae-4b4f-99f2-596581730e77",
   "metadata": {
    "scrolled": true,
    "tags": []
   },
   "outputs": [
    {
     "name": "stdout",
     "output_type": "stream",
     "text": [
      "<class 'pandas.core.frame.DataFrame'>\n",
      "RangeIndex: 1000 entries, 0 to 999\n",
      "Data columns (total 32 columns):\n",
      " #   Column         Non-Null Count  Dtype  \n",
      "---  ------         --------------  -----  \n",
      " 0   Series_Title   1000 non-null   object \n",
      " 1   Released_Year  1000 non-null   int32  \n",
      " 2   Certificate    1000 non-null   object \n",
      " 3   Runtime        1000 non-null   int32  \n",
      " 4   Genre          1000 non-null   object \n",
      " 5   IMDB_Rating    1000 non-null   float64\n",
      " 6   Meta_score     1000 non-null   int32  \n",
      " 7   Director       1000 non-null   object \n",
      " 8   No_of_Votes    1000 non-null   int64  \n",
      " 9   Gross          1000 non-null   int32  \n",
      " 10  Western        1000 non-null   int64  \n",
      " 11  Sport          1000 non-null   int64  \n",
      " 12  Animation      1000 non-null   int64  \n",
      " 13  Horror         1000 non-null   int64  \n",
      " 14  History        1000 non-null   int64  \n",
      " 15  Crime          1000 non-null   int64  \n",
      " 16  Fantasy        1000 non-null   int64  \n",
      " 17  Romance        1000 non-null   int64  \n",
      " 18  War            1000 non-null   int64  \n",
      " 19  Adventure      1000 non-null   int64  \n",
      " 20  Action         1000 non-null   int64  \n",
      " 21  Music          1000 non-null   int64  \n",
      " 22  Family         1000 non-null   int64  \n",
      " 23  Biography      1000 non-null   int64  \n",
      " 24  Film-Noir      1000 non-null   int64  \n",
      " 25  Comedy         1000 non-null   int64  \n",
      " 26  Sci-Fi         1000 non-null   int64  \n",
      " 27  Thriller       1000 non-null   int64  \n",
      " 28  Musical        1000 non-null   int64  \n",
      " 29  Drama          1000 non-null   int64  \n",
      " 30  Mystery        1000 non-null   int64  \n",
      " 31  Stars          1000 non-null   object \n",
      "dtypes: float64(1), int32(4), int64(22), object(5)\n",
      "memory usage: 234.5+ KB\n"
     ]
    }
   ],
   "source": [
    "imdb_df.info()"
   ]
  },
  {
   "cell_type": "code",
   "execution_count": 30,
   "id": "1a601c59-4c74-44b2-8536-e62eb7e53f0f",
   "metadata": {
    "tags": []
   },
   "outputs": [],
   "source": [
    "reordered_cols = ['Series_Title', 'Released_Year', 'Certificate', 'Runtime', 'Genre', 'IMDB_Rating', 'Meta_score', 'Director', 'Stars', 'No_of_Votes', 'Gross']\n",
    "final_cols = reordered_cols + unique_genre"
   ]
  },
  {
   "cell_type": "code",
   "execution_count": 31,
   "id": "d3a1ad16-1301-454a-99ac-a4cb4699c616",
   "metadata": {
    "tags": []
   },
   "outputs": [
    {
     "data": {
      "text/plain": [
       "True"
      ]
     },
     "execution_count": 31,
     "metadata": {},
     "output_type": "execute_result"
    }
   ],
   "source": [
    "set(imdb_df.columns) == set(final_cols)"
   ]
  },
  {
   "cell_type": "code",
   "execution_count": 32,
   "id": "798ac527-7edd-49f1-b81e-2edf881d8894",
   "metadata": {
    "tags": []
   },
   "outputs": [],
   "source": [
    "imdb_df = imdb_df[final_cols]"
   ]
  },
  {
   "cell_type": "code",
   "execution_count": 33,
   "id": "33d1a4e4",
   "metadata": {
    "tags": []
   },
   "outputs": [
    {
     "data": {
      "text/html": [
       "<div>\n",
       "<style scoped>\n",
       "    .dataframe tbody tr th:only-of-type {\n",
       "        vertical-align: middle;\n",
       "    }\n",
       "\n",
       "    .dataframe tbody tr th {\n",
       "        vertical-align: top;\n",
       "    }\n",
       "\n",
       "    .dataframe thead th {\n",
       "        text-align: right;\n",
       "    }\n",
       "</style>\n",
       "<table border=\"1\" class=\"dataframe\">\n",
       "  <thead>\n",
       "    <tr style=\"text-align: right;\">\n",
       "      <th></th>\n",
       "      <th>Series_Title</th>\n",
       "      <th>Released_Year</th>\n",
       "      <th>Certificate</th>\n",
       "      <th>Runtime</th>\n",
       "      <th>Genre</th>\n",
       "      <th>IMDB_Rating</th>\n",
       "      <th>Meta_score</th>\n",
       "      <th>Director</th>\n",
       "      <th>Stars</th>\n",
       "      <th>No_of_Votes</th>\n",
       "      <th>...</th>\n",
       "      <th>Music</th>\n",
       "      <th>Family</th>\n",
       "      <th>Biography</th>\n",
       "      <th>Film-Noir</th>\n",
       "      <th>Comedy</th>\n",
       "      <th>Sci-Fi</th>\n",
       "      <th>Thriller</th>\n",
       "      <th>Musical</th>\n",
       "      <th>Drama</th>\n",
       "      <th>Mystery</th>\n",
       "    </tr>\n",
       "  </thead>\n",
       "  <tbody>\n",
       "    <tr>\n",
       "      <th>0</th>\n",
       "      <td>The Shawshank Redemption</td>\n",
       "      <td>1994</td>\n",
       "      <td>A</td>\n",
       "      <td>142</td>\n",
       "      <td>[Drama]</td>\n",
       "      <td>9.3</td>\n",
       "      <td>80</td>\n",
       "      <td>Frank Darabont</td>\n",
       "      <td>[Tim Robbins, Morgan Freeman, Bob Gunton, Will...</td>\n",
       "      <td>2343110</td>\n",
       "      <td>...</td>\n",
       "      <td>0</td>\n",
       "      <td>0</td>\n",
       "      <td>0</td>\n",
       "      <td>0</td>\n",
       "      <td>0</td>\n",
       "      <td>0</td>\n",
       "      <td>0</td>\n",
       "      <td>0</td>\n",
       "      <td>1</td>\n",
       "      <td>0</td>\n",
       "    </tr>\n",
       "    <tr>\n",
       "      <th>1</th>\n",
       "      <td>The Godfather</td>\n",
       "      <td>1972</td>\n",
       "      <td>A</td>\n",
       "      <td>175</td>\n",
       "      <td>[Crime, Drama]</td>\n",
       "      <td>9.2</td>\n",
       "      <td>100</td>\n",
       "      <td>Francis Ford Coppola</td>\n",
       "      <td>[Marlon Brando, Al Pacino, James Caan, Diane K...</td>\n",
       "      <td>1620367</td>\n",
       "      <td>...</td>\n",
       "      <td>0</td>\n",
       "      <td>0</td>\n",
       "      <td>0</td>\n",
       "      <td>0</td>\n",
       "      <td>0</td>\n",
       "      <td>0</td>\n",
       "      <td>0</td>\n",
       "      <td>0</td>\n",
       "      <td>1</td>\n",
       "      <td>0</td>\n",
       "    </tr>\n",
       "    <tr>\n",
       "      <th>2</th>\n",
       "      <td>The Dark Knight</td>\n",
       "      <td>2008</td>\n",
       "      <td>UA</td>\n",
       "      <td>152</td>\n",
       "      <td>[Action, Crime, Drama]</td>\n",
       "      <td>9.0</td>\n",
       "      <td>84</td>\n",
       "      <td>Christopher Nolan</td>\n",
       "      <td>[Christian Bale, Heath Ledger, Aaron Eckhart, ...</td>\n",
       "      <td>2303232</td>\n",
       "      <td>...</td>\n",
       "      <td>0</td>\n",
       "      <td>0</td>\n",
       "      <td>0</td>\n",
       "      <td>0</td>\n",
       "      <td>0</td>\n",
       "      <td>0</td>\n",
       "      <td>0</td>\n",
       "      <td>0</td>\n",
       "      <td>1</td>\n",
       "      <td>0</td>\n",
       "    </tr>\n",
       "    <tr>\n",
       "      <th>3</th>\n",
       "      <td>The Godfather: Part II</td>\n",
       "      <td>1974</td>\n",
       "      <td>A</td>\n",
       "      <td>202</td>\n",
       "      <td>[Crime, Drama]</td>\n",
       "      <td>9.0</td>\n",
       "      <td>90</td>\n",
       "      <td>Francis Ford Coppola</td>\n",
       "      <td>[Al Pacino, Robert De Niro, Robert Duvall, Dia...</td>\n",
       "      <td>1129952</td>\n",
       "      <td>...</td>\n",
       "      <td>0</td>\n",
       "      <td>0</td>\n",
       "      <td>0</td>\n",
       "      <td>0</td>\n",
       "      <td>0</td>\n",
       "      <td>0</td>\n",
       "      <td>0</td>\n",
       "      <td>0</td>\n",
       "      <td>1</td>\n",
       "      <td>0</td>\n",
       "    </tr>\n",
       "    <tr>\n",
       "      <th>4</th>\n",
       "      <td>12 Angry Men</td>\n",
       "      <td>1957</td>\n",
       "      <td>U</td>\n",
       "      <td>96</td>\n",
       "      <td>[Crime, Drama]</td>\n",
       "      <td>9.0</td>\n",
       "      <td>96</td>\n",
       "      <td>Sidney Lumet</td>\n",
       "      <td>[Henry Fonda, Lee J. Cobb, Martin Balsam, John...</td>\n",
       "      <td>689845</td>\n",
       "      <td>...</td>\n",
       "      <td>0</td>\n",
       "      <td>0</td>\n",
       "      <td>0</td>\n",
       "      <td>0</td>\n",
       "      <td>0</td>\n",
       "      <td>0</td>\n",
       "      <td>0</td>\n",
       "      <td>0</td>\n",
       "      <td>1</td>\n",
       "      <td>0</td>\n",
       "    </tr>\n",
       "  </tbody>\n",
       "</table>\n",
       "<p>5 rows × 32 columns</p>\n",
       "</div>"
      ],
      "text/plain": [
       "               Series_Title  Released_Year Certificate  Runtime   \n",
       "0  The Shawshank Redemption           1994           A      142  \\\n",
       "1             The Godfather           1972           A      175   \n",
       "2           The Dark Knight           2008          UA      152   \n",
       "3    The Godfather: Part II           1974           A      202   \n",
       "4              12 Angry Men           1957           U       96   \n",
       "\n",
       "                    Genre  IMDB_Rating  Meta_score              Director   \n",
       "0                 [Drama]          9.3          80        Frank Darabont  \\\n",
       "1          [Crime, Drama]          9.2         100  Francis Ford Coppola   \n",
       "2  [Action, Crime, Drama]          9.0          84     Christopher Nolan   \n",
       "3          [Crime, Drama]          9.0          90  Francis Ford Coppola   \n",
       "4          [Crime, Drama]          9.0          96          Sidney Lumet   \n",
       "\n",
       "                                               Stars  No_of_Votes  ...  Music   \n",
       "0  [Tim Robbins, Morgan Freeman, Bob Gunton, Will...      2343110  ...      0  \\\n",
       "1  [Marlon Brando, Al Pacino, James Caan, Diane K...      1620367  ...      0   \n",
       "2  [Christian Bale, Heath Ledger, Aaron Eckhart, ...      2303232  ...      0   \n",
       "3  [Al Pacino, Robert De Niro, Robert Duvall, Dia...      1129952  ...      0   \n",
       "4  [Henry Fonda, Lee J. Cobb, Martin Balsam, John...       689845  ...      0   \n",
       "\n",
       "   Family  Biography  Film-Noir  Comedy  Sci-Fi  Thriller  Musical  Drama   \n",
       "0       0          0          0       0       0         0        0      1  \\\n",
       "1       0          0          0       0       0         0        0      1   \n",
       "2       0          0          0       0       0         0        0      1   \n",
       "3       0          0          0       0       0         0        0      1   \n",
       "4       0          0          0       0       0         0        0      1   \n",
       "\n",
       "   Mystery  \n",
       "0        0  \n",
       "1        0  \n",
       "2        0  \n",
       "3        0  \n",
       "4        0  \n",
       "\n",
       "[5 rows x 32 columns]"
      ]
     },
     "execution_count": 33,
     "metadata": {},
     "output_type": "execute_result"
    }
   ],
   "source": [
    "imdb_df.head()"
   ]
  },
  {
   "cell_type": "markdown",
   "id": "b8101566",
   "metadata": {},
   "source": [
    "## Exploratory Data Analysis\n",
    "\n",
    "The primary aim of this analysis is to delve into and thoroughly examine the dataset, with the goal of acquiring valuable insights into the top 1000 movies featured on IMDb. This exploration seeks to understand the distinct features of these movies, uncover any connections between variables, and detect potential patterns or trends that may emerge.\n",
    "\n",
    "### What is the distribution of movie ratings on IMDb?\n",
    "\n",
    "The primary focus to answer this question is the variable:\n",
    "\n",
    "- `IMDB_Rating`: numerical score based on user reviews and rating on IMDb.\n",
    "\n",
    "Write code to select the `IMDB_Rating` column as a series.\n"
   ]
  },
  {
   "cell_type": "code",
   "execution_count": 34,
   "id": "263b1b5a",
   "metadata": {},
   "outputs": [
    {
     "name": "stdout",
     "output_type": "stream",
     "text": [
      "0      9.3\n",
      "1      9.2\n",
      "2      9.0\n",
      "3      9.0\n",
      "4      9.0\n",
      "      ... \n",
      "995    7.6\n",
      "996    7.6\n",
      "997    7.6\n",
      "998    7.6\n",
      "999    7.6\n",
      "Name: IMDB_Rating, Length: 1000, dtype: float64\n"
     ]
    }
   ],
   "source": [
    "ratings_df = imdb_df[\"IMDB_Rating\"]\n",
    "print(ratings_df)"
   ]
  },
  {
   "cell_type": "markdown",
   "id": "420b82a0",
   "metadata": {},
   "source": [
    "To numerically analyze the movie ratings, one can get the mean, median, mode, and standard deviation of the observations for ratings.\n"
   ]
  },
  {
   "cell_type": "code",
   "execution_count": 35,
   "id": "c6317b6f",
   "metadata": {},
   "outputs": [
    {
     "data": {
      "text/plain": [
       "count    1000.000000\n",
       "mean        7.949300\n",
       "std         0.275491\n",
       "min         7.600000\n",
       "25%         7.700000\n",
       "50%         7.900000\n",
       "75%         8.100000\n",
       "max         9.300000\n",
       "Name: IMDB_Rating, dtype: float64"
      ]
     },
     "execution_count": 35,
     "metadata": {},
     "output_type": "execute_result"
    }
   ],
   "source": [
    "ratings_df.describe()"
   ]
  },
  {
   "cell_type": "markdown",
   "id": "706c0245",
   "metadata": {},
   "source": [
    "It can be seen from the results that the movies in the dataset generally have high ratings with a narrow distribution. The rating range from 7.6 to 9.3 shows that while there is some variability in ratings, it is within a relatively high range, with no exceptionally low or exceptionally high outliers. The majority of these top movies have IMDb ratings falling within the interquartile range (IQR) of 7.7 to 8.1, further emphasizing their high quality.\n",
    "\n",
    "To understand the distribution further, it is best to put the data in a histogram plot for visual representation.\n"
   ]
  },
  {
   "cell_type": "code",
   "execution_count": 36,
   "id": "7974dd77",
   "metadata": {
    "scrolled": true
   },
   "outputs": [
    {
     "data": {
      "text/plain": [
       "Text(0, 0.5, 'Movies')"
      ]
     },
     "execution_count": 36,
     "metadata": {},
     "output_type": "execute_result"
    },
    {
     "data": {
      "image/png": "[encoded data removed]",
      "text/plain": [
       "<Figure size 900x300 with 1 Axes>"
      ]
     },
     "metadata": {},
     "output_type": "display_data"
    }
   ],
   "source": [
    "plt.figure(figsize=(9, 3))\n",
    "plt.hist(ratings_df, bins=30, edgecolor='k', color='skyblue')\n",
    "plt.title(\"Distribution of IMDb User Ratings for the Top 1000 IMDb Movies\")\n",
    "plt.xlabel(\"IMDb User Ratings\")\n",
    "plt.ylabel(\"Movies\")"
   ]
  },
  {
   "cell_type": "markdown",
   "id": "d393b47d",
   "metadata": {},
   "source": [
    "Examining the histogram, it is evident that the distribution of movie ratings exhibits a positive skew, which corroborates the numerical analysis. This observation is logical, given that the dataset comprises the top 1000 most popular and highly-rated films on the IMDb website.\n"
   ]
  },
  {
   "cell_type": "markdown",
   "id": "2b8159d9",
   "metadata": {},
   "source": [
    "### What is the distribution of the gross earnings for movies?\n",
    "\n",
    "The primary focus to answer this question is the variable:\n",
    "\n",
    "- `Gross`: amount of money earned or grossed by the movie\n",
    "\n",
    "Select the `Gross` column as a series.\n"
   ]
  },
  {
   "cell_type": "code",
   "execution_count": 37,
   "id": "de10918a",
   "metadata": {},
   "outputs": [
    {
     "name": "stdout",
     "output_type": "stream",
     "text": [
      "0       28341469\n",
      "1      134966411\n",
      "2      534858444\n",
      "3       57300000\n",
      "4        4360000\n",
      "         ...    \n",
      "995     68034751\n",
      "996     68034751\n",
      "997     30500000\n",
      "998     68034751\n",
      "999     68034751\n",
      "Name: Gross, Length: 1000, dtype: int32\n"
     ]
    }
   ],
   "source": [
    "gross_df = imdb_df[\"Gross\"]\n",
    "print(gross_df)"
   ]
  },
  {
   "cell_type": "markdown",
   "id": "e3cc25cf",
   "metadata": {},
   "source": [
    "Similar to the distribution of movie ratings, getting the mean, median, and mode of the gross earnings can help generate insights from the said variable.\n"
   ]
  },
  {
   "cell_type": "code",
   "execution_count": 38,
   "id": "87c3b90a",
   "metadata": {},
   "outputs": [
    {
     "data": {
      "text/plain": [
       "count    1.000000e+03\n",
       "mean     6.803475e+07\n",
       "std      1.000371e+08\n",
       "min      1.305000e+03\n",
       "25%      5.012919e+06\n",
       "50%      4.238945e+07\n",
       "75%      6.803475e+07\n",
       "max      9.366622e+08\n",
       "Name: Gross, dtype: float64"
      ]
     },
     "execution_count": 38,
     "metadata": {},
     "output_type": "execute_result"
    }
   ],
   "source": [
    "gross_df.describe()"
   ]
  },
  {
   "cell_type": "markdown",
   "id": "17335665",
   "metadata": {},
   "source": [
    "The results show that movie gross earnings vary significantly, with a wide range from very low to very high earnings. The average gross earning is approximately $68 million, but the data's standard deviation indicates that there is substantial variability in earnings across the movies. This means that while some movies in the dataset are highly successful and earn a substantial amount, others may not perform as well financially.\n",
    "\n",
    "To visualize the gross earnings' distribution, a histogram plot will be useful.\n"
   ]
  },
  {
   "cell_type": "code",
   "execution_count": 39,
   "id": "3e7132ca",
   "metadata": {
    "scrolled": true
   },
   "outputs": [
    {
     "data": {
      "text/plain": [
       "Text(0, 0.5, 'Movies')"
      ]
     },
     "execution_count": 39,
     "metadata": {},
     "output_type": "execute_result"
    },
    {
     "data": {
      "image/png": "[encoded data removed]",
      "text/plain": [
       "<Figure size 900x300 with 1 Axes>"
      ]
     },
     "metadata": {},
     "output_type": "display_data"
    }
   ],
   "source": [
    "plt.figure(figsize=(9, 3)) \n",
    "plt.hist(gross_df, bins=30, edgecolor='k', color='skyblue')\n",
    "plt.title(\"Distribution of Gross Earnings for the Top 1000 IMDb Movies\")\n",
    "plt.xlabel(\"Gross Earnings\")\n",
    "plt.ylabel(\"Movies\")"
   ]
  },
  {
   "cell_type": "markdown",
   "id": "6b6a81a7",
   "metadata": {},
   "source": [
    "The distribution of movie gross earnings in this dataset is positively skewed, with a wide range of earnings, and a few highly successful movies contributing to the positive skew. The substantial variability also aligns with the numerical analysis and is clearly evident in the historgram plot.\n"
   ]
  },
  {
   "cell_type": "markdown",
   "id": "4ac27378-9217-47f1-b884-ee881b42291a",
   "metadata": {},
   "source": [
    "### What are the most common movie genres in the dataset?\n",
    "\n",
    "Remember that in data preprocessing, one-hot encoding was applied to the genre variable.\n",
    "\n",
    "Thus, the primary focus to answer this question are the variables under:\n",
    "\n",
    "- `Genre`: type, category, or theme of the movie\n",
    "\n",
    "which are:\n",
    "\n",
    "`War`, `Drama`, `Action`, `Adventure`, `Musical`, `Thriller`, `Music`, `History`, `Mystery`, `Crime`, `Comedy`, `Animation`, `Film-Noir`, `Sci-Fi`, `Biography`, `Sport`, `Western`, `Romance`, `Family`, `Fantasy`, `Horror`\n",
    "\n",
    "To count the movies associated with each genre, we first put the individual genres into an array for easier selection in the DataFrame.\n"
   ]
  },
  {
   "cell_type": "code",
   "execution_count": 40,
   "id": "92452d17-62e7-4fd3-8244-954d8b72108c",
   "metadata": {
    "tags": []
   },
   "outputs": [],
   "source": [
    "genre_columns = ['War', 'Drama', 'Action', 'Adventure', 'Musical', 'Thriller', 'Music', 'History', 'Mystery', 'Crime', 'Comedy', 'Animation', 'Film-Noir', 'Sci-Fi', 'Biography', 'Sport', 'Western', 'Romance', 'Family', 'Fantasy', 'Horror']"
   ]
  },
  {
   "cell_type": "markdown",
   "id": "9063840f",
   "metadata": {},
   "source": [
    "When the datatype is examined, one can see that the columns are in `int64`, rather than `boolean`.\n",
    "\n",
    "So, to perform the method `sum` to get the total number of movies per genre, we first need to convert it to boolean using the method `astype(bool)`.\n"
   ]
  },
  {
   "cell_type": "code",
   "execution_count": 41,
   "id": "9275b9d5",
   "metadata": {},
   "outputs": [],
   "source": [
    "imdb_df[genre_columns] = imdb_df[genre_columns].astype(bool)"
   ]
  },
  {
   "cell_type": "code",
   "execution_count": 42,
   "id": "c0e2d461",
   "metadata": {},
   "outputs": [
    {
     "name": "stdout",
     "output_type": "stream",
     "text": [
      "War           51\n",
      "Drama        724\n",
      "Action       189\n",
      "Adventure    196\n",
      "Musical       17\n",
      "Thriller     137\n",
      "Music         35\n",
      "History       56\n",
      "Mystery       99\n",
      "Crime        209\n",
      "Comedy       233\n",
      "Animation     82\n",
      "Film-Noir     19\n",
      "Sci-Fi        67\n",
      "Biography    109\n",
      "Sport         19\n",
      "Western       20\n",
      "Romance      125\n",
      "Family        56\n",
      "Fantasy       66\n",
      "Horror        32\n",
      "dtype: int64\n"
     ]
    }
   ],
   "source": [
    "genre_counts = imdb_df[genre_columns].sum()\n",
    "print(genre_counts)"
   ]
  },
  {
   "cell_type": "markdown",
   "id": "94e0fd12",
   "metadata": {},
   "source": [
    "After getting the genre_counts, we can get the 10 most common genres overall using the `sort_values` by descending order method and the `head(10)` method\n"
   ]
  },
  {
   "cell_type": "code",
   "execution_count": 43,
   "id": "72f6cbb0",
   "metadata": {
    "scrolled": true
   },
   "outputs": [
    {
     "data": {
      "text/plain": [
       "Drama        724\n",
       "Comedy       233\n",
       "Crime        209\n",
       "Adventure    196\n",
       "Action       189\n",
       "Thriller     137\n",
       "Romance      125\n",
       "Biography    109\n",
       "Mystery       99\n",
       "Animation     82\n",
       "dtype: int64"
      ]
     },
     "execution_count": 43,
     "metadata": {},
     "output_type": "execute_result"
    }
   ],
   "source": [
    "genre_counts = genre_counts.sort_values(ascending=False).head(10)\n",
    "genre_counts"
   ]
  },
  {
   "cell_type": "markdown",
   "id": "caebacf9",
   "metadata": {},
   "source": [
    "Based on the numerical summary, these three genres, Drama, Comedy, and Action, are the most common in the dataset and have the highest representation among the top 1000 movies on IMDb.\n",
    "\n",
    "\n",
    "Utilizing a bar plot is an effective way to visually represent the genre frequency within the dataset.\n"
   ]
  },
  {
   "cell_type": "code",
   "execution_count": 44,
   "id": "efdbc583",
   "metadata": {},
   "outputs": [
    {
     "data": {
      "image/png": "[encoded data removed]",
      "text/plain": [
       "<Figure size 900x300 with 1 Axes>"
      ]
     },
     "metadata": {},
     "output_type": "display_data"
    }
   ],
   "source": [
    "fig, ax = plt.subplots(figsize=(9, 3))\n",
    "genre_counts[:10].plot(kind='bar', x='Genre', y='Count', ax=ax, edgecolor='k', color='skyblue')\n",
    "plt.xlabel(\"Genres\")\n",
    "plt.ylabel(\"Movies\")\n",
    "plt.show()"
   ]
  },
  {
   "cell_type": "markdown",
   "id": "3cbbc894",
   "metadata": {},
   "source": [
    "The bar plot analysis underscores the prevalence of the top 10 genres: drama, comedy, crime, adventure, action, thriller, romance, biography, mystery, and animation. Notably, drama stands out as the most frequent genre, constituting a significant 72.4% of the movies in the dataset.\n"
   ]
  },
  {
   "cell_type": "markdown",
   "id": "75a29d9c",
   "metadata": {},
   "source": [
    "### How has the distribution of movie releases evolved over time?\n",
    "\n",
    "The primary focus to answer this question is the variable:\n",
    "\n",
    "- `Released_Year`: year in which the movie was publicly released\n",
    "\n",
    "When looking at the years movies were released, one can examine the frequency of movie releases.\n",
    "\n",
    "Select the `Released_Year` as a Series.\n"
   ]
  },
  {
   "cell_type": "code",
   "execution_count": 45,
   "id": "dc1135ca",
   "metadata": {},
   "outputs": [],
   "source": [
    "years_df = imdb_df['Released_Year']"
   ]
  },
  {
   "cell_type": "code",
   "execution_count": 46,
   "id": "a4f24793",
   "metadata": {},
   "outputs": [
    {
     "name": "stdout",
     "output_type": "stream",
     "text": [
      "Released_Year\n",
      "2014    32\n",
      "2004    31\n",
      "2009    29\n",
      "2013    28\n",
      "2016    28\n",
      "        ..\n",
      "1930     1\n",
      "1921     1\n",
      "1936     1\n",
      "1922     1\n",
      "1943     1\n",
      "Name: count, Length: 99, dtype: int64\n"
     ]
    }
   ],
   "source": [
    "year_counts = years_df.value_counts()\n",
    "print(year_counts)"
   ]
  },
  {
   "cell_type": "markdown",
   "id": "0706f2f3",
   "metadata": {},
   "source": [
    "One can also determine the most frequent year the top 1000 movies on IMDb was released in.\n"
   ]
  },
  {
   "cell_type": "code",
   "execution_count": 47,
   "id": "db4df88e-9596-4f04-b43a-699f55b7d487",
   "metadata": {
    "scrolled": true,
    "tags": []
   },
   "outputs": [
    {
     "data": {
      "text/html": [
       "<div>\n",
       "<style scoped>\n",
       "    .dataframe tbody tr th:only-of-type {\n",
       "        vertical-align: middle;\n",
       "    }\n",
       "\n",
       "    .dataframe tbody tr th {\n",
       "        vertical-align: top;\n",
       "    }\n",
       "\n",
       "    .dataframe thead tr th {\n",
       "        text-align: left;\n",
       "    }\n",
       "</style>\n",
       "<table border=\"1\" class=\"dataframe\">\n",
       "  <thead>\n",
       "    <tr>\n",
       "      <th></th>\n",
       "      <th>Released_Year</th>\n",
       "    </tr>\n",
       "    <tr>\n",
       "      <th></th>\n",
       "      <th>mode</th>\n",
       "    </tr>\n",
       "  </thead>\n",
       "  <tbody>\n",
       "    <tr>\n",
       "      <th>0</th>\n",
       "      <td>2014</td>\n",
       "    </tr>\n",
       "  </tbody>\n",
       "</table>\n",
       "</div>"
      ],
      "text/plain": [
       "  Released_Year\n",
       "           mode\n",
       "0          2014"
      ]
     },
     "execution_count": 47,
     "metadata": {},
     "output_type": "execute_result"
    }
   ],
   "source": [
    "imdb_df.agg({\"Released_Year\": [\"mode\"]})"
   ]
  },
  {
   "cell_type": "code",
   "execution_count": 48,
   "id": "b93be6ed",
   "metadata": {},
   "outputs": [
    {
     "data": {
      "text/plain": [
       "count    1000.000000\n",
       "mean     1991.221000\n",
       "std        23.285669\n",
       "min      1920.000000\n",
       "25%      1976.000000\n",
       "50%      1999.000000\n",
       "75%      2009.000000\n",
       "max      2020.000000\n",
       "Name: Released_Year, dtype: float64"
      ]
     },
     "execution_count": 48,
     "metadata": {},
     "output_type": "execute_result"
    }
   ],
   "source": [
    "imdb_df['Released_Year'].describe()"
   ]
  },
  {
   "cell_type": "markdown",
   "id": "24ba83fd",
   "metadata": {},
   "source": [
    "The mode suggests a noteworthy surge in the number of movie releases during the year 2014. The average release year for these top movies is during 1991 with a moderate amount of spread based on its standard deviation, 23.29. You can also see that the data is skewed more towards recent years, as the median (1999) is closer to the 75th percentile (2009) than it is to the 25th percentile (1976).\n",
    "\n",
    "The histogram below will help visualize the distribution of movie releases over time, with years on the x-axis and the number of movies on the y-axis.\n"
   ]
  },
  {
   "cell_type": "code",
   "execution_count": 49,
   "id": "b5cbc4bf",
   "metadata": {
    "scrolled": true
   },
   "outputs": [
    {
     "data": {
      "text/plain": [
       "Text(0, 0.5, 'Number of Movies Released')"
      ]
     },
     "execution_count": 49,
     "metadata": {},
     "output_type": "execute_result"
    },
    {
     "data": {
      "image/png": "[encoded data removed]",
      "text/plain": [
       "<Figure size 1200x600 with 1 Axes>"
      ]
     },
     "metadata": {},
     "output_type": "display_data"
    }
   ],
   "source": [
    "plt.figure(figsize=(12, 6))  \n",
    "plt.hist(years_df, bins=30, edgecolor='k', color='skyblue')\n",
    "plt.title(\"Distribution of Movie Releases Over Time\")\n",
    "plt.xlabel(\"Year\")\n",
    "plt.ylabel(\"Number of Movies Released\")"
   ]
  },
  {
   "cell_type": "markdown",
   "id": "3c0d8e98",
   "metadata": {},
   "source": [
    "The distribution of movie release years in this dataset appears to be relatively narrow and negatively skewed, signifying a trend of increasing movie releases over time, especially during the 2000s.\n"
   ]
  },
  {
   "cell_type": "markdown",
   "id": "f7443516",
   "metadata": {},
   "source": [
    "### How does the movie's gross earnings relate to its IMDb rating?\n",
    "\n",
    "The primary focus to answer this question are the variables:\n",
    "\n",
    "- `Gross`: year in which the movie was publicly released\n",
    "- `IMDB_Rating`: year in which the movie was publicly released\n",
    "\n",
    "Below, you can see the summary statistics for both IMDB_Rating and Gross in the dataset.\n"
   ]
  },
  {
   "cell_type": "code",
   "execution_count": 50,
   "id": "edaf8ecc",
   "metadata": {},
   "outputs": [
    {
     "data": {
      "text/plain": [
       "count    1000.000000\n",
       "mean        7.949300\n",
       "std         0.275491\n",
       "min         7.600000\n",
       "25%         7.700000\n",
       "50%         7.900000\n",
       "75%         8.100000\n",
       "max         9.300000\n",
       "Name: IMDB_Rating, dtype: float64"
      ]
     },
     "execution_count": 50,
     "metadata": {},
     "output_type": "execute_result"
    }
   ],
   "source": [
    "ratings_df.describe()"
   ]
  },
  {
   "cell_type": "code",
   "execution_count": 51,
   "id": "718108b0",
   "metadata": {},
   "outputs": [
    {
     "data": {
      "text/plain": [
       "count    1.000000e+03\n",
       "mean     6.803475e+07\n",
       "std      1.000371e+08\n",
       "min      1.305000e+03\n",
       "25%      5.012919e+06\n",
       "50%      4.238945e+07\n",
       "75%      6.803475e+07\n",
       "max      9.366622e+08\n",
       "Name: Gross, dtype: float64"
      ]
     },
     "execution_count": 51,
     "metadata": {},
     "output_type": "execute_result"
    }
   ],
   "source": [
    "gross_df.describe()"
   ]
  },
  {
   "cell_type": "markdown",
   "id": "a0bb6b3a",
   "metadata": {},
   "source": [
    "In determining their relationship, their correlation to each other must be calculated. This can be done using the method `corr`.\n"
   ]
  },
  {
   "cell_type": "code",
   "execution_count": 52,
   "id": "25c05c68",
   "metadata": {},
   "outputs": [
    {
     "data": {
      "text/plain": [
       "0.0898813213842479"
      ]
     },
     "execution_count": 52,
     "metadata": {},
     "output_type": "execute_result"
    }
   ],
   "source": [
    "ratings_df.corr(gross_df)"
   ]
  },
  {
   "cell_type": "markdown",
   "id": "b748ce83",
   "metadata": {},
   "source": [
    "A correlation coefficient of 0.0898813213842479, which is close to zero, indicates a very weak or negligible correlation. In statistical terms, this suggests that there is little to no linear relationship between a movie's gross earnings and its IMDb rating in the dataset.\n",
    " \n",
    "Knowing this, the scatterplot can be used to further confirm and visualize the interpretation.\n"
   ]
  },
  {
   "cell_type": "code",
   "execution_count": 53,
   "id": "aa9c2d87-52c0-4571-881e-ab44357c51b7",
   "metadata": {
    "scrolled": true,
    "tags": []
   },
   "outputs": [
    {
     "data": {
      "text/plain": [
       "Text(0, 0.5, 'Gross Earnings')"
      ]
     },
     "execution_count": 53,
     "metadata": {},
     "output_type": "execute_result"
    },
    {
     "data": {
      "image/png": "[encoded data removed]",
      "text/plain": [
       "<Figure size 1000x600 with 1 Axes>"
      ]
     },
     "metadata": {},
     "output_type": "display_data"
    }
   ],
   "source": [
    "plt.figure(figsize=(10, 6))\n",
    "plt.scatter(ratings_df, gross_df, alpha=0.5)\n",
    "plt.title('IMDb Rating vs. Gross Earnings')\n",
    "plt.xlabel('IMDb Rating')\n",
    "plt.ylabel('Gross Earnings')"
   ]
  },
  {
   "cell_type": "markdown",
   "id": "d38c0894",
   "metadata": {},
   "source": [
    "When looking at the scatterplot, it is evident that there is a concentration of movies in the lower part, primarily consisting of films with lower IMDb ratings and lower gross earnings. This clustering suggests that a notable portion of movies in the dataset are not highly rated on IMDb and tend to have relatively low earnings.\n",
    "\n",
    "However, it is important to emphasize that the overall scatter of data points on the graph remains quite wide, and there is no clear linear trend, which aligns with the correlation coefficient showing no correlation between the movie's IMDb rating and its earnings."
   ]
  },
  {
   "cell_type": "markdown",
   "id": "39ba41f2",
   "metadata": {},
   "source": [
    "### Is there any relationship between the movie's release date and the movie's gross earnings?\n",
    "\n",
    "The primary focus to answer this question are the variables:\n",
    "\n",
    "- `Gross`: year in which the movie was publicly released\n",
    "- `Released_Year`: year in which the movie was publicly released\n",
    "\n",
    "Similar to the earlier question, one can also compute the correlation coefficient between the two variables to determine their relationship.\n"
   ]
  },
  {
   "cell_type": "code",
   "execution_count": 54,
   "id": "9be5536c",
   "metadata": {},
   "outputs": [
    {
     "data": {
      "text/plain": [
       "0.1929118727464424"
      ]
     },
     "execution_count": 54,
     "metadata": {},
     "output_type": "execute_result"
    }
   ],
   "source": [
    "years_df.corr(gross_df)"
   ]
  },
  {
   "cell_type": "markdown",
   "id": "f396b24e",
   "metadata": {},
   "source": [
    "The correlation coefficient suggests that there is a weak positive relationship between the two variables, suggesting that, to some extent, more recent movies tend to have higher gross earnings.\n",
    "\n",
    "The scatterplot below will help us visualize more about the relationship between them, as per our interpretation for the coefficient.\n"
   ]
  },
  {
   "cell_type": "code",
   "execution_count": 55,
   "id": "0f6700a4",
   "metadata": {
    "scrolled": true
   },
   "outputs": [
    {
     "data": {
      "text/plain": [
       "Text(0, 0.5, 'Gross Earnings')"
      ]
     },
     "execution_count": 55,
     "metadata": {},
     "output_type": "execute_result"
    },
    {
     "data": {
      "image/png": "[encoded data removed]",
      "text/plain": [
       "<Figure size 1000x600 with 1 Axes>"
      ]
     },
     "metadata": {},
     "output_type": "display_data"
    }
   ],
   "source": [
    "plt.figure(figsize=(10, 6))\n",
    "plt.scatter(years_df, gross_df, alpha=0.5)\n",
    "plt.title('Released Year vs. Gross Earnings')\n",
    "plt.xlabel('Released Year')\n",
    "plt.ylabel('Gross Earnings')"
   ]
  },
  {
   "cell_type": "markdown",
   "id": "dbe0d043",
   "metadata": {},
   "source": [
    "The scatterplot displays a right-skewed distribution, indicating that a considerable number of movies with lower gross earnings are spread across various release years. This suggests that movies with lower earnings can be found across different decades.\n",
    "\n",
    "However, there is a noticeable concentration of data points in the lower part of the graph, especially during the 1920s to the 1960s. The scatterplot also reveals a shift in the distribution of data points. From the 1980s onward, there is a visible increase in movies with higher gross earnings, and this trend becomes more consistent from the 2000s to the 2020s. "
   ]
  },
  {
   "cell_type": "markdown",
   "id": "09945501",
   "metadata": {},
   "source": [
    "### Is there any relationship between the movie's gross earnings and the metascore from critics of movies?\n",
    "\n",
    "The primary focus to answer this question are the variables:\n",
    "\n",
    "- `Gross`: year in which the movie was publicly released\n",
    "- `Meta_score`: year in which the movie was publicly released\n",
    "\n",
    "Extract the metascore from the IMDb dataframe to make a series for the said variable.\n"
   ]
  },
  {
   "cell_type": "code",
   "execution_count": 56,
   "id": "edbabf21",
   "metadata": {},
   "outputs": [
    {
     "name": "stdout",
     "output_type": "stream",
     "text": [
      "0       80\n",
      "1      100\n",
      "2       84\n",
      "3       90\n",
      "4       96\n",
      "      ... \n",
      "995     76\n",
      "996     84\n",
      "997     85\n",
      "998     78\n",
      "999     93\n",
      "Name: Meta_score, Length: 1000, dtype: int32\n"
     ]
    }
   ],
   "source": [
    "metascore_df = imdb_df[\"Meta_score\"]\n",
    "print(metascore_df)"
   ]
  },
  {
   "cell_type": "markdown",
   "id": "12a5667a",
   "metadata": {},
   "source": [
    "The correlation coefficient between the `Gross` and `Meta_score` is calculated to assess the nature and strength of their relationship below.\n"
   ]
  },
  {
   "cell_type": "code",
   "execution_count": 57,
   "id": "6ab294cc",
   "metadata": {},
   "outputs": [
    {
     "data": {
      "text/plain": [
       "-0.031034795396410443"
      ]
     },
     "execution_count": 57,
     "metadata": {},
     "output_type": "execute_result"
    }
   ],
   "source": [
    "metascore_df.corr(gross_df)"
   ]
  },
  {
   "cell_type": "markdown",
   "id": "6d6dd850",
   "metadata": {},
   "source": [
    "The correlation coefficient suggests that there is a very weak, almost negligible negative relationship, indicating that there is no meaningful linear relationship between a movie's Metascore rating and its gross earnings in the dataset.\n",
    "\n",
    "\n",
    "The scatterplot below will aid in visualizing this relationship.\n"
   ]
  },
  {
   "cell_type": "code",
   "execution_count": 58,
   "id": "1c440e06",
   "metadata": {
    "scrolled": true
   },
   "outputs": [
    {
     "data": {
      "text/plain": [
       "Text(0, 0.5, 'Gross Earnings')"
      ]
     },
     "execution_count": 58,
     "metadata": {},
     "output_type": "execute_result"
    },
    {
     "data": {
      "image/png": "[encoded data removed]",
      "text/plain": [
       "<Figure size 1000x600 with 1 Axes>"
      ]
     },
     "metadata": {},
     "output_type": "display_data"
    }
   ],
   "source": [
    "plt.figure(figsize=(10, 6))\n",
    "plt.scatter(metascore_df, gross_df, alpha=0.5)\n",
    "plt.title('Meta Score from Critics vs. Gross Earnings')\n",
    "plt.xlabel('Meta Score from Critics')\n",
    "plt.ylabel('Gross Earnings')"
   ]
  },
  {
   "cell_type": "markdown",
   "id": "850513ce",
   "metadata": {},
   "source": [
    "The scatterplot indicates a noticeable concentration of data points within a specific range of 60 to 90 Metascores for movies with lower gross earnings. However, the extremely weak negative correlation emphasizes that there is no reliable predictive relationship between a movie's Metascore from critics and its earnings. "
   ]
  },
  {
   "cell_type": "markdown",
   "id": "d86fa96a",
   "metadata": {},
   "source": [
    "### Which genres are most commonly featured in the top 10 grossing movies?"
   ]
  },
  {
   "cell_type": "code",
   "execution_count": 59,
   "id": "171b336f",
   "metadata": {},
   "outputs": [
    {
     "data": {
      "text/plain": [
       "War          0\n",
       "Drama        3\n",
       "Action       9\n",
       "Adventure    8\n",
       "Musical      0\n",
       "Thriller     0\n",
       "Music        0\n",
       "History      0\n",
       "Mystery      0\n",
       "Crime        1\n",
       "Comedy       0\n",
       "Animation    1\n",
       "Film-Noir    0\n",
       "Sci-Fi       4\n",
       "Biography    0\n",
       "Sport        0\n",
       "Western      0\n",
       "Romance      1\n",
       "Family       0\n",
       "Fantasy      1\n",
       "Horror       0\n",
       "dtype: int64"
      ]
     },
     "execution_count": 59,
     "metadata": {},
     "output_type": "execute_result"
    }
   ],
   "source": [
    "top_gross_movies = imdb_df.nlargest(10, 'Gross')[['Series_Title', 'Gross']]\n",
    "top_gross_movies_genres = imdb_df.loc[top_gross_movies.index, genre_columns]\n",
    "top_gross_genre_counts = top_gross_movies_genres.sum()\n",
    "top_gross_genre_counts\n"
   ]
  },
  {
   "cell_type": "code",
   "execution_count": 60,
   "id": "1d8a34f7",
   "metadata": {},
   "outputs": [
    {
     "data": {
      "image/png": "[encoded data removed]",
      "text/plain": [
       "<Figure size 1200x600 with 1 Axes>"
      ]
     },
     "metadata": {},
     "output_type": "display_data"
    }
   ],
   "source": [
    "fig, ax = plt.subplots(figsize=(12,6))\n",
    "top_gross_genre_counts.plot(kind='bar', x='Genre', y='Count', ax=ax, edgecolor='k', color='skyblue')\n",
    "plt.title('Genre Counts in Top 10 Grossing Movies')\n",
    "plt.xlabel('Genre')\n",
    "plt.ylabel('Count')\n",
    "plt.xticks(rotation=70)\n",
    "plt.show()"
   ]
  },
  {
   "cell_type": "markdown",
   "id": "af046f14",
   "metadata": {},
   "source": [
    "Observing the bar graph, it becomes apparent that the action and adventure genres are prominent among the top-grossing movies."
   ]
  },
  {
   "cell_type": "markdown",
   "id": "ae654526",
   "metadata": {},
   "source": [
    "### Which genres are most commonly featured in the top 10 IMDB rated movies?"
   ]
  },
  {
   "cell_type": "code",
   "execution_count": 61,
   "id": "02e4c60f",
   "metadata": {},
   "outputs": [],
   "source": [
    "top_rated_movies = imdb_df.nlargest(10, 'IMDB_Rating')[['Series_Title', 'Gross']]"
   ]
  },
  {
   "cell_type": "code",
   "execution_count": 62,
   "id": "6245168d",
   "metadata": {},
   "outputs": [
    {
     "data": {
      "text/plain": [
       "War          0\n",
       "Drama        9\n",
       "Action       3\n",
       "Adventure    2\n",
       "Musical      0\n",
       "Thriller     0\n",
       "Music        0\n",
       "History      1\n",
       "Mystery      0\n",
       "Crime        5\n",
       "Comedy       0\n",
       "Animation    0\n",
       "Film-Noir    0\n",
       "Sci-Fi       1\n",
       "Biography    1\n",
       "Sport        0\n",
       "Western      0\n",
       "Romance      0\n",
       "Family       0\n",
       "Fantasy      0\n",
       "Horror       0\n",
       "dtype: int64"
      ]
     },
     "execution_count": 62,
     "metadata": {},
     "output_type": "execute_result"
    }
   ],
   "source": [
    "top_rated_movies = imdb_df.nlargest(10, 'IMDB_Rating')[['Series_Title', 'Gross']]\n",
    "top_rated_movies_genres = imdb_df.loc[top_rated_movies.index, genre_columns]\n",
    "top_rated_genre_counts = top_rated_movies_genres.sum()\n",
    "top_rated_genre_counts\n"
   ]
  },
  {
   "cell_type": "code",
   "execution_count": 63,
   "id": "b09d218f",
   "metadata": {},
   "outputs": [
    {
     "data": {
      "image/png": "[encoded data removed]",
      "text/plain": [
       "<Figure size 1200x600 with 1 Axes>"
      ]
     },
     "metadata": {},
     "output_type": "display_data"
    }
   ],
   "source": [
    "fig, ax = plt.subplots(figsize=(12,6))\n",
    "top_rated_genre_counts.plot(kind='bar', x='Genre', y='Count', ax=ax, edgecolor='k', color='skyblue')\n",
    "plt.title('Genre Counts in Top 10 Rated Movies')\n",
    "plt.xlabel('Genre')\n",
    "plt.ylabel('Count')\n",
    "plt.xticks(rotation=70)\n",
    "plt.show()"
   ]
  },
  {
   "cell_type": "markdown",
   "id": "34762f27",
   "metadata": {},
   "source": [
    "From the bar graph, it becomes apparent that the drama genre is prevalent among top-rated movies."
   ]
  },
  {
   "cell_type": "markdown",
   "id": "e05d4136",
   "metadata": {},
   "source": [
    "### What is the average gross earning per genre?"
   ]
  },
  {
   "cell_type": "code",
   "execution_count": 64,
   "id": "d8b1b258",
   "metadata": {},
   "outputs": [
    {
     "data": {
      "text/plain": [
       "{'War': 46301635.21568628,\n",
       " 'Drama': 49914414.37292818,\n",
       " 'Action': 128457539.22751322,\n",
       " 'Adventure': 152771535.17857143,\n",
       " 'Musical': 28640871.529411763,\n",
       " 'Thriller': 60520928.525547445,\n",
       " 'Music': 34926264.942857146,\n",
       " 'History': 58440207.89285714,\n",
       " 'Mystery': 45328983.484848484,\n",
       " 'Crime': 45653705.57416268,\n",
       " 'Comedy': 64830004.8111588,\n",
       " 'Animation': 117004215.51219513,\n",
       " 'Film-Noir': 31466884.789473683,\n",
       " 'Sci-Fi': 140862966.0597015,\n",
       " 'Biography': 56780087.69724771,\n",
       " 'Sport': 53672020.10526316,\n",
       " 'Western': 56422020.4,\n",
       " 'Romance': 44344177.296,\n",
       " 'Family': 89375813.21428572,\n",
       " 'Fantasy': 102468040.25757575,\n",
       " 'Horror': 48762481.65625}"
      ]
     },
     "execution_count": 64,
     "metadata": {},
     "output_type": "execute_result"
    }
   ],
   "source": [
    "genre_gross_means = {}\n",
    "\n",
    "for x in genre_columns:\n",
    "    genre_gross_means[x] = imdb_df.groupby(x)['Gross'].mean()[1]\n",
    "\n",
    "genre_gross_means"
   ]
  },
  {
   "cell_type": "markdown",
   "id": "340a86ba",
   "metadata": {},
   "source": [
    "The average gross earnings per genre vary significantly. Genres like Animation, Adventure, and Science Fiction have some of the highest average earnings, while genres like Musical, Music, and Film-Noir have lower average earnings."
   ]
  },
  {
   "cell_type": "code",
   "execution_count": 65,
   "id": "5fb3227f",
   "metadata": {},
   "outputs": [
    {
     "data": {
      "image/png": "[encoded data removed]",
      "text/plain": [
       "<Figure size 1200x600 with 1 Axes>"
      ]
     },
     "metadata": {},
     "output_type": "display_data"
    }
   ],
   "source": [
    "plt.figure(figsize=(12,6)) \n",
    "plt.bar(genre_gross_means.keys(), genre_gross_means.values(), edgecolor='k', color='skyblue')\n",
    "plt.title('Average Gross Earnings by Genre')\n",
    "plt.xlabel('Genre')\n",
    "plt.ylabel('Average Gross Earnings')\n",
    "plt.xticks(rotation=70)\n",
    "plt.show()"
   ]
  },
  {
   "cell_type": "markdown",
   "id": "b5e17cda",
   "metadata": {},
   "source": [
    "Based on the bar graph, it becomes clear that the genres of action, adventure, animation, sci-fi, family, and fantasy yield notably high average gross earnings."
   ]
  },
  {
   "cell_type": "markdown",
   "id": "2192d635",
   "metadata": {},
   "source": [
    "## Research Question\n",
    "\n",
    "Following our exploratory data analysis, we sought to address the question:\n",
    "\n",
    "###  \"Are there particular combinations of genres that tend to perform exceptionally well financially, and can we identify patterns in these combinations?\"\n",
    "\n",
    "This question emerged as we identified significant variability in the gross earnings of movies in the dataset, with certain genres achieving notably high average gross earnings, many of which are prominently featured among the top-grossing films. \n",
    "\n",
    "Furthermore, our analysis delved into the financial performance of individual movie genres, prompting the need to explore how these genres interact and form combinations in relation to financial success. Additionally, our examination of the gross earnings for movies, the most common movie genres in the dataset, and the genres featured in the top 10 grossing and IMDb-rated movies directly emphasizes the exploration of the connection between genre combinations and financial performance. This approach broadens our understanding of how genre combinations influence the success of movies in the industry.\n",
    "\n",
    "By pursuing this research question, our objective is to offer valuable insights that can serve as a compass for filmmakers, studios, and producers in their decision-making process when choosing genre combinations for their projects. This, in turn, can help mitigate the uncertainties associated with production costs. Beyond optimizing genre selection, these insights can also illuminate the constantly shifting preferences of audiences and the intricate dynamics of the film industry. Our aim is to empower filmmakers with data-driven knowledge that can enhance their strategic decision-making and contribute to the vitality and adaptability of the film industry."
   ]
  },
  {
   "cell_type": "markdown",
   "id": "5d357339",
   "metadata": {},
   "source": [
    "## Data Modelling"
   ]
  },
  {
   "cell_type": "markdown",
   "id": "dc4e1a7e",
   "metadata": {},
   "source": [
    "### Association Rule Mining\n",
    "\n",
    "We start first with association rule mining to discover frequent patterns and associations between genre combinations and financial outcomes. This will help us identify which genres tend to co-occur in successful movies.\n",
    "\n",
    "To do this, we need to format the dataset as to which it would be accepted by the `apriori` module given by the `mlxtend` library."
   ]
  },
  {
   "cell_type": "code",
   "execution_count": 66,
   "id": "eb2b8123",
   "metadata": {
    "scrolled": true
   },
   "outputs": [
    {
     "name": "stdout",
     "output_type": "stream",
     "text": [
      "<class 'pandas.core.frame.DataFrame'>\n",
      "RangeIndex: 1000 entries, 0 to 999\n",
      "Data columns (total 32 columns):\n",
      " #   Column         Non-Null Count  Dtype  \n",
      "---  ------         --------------  -----  \n",
      " 0   Series_Title   1000 non-null   object \n",
      " 1   Released_Year  1000 non-null   int32  \n",
      " 2   Certificate    1000 non-null   object \n",
      " 3   Runtime        1000 non-null   int32  \n",
      " 4   Genre          1000 non-null   object \n",
      " 5   IMDB_Rating    1000 non-null   float64\n",
      " 6   Meta_score     1000 non-null   int32  \n",
      " 7   Director       1000 non-null   object \n",
      " 8   Stars          1000 non-null   object \n",
      " 9   No_of_Votes    1000 non-null   int64  \n",
      " 10  Gross          1000 non-null   int32  \n",
      " 11  Western        1000 non-null   bool   \n",
      " 12  Sport          1000 non-null   bool   \n",
      " 13  Animation      1000 non-null   bool   \n",
      " 14  Horror         1000 non-null   bool   \n",
      " 15  History        1000 non-null   bool   \n",
      " 16  Crime          1000 non-null   bool   \n",
      " 17  Fantasy        1000 non-null   bool   \n",
      " 18  Romance        1000 non-null   bool   \n",
      " 19  War            1000 non-null   bool   \n",
      " 20  Adventure      1000 non-null   bool   \n",
      " 21  Action         1000 non-null   bool   \n",
      " 22  Music          1000 non-null   bool   \n",
      " 23  Family         1000 non-null   bool   \n",
      " 24  Biography      1000 non-null   bool   \n",
      " 25  Film-Noir      1000 non-null   bool   \n",
      " 26  Comedy         1000 non-null   bool   \n",
      " 27  Sci-Fi         1000 non-null   bool   \n",
      " 28  Thriller       1000 non-null   bool   \n",
      " 29  Musical        1000 non-null   bool   \n",
      " 30  Drama          1000 non-null   bool   \n",
      " 31  Mystery        1000 non-null   bool   \n",
      "dtypes: bool(21), float64(1), int32(4), int64(1), object(5)\n",
      "memory usage: 90.9+ KB\n"
     ]
    }
   ],
   "source": [
    "imdb_df.info()"
   ]
  },
  {
   "cell_type": "markdown",
   "id": "a48731e1",
   "metadata": {},
   "source": [
    "As examined with the current state of the dataset, the genres are already formatted in one-hot encoding, however, we need to apply binning to the gross to be categorized as low, medium, and high before proceeding with applying association rule mining.\n",
    "\n",
    "To do this, we can use the function `qcut` which is a quantile-based discretization function. After doing so, we should also apply one-hot encoding for more flexibility that is to be used in the association rule mining in the latter part."
   ]
  },
  {
   "cell_type": "code",
   "execution_count": 67,
   "id": "9bad04df",
   "metadata": {
    "scrolled": true
   },
   "outputs": [
    {
     "name": "stdout",
     "output_type": "stream",
     "text": [
      "<class 'pandas.core.frame.DataFrame'>\n",
      "RangeIndex: 1000 entries, 0 to 999\n",
      "Data columns (total 36 columns):\n",
      " #   Column         Non-Null Count  Dtype   \n",
      "---  ------         --------------  -----   \n",
      " 0   Series_Title   1000 non-null   object  \n",
      " 1   Released_Year  1000 non-null   int32   \n",
      " 2   Certificate    1000 non-null   object  \n",
      " 3   Runtime        1000 non-null   int32   \n",
      " 4   Genre          1000 non-null   object  \n",
      " 5   IMDB_Rating    1000 non-null   float64 \n",
      " 6   Meta_score     1000 non-null   int32   \n",
      " 7   Director       1000 non-null   object  \n",
      " 8   Stars          1000 non-null   object  \n",
      " 9   No_of_Votes    1000 non-null   int64   \n",
      " 10  Gross          1000 non-null   int32   \n",
      " 11  Western        1000 non-null   bool    \n",
      " 12  Sport          1000 non-null   bool    \n",
      " 13  Animation      1000 non-null   bool    \n",
      " 14  Horror         1000 non-null   bool    \n",
      " 15  History        1000 non-null   bool    \n",
      " 16  Crime          1000 non-null   bool    \n",
      " 17  Fantasy        1000 non-null   bool    \n",
      " 18  Romance        1000 non-null   bool    \n",
      " 19  War            1000 non-null   bool    \n",
      " 20  Adventure      1000 non-null   bool    \n",
      " 21  Action         1000 non-null   bool    \n",
      " 22  Music          1000 non-null   bool    \n",
      " 23  Family         1000 non-null   bool    \n",
      " 24  Biography      1000 non-null   bool    \n",
      " 25  Film-Noir      1000 non-null   bool    \n",
      " 26  Comedy         1000 non-null   bool    \n",
      " 27  Sci-Fi         1000 non-null   bool    \n",
      " 28  Thriller       1000 non-null   bool    \n",
      " 29  Musical        1000 non-null   bool    \n",
      " 30  Drama          1000 non-null   bool    \n",
      " 31  Mystery        1000 non-null   bool    \n",
      " 32  gross_cat      1000 non-null   category\n",
      " 33  gross_low      1000 non-null   bool    \n",
      " 34  gross_medium   1000 non-null   bool    \n",
      " 35  gross_high     1000 non-null   bool    \n",
      "dtypes: bool(24), category(1), float64(1), int32(4), int64(1), object(5)\n",
      "memory usage: 95.0+ KB\n"
     ]
    }
   ],
   "source": [
    "imdb_df['gross_cat'] = pd.qcut(imdb_df['Gross'], q=3, labels=['low', 'medium', 'high'])\n",
    "\n",
    "one_hot_encoded = pd.get_dummies(imdb_df['gross_cat'], prefix='gross')\n",
    "\n",
    "imdb_df = pd.concat([imdb_df, one_hot_encoded], axis=1)\n",
    "\n",
    "imdb_df.info()"
   ]
  },
  {
   "cell_type": "markdown",
   "id": "5b4006a3",
   "metadata": {},
   "source": [
    "To know the frequent combinations that occur in this movie dataset, we need to drop unnecessary columns and only get the one-hot encoded genre columns."
   ]
  },
  {
   "cell_type": "code",
   "execution_count": 68,
   "id": "626bd5d7",
   "metadata": {},
   "outputs": [
    {
     "data": {
      "text/html": [
       "<div>\n",
       "<style scoped>\n",
       "    .dataframe tbody tr th:only-of-type {\n",
       "        vertical-align: middle;\n",
       "    }\n",
       "\n",
       "    .dataframe tbody tr th {\n",
       "        vertical-align: top;\n",
       "    }\n",
       "\n",
       "    .dataframe thead th {\n",
       "        text-align: right;\n",
       "    }\n",
       "</style>\n",
       "<table border=\"1\" class=\"dataframe\">\n",
       "  <thead>\n",
       "    <tr style=\"text-align: right;\">\n",
       "      <th></th>\n",
       "      <th>Western</th>\n",
       "      <th>Sport</th>\n",
       "      <th>Animation</th>\n",
       "      <th>Horror</th>\n",
       "      <th>History</th>\n",
       "      <th>Crime</th>\n",
       "      <th>Fantasy</th>\n",
       "      <th>Romance</th>\n",
       "      <th>War</th>\n",
       "      <th>Adventure</th>\n",
       "      <th>...</th>\n",
       "      <th>Music</th>\n",
       "      <th>Family</th>\n",
       "      <th>Biography</th>\n",
       "      <th>Film-Noir</th>\n",
       "      <th>Comedy</th>\n",
       "      <th>Sci-Fi</th>\n",
       "      <th>Thriller</th>\n",
       "      <th>Musical</th>\n",
       "      <th>Drama</th>\n",
       "      <th>Mystery</th>\n",
       "    </tr>\n",
       "  </thead>\n",
       "  <tbody>\n",
       "    <tr>\n",
       "      <th>0</th>\n",
       "      <td>False</td>\n",
       "      <td>False</td>\n",
       "      <td>False</td>\n",
       "      <td>False</td>\n",
       "      <td>False</td>\n",
       "      <td>False</td>\n",
       "      <td>False</td>\n",
       "      <td>False</td>\n",
       "      <td>False</td>\n",
       "      <td>False</td>\n",
       "      <td>...</td>\n",
       "      <td>False</td>\n",
       "      <td>False</td>\n",
       "      <td>False</td>\n",
       "      <td>False</td>\n",
       "      <td>False</td>\n",
       "      <td>False</td>\n",
       "      <td>False</td>\n",
       "      <td>False</td>\n",
       "      <td>True</td>\n",
       "      <td>False</td>\n",
       "    </tr>\n",
       "    <tr>\n",
       "      <th>1</th>\n",
       "      <td>False</td>\n",
       "      <td>False</td>\n",
       "      <td>False</td>\n",
       "      <td>False</td>\n",
       "      <td>False</td>\n",
       "      <td>True</td>\n",
       "      <td>False</td>\n",
       "      <td>False</td>\n",
       "      <td>False</td>\n",
       "      <td>False</td>\n",
       "      <td>...</td>\n",
       "      <td>False</td>\n",
       "      <td>False</td>\n",
       "      <td>False</td>\n",
       "      <td>False</td>\n",
       "      <td>False</td>\n",
       "      <td>False</td>\n",
       "      <td>False</td>\n",
       "      <td>False</td>\n",
       "      <td>True</td>\n",
       "      <td>False</td>\n",
       "    </tr>\n",
       "    <tr>\n",
       "      <th>2</th>\n",
       "      <td>False</td>\n",
       "      <td>False</td>\n",
       "      <td>False</td>\n",
       "      <td>False</td>\n",
       "      <td>False</td>\n",
       "      <td>True</td>\n",
       "      <td>False</td>\n",
       "      <td>False</td>\n",
       "      <td>False</td>\n",
       "      <td>False</td>\n",
       "      <td>...</td>\n",
       "      <td>False</td>\n",
       "      <td>False</td>\n",
       "      <td>False</td>\n",
       "      <td>False</td>\n",
       "      <td>False</td>\n",
       "      <td>False</td>\n",
       "      <td>False</td>\n",
       "      <td>False</td>\n",
       "      <td>True</td>\n",
       "      <td>False</td>\n",
       "    </tr>\n",
       "    <tr>\n",
       "      <th>3</th>\n",
       "      <td>False</td>\n",
       "      <td>False</td>\n",
       "      <td>False</td>\n",
       "      <td>False</td>\n",
       "      <td>False</td>\n",
       "      <td>True</td>\n",
       "      <td>False</td>\n",
       "      <td>False</td>\n",
       "      <td>False</td>\n",
       "      <td>False</td>\n",
       "      <td>...</td>\n",
       "      <td>False</td>\n",
       "      <td>False</td>\n",
       "      <td>False</td>\n",
       "      <td>False</td>\n",
       "      <td>False</td>\n",
       "      <td>False</td>\n",
       "      <td>False</td>\n",
       "      <td>False</td>\n",
       "      <td>True</td>\n",
       "      <td>False</td>\n",
       "    </tr>\n",
       "    <tr>\n",
       "      <th>4</th>\n",
       "      <td>False</td>\n",
       "      <td>False</td>\n",
       "      <td>False</td>\n",
       "      <td>False</td>\n",
       "      <td>False</td>\n",
       "      <td>True</td>\n",
       "      <td>False</td>\n",
       "      <td>False</td>\n",
       "      <td>False</td>\n",
       "      <td>False</td>\n",
       "      <td>...</td>\n",
       "      <td>False</td>\n",
       "      <td>False</td>\n",
       "      <td>False</td>\n",
       "      <td>False</td>\n",
       "      <td>False</td>\n",
       "      <td>False</td>\n",
       "      <td>False</td>\n",
       "      <td>False</td>\n",
       "      <td>True</td>\n",
       "      <td>False</td>\n",
       "    </tr>\n",
       "    <tr>\n",
       "      <th>5</th>\n",
       "      <td>False</td>\n",
       "      <td>False</td>\n",
       "      <td>False</td>\n",
       "      <td>False</td>\n",
       "      <td>False</td>\n",
       "      <td>False</td>\n",
       "      <td>False</td>\n",
       "      <td>False</td>\n",
       "      <td>False</td>\n",
       "      <td>True</td>\n",
       "      <td>...</td>\n",
       "      <td>False</td>\n",
       "      <td>False</td>\n",
       "      <td>False</td>\n",
       "      <td>False</td>\n",
       "      <td>False</td>\n",
       "      <td>False</td>\n",
       "      <td>False</td>\n",
       "      <td>False</td>\n",
       "      <td>True</td>\n",
       "      <td>False</td>\n",
       "    </tr>\n",
       "    <tr>\n",
       "      <th>6</th>\n",
       "      <td>False</td>\n",
       "      <td>False</td>\n",
       "      <td>False</td>\n",
       "      <td>False</td>\n",
       "      <td>False</td>\n",
       "      <td>True</td>\n",
       "      <td>False</td>\n",
       "      <td>False</td>\n",
       "      <td>False</td>\n",
       "      <td>False</td>\n",
       "      <td>...</td>\n",
       "      <td>False</td>\n",
       "      <td>False</td>\n",
       "      <td>False</td>\n",
       "      <td>False</td>\n",
       "      <td>False</td>\n",
       "      <td>False</td>\n",
       "      <td>False</td>\n",
       "      <td>False</td>\n",
       "      <td>True</td>\n",
       "      <td>False</td>\n",
       "    </tr>\n",
       "    <tr>\n",
       "      <th>7</th>\n",
       "      <td>False</td>\n",
       "      <td>False</td>\n",
       "      <td>False</td>\n",
       "      <td>False</td>\n",
       "      <td>True</td>\n",
       "      <td>False</td>\n",
       "      <td>False</td>\n",
       "      <td>False</td>\n",
       "      <td>False</td>\n",
       "      <td>False</td>\n",
       "      <td>...</td>\n",
       "      <td>False</td>\n",
       "      <td>False</td>\n",
       "      <td>True</td>\n",
       "      <td>False</td>\n",
       "      <td>False</td>\n",
       "      <td>False</td>\n",
       "      <td>False</td>\n",
       "      <td>False</td>\n",
       "      <td>True</td>\n",
       "      <td>False</td>\n",
       "    </tr>\n",
       "    <tr>\n",
       "      <th>8</th>\n",
       "      <td>False</td>\n",
       "      <td>False</td>\n",
       "      <td>False</td>\n",
       "      <td>False</td>\n",
       "      <td>False</td>\n",
       "      <td>False</td>\n",
       "      <td>False</td>\n",
       "      <td>False</td>\n",
       "      <td>False</td>\n",
       "      <td>True</td>\n",
       "      <td>...</td>\n",
       "      <td>False</td>\n",
       "      <td>False</td>\n",
       "      <td>False</td>\n",
       "      <td>False</td>\n",
       "      <td>False</td>\n",
       "      <td>True</td>\n",
       "      <td>False</td>\n",
       "      <td>False</td>\n",
       "      <td>False</td>\n",
       "      <td>False</td>\n",
       "    </tr>\n",
       "    <tr>\n",
       "      <th>9</th>\n",
       "      <td>False</td>\n",
       "      <td>False</td>\n",
       "      <td>False</td>\n",
       "      <td>False</td>\n",
       "      <td>False</td>\n",
       "      <td>False</td>\n",
       "      <td>False</td>\n",
       "      <td>False</td>\n",
       "      <td>False</td>\n",
       "      <td>False</td>\n",
       "      <td>...</td>\n",
       "      <td>False</td>\n",
       "      <td>False</td>\n",
       "      <td>False</td>\n",
       "      <td>False</td>\n",
       "      <td>False</td>\n",
       "      <td>False</td>\n",
       "      <td>False</td>\n",
       "      <td>False</td>\n",
       "      <td>True</td>\n",
       "      <td>False</td>\n",
       "    </tr>\n",
       "  </tbody>\n",
       "</table>\n",
       "<p>10 rows × 21 columns</p>\n",
       "</div>"
      ],
      "text/plain": [
       "   Western  Sport  Animation  Horror  History  Crime  Fantasy  Romance    War   \n",
       "0    False  False      False   False    False  False    False    False  False  \\\n",
       "1    False  False      False   False    False   True    False    False  False   \n",
       "2    False  False      False   False    False   True    False    False  False   \n",
       "3    False  False      False   False    False   True    False    False  False   \n",
       "4    False  False      False   False    False   True    False    False  False   \n",
       "5    False  False      False   False    False  False    False    False  False   \n",
       "6    False  False      False   False    False   True    False    False  False   \n",
       "7    False  False      False   False     True  False    False    False  False   \n",
       "8    False  False      False   False    False  False    False    False  False   \n",
       "9    False  False      False   False    False  False    False    False  False   \n",
       "\n",
       "   Adventure  ...  Music  Family  Biography  Film-Noir  Comedy  Sci-Fi   \n",
       "0      False  ...  False   False      False      False   False   False  \\\n",
       "1      False  ...  False   False      False      False   False   False   \n",
       "2      False  ...  False   False      False      False   False   False   \n",
       "3      False  ...  False   False      False      False   False   False   \n",
       "4      False  ...  False   False      False      False   False   False   \n",
       "5       True  ...  False   False      False      False   False   False   \n",
       "6      False  ...  False   False      False      False   False   False   \n",
       "7      False  ...  False   False       True      False   False   False   \n",
       "8       True  ...  False   False      False      False   False    True   \n",
       "9      False  ...  False   False      False      False   False   False   \n",
       "\n",
       "   Thriller  Musical  Drama  Mystery  \n",
       "0     False    False   True    False  \n",
       "1     False    False   True    False  \n",
       "2     False    False   True    False  \n",
       "3     False    False   True    False  \n",
       "4     False    False   True    False  \n",
       "5     False    False   True    False  \n",
       "6     False    False   True    False  \n",
       "7     False    False   True    False  \n",
       "8     False    False  False    False  \n",
       "9     False    False   True    False  \n",
       "\n",
       "[10 rows x 21 columns]"
      ]
     },
     "execution_count": 68,
     "metadata": {},
     "output_type": "execute_result"
    }
   ],
   "source": [
    "columns_to_drop = ['Series_Title','gross_cat', 'gross_low', 'gross_medium', 'gross_high','Released_Year', 'Gross', 'Certificate', 'Runtime', 'Genre', 'IMDB_Rating', 'Meta_score', 'Director', 'Stars', 'No_of_Votes'] \n",
    "\n",
    "genres_df = imdb_df.drop(columns=columns_to_drop, axis=1)\n",
    "\n",
    "genres_df.head(10)"
   ]
  },
  {
   "cell_type": "markdown",
   "id": "7d834970",
   "metadata": {},
   "source": [
    "Now that we have this `DataFrame` , we can now use `apriori` to find the frequent combinations of genres. We set the `min_support` to 0.02."
   ]
  },
  {
   "cell_type": "code",
   "execution_count": 69,
   "id": "6486e311",
   "metadata": {
    "scrolled": true
   },
   "outputs": [
    {
     "data": {
      "text/html": [
       "<div>\n",
       "<style scoped>\n",
       "    .dataframe tbody tr th:only-of-type {\n",
       "        vertical-align: middle;\n",
       "    }\n",
       "\n",
       "    .dataframe tbody tr th {\n",
       "        vertical-align: top;\n",
       "    }\n",
       "\n",
       "    .dataframe thead th {\n",
       "        text-align: right;\n",
       "    }\n",
       "</style>\n",
       "<table border=\"1\" class=\"dataframe\">\n",
       "  <thead>\n",
       "    <tr style=\"text-align: right;\">\n",
       "      <th></th>\n",
       "      <th>support</th>\n",
       "      <th>itemsets</th>\n",
       "    </tr>\n",
       "  </thead>\n",
       "  <tbody>\n",
       "    <tr>\n",
       "      <th>0</th>\n",
       "      <td>0.020</td>\n",
       "      <td>(Western)</td>\n",
       "    </tr>\n",
       "    <tr>\n",
       "      <th>1</th>\n",
       "      <td>0.082</td>\n",
       "      <td>(Animation)</td>\n",
       "    </tr>\n",
       "    <tr>\n",
       "      <th>2</th>\n",
       "      <td>0.032</td>\n",
       "      <td>(Horror)</td>\n",
       "    </tr>\n",
       "    <tr>\n",
       "      <th>3</th>\n",
       "      <td>0.056</td>\n",
       "      <td>(History)</td>\n",
       "    </tr>\n",
       "    <tr>\n",
       "      <th>4</th>\n",
       "      <td>0.209</td>\n",
       "      <td>(Crime)</td>\n",
       "    </tr>\n",
       "    <tr>\n",
       "      <th>5</th>\n",
       "      <td>0.066</td>\n",
       "      <td>(Fantasy)</td>\n",
       "    </tr>\n",
       "    <tr>\n",
       "      <th>6</th>\n",
       "      <td>0.125</td>\n",
       "      <td>(Romance)</td>\n",
       "    </tr>\n",
       "    <tr>\n",
       "      <th>7</th>\n",
       "      <td>0.051</td>\n",
       "      <td>(War)</td>\n",
       "    </tr>\n",
       "    <tr>\n",
       "      <th>8</th>\n",
       "      <td>0.196</td>\n",
       "      <td>(Adventure)</td>\n",
       "    </tr>\n",
       "    <tr>\n",
       "      <th>9</th>\n",
       "      <td>0.189</td>\n",
       "      <td>(Action)</td>\n",
       "    </tr>\n",
       "    <tr>\n",
       "      <th>10</th>\n",
       "      <td>0.035</td>\n",
       "      <td>(Music)</td>\n",
       "    </tr>\n",
       "    <tr>\n",
       "      <th>11</th>\n",
       "      <td>0.056</td>\n",
       "      <td>(Family)</td>\n",
       "    </tr>\n",
       "    <tr>\n",
       "      <th>12</th>\n",
       "      <td>0.109</td>\n",
       "      <td>(Biography)</td>\n",
       "    </tr>\n",
       "    <tr>\n",
       "      <th>13</th>\n",
       "      <td>0.233</td>\n",
       "      <td>(Comedy)</td>\n",
       "    </tr>\n",
       "    <tr>\n",
       "      <th>14</th>\n",
       "      <td>0.067</td>\n",
       "      <td>(Sci-Fi)</td>\n",
       "    </tr>\n",
       "    <tr>\n",
       "      <th>15</th>\n",
       "      <td>0.137</td>\n",
       "      <td>(Thriller)</td>\n",
       "    </tr>\n",
       "    <tr>\n",
       "      <th>16</th>\n",
       "      <td>0.724</td>\n",
       "      <td>(Drama)</td>\n",
       "    </tr>\n",
       "    <tr>\n",
       "      <th>17</th>\n",
       "      <td>0.099</td>\n",
       "      <td>(Mystery)</td>\n",
       "    </tr>\n",
       "    <tr>\n",
       "      <th>18</th>\n",
       "      <td>0.052</td>\n",
       "      <td>(Animation, Adventure)</td>\n",
       "    </tr>\n",
       "    <tr>\n",
       "      <th>19</th>\n",
       "      <td>0.028</td>\n",
       "      <td>(Animation, Comedy)</td>\n",
       "    </tr>\n",
       "    <tr>\n",
       "      <th>20</th>\n",
       "      <td>0.022</td>\n",
       "      <td>(Drama, Animation)</td>\n",
       "    </tr>\n",
       "    <tr>\n",
       "      <th>21</th>\n",
       "      <td>0.028</td>\n",
       "      <td>(History, Biography)</td>\n",
       "    </tr>\n",
       "    <tr>\n",
       "      <th>22</th>\n",
       "      <td>0.054</td>\n",
       "      <td>(Drama, History)</td>\n",
       "    </tr>\n",
       "    <tr>\n",
       "      <th>23</th>\n",
       "      <td>0.055</td>\n",
       "      <td>(Action, Crime)</td>\n",
       "    </tr>\n",
       "    <tr>\n",
       "      <th>24</th>\n",
       "      <td>0.021</td>\n",
       "      <td>(Biography, Crime)</td>\n",
       "    </tr>\n",
       "    <tr>\n",
       "      <th>25</th>\n",
       "      <td>0.035</td>\n",
       "      <td>(Crime, Comedy)</td>\n",
       "    </tr>\n",
       "    <tr>\n",
       "      <th>26</th>\n",
       "      <td>0.046</td>\n",
       "      <td>(Thriller, Crime)</td>\n",
       "    </tr>\n",
       "    <tr>\n",
       "      <th>27</th>\n",
       "      <td>0.160</td>\n",
       "      <td>(Drama, Crime)</td>\n",
       "    </tr>\n",
       "    <tr>\n",
       "      <th>28</th>\n",
       "      <td>0.034</td>\n",
       "      <td>(Mystery, Crime)</td>\n",
       "    </tr>\n",
       "    <tr>\n",
       "      <th>29</th>\n",
       "      <td>0.024</td>\n",
       "      <td>(Adventure, Fantasy)</td>\n",
       "    </tr>\n",
       "    <tr>\n",
       "      <th>30</th>\n",
       "      <td>0.031</td>\n",
       "      <td>(Drama, Fantasy)</td>\n",
       "    </tr>\n",
       "    <tr>\n",
       "      <th>31</th>\n",
       "      <td>0.048</td>\n",
       "      <td>(Romance, Comedy)</td>\n",
       "    </tr>\n",
       "    <tr>\n",
       "      <th>32</th>\n",
       "      <td>0.106</td>\n",
       "      <td>(Drama, Romance)</td>\n",
       "    </tr>\n",
       "    <tr>\n",
       "      <th>33</th>\n",
       "      <td>0.044</td>\n",
       "      <td>(Drama, War)</td>\n",
       "    </tr>\n",
       "    <tr>\n",
       "      <th>34</th>\n",
       "      <td>0.083</td>\n",
       "      <td>(Action, Adventure)</td>\n",
       "    </tr>\n",
       "    <tr>\n",
       "      <th>35</th>\n",
       "      <td>0.020</td>\n",
       "      <td>(Family, Adventure)</td>\n",
       "    </tr>\n",
       "    <tr>\n",
       "      <th>36</th>\n",
       "      <td>0.054</td>\n",
       "      <td>(Adventure, Comedy)</td>\n",
       "    </tr>\n",
       "    <tr>\n",
       "      <th>37</th>\n",
       "      <td>0.030</td>\n",
       "      <td>(Sci-Fi, Adventure)</td>\n",
       "    </tr>\n",
       "    <tr>\n",
       "      <th>38</th>\n",
       "      <td>0.065</td>\n",
       "      <td>(Drama, Adventure)</td>\n",
       "    </tr>\n",
       "    <tr>\n",
       "      <th>39</th>\n",
       "      <td>0.023</td>\n",
       "      <td>(Action, Comedy)</td>\n",
       "    </tr>\n",
       "    <tr>\n",
       "      <th>40</th>\n",
       "      <td>0.029</td>\n",
       "      <td>(Action, Sci-Fi)</td>\n",
       "    </tr>\n",
       "    <tr>\n",
       "      <th>41</th>\n",
       "      <td>0.027</td>\n",
       "      <td>(Thriller, Action)</td>\n",
       "    </tr>\n",
       "    <tr>\n",
       "      <th>42</th>\n",
       "      <td>0.077</td>\n",
       "      <td>(Drama, Action)</td>\n",
       "    </tr>\n",
       "    <tr>\n",
       "      <th>43</th>\n",
       "      <td>0.031</td>\n",
       "      <td>(Drama, Music)</td>\n",
       "    </tr>\n",
       "    <tr>\n",
       "      <th>44</th>\n",
       "      <td>0.025</td>\n",
       "      <td>(Drama, Family)</td>\n",
       "    </tr>\n",
       "    <tr>\n",
       "      <th>45</th>\n",
       "      <td>0.103</td>\n",
       "      <td>(Drama, Biography)</td>\n",
       "    </tr>\n",
       "    <tr>\n",
       "      <th>46</th>\n",
       "      <td>0.123</td>\n",
       "      <td>(Drama, Comedy)</td>\n",
       "    </tr>\n",
       "    <tr>\n",
       "      <th>47</th>\n",
       "      <td>0.027</td>\n",
       "      <td>(Drama, Sci-Fi)</td>\n",
       "    </tr>\n",
       "    <tr>\n",
       "      <th>48</th>\n",
       "      <td>0.083</td>\n",
       "      <td>(Thriller, Drama)</td>\n",
       "    </tr>\n",
       "    <tr>\n",
       "      <th>49</th>\n",
       "      <td>0.033</td>\n",
       "      <td>(Thriller, Mystery)</td>\n",
       "    </tr>\n",
       "    <tr>\n",
       "      <th>50</th>\n",
       "      <td>0.065</td>\n",
       "      <td>(Drama, Mystery)</td>\n",
       "    </tr>\n",
       "    <tr>\n",
       "      <th>51</th>\n",
       "      <td>0.024</td>\n",
       "      <td>(Animation, Adventure, Comedy)</td>\n",
       "    </tr>\n",
       "    <tr>\n",
       "      <th>52</th>\n",
       "      <td>0.028</td>\n",
       "      <td>(Drama, History, Biography)</td>\n",
       "    </tr>\n",
       "    <tr>\n",
       "      <th>53</th>\n",
       "      <td>0.030</td>\n",
       "      <td>(Drama, Action, Crime)</td>\n",
       "    </tr>\n",
       "    <tr>\n",
       "      <th>54</th>\n",
       "      <td>0.028</td>\n",
       "      <td>(Thriller, Drama, Crime)</td>\n",
       "    </tr>\n",
       "    <tr>\n",
       "      <th>55</th>\n",
       "      <td>0.027</td>\n",
       "      <td>(Drama, Mystery, Crime)</td>\n",
       "    </tr>\n",
       "    <tr>\n",
       "      <th>56</th>\n",
       "      <td>0.031</td>\n",
       "      <td>(Drama, Romance, Comedy)</td>\n",
       "    </tr>\n",
       "    <tr>\n",
       "      <th>57</th>\n",
       "      <td>0.021</td>\n",
       "      <td>(Action, Sci-Fi, Adventure)</td>\n",
       "    </tr>\n",
       "  </tbody>\n",
       "</table>\n",
       "</div>"
      ],
      "text/plain": [
       "    support                        itemsets\n",
       "0     0.020                       (Western)\n",
       "1     0.082                     (Animation)\n",
       "2     0.032                        (Horror)\n",
       "3     0.056                       (History)\n",
       "4     0.209                         (Crime)\n",
       "5     0.066                       (Fantasy)\n",
       "6     0.125                       (Romance)\n",
       "7     0.051                           (War)\n",
       "8     0.196                     (Adventure)\n",
       "9     0.189                        (Action)\n",
       "10    0.035                         (Music)\n",
       "11    0.056                        (Family)\n",
       "12    0.109                     (Biography)\n",
       "13    0.233                        (Comedy)\n",
       "14    0.067                        (Sci-Fi)\n",
       "15    0.137                      (Thriller)\n",
       "16    0.724                         (Drama)\n",
       "17    0.099                       (Mystery)\n",
       "18    0.052          (Animation, Adventure)\n",
       "19    0.028             (Animation, Comedy)\n",
       "20    0.022              (Drama, Animation)\n",
       "21    0.028            (History, Biography)\n",
       "22    0.054                (Drama, History)\n",
       "23    0.055                 (Action, Crime)\n",
       "24    0.021              (Biography, Crime)\n",
       "25    0.035                 (Crime, Comedy)\n",
       "26    0.046               (Thriller, Crime)\n",
       "27    0.160                  (Drama, Crime)\n",
       "28    0.034                (Mystery, Crime)\n",
       "29    0.024            (Adventure, Fantasy)\n",
       "30    0.031                (Drama, Fantasy)\n",
       "31    0.048               (Romance, Comedy)\n",
       "32    0.106                (Drama, Romance)\n",
       "33    0.044                    (Drama, War)\n",
       "34    0.083             (Action, Adventure)\n",
       "35    0.020             (Family, Adventure)\n",
       "36    0.054             (Adventure, Comedy)\n",
       "37    0.030             (Sci-Fi, Adventure)\n",
       "38    0.065              (Drama, Adventure)\n",
       "39    0.023                (Action, Comedy)\n",
       "40    0.029                (Action, Sci-Fi)\n",
       "41    0.027              (Thriller, Action)\n",
       "42    0.077                 (Drama, Action)\n",
       "43    0.031                  (Drama, Music)\n",
       "44    0.025                 (Drama, Family)\n",
       "45    0.103              (Drama, Biography)\n",
       "46    0.123                 (Drama, Comedy)\n",
       "47    0.027                 (Drama, Sci-Fi)\n",
       "48    0.083               (Thriller, Drama)\n",
       "49    0.033             (Thriller, Mystery)\n",
       "50    0.065                (Drama, Mystery)\n",
       "51    0.024  (Animation, Adventure, Comedy)\n",
       "52    0.028     (Drama, History, Biography)\n",
       "53    0.030          (Drama, Action, Crime)\n",
       "54    0.028        (Thriller, Drama, Crime)\n",
       "55    0.027         (Drama, Mystery, Crime)\n",
       "56    0.031        (Drama, Romance, Comedy)\n",
       "57    0.021     (Action, Sci-Fi, Adventure)"
      ]
     },
     "execution_count": 69,
     "metadata": {},
     "output_type": "execute_result"
    }
   ],
   "source": [
    "frequent_is = apriori(genres_df, min_support=0.02, use_colnames=True)\n",
    "frequent_is"
   ]
  },
  {
   "cell_type": "markdown",
   "id": "d493aaa0",
   "metadata": {},
   "source": [
    "After getting the support, we can now get the association rule for this, wherein we set the `min_threshold` to 0.6"
   ]
  },
  {
   "cell_type": "code",
   "execution_count": 70,
   "id": "9bcb783d",
   "metadata": {
    "scrolled": true
   },
   "outputs": [
    {
     "data": {
      "text/html": [
       "<div>\n",
       "<style scoped>\n",
       "    .dataframe tbody tr th:only-of-type {\n",
       "        vertical-align: middle;\n",
       "    }\n",
       "\n",
       "    .dataframe tbody tr th {\n",
       "        vertical-align: top;\n",
       "    }\n",
       "\n",
       "    .dataframe thead th {\n",
       "        text-align: right;\n",
       "    }\n",
       "</style>\n",
       "<table border=\"1\" class=\"dataframe\">\n",
       "  <thead>\n",
       "    <tr style=\"text-align: right;\">\n",
       "      <th></th>\n",
       "      <th>antecedents</th>\n",
       "      <th>consequents</th>\n",
       "      <th>antecedent support</th>\n",
       "      <th>consequent support</th>\n",
       "      <th>support</th>\n",
       "      <th>confidence</th>\n",
       "      <th>lift</th>\n",
       "      <th>leverage</th>\n",
       "      <th>conviction</th>\n",
       "      <th>zhangs_metric</th>\n",
       "    </tr>\n",
       "  </thead>\n",
       "  <tbody>\n",
       "    <tr>\n",
       "      <th>0</th>\n",
       "      <td>(Animation)</td>\n",
       "      <td>(Adventure)</td>\n",
       "      <td>0.082</td>\n",
       "      <td>0.196</td>\n",
       "      <td>0.052</td>\n",
       "      <td>0.634146</td>\n",
       "      <td>3.235441</td>\n",
       "      <td>0.035928</td>\n",
       "      <td>2.197600</td>\n",
       "      <td>0.752640</td>\n",
       "    </tr>\n",
       "    <tr>\n",
       "      <th>1</th>\n",
       "      <td>(History)</td>\n",
       "      <td>(Drama)</td>\n",
       "      <td>0.056</td>\n",
       "      <td>0.724</td>\n",
       "      <td>0.054</td>\n",
       "      <td>0.964286</td>\n",
       "      <td>1.331886</td>\n",
       "      <td>0.013456</td>\n",
       "      <td>7.728000</td>\n",
       "      <td>0.263967</td>\n",
       "    </tr>\n",
       "    <tr>\n",
       "      <th>2</th>\n",
       "      <td>(Crime)</td>\n",
       "      <td>(Drama)</td>\n",
       "      <td>0.209</td>\n",
       "      <td>0.724</td>\n",
       "      <td>0.160</td>\n",
       "      <td>0.765550</td>\n",
       "      <td>1.057390</td>\n",
       "      <td>0.008684</td>\n",
       "      <td>1.177224</td>\n",
       "      <td>0.068616</td>\n",
       "    </tr>\n",
       "    <tr>\n",
       "      <th>3</th>\n",
       "      <td>(Romance)</td>\n",
       "      <td>(Drama)</td>\n",
       "      <td>0.125</td>\n",
       "      <td>0.724</td>\n",
       "      <td>0.106</td>\n",
       "      <td>0.848000</td>\n",
       "      <td>1.171271</td>\n",
       "      <td>0.015500</td>\n",
       "      <td>1.815789</td>\n",
       "      <td>0.167116</td>\n",
       "    </tr>\n",
       "    <tr>\n",
       "      <th>4</th>\n",
       "      <td>(War)</td>\n",
       "      <td>(Drama)</td>\n",
       "      <td>0.051</td>\n",
       "      <td>0.724</td>\n",
       "      <td>0.044</td>\n",
       "      <td>0.862745</td>\n",
       "      <td>1.191637</td>\n",
       "      <td>0.007076</td>\n",
       "      <td>2.010857</td>\n",
       "      <td>0.169461</td>\n",
       "    </tr>\n",
       "    <tr>\n",
       "      <th>5</th>\n",
       "      <td>(Music)</td>\n",
       "      <td>(Drama)</td>\n",
       "      <td>0.035</td>\n",
       "      <td>0.724</td>\n",
       "      <td>0.031</td>\n",
       "      <td>0.885714</td>\n",
       "      <td>1.223362</td>\n",
       "      <td>0.005660</td>\n",
       "      <td>2.415000</td>\n",
       "      <td>0.189203</td>\n",
       "    </tr>\n",
       "    <tr>\n",
       "      <th>6</th>\n",
       "      <td>(Biography)</td>\n",
       "      <td>(Drama)</td>\n",
       "      <td>0.109</td>\n",
       "      <td>0.724</td>\n",
       "      <td>0.103</td>\n",
       "      <td>0.944954</td>\n",
       "      <td>1.305185</td>\n",
       "      <td>0.024084</td>\n",
       "      <td>5.014000</td>\n",
       "      <td>0.262430</td>\n",
       "    </tr>\n",
       "    <tr>\n",
       "      <th>7</th>\n",
       "      <td>(Thriller)</td>\n",
       "      <td>(Drama)</td>\n",
       "      <td>0.137</td>\n",
       "      <td>0.724</td>\n",
       "      <td>0.083</td>\n",
       "      <td>0.605839</td>\n",
       "      <td>0.836795</td>\n",
       "      <td>-0.016188</td>\n",
       "      <td>0.700222</td>\n",
       "      <td>-0.184338</td>\n",
       "    </tr>\n",
       "    <tr>\n",
       "      <th>8</th>\n",
       "      <td>(Mystery)</td>\n",
       "      <td>(Drama)</td>\n",
       "      <td>0.099</td>\n",
       "      <td>0.724</td>\n",
       "      <td>0.065</td>\n",
       "      <td>0.656566</td>\n",
       "      <td>0.906859</td>\n",
       "      <td>-0.006676</td>\n",
       "      <td>0.803647</td>\n",
       "      <td>-0.102328</td>\n",
       "    </tr>\n",
       "    <tr>\n",
       "      <th>9</th>\n",
       "      <td>(Animation, Comedy)</td>\n",
       "      <td>(Adventure)</td>\n",
       "      <td>0.028</td>\n",
       "      <td>0.196</td>\n",
       "      <td>0.024</td>\n",
       "      <td>0.857143</td>\n",
       "      <td>4.373178</td>\n",
       "      <td>0.018512</td>\n",
       "      <td>5.628000</td>\n",
       "      <td>0.793553</td>\n",
       "    </tr>\n",
       "    <tr>\n",
       "      <th>10</th>\n",
       "      <td>(History, Biography)</td>\n",
       "      <td>(Drama)</td>\n",
       "      <td>0.028</td>\n",
       "      <td>0.724</td>\n",
       "      <td>0.028</td>\n",
       "      <td>1.000000</td>\n",
       "      <td>1.381215</td>\n",
       "      <td>0.007728</td>\n",
       "      <td>inf</td>\n",
       "      <td>0.283951</td>\n",
       "    </tr>\n",
       "    <tr>\n",
       "      <th>11</th>\n",
       "      <td>(Thriller, Crime)</td>\n",
       "      <td>(Drama)</td>\n",
       "      <td>0.046</td>\n",
       "      <td>0.724</td>\n",
       "      <td>0.028</td>\n",
       "      <td>0.608696</td>\n",
       "      <td>0.840740</td>\n",
       "      <td>-0.005304</td>\n",
       "      <td>0.705333</td>\n",
       "      <td>-0.165667</td>\n",
       "    </tr>\n",
       "    <tr>\n",
       "      <th>12</th>\n",
       "      <td>(Mystery, Crime)</td>\n",
       "      <td>(Drama)</td>\n",
       "      <td>0.034</td>\n",
       "      <td>0.724</td>\n",
       "      <td>0.027</td>\n",
       "      <td>0.794118</td>\n",
       "      <td>1.096848</td>\n",
       "      <td>0.002384</td>\n",
       "      <td>1.340571</td>\n",
       "      <td>0.091404</td>\n",
       "    </tr>\n",
       "    <tr>\n",
       "      <th>13</th>\n",
       "      <td>(Romance, Comedy)</td>\n",
       "      <td>(Drama)</td>\n",
       "      <td>0.048</td>\n",
       "      <td>0.724</td>\n",
       "      <td>0.031</td>\n",
       "      <td>0.645833</td>\n",
       "      <td>0.892035</td>\n",
       "      <td>-0.003752</td>\n",
       "      <td>0.779294</td>\n",
       "      <td>-0.112795</td>\n",
       "    </tr>\n",
       "    <tr>\n",
       "      <th>14</th>\n",
       "      <td>(Action, Sci-Fi)</td>\n",
       "      <td>(Adventure)</td>\n",
       "      <td>0.029</td>\n",
       "      <td>0.196</td>\n",
       "      <td>0.021</td>\n",
       "      <td>0.724138</td>\n",
       "      <td>3.694581</td>\n",
       "      <td>0.015316</td>\n",
       "      <td>2.914500</td>\n",
       "      <td>0.751116</td>\n",
       "    </tr>\n",
       "    <tr>\n",
       "      <th>15</th>\n",
       "      <td>(Sci-Fi, Adventure)</td>\n",
       "      <td>(Action)</td>\n",
       "      <td>0.030</td>\n",
       "      <td>0.189</td>\n",
       "      <td>0.021</td>\n",
       "      <td>0.700000</td>\n",
       "      <td>3.703704</td>\n",
       "      <td>0.015330</td>\n",
       "      <td>2.703333</td>\n",
       "      <td>0.752577</td>\n",
       "    </tr>\n",
       "  </tbody>\n",
       "</table>\n",
       "</div>"
      ],
      "text/plain": [
       "             antecedents  consequents  antecedent support  consequent support   \n",
       "0            (Animation)  (Adventure)               0.082               0.196  \\\n",
       "1              (History)      (Drama)               0.056               0.724   \n",
       "2                (Crime)      (Drama)               0.209               0.724   \n",
       "3              (Romance)      (Drama)               0.125               0.724   \n",
       "4                  (War)      (Drama)               0.051               0.724   \n",
       "5                (Music)      (Drama)               0.035               0.724   \n",
       "6            (Biography)      (Drama)               0.109               0.724   \n",
       "7             (Thriller)      (Drama)               0.137               0.724   \n",
       "8              (Mystery)      (Drama)               0.099               0.724   \n",
       "9    (Animation, Comedy)  (Adventure)               0.028               0.196   \n",
       "10  (History, Biography)      (Drama)               0.028               0.724   \n",
       "11     (Thriller, Crime)      (Drama)               0.046               0.724   \n",
       "12      (Mystery, Crime)      (Drama)               0.034               0.724   \n",
       "13     (Romance, Comedy)      (Drama)               0.048               0.724   \n",
       "14      (Action, Sci-Fi)  (Adventure)               0.029               0.196   \n",
       "15   (Sci-Fi, Adventure)     (Action)               0.030               0.189   \n",
       "\n",
       "    support  confidence      lift  leverage  conviction  zhangs_metric  \n",
       "0     0.052    0.634146  3.235441  0.035928    2.197600       0.752640  \n",
       "1     0.054    0.964286  1.331886  0.013456    7.728000       0.263967  \n",
       "2     0.160    0.765550  1.057390  0.008684    1.177224       0.068616  \n",
       "3     0.106    0.848000  1.171271  0.015500    1.815789       0.167116  \n",
       "4     0.044    0.862745  1.191637  0.007076    2.010857       0.169461  \n",
       "5     0.031    0.885714  1.223362  0.005660    2.415000       0.189203  \n",
       "6     0.103    0.944954  1.305185  0.024084    5.014000       0.262430  \n",
       "7     0.083    0.605839  0.836795 -0.016188    0.700222      -0.184338  \n",
       "8     0.065    0.656566  0.906859 -0.006676    0.803647      -0.102328  \n",
       "9     0.024    0.857143  4.373178  0.018512    5.628000       0.793553  \n",
       "10    0.028    1.000000  1.381215  0.007728         inf       0.283951  \n",
       "11    0.028    0.608696  0.840740 -0.005304    0.705333      -0.165667  \n",
       "12    0.027    0.794118  1.096848  0.002384    1.340571       0.091404  \n",
       "13    0.031    0.645833  0.892035 -0.003752    0.779294      -0.112795  \n",
       "14    0.021    0.724138  3.694581  0.015316    2.914500       0.751116  \n",
       "15    0.021    0.700000  3.703704  0.015330    2.703333       0.752577  "
      ]
     },
     "execution_count": 70,
     "metadata": {},
     "output_type": "execute_result"
    }
   ],
   "source": [
    "rules_1 = association_rules(frequent_is, metric=\"confidence\", min_threshold=0.6)\n",
    "rules_1"
   ]
  },
  {
   "cell_type": "markdown",
   "id": "04988138",
   "metadata": {},
   "source": [
    "The rules indicate certain genre combinations tend to co-occur frequently. For instance, genres like \"History\" and \"Biography\" almost always lead to \"Drama,\" showing a consistent pattern. Conversely, genres like \"Action\" and \"Sci-Fi\" leading to \"Adventure\" have a lower confidence, suggesting they don't always co-occur.\n",
    "\n",
    "We can also see that Drama is significantly frequent as a consequent for the genres, \"History\", \"Romance\", \"War\", \"Music\", and so on. This might imply that movies in these genres frequently exhibit dramatic elements or storytelling styles commonly found in Drama films. \n",
    "\n",
    "Aside from that, \"Comedy, Animation\" often leads to \"Adventure,\" showing a pattern where movies that are both comedy and animation tend to be associated with adventure themes. Additionally, the presence of \"Action, Sci-Fi\" as antecedents often leads to \"Adventure,\" indicating a link between action-packed, science fiction movies and adventure-themed films. \n",
    "\n",
    "With the identified frequent genre combinations, we aim to create a dedicated DataFrame for further in-depth analysis alongside the IMDb movie dataset. Our next objective is to explore the average earnings concerning these commonly occurring genre mixes, potentially revealing associations or patterns between both variables.\n",
    "\n",
    "To get started, we convert the column values from earlier to a `DataFrame`."
   ]
  },
  {
   "cell_type": "code",
   "execution_count": 71,
   "id": "969584c2",
   "metadata": {
    "scrolled": true
   },
   "outputs": [
    {
     "data": {
      "text/html": [
       "<div>\n",
       "<style scoped>\n",
       "    .dataframe tbody tr th:only-of-type {\n",
       "        vertical-align: middle;\n",
       "    }\n",
       "\n",
       "    .dataframe tbody tr th {\n",
       "        vertical-align: top;\n",
       "    }\n",
       "\n",
       "    .dataframe thead th {\n",
       "        text-align: right;\n",
       "    }\n",
       "</style>\n",
       "<table border=\"1\" class=\"dataframe\">\n",
       "  <thead>\n",
       "    <tr style=\"text-align: right;\">\n",
       "      <th></th>\n",
       "      <th>Genre</th>\n",
       "    </tr>\n",
       "  </thead>\n",
       "  <tbody>\n",
       "    <tr>\n",
       "      <th>0</th>\n",
       "      <td>(Animation, Adventure)</td>\n",
       "    </tr>\n",
       "    <tr>\n",
       "      <th>1</th>\n",
       "      <td>(History, Drama)</td>\n",
       "    </tr>\n",
       "    <tr>\n",
       "      <th>2</th>\n",
       "      <td>(Drama, Crime)</td>\n",
       "    </tr>\n",
       "    <tr>\n",
       "      <th>3</th>\n",
       "      <td>(Drama, Romance)</td>\n",
       "    </tr>\n",
       "    <tr>\n",
       "      <th>4</th>\n",
       "      <td>(Drama, War)</td>\n",
       "    </tr>\n",
       "    <tr>\n",
       "      <th>5</th>\n",
       "      <td>(Drama, Music)</td>\n",
       "    </tr>\n",
       "    <tr>\n",
       "      <th>6</th>\n",
       "      <td>(Drama, Biography)</td>\n",
       "    </tr>\n",
       "    <tr>\n",
       "      <th>7</th>\n",
       "      <td>(Thriller, Drama)</td>\n",
       "    </tr>\n",
       "    <tr>\n",
       "      <th>8</th>\n",
       "      <td>(Mystery, Drama)</td>\n",
       "    </tr>\n",
       "    <tr>\n",
       "      <th>9</th>\n",
       "      <td>(Animation, Adventure, Comedy)</td>\n",
       "    </tr>\n",
       "    <tr>\n",
       "      <th>10</th>\n",
       "      <td>(History, Biography, Drama)</td>\n",
       "    </tr>\n",
       "    <tr>\n",
       "      <th>11</th>\n",
       "      <td>(Thriller, Drama, Crime)</td>\n",
       "    </tr>\n",
       "    <tr>\n",
       "      <th>12</th>\n",
       "      <td>(Mystery, Drama, Crime)</td>\n",
       "    </tr>\n",
       "    <tr>\n",
       "      <th>13</th>\n",
       "      <td>(Drama, Romance, Comedy)</td>\n",
       "    </tr>\n",
       "    <tr>\n",
       "      <th>14</th>\n",
       "      <td>(Action, Sci-Fi, Adventure)</td>\n",
       "    </tr>\n",
       "  </tbody>\n",
       "</table>\n",
       "</div>"
      ],
      "text/plain": [
       "                             Genre\n",
       "0           (Animation, Adventure)\n",
       "1                 (History, Drama)\n",
       "2                   (Drama, Crime)\n",
       "3                 (Drama, Romance)\n",
       "4                     (Drama, War)\n",
       "5                   (Drama, Music)\n",
       "6               (Drama, Biography)\n",
       "7                (Thriller, Drama)\n",
       "8                 (Mystery, Drama)\n",
       "9   (Animation, Adventure, Comedy)\n",
       "10     (History, Biography, Drama)\n",
       "11        (Thriller, Drama, Crime)\n",
       "12         (Mystery, Drama, Crime)\n",
       "13        (Drama, Romance, Comedy)\n",
       "14     (Action, Sci-Fi, Adventure)"
      ]
     },
     "execution_count": 71,
     "metadata": {},
     "output_type": "execute_result"
    }
   ],
   "source": [
    "# Combine 'antecedents' and 'consequents' to create a frequent combination of genres DataFrame\n",
    "freq_genres_df = pd.DataFrame({\n",
    "    'Genre': rules_1.apply(lambda row: row['antecedents'].union(row['consequents']), axis=1)\n",
    "})\n",
    "\n",
    "# Remove duplicates \n",
    "freq_genres_df = freq_genres_df.drop_duplicates(keep='first')\n",
    "\n",
    "freq_genres_df"
   ]
  },
  {
   "cell_type": "markdown",
   "id": "96e82fbe",
   "metadata": {},
   "source": [
    "Now that we have our `DataFrame` for the frequent combinations of genres, we will merge it with matching movies containing the same genres. After doing so, create a bar plot for easier visualization of the data."
   ]
  },
  {
   "cell_type": "code",
   "execution_count": 72,
   "id": "8793b184",
   "metadata": {},
   "outputs": [],
   "source": [
    "# Sort and format to merge the frequent combination genres with matching movies in the IMDb DataFrame\n",
    "columns_to_drop = ['Released_Year', 'Certificate', 'gross_low', 'gross_medium', 'gross_high', 'Runtime', 'IMDB_Rating', 'Meta_score', 'Director', 'Stars', 'No_of_Votes']  \n",
    "\n",
    "freq_genres_df['Genre'] = freq_genres_df['Genre'].apply(tuple)\n",
    "\n",
    "movies_gen_df = imdb_df.drop(columns=columns_to_drop, axis=1)\n",
    "\n",
    "movies_gen_df['Genre']=movies_gen_df['Genre'].apply(tuple)\n",
    "\n",
    "columns_to_drop = [3,4,5,6,7,8,9,10,11,12,13,14,15,16,17,18,19,20,21,22,23]\n",
    "movies_gen_df.drop(movies_gen_df.columns[columns_to_drop], axis=1, inplace=True) \n",
    "\n",
    "freq_genres_df['Genre'] = freq_genres_df['Genre'].apply(lambda x: ', '.join(sorted(x)))\n",
    "movies_gen_df['Genre'] = movies_gen_df['Genre'].apply(lambda x: ', '.join(sorted(x)))\n",
    "\n",
    "# Merge the two DataFrames with matching genres\n",
    "merged_df = movies_gen_df.merge(freq_genres_df, how='inner', left_on='Genre', right_on='Genre')"
   ]
  },
  {
   "cell_type": "code",
   "execution_count": 73,
   "id": "46b0ab5d",
   "metadata": {},
   "outputs": [
    {
     "data": {
      "text/plain": [
       "Text(0, 0.5, 'Average Gross')"
      ]
     },
     "execution_count": 73,
     "metadata": {},
     "output_type": "execute_result"
    },
    {
     "data": {
      "image/png": "[encoded data removed]",
      "text/plain": [
       "<Figure size 1000x600 with 1 Axes>"
      ]
     },
     "metadata": {},
     "output_type": "display_data"
    }
   ],
   "source": [
    "# Create a bar plot to visualize the frequent combinations and their respective average gross\n",
    "genre_gross = merged_df.groupby('Genre')['Gross'].mean().sort_values(ascending=False)\n",
    "\n",
    "plt.figure(figsize=(10, 6))\n",
    "genre_gross.plot(kind='bar', color='skyblue')\n",
    "plt.title('Top 10 Genres by Average Gross')\n",
    "plt.xlabel('Genre')\n",
    "plt.ylabel('Average Gross')"
   ]
  },
  {
   "cell_type": "markdown",
   "id": "2fd3c455",
   "metadata": {},
   "source": [
    "The bar chart vividly highlights the dominance of the 'Action, Adventure, Sci-Fi' genre combination, standing out prominently in both prevalence and gross earnings. Notably, there's a conspicuous decline in earnings post this combination. Following closely is 'Adventure, Animation, Comedy', noted for its association with the adventure genre. This combination boasts an average gross of approximately 2.0 multiplied by 1e8, while the leading 'Action, Adventure, Sci-Fi' combination surpasses this by over 25%, signifying its significantly higher earnings. \n",
    "\n",
    "Subsequently, we observe a notable decrease in average earnings as we move to the third-ranking combination, 'Drama, Romance', with an estimated average gross of more than 0.5 multiplied by 1e8, representing a roughly 75% drop from the preceding combination. The rest of the combinations closely align with this figure. Interestingly, 'Drama, Mystery' marks the lowest average earnings among the listed combinations."
   ]
  },
  {
   "cell_type": "markdown",
   "id": "8a9e4767",
   "metadata": {},
   "source": [
    "Intriguingly, knowing this, we can delve deeper into the presence or absence of frequent genre combinations within the top-grossing movies dataset.\n",
    "\n",
    "To do this, the columns in interest are:\n",
    "- `Genre` - type, category, or theme of the movie\n",
    "- `Gross` - amount of money earned or grossed by the movie"
   ]
  },
  {
   "cell_type": "markdown",
   "id": "f888ece0",
   "metadata": {},
   "source": [
    "First, arrange the values from highest to lowest to get the top grossing movies in the IMDb dataset. Then, select the `Genre` column and create a `DataFrame` for the said values."
   ]
  },
  {
   "cell_type": "code",
   "execution_count": 74,
   "id": "f6adc0fc",
   "metadata": {},
   "outputs": [
    {
     "data": {
      "text/plain": [
       "477       [Action, Adventure, Sci-Fi]\n",
       "59         [Action, Adventure, Drama]\n",
       "623      [Action, Adventure, Fantasy]\n",
       "60        [Action, Adventure, Sci-Fi]\n",
       "652                  [Drama, Romance]\n",
       "357       [Action, Adventure, Sci-Fi]\n",
       "891    [Animation, Action, Adventure]\n",
       "2              [Action, Crime, Drama]\n",
       "582       [Action, Adventure, Sci-Fi]\n",
       "63                [Action, Adventure]\n",
       "Name: Genre, dtype: object"
      ]
     },
     "execution_count": 74,
     "metadata": {},
     "output_type": "execute_result"
    }
   ],
   "source": [
    "top_gross_genres_df = imdb_df.sort_values('Gross', ascending=False)\n",
    "top_gross_genres_df = top_gross_genres_df['Genre'].head(10)\n",
    "top_gross_genres_df"
   ]
  },
  {
   "cell_type": "markdown",
   "id": "d7addc68",
   "metadata": {},
   "source": [
    "When selecting the \"Genre\" column for the frequent combinations of genres `DataFrame`, from a glance, one can see that there are certainly similarities between the two categories."
   ]
  },
  {
   "cell_type": "code",
   "execution_count": 75,
   "id": "9f03f2a1",
   "metadata": {},
   "outputs": [
    {
     "data": {
      "text/plain": [
       "0             Adventure, Animation\n",
       "1                   Drama, History\n",
       "2                     Crime, Drama\n",
       "3                   Drama, Romance\n",
       "4                       Drama, War\n",
       "5                     Drama, Music\n",
       "6                 Biography, Drama\n",
       "7                  Drama, Thriller\n",
       "8                   Drama, Mystery\n",
       "9     Adventure, Animation, Comedy\n",
       "10       Biography, Drama, History\n",
       "11          Crime, Drama, Thriller\n",
       "12           Crime, Drama, Mystery\n",
       "13          Comedy, Drama, Romance\n",
       "14       Action, Adventure, Sci-Fi\n",
       "Name: Genre, dtype: object"
      ]
     },
     "execution_count": 75,
     "metadata": {},
     "output_type": "execute_result"
    }
   ],
   "source": [
    "freq_genres_df['Genre']"
   ]
  },
  {
   "cell_type": "markdown",
   "id": "380c762b",
   "metadata": {},
   "source": [
    "To gather more insight, we will convert the two separate genre `DataFrames` into sets to distinguish the intersection, meaning, if there are genres in the frequent combination genres present in the top grossing films' genres. "
   ]
  },
  {
   "cell_type": "code",
   "execution_count": 76,
   "id": "56193f07",
   "metadata": {},
   "outputs": [
    {
     "name": "stdout",
     "output_type": "stream",
     "text": [
      "{'Drama, Romance', 'Action, Adventure, Sci-Fi'}\n"
     ]
    }
   ],
   "source": [
    "# Convert the lists to sets of strings\n",
    "top_gross_genres_set = {', '.join(sorted(genre)) for genre in top_gross_genres_df}\n",
    "frequent_combinations_set = set(freq_genres_df['Genre'])\n",
    "\n",
    "# Find the intersection\n",
    "overlap_genres = top_gross_genres_set.intersection(frequent_combinations_set)\n",
    "\n",
    "# Display the intersection\n",
    "print(overlap_genres)"
   ]
  },
  {
   "cell_type": "markdown",
   "id": "aa657943",
   "metadata": {},
   "source": [
    "With our two `DataFrames` being sets, we can create a Venn diagram to visualize the data, as shown below."
   ]
  },
  {
   "cell_type": "code",
   "execution_count": 77,
   "id": "b2a89b6b",
   "metadata": {
    "scrolled": true
   },
   "outputs": [
    {
     "data": {
      "image/png": "[encoded data removed]",
      "text/plain": [
       "<Figure size 640x480 with 1 Axes>"
      ]
     },
     "metadata": {},
     "output_type": "display_data"
    }
   ],
   "source": [
    "# Create the Venn diagram\n",
    "venn2(subsets=(len(top_gross_genres_set - overlap_genres),\n",
    "               len(frequent_combinations_set - overlap_genres),\n",
    "               len(overlap_genres)),\n",
    "      set_labels=('Top Grossing Genres', 'Frequent Combinations Genres'))\n",
    "\n",
    "# Display the plot\n",
    "plt.title(\"Intersection of Frequent and Top Grossing Genres\")\n",
    "plt.show()"
   ]
  },
  {
   "cell_type": "markdown",
   "id": "6b09642e",
   "metadata": {},
   "source": [
    "Additionally, we can create a bar plot to check for the occurrences, if there are, of the top grossing films' combination of genres with the frequent genre combinations we found."
   ]
  },
  {
   "cell_type": "code",
   "execution_count": 78,
   "id": "872d9bc0",
   "metadata": {
    "scrolled": true
   },
   "outputs": [
    {
     "data": {
      "image/png": "[encoded data removed]",
      "text/plain": [
       "<Figure size 1200x600 with 1 Axes>"
      ]
     },
     "metadata": {},
     "output_type": "display_data"
    }
   ],
   "source": [
    "genre_counts = {combo: 0 for combo in freq_genres_df['Genre']}\n",
    "\n",
    "# Count occurrences of overlapping genres in top_gross_genres_df\n",
    "for combined_genre in freq_genres_df['Genre']:\n",
    "    if combined_genre in overlap_genres:\n",
    "        count = top_gross_genres_df[top_gross_genres_df.apply(lambda x: ', '.join(sorted(x))) == combined_genre].shape[0]\n",
    "        genre_counts[combined_genre] = count\n",
    "\n",
    "# Plotting\n",
    "plt.figure(figsize=(12, 6))\n",
    "plt.bar(genre_counts.keys(), genre_counts.values(), color='skyblue')\n",
    "plt.xlabel('Frequent Genre Combinations')\n",
    "plt.ylabel('Count in Top Grossing Genres')\n",
    "plt.title('Occurrences of Overlapping Genres in Top Grossing Movies')\n",
    "plt.xticks(rotation=90)  # Rotate labels to fit\n",
    "plt.tight_layout()\n",
    "plt.show()"
   ]
  },
  {
   "cell_type": "markdown",
   "id": "b640421f",
   "metadata": {},
   "source": [
    "One can see after getting the intersection and creating a Venn diagram, there are only two combinations of genres overlapping with the top grossing genres and the most frequent genre combinations, namely, \"Drama, Romance\" and \"Action, Adventure, Sci-Fi\". \n",
    "\n",
    "From the bar graph, \"Drama, Romance\" appears only once among the top-grossing films' genre combinations, suggesting a less prevalent trend for this combination in highly profitable movies. Conversely, \"Action, Adventure, Sci-Fi\" emerges as more prominent, featuring four times in the top-grossing films, hinting at a stronger association with financial success. This disparity signifies a clear distinction between commonly occurring genres and those driving substantial box office earnings."
   ]
  },
  {
   "cell_type": "markdown",
   "id": "2fda9bcc",
   "metadata": {},
   "source": [
    "Lastly, we would like to examine frequent genre and gross combinations by films. As with the earlier analysis, we will drop the unnecessary columns and leave the one-hot encoded columns for genre and gross.\n"
   ]
  },
  {
   "cell_type": "code",
   "execution_count": 79,
   "id": "e5fca8ae",
   "metadata": {},
   "outputs": [],
   "source": [
    "columns_to_drop = ['Series_Title','gross_cat','Released_Year', 'Gross', 'Certificate', 'Runtime', 'Genre', 'IMDB_Rating', 'Meta_score', 'Director', 'Stars', 'No_of_Votes']  # Replace with the actual column names you want to drop\n",
    "\n",
    "genres_gross_df = imdb_df.drop(columns=columns_to_drop, axis=1)"
   ]
  },
  {
   "cell_type": "markdown",
   "id": "f955c503",
   "metadata": {},
   "source": [
    "Using the apriori function, we get the frequent combinations for both genres and gross with a `min_support` set to 0.02."
   ]
  },
  {
   "cell_type": "code",
   "execution_count": 80,
   "id": "89eeaa5c",
   "metadata": {},
   "outputs": [
    {
     "data": {
      "text/html": [
       "<div>\n",
       "<style scoped>\n",
       "    .dataframe tbody tr th:only-of-type {\n",
       "        vertical-align: middle;\n",
       "    }\n",
       "\n",
       "    .dataframe tbody tr th {\n",
       "        vertical-align: top;\n",
       "    }\n",
       "\n",
       "    .dataframe thead th {\n",
       "        text-align: right;\n",
       "    }\n",
       "</style>\n",
       "<table border=\"1\" class=\"dataframe\">\n",
       "  <thead>\n",
       "    <tr style=\"text-align: right;\">\n",
       "      <th></th>\n",
       "      <th>support</th>\n",
       "      <th>itemsets</th>\n",
       "    </tr>\n",
       "  </thead>\n",
       "  <tbody>\n",
       "    <tr>\n",
       "      <th>0</th>\n",
       "      <td>0.020</td>\n",
       "      <td>(Western)</td>\n",
       "    </tr>\n",
       "    <tr>\n",
       "      <th>1</th>\n",
       "      <td>0.082</td>\n",
       "      <td>(Animation)</td>\n",
       "    </tr>\n",
       "    <tr>\n",
       "      <th>2</th>\n",
       "      <td>0.032</td>\n",
       "      <td>(Horror)</td>\n",
       "    </tr>\n",
       "    <tr>\n",
       "      <th>3</th>\n",
       "      <td>0.056</td>\n",
       "      <td>(History)</td>\n",
       "    </tr>\n",
       "    <tr>\n",
       "      <th>4</th>\n",
       "      <td>0.209</td>\n",
       "      <td>(Crime)</td>\n",
       "    </tr>\n",
       "    <tr>\n",
       "      <th>...</th>\n",
       "      <td>...</td>\n",
       "      <td>...</td>\n",
       "    </tr>\n",
       "    <tr>\n",
       "      <th>119</th>\n",
       "      <td>0.055</td>\n",
       "      <td>(Drama, Comedy, gross_medium)</td>\n",
       "    </tr>\n",
       "    <tr>\n",
       "      <th>120</th>\n",
       "      <td>0.028</td>\n",
       "      <td>(Thriller, Drama, gross_low)</td>\n",
       "    </tr>\n",
       "    <tr>\n",
       "      <th>121</th>\n",
       "      <td>0.038</td>\n",
       "      <td>(Thriller, Drama, gross_medium)</td>\n",
       "    </tr>\n",
       "    <tr>\n",
       "      <th>122</th>\n",
       "      <td>0.030</td>\n",
       "      <td>(Drama, Mystery, gross_low)</td>\n",
       "    </tr>\n",
       "    <tr>\n",
       "      <th>123</th>\n",
       "      <td>0.026</td>\n",
       "      <td>(Drama, Mystery, gross_medium)</td>\n",
       "    </tr>\n",
       "  </tbody>\n",
       "</table>\n",
       "<p>124 rows × 2 columns</p>\n",
       "</div>"
      ],
      "text/plain": [
       "     support                         itemsets\n",
       "0      0.020                        (Western)\n",
       "1      0.082                      (Animation)\n",
       "2      0.032                         (Horror)\n",
       "3      0.056                        (History)\n",
       "4      0.209                          (Crime)\n",
       "..       ...                              ...\n",
       "119    0.055    (Drama, Comedy, gross_medium)\n",
       "120    0.028     (Thriller, Drama, gross_low)\n",
       "121    0.038  (Thriller, Drama, gross_medium)\n",
       "122    0.030      (Drama, Mystery, gross_low)\n",
       "123    0.026   (Drama, Mystery, gross_medium)\n",
       "\n",
       "[124 rows x 2 columns]"
      ]
     },
     "execution_count": 80,
     "metadata": {},
     "output_type": "execute_result"
    }
   ],
   "source": [
    "frequent_gg = apriori(genres_gross_df, min_support=0.02, use_colnames=True)\n",
    "frequent_gg"
   ]
  },
  {
   "cell_type": "markdown",
   "id": "9bb32c96",
   "metadata": {},
   "source": [
    "One can note with these frequent itemsets the difference in frequences between the gross categories, \"low\", \"medium\", and \"high\". The data shows that movies falling into the \"medium\" gross category are more frequent compared to the \"low\" and \"high\" categories. It's worth noting that a larger number of movies in this dataset belong to the \"medium\" gross category, potentially indicating a concentration of movies with moderate earnings."
   ]
  },
  {
   "cell_type": "code",
   "execution_count": 81,
   "id": "53314689",
   "metadata": {
    "scrolled": true
   },
   "outputs": [
    {
     "data": {
      "text/html": [
       "<div>\n",
       "<style scoped>\n",
       "    .dataframe tbody tr th:only-of-type {\n",
       "        vertical-align: middle;\n",
       "    }\n",
       "\n",
       "    .dataframe tbody tr th {\n",
       "        vertical-align: top;\n",
       "    }\n",
       "\n",
       "    .dataframe thead th {\n",
       "        text-align: right;\n",
       "    }\n",
       "</style>\n",
       "<table border=\"1\" class=\"dataframe\">\n",
       "  <thead>\n",
       "    <tr style=\"text-align: right;\">\n",
       "      <th></th>\n",
       "      <th>antecedents</th>\n",
       "      <th>consequents</th>\n",
       "      <th>antecedent support</th>\n",
       "      <th>consequent support</th>\n",
       "      <th>support</th>\n",
       "      <th>confidence</th>\n",
       "      <th>lift</th>\n",
       "      <th>leverage</th>\n",
       "      <th>conviction</th>\n",
       "      <th>zhangs_metric</th>\n",
       "    </tr>\n",
       "  </thead>\n",
       "  <tbody>\n",
       "    <tr>\n",
       "      <th>0</th>\n",
       "      <td>(Animation)</td>\n",
       "      <td>(Adventure)</td>\n",
       "      <td>0.082</td>\n",
       "      <td>0.196</td>\n",
       "      <td>0.052</td>\n",
       "      <td>0.634146</td>\n",
       "      <td>3.235441</td>\n",
       "      <td>0.035928</td>\n",
       "      <td>2.197600</td>\n",
       "      <td>0.752640</td>\n",
       "    </tr>\n",
       "    <tr>\n",
       "      <th>1</th>\n",
       "      <td>(History)</td>\n",
       "      <td>(Drama)</td>\n",
       "      <td>0.056</td>\n",
       "      <td>0.724</td>\n",
       "      <td>0.054</td>\n",
       "      <td>0.964286</td>\n",
       "      <td>1.331886</td>\n",
       "      <td>0.013456</td>\n",
       "      <td>7.728000</td>\n",
       "      <td>0.263967</td>\n",
       "    </tr>\n",
       "    <tr>\n",
       "      <th>2</th>\n",
       "      <td>(Crime)</td>\n",
       "      <td>(Drama)</td>\n",
       "      <td>0.209</td>\n",
       "      <td>0.724</td>\n",
       "      <td>0.160</td>\n",
       "      <td>0.765550</td>\n",
       "      <td>1.057390</td>\n",
       "      <td>0.008684</td>\n",
       "      <td>1.177224</td>\n",
       "      <td>0.068616</td>\n",
       "    </tr>\n",
       "    <tr>\n",
       "      <th>3</th>\n",
       "      <td>(Romance)</td>\n",
       "      <td>(Drama)</td>\n",
       "      <td>0.125</td>\n",
       "      <td>0.724</td>\n",
       "      <td>0.106</td>\n",
       "      <td>0.848000</td>\n",
       "      <td>1.171271</td>\n",
       "      <td>0.015500</td>\n",
       "      <td>1.815789</td>\n",
       "      <td>0.167116</td>\n",
       "    </tr>\n",
       "    <tr>\n",
       "      <th>4</th>\n",
       "      <td>(War)</td>\n",
       "      <td>(Drama)</td>\n",
       "      <td>0.051</td>\n",
       "      <td>0.724</td>\n",
       "      <td>0.044</td>\n",
       "      <td>0.862745</td>\n",
       "      <td>1.191637</td>\n",
       "      <td>0.007076</td>\n",
       "      <td>2.010857</td>\n",
       "      <td>0.169461</td>\n",
       "    </tr>\n",
       "    <tr>\n",
       "      <th>5</th>\n",
       "      <td>(Music)</td>\n",
       "      <td>(Drama)</td>\n",
       "      <td>0.035</td>\n",
       "      <td>0.724</td>\n",
       "      <td>0.031</td>\n",
       "      <td>0.885714</td>\n",
       "      <td>1.223362</td>\n",
       "      <td>0.005660</td>\n",
       "      <td>2.415000</td>\n",
       "      <td>0.189203</td>\n",
       "    </tr>\n",
       "    <tr>\n",
       "      <th>6</th>\n",
       "      <td>(Biography)</td>\n",
       "      <td>(Drama)</td>\n",
       "      <td>0.109</td>\n",
       "      <td>0.724</td>\n",
       "      <td>0.103</td>\n",
       "      <td>0.944954</td>\n",
       "      <td>1.305185</td>\n",
       "      <td>0.024084</td>\n",
       "      <td>5.014000</td>\n",
       "      <td>0.262430</td>\n",
       "    </tr>\n",
       "    <tr>\n",
       "      <th>7</th>\n",
       "      <td>(Thriller)</td>\n",
       "      <td>(Drama)</td>\n",
       "      <td>0.137</td>\n",
       "      <td>0.724</td>\n",
       "      <td>0.083</td>\n",
       "      <td>0.605839</td>\n",
       "      <td>0.836795</td>\n",
       "      <td>-0.016188</td>\n",
       "      <td>0.700222</td>\n",
       "      <td>-0.184338</td>\n",
       "    </tr>\n",
       "    <tr>\n",
       "      <th>8</th>\n",
       "      <td>(Mystery)</td>\n",
       "      <td>(Drama)</td>\n",
       "      <td>0.099</td>\n",
       "      <td>0.724</td>\n",
       "      <td>0.065</td>\n",
       "      <td>0.656566</td>\n",
       "      <td>0.906859</td>\n",
       "      <td>-0.006676</td>\n",
       "      <td>0.803647</td>\n",
       "      <td>-0.102328</td>\n",
       "    </tr>\n",
       "    <tr>\n",
       "      <th>9</th>\n",
       "      <td>(gross_low)</td>\n",
       "      <td>(Drama)</td>\n",
       "      <td>0.334</td>\n",
       "      <td>0.724</td>\n",
       "      <td>0.272</td>\n",
       "      <td>0.814371</td>\n",
       "      <td>1.124822</td>\n",
       "      <td>0.030184</td>\n",
       "      <td>1.486839</td>\n",
       "      <td>0.166623</td>\n",
       "    </tr>\n",
       "    <tr>\n",
       "      <th>10</th>\n",
       "      <td>(gross_medium)</td>\n",
       "      <td>(Drama)</td>\n",
       "      <td>0.427</td>\n",
       "      <td>0.724</td>\n",
       "      <td>0.323</td>\n",
       "      <td>0.756440</td>\n",
       "      <td>1.044807</td>\n",
       "      <td>0.013852</td>\n",
       "      <td>1.133192</td>\n",
       "      <td>0.074844</td>\n",
       "    </tr>\n",
       "    <tr>\n",
       "      <th>11</th>\n",
       "      <td>(Animation, Comedy)</td>\n",
       "      <td>(Adventure)</td>\n",
       "      <td>0.028</td>\n",
       "      <td>0.196</td>\n",
       "      <td>0.024</td>\n",
       "      <td>0.857143</td>\n",
       "      <td>4.373178</td>\n",
       "      <td>0.018512</td>\n",
       "      <td>5.628000</td>\n",
       "      <td>0.793553</td>\n",
       "    </tr>\n",
       "    <tr>\n",
       "      <th>12</th>\n",
       "      <td>(Animation, gross_high)</td>\n",
       "      <td>(Adventure)</td>\n",
       "      <td>0.034</td>\n",
       "      <td>0.196</td>\n",
       "      <td>0.028</td>\n",
       "      <td>0.823529</td>\n",
       "      <td>4.201681</td>\n",
       "      <td>0.021336</td>\n",
       "      <td>4.556000</td>\n",
       "      <td>0.788820</td>\n",
       "    </tr>\n",
       "    <tr>\n",
       "      <th>13</th>\n",
       "      <td>(History, Biography)</td>\n",
       "      <td>(Drama)</td>\n",
       "      <td>0.028</td>\n",
       "      <td>0.724</td>\n",
       "      <td>0.028</td>\n",
       "      <td>1.000000</td>\n",
       "      <td>1.381215</td>\n",
       "      <td>0.007728</td>\n",
       "      <td>inf</td>\n",
       "      <td>0.283951</td>\n",
       "    </tr>\n",
       "    <tr>\n",
       "      <th>14</th>\n",
       "      <td>(History, gross_medium)</td>\n",
       "      <td>(Drama)</td>\n",
       "      <td>0.033</td>\n",
       "      <td>0.724</td>\n",
       "      <td>0.031</td>\n",
       "      <td>0.939394</td>\n",
       "      <td>1.297505</td>\n",
       "      <td>0.007108</td>\n",
       "      <td>4.554000</td>\n",
       "      <td>0.237115</td>\n",
       "    </tr>\n",
       "    <tr>\n",
       "      <th>15</th>\n",
       "      <td>(Action, Crime)</td>\n",
       "      <td>(gross_medium)</td>\n",
       "      <td>0.055</td>\n",
       "      <td>0.427</td>\n",
       "      <td>0.035</td>\n",
       "      <td>0.636364</td>\n",
       "      <td>1.490313</td>\n",
       "      <td>0.011515</td>\n",
       "      <td>1.575750</td>\n",
       "      <td>0.348148</td>\n",
       "    </tr>\n",
       "    <tr>\n",
       "      <th>16</th>\n",
       "      <td>(Thriller, Crime)</td>\n",
       "      <td>(Drama)</td>\n",
       "      <td>0.046</td>\n",
       "      <td>0.724</td>\n",
       "      <td>0.028</td>\n",
       "      <td>0.608696</td>\n",
       "      <td>0.840740</td>\n",
       "      <td>-0.005304</td>\n",
       "      <td>0.705333</td>\n",
       "      <td>-0.165667</td>\n",
       "    </tr>\n",
       "    <tr>\n",
       "      <th>17</th>\n",
       "      <td>(Mystery, Crime)</td>\n",
       "      <td>(Drama)</td>\n",
       "      <td>0.034</td>\n",
       "      <td>0.724</td>\n",
       "      <td>0.027</td>\n",
       "      <td>0.794118</td>\n",
       "      <td>1.096848</td>\n",
       "      <td>0.002384</td>\n",
       "      <td>1.340571</td>\n",
       "      <td>0.091404</td>\n",
       "    </tr>\n",
       "    <tr>\n",
       "      <th>18</th>\n",
       "      <td>(gross_low, Crime)</td>\n",
       "      <td>(Drama)</td>\n",
       "      <td>0.076</td>\n",
       "      <td>0.724</td>\n",
       "      <td>0.060</td>\n",
       "      <td>0.789474</td>\n",
       "      <td>1.090433</td>\n",
       "      <td>0.004976</td>\n",
       "      <td>1.311000</td>\n",
       "      <td>0.089755</td>\n",
       "    </tr>\n",
       "    <tr>\n",
       "      <th>19</th>\n",
       "      <td>(Crime, gross_medium)</td>\n",
       "      <td>(Drama)</td>\n",
       "      <td>0.102</td>\n",
       "      <td>0.724</td>\n",
       "      <td>0.075</td>\n",
       "      <td>0.735294</td>\n",
       "      <td>1.015600</td>\n",
       "      <td>0.001152</td>\n",
       "      <td>1.042667</td>\n",
       "      <td>0.017105</td>\n",
       "    </tr>\n",
       "    <tr>\n",
       "      <th>20</th>\n",
       "      <td>(gross_high, Crime)</td>\n",
       "      <td>(Drama)</td>\n",
       "      <td>0.031</td>\n",
       "      <td>0.724</td>\n",
       "      <td>0.025</td>\n",
       "      <td>0.806452</td>\n",
       "      <td>1.113883</td>\n",
       "      <td>0.002556</td>\n",
       "      <td>1.426000</td>\n",
       "      <td>0.105511</td>\n",
       "    </tr>\n",
       "    <tr>\n",
       "      <th>21</th>\n",
       "      <td>(Romance, Comedy)</td>\n",
       "      <td>(Drama)</td>\n",
       "      <td>0.048</td>\n",
       "      <td>0.724</td>\n",
       "      <td>0.031</td>\n",
       "      <td>0.645833</td>\n",
       "      <td>0.892035</td>\n",
       "      <td>-0.003752</td>\n",
       "      <td>0.779294</td>\n",
       "      <td>-0.112795</td>\n",
       "    </tr>\n",
       "    <tr>\n",
       "      <th>22</th>\n",
       "      <td>(gross_low, Romance)</td>\n",
       "      <td>(Drama)</td>\n",
       "      <td>0.058</td>\n",
       "      <td>0.724</td>\n",
       "      <td>0.050</td>\n",
       "      <td>0.862069</td>\n",
       "      <td>1.190703</td>\n",
       "      <td>0.008008</td>\n",
       "      <td>2.001000</td>\n",
       "      <td>0.170021</td>\n",
       "    </tr>\n",
       "    <tr>\n",
       "      <th>23</th>\n",
       "      <td>(Romance, gross_medium)</td>\n",
       "      <td>(Drama)</td>\n",
       "      <td>0.048</td>\n",
       "      <td>0.724</td>\n",
       "      <td>0.038</td>\n",
       "      <td>0.791667</td>\n",
       "      <td>1.093462</td>\n",
       "      <td>0.003248</td>\n",
       "      <td>1.324800</td>\n",
       "      <td>0.089783</td>\n",
       "    </tr>\n",
       "    <tr>\n",
       "      <th>24</th>\n",
       "      <td>(Action, Sci-Fi)</td>\n",
       "      <td>(Adventure)</td>\n",
       "      <td>0.029</td>\n",
       "      <td>0.196</td>\n",
       "      <td>0.021</td>\n",
       "      <td>0.724138</td>\n",
       "      <td>3.694581</td>\n",
       "      <td>0.015316</td>\n",
       "      <td>2.914500</td>\n",
       "      <td>0.751116</td>\n",
       "    </tr>\n",
       "    <tr>\n",
       "      <th>25</th>\n",
       "      <td>(Sci-Fi, Adventure)</td>\n",
       "      <td>(Action)</td>\n",
       "      <td>0.030</td>\n",
       "      <td>0.189</td>\n",
       "      <td>0.021</td>\n",
       "      <td>0.700000</td>\n",
       "      <td>3.703704</td>\n",
       "      <td>0.015330</td>\n",
       "      <td>2.703333</td>\n",
       "      <td>0.752577</td>\n",
       "    </tr>\n",
       "    <tr>\n",
       "      <th>26</th>\n",
       "      <td>(Action, gross_high)</td>\n",
       "      <td>(Adventure)</td>\n",
       "      <td>0.077</td>\n",
       "      <td>0.196</td>\n",
       "      <td>0.054</td>\n",
       "      <td>0.701299</td>\n",
       "      <td>3.578055</td>\n",
       "      <td>0.038908</td>\n",
       "      <td>2.691652</td>\n",
       "      <td>0.780627</td>\n",
       "    </tr>\n",
       "    <tr>\n",
       "      <th>27</th>\n",
       "      <td>(Action, Adventure)</td>\n",
       "      <td>(gross_high)</td>\n",
       "      <td>0.083</td>\n",
       "      <td>0.239</td>\n",
       "      <td>0.054</td>\n",
       "      <td>0.650602</td>\n",
       "      <td>2.722186</td>\n",
       "      <td>0.034163</td>\n",
       "      <td>2.178034</td>\n",
       "      <td>0.689911</td>\n",
       "    </tr>\n",
       "    <tr>\n",
       "      <th>28</th>\n",
       "      <td>(Sci-Fi, gross_high)</td>\n",
       "      <td>(Adventure)</td>\n",
       "      <td>0.031</td>\n",
       "      <td>0.196</td>\n",
       "      <td>0.021</td>\n",
       "      <td>0.677419</td>\n",
       "      <td>3.456221</td>\n",
       "      <td>0.014924</td>\n",
       "      <td>2.492400</td>\n",
       "      <td>0.733402</td>\n",
       "    </tr>\n",
       "    <tr>\n",
       "      <th>29</th>\n",
       "      <td>(Sci-Fi, Adventure)</td>\n",
       "      <td>(gross_high)</td>\n",
       "      <td>0.030</td>\n",
       "      <td>0.239</td>\n",
       "      <td>0.021</td>\n",
       "      <td>0.700000</td>\n",
       "      <td>2.928870</td>\n",
       "      <td>0.013830</td>\n",
       "      <td>2.536667</td>\n",
       "      <td>0.678940</td>\n",
       "    </tr>\n",
       "    <tr>\n",
       "      <th>30</th>\n",
       "      <td>(Action, Sci-Fi)</td>\n",
       "      <td>(gross_high)</td>\n",
       "      <td>0.029</td>\n",
       "      <td>0.239</td>\n",
       "      <td>0.022</td>\n",
       "      <td>0.758621</td>\n",
       "      <td>3.174145</td>\n",
       "      <td>0.015069</td>\n",
       "      <td>3.152714</td>\n",
       "      <td>0.705411</td>\n",
       "    </tr>\n",
       "    <tr>\n",
       "      <th>31</th>\n",
       "      <td>(Sci-Fi, gross_high)</td>\n",
       "      <td>(Action)</td>\n",
       "      <td>0.031</td>\n",
       "      <td>0.189</td>\n",
       "      <td>0.022</td>\n",
       "      <td>0.709677</td>\n",
       "      <td>3.754907</td>\n",
       "      <td>0.016141</td>\n",
       "      <td>2.793444</td>\n",
       "      <td>0.757154</td>\n",
       "    </tr>\n",
       "    <tr>\n",
       "      <th>32</th>\n",
       "      <td>(Biography, gross_medium)</td>\n",
       "      <td>(Drama)</td>\n",
       "      <td>0.064</td>\n",
       "      <td>0.724</td>\n",
       "      <td>0.061</td>\n",
       "      <td>0.953125</td>\n",
       "      <td>1.316471</td>\n",
       "      <td>0.014664</td>\n",
       "      <td>5.888000</td>\n",
       "      <td>0.256831</td>\n",
       "    </tr>\n",
       "    <tr>\n",
       "      <th>33</th>\n",
       "      <td>(Biography, gross_high)</td>\n",
       "      <td>(Drama)</td>\n",
       "      <td>0.027</td>\n",
       "      <td>0.724</td>\n",
       "      <td>0.026</td>\n",
       "      <td>0.962963</td>\n",
       "      <td>1.330059</td>\n",
       "      <td>0.006452</td>\n",
       "      <td>7.452000</td>\n",
       "      <td>0.255040</td>\n",
       "    </tr>\n",
       "    <tr>\n",
       "      <th>34</th>\n",
       "      <td>(gross_low, Comedy)</td>\n",
       "      <td>(Drama)</td>\n",
       "      <td>0.080</td>\n",
       "      <td>0.724</td>\n",
       "      <td>0.056</td>\n",
       "      <td>0.700000</td>\n",
       "      <td>0.966851</td>\n",
       "      <td>-0.001920</td>\n",
       "      <td>0.920000</td>\n",
       "      <td>-0.035928</td>\n",
       "    </tr>\n",
       "    <tr>\n",
       "      <th>35</th>\n",
       "      <td>(Thriller, gross_low)</td>\n",
       "      <td>(Drama)</td>\n",
       "      <td>0.040</td>\n",
       "      <td>0.724</td>\n",
       "      <td>0.028</td>\n",
       "      <td>0.700000</td>\n",
       "      <td>0.966851</td>\n",
       "      <td>-0.000960</td>\n",
       "      <td>0.920000</td>\n",
       "      <td>-0.034483</td>\n",
       "    </tr>\n",
       "    <tr>\n",
       "      <th>36</th>\n",
       "      <td>(Mystery, gross_low)</td>\n",
       "      <td>(Drama)</td>\n",
       "      <td>0.039</td>\n",
       "      <td>0.724</td>\n",
       "      <td>0.030</td>\n",
       "      <td>0.769231</td>\n",
       "      <td>1.062473</td>\n",
       "      <td>0.001764</td>\n",
       "      <td>1.196000</td>\n",
       "      <td>0.061186</td>\n",
       "    </tr>\n",
       "    <tr>\n",
       "      <th>37</th>\n",
       "      <td>(Mystery, gross_medium)</td>\n",
       "      <td>(Drama)</td>\n",
       "      <td>0.043</td>\n",
       "      <td>0.724</td>\n",
       "      <td>0.026</td>\n",
       "      <td>0.604651</td>\n",
       "      <td>0.835154</td>\n",
       "      <td>-0.005132</td>\n",
       "      <td>0.698118</td>\n",
       "      <td>-0.170987</td>\n",
       "    </tr>\n",
       "  </tbody>\n",
       "</table>\n",
       "</div>"
      ],
      "text/plain": [
       "                  antecedents     consequents  antecedent support   \n",
       "0                 (Animation)     (Adventure)               0.082  \\\n",
       "1                   (History)         (Drama)               0.056   \n",
       "2                     (Crime)         (Drama)               0.209   \n",
       "3                   (Romance)         (Drama)               0.125   \n",
       "4                       (War)         (Drama)               0.051   \n",
       "5                     (Music)         (Drama)               0.035   \n",
       "6                 (Biography)         (Drama)               0.109   \n",
       "7                  (Thriller)         (Drama)               0.137   \n",
       "8                   (Mystery)         (Drama)               0.099   \n",
       "9                 (gross_low)         (Drama)               0.334   \n",
       "10             (gross_medium)         (Drama)               0.427   \n",
       "11        (Animation, Comedy)     (Adventure)               0.028   \n",
       "12    (Animation, gross_high)     (Adventure)               0.034   \n",
       "13       (History, Biography)         (Drama)               0.028   \n",
       "14    (History, gross_medium)         (Drama)               0.033   \n",
       "15            (Action, Crime)  (gross_medium)               0.055   \n",
       "16          (Thriller, Crime)         (Drama)               0.046   \n",
       "17           (Mystery, Crime)         (Drama)               0.034   \n",
       "18         (gross_low, Crime)         (Drama)               0.076   \n",
       "19      (Crime, gross_medium)         (Drama)               0.102   \n",
       "20        (gross_high, Crime)         (Drama)               0.031   \n",
       "21          (Romance, Comedy)         (Drama)               0.048   \n",
       "22       (gross_low, Romance)         (Drama)               0.058   \n",
       "23    (Romance, gross_medium)         (Drama)               0.048   \n",
       "24           (Action, Sci-Fi)     (Adventure)               0.029   \n",
       "25        (Sci-Fi, Adventure)        (Action)               0.030   \n",
       "26       (Action, gross_high)     (Adventure)               0.077   \n",
       "27        (Action, Adventure)    (gross_high)               0.083   \n",
       "28       (Sci-Fi, gross_high)     (Adventure)               0.031   \n",
       "29        (Sci-Fi, Adventure)    (gross_high)               0.030   \n",
       "30           (Action, Sci-Fi)    (gross_high)               0.029   \n",
       "31       (Sci-Fi, gross_high)        (Action)               0.031   \n",
       "32  (Biography, gross_medium)         (Drama)               0.064   \n",
       "33    (Biography, gross_high)         (Drama)               0.027   \n",
       "34        (gross_low, Comedy)         (Drama)               0.080   \n",
       "35      (Thriller, gross_low)         (Drama)               0.040   \n",
       "36       (Mystery, gross_low)         (Drama)               0.039   \n",
       "37    (Mystery, gross_medium)         (Drama)               0.043   \n",
       "\n",
       "    consequent support  support  confidence      lift  leverage  conviction   \n",
       "0                0.196    0.052    0.634146  3.235441  0.035928    2.197600  \\\n",
       "1                0.724    0.054    0.964286  1.331886  0.013456    7.728000   \n",
       "2                0.724    0.160    0.765550  1.057390  0.008684    1.177224   \n",
       "3                0.724    0.106    0.848000  1.171271  0.015500    1.815789   \n",
       "4                0.724    0.044    0.862745  1.191637  0.007076    2.010857   \n",
       "5                0.724    0.031    0.885714  1.223362  0.005660    2.415000   \n",
       "6                0.724    0.103    0.944954  1.305185  0.024084    5.014000   \n",
       "7                0.724    0.083    0.605839  0.836795 -0.016188    0.700222   \n",
       "8                0.724    0.065    0.656566  0.906859 -0.006676    0.803647   \n",
       "9                0.724    0.272    0.814371  1.124822  0.030184    1.486839   \n",
       "10               0.724    0.323    0.756440  1.044807  0.013852    1.133192   \n",
       "11               0.196    0.024    0.857143  4.373178  0.018512    5.628000   \n",
       "12               0.196    0.028    0.823529  4.201681  0.021336    4.556000   \n",
       "13               0.724    0.028    1.000000  1.381215  0.007728         inf   \n",
       "14               0.724    0.031    0.939394  1.297505  0.007108    4.554000   \n",
       "15               0.427    0.035    0.636364  1.490313  0.011515    1.575750   \n",
       "16               0.724    0.028    0.608696  0.840740 -0.005304    0.705333   \n",
       "17               0.724    0.027    0.794118  1.096848  0.002384    1.340571   \n",
       "18               0.724    0.060    0.789474  1.090433  0.004976    1.311000   \n",
       "19               0.724    0.075    0.735294  1.015600  0.001152    1.042667   \n",
       "20               0.724    0.025    0.806452  1.113883  0.002556    1.426000   \n",
       "21               0.724    0.031    0.645833  0.892035 -0.003752    0.779294   \n",
       "22               0.724    0.050    0.862069  1.190703  0.008008    2.001000   \n",
       "23               0.724    0.038    0.791667  1.093462  0.003248    1.324800   \n",
       "24               0.196    0.021    0.724138  3.694581  0.015316    2.914500   \n",
       "25               0.189    0.021    0.700000  3.703704  0.015330    2.703333   \n",
       "26               0.196    0.054    0.701299  3.578055  0.038908    2.691652   \n",
       "27               0.239    0.054    0.650602  2.722186  0.034163    2.178034   \n",
       "28               0.196    0.021    0.677419  3.456221  0.014924    2.492400   \n",
       "29               0.239    0.021    0.700000  2.928870  0.013830    2.536667   \n",
       "30               0.239    0.022    0.758621  3.174145  0.015069    3.152714   \n",
       "31               0.189    0.022    0.709677  3.754907  0.016141    2.793444   \n",
       "32               0.724    0.061    0.953125  1.316471  0.014664    5.888000   \n",
       "33               0.724    0.026    0.962963  1.330059  0.006452    7.452000   \n",
       "34               0.724    0.056    0.700000  0.966851 -0.001920    0.920000   \n",
       "35               0.724    0.028    0.700000  0.966851 -0.000960    0.920000   \n",
       "36               0.724    0.030    0.769231  1.062473  0.001764    1.196000   \n",
       "37               0.724    0.026    0.604651  0.835154 -0.005132    0.698118   \n",
       "\n",
       "    zhangs_metric  \n",
       "0        0.752640  \n",
       "1        0.263967  \n",
       "2        0.068616  \n",
       "3        0.167116  \n",
       "4        0.169461  \n",
       "5        0.189203  \n",
       "6        0.262430  \n",
       "7       -0.184338  \n",
       "8       -0.102328  \n",
       "9        0.166623  \n",
       "10       0.074844  \n",
       "11       0.793553  \n",
       "12       0.788820  \n",
       "13       0.283951  \n",
       "14       0.237115  \n",
       "15       0.348148  \n",
       "16      -0.165667  \n",
       "17       0.091404  \n",
       "18       0.089755  \n",
       "19       0.017105  \n",
       "20       0.105511  \n",
       "21      -0.112795  \n",
       "22       0.170021  \n",
       "23       0.089783  \n",
       "24       0.751116  \n",
       "25       0.752577  \n",
       "26       0.780627  \n",
       "27       0.689911  \n",
       "28       0.733402  \n",
       "29       0.678940  \n",
       "30       0.705411  \n",
       "31       0.757154  \n",
       "32       0.256831  \n",
       "33       0.255040  \n",
       "34      -0.035928  \n",
       "35      -0.034483  \n",
       "36       0.061186  \n",
       "37      -0.170987  "
      ]
     },
     "execution_count": 81,
     "metadata": {},
     "output_type": "execute_result"
    }
   ],
   "source": [
    "rules = association_rules(frequent_gg, metric=\"confidence\", min_threshold=0.6)\n",
    "rules"
   ]
  },
  {
   "cell_type": "markdown",
   "id": "e9359ab4",
   "metadata": {},
   "source": [
    "One of the most notable insights that can be seen from the results is that the data suggests that the combination of Action and Adventure genres tends to result in higher grossing movies. When these two genres are combined, there's a high likelihood of yielding a high gross. This association implies that movies that blend Action and Adventure tend to perform well financially, possibly due to their broader appeal that attracts larger audiences. \n",
    "\n",
    "The association rules consistently link the Drama genre not only to different gross categories like \"low\" and \"medium\" but also to various other genres. Despite its less frequent association with the \"high\" category, these patterns underline the remarkable versatility of the Drama genre. Its prevalence across various associations suggests that Drama movies tend to have a multifaceted nature, often intersecting with different genres and financial brackets."
   ]
  },
  {
   "cell_type": "markdown",
   "id": "58efbe86",
   "metadata": {},
   "source": [
    "### Clustering\n",
    "\n",
    "After identifying patterns with association rule mining, apply clustering to group movies with similar genre combinations and financial performance. This can provide additional insights into different clusters of movies based on these attributes."
   ]
  },
  {
   "cell_type": "markdown",
   "id": "01aafcee",
   "metadata": {},
   "source": [
    "## Statistical Inference\n"
   ]
  },
  {
   "cell_type": "markdown",
   "id": "a778b8d6",
   "metadata": {},
   "source": [
    "### Testing of Hypothesis : ANOVA\n",
    "\n",
    "We can ideally use ANOVA (Analysis of Variance) to determine if there are statistically significant differences in gross earnings of the different movie genres (and the different frequent combinations of genres). However, we first have to make sure that this type of hypothesis testing is applicable to the IMDb Movies Dataset.\n",
    "\n",
    "ANOVA is used when there are more than two groups to compare. The 21 genres of the dataset meets that criteria. The test is also mostly applied to cardinal data, which the gross earnings of the dataset satisfy. Furthermore, the dataset also meets the assumption of ANOVA that the observations within each group are independent. Nevertheless, we still have to check whether the sample sizes for each genre is balanced as it may affect the accuracy of the test. To do that, we can simply count the number of observations for each genre which is done below. "
   ]
  },
  {
   "cell_type": "code",
   "execution_count": 82,
   "id": "a8c8ee4c",
   "metadata": {},
   "outputs": [
    {
     "name": "stdout",
     "output_type": "stream",
     "text": [
      "<class 'pandas.core.frame.DataFrame'>\n",
      "RangeIndex: 1000 entries, 0 to 999\n",
      "Data columns (total 36 columns):\n",
      " #   Column         Non-Null Count  Dtype   \n",
      "---  ------         --------------  -----   \n",
      " 0   Series_Title   1000 non-null   object  \n",
      " 1   Released_Year  1000 non-null   int32   \n",
      " 2   Certificate    1000 non-null   object  \n",
      " 3   Runtime        1000 non-null   int32   \n",
      " 4   Genre          1000 non-null   object  \n",
      " 5   IMDB_Rating    1000 non-null   float64 \n",
      " 6   Meta_score     1000 non-null   int32   \n",
      " 7   Director       1000 non-null   object  \n",
      " 8   Stars          1000 non-null   object  \n",
      " 9   No_of_Votes    1000 non-null   int64   \n",
      " 10  Gross          1000 non-null   int32   \n",
      " 11  Western        1000 non-null   bool    \n",
      " 12  Sport          1000 non-null   bool    \n",
      " 13  Animation      1000 non-null   bool    \n",
      " 14  Horror         1000 non-null   bool    \n",
      " 15  History        1000 non-null   bool    \n",
      " 16  Crime          1000 non-null   bool    \n",
      " 17  Fantasy        1000 non-null   bool    \n",
      " 18  Romance        1000 non-null   bool    \n",
      " 19  War            1000 non-null   bool    \n",
      " 20  Adventure      1000 non-null   bool    \n",
      " 21  Action         1000 non-null   bool    \n",
      " 22  Music          1000 non-null   bool    \n",
      " 23  Family         1000 non-null   bool    \n",
      " 24  Biography      1000 non-null   bool    \n",
      " 25  Film-Noir      1000 non-null   bool    \n",
      " 26  Comedy         1000 non-null   bool    \n",
      " 27  Sci-Fi         1000 non-null   bool    \n",
      " 28  Thriller       1000 non-null   bool    \n",
      " 29  Musical        1000 non-null   bool    \n",
      " 30  Drama          1000 non-null   bool    \n",
      " 31  Mystery        1000 non-null   bool    \n",
      " 32  gross_cat      1000 non-null   category\n",
      " 33  gross_low      1000 non-null   bool    \n",
      " 34  gross_medium   1000 non-null   bool    \n",
      " 35  gross_high     1000 non-null   bool    \n",
      "dtypes: bool(24), category(1), float64(1), int32(4), int64(1), object(5)\n",
      "memory usage: 95.0+ KB\n"
     ]
    }
   ],
   "source": [
    "# Identify the indices of the genres to easily select them later\n",
    "imdb_df.info()"
   ]
  },
  {
   "cell_type": "code",
   "execution_count": 83,
   "id": "6d8664e9",
   "metadata": {},
   "outputs": [
    {
     "data": {
      "text/plain": [
       "Index(['Western', 'Sport', 'Animation', 'Horror', 'History', 'Crime',\n",
       "       'Fantasy', 'Romance', 'War', 'Adventure', 'Action', 'Music', 'Family',\n",
       "       'Biography', 'Film-Noir', 'Comedy', 'Sci-Fi', 'Thriller', 'Musical',\n",
       "       'Drama', 'Mystery'],\n",
       "      dtype='object')"
      ]
     },
     "execution_count": 83,
     "metadata": {},
     "output_type": "execute_result"
    }
   ],
   "source": [
    "# Select the genre columns\n",
    "genre_columns = imdb_df.columns[11:32]\n",
    "genre_columns"
   ]
  },
  {
   "cell_type": "code",
   "execution_count": 84,
   "id": "da488201",
   "metadata": {},
   "outputs": [
    {
     "name": "stdout",
     "output_type": "stream",
     "text": [
      "OBSERVATIONS \t  GROSS MEAN\n",
      "Western: 20 \t| 56,422,020.40\n",
      "Sport: 19 \t| 53,672,020.11\n",
      "Animation: 82 \t| 117,004,215.51\n",
      "Horror: 32 \t| 48,762,481.66\n",
      "History: 56 \t| 58,440,207.89\n",
      "Crime: 209 \t| 45,653,705.57\n",
      "Fantasy: 66 \t| 102,468,040.26\n",
      "Romance: 125 \t| 44,344,177.30\n",
      "War: 51 \t| 46,301,635.22\n",
      "Adventure: 196 \t| 152,771,535.18\n",
      "Action: 189 \t| 128,457,539.23\n",
      "Music: 35 \t| 34,926,264.94\n",
      "Family: 56 \t| 89,375,813.21\n",
      "Biography: 109 \t| 56,780,087.70\n",
      "Film-Noir: 19 \t| 31,466,884.79\n",
      "Comedy: 233 \t| 64,830,004.81\n",
      "Sci-Fi: 67 \t| 140,862,966.06\n",
      "Thriller: 137 \t| 60,520,928.53\n",
      "Musical: 17 \t| 28,640,871.53\n",
      "Drama: 724 \t| 49,914,414.37\n",
      "Mystery: 99 \t| 45,328,983.48\n"
     ]
    }
   ],
   "source": [
    "# Create a list to store the genre dataframes\n",
    "genre_dfs_obs = [] # df for checking the number of observations\n",
    "genre_dfs = [] # df for performing ANOVA\n",
    "\n",
    "# Loop through each genre and extract the gross data for that genre\n",
    "for genre_column in genre_columns:\n",
    "    genre_df = imdb_df.loc[imdb_df[genre_column] == 1, 'Gross']\n",
    "    genre_dfs_obs.append((genre_column, genre_df))\n",
    "    genre_dfs.append(genre_df)\n",
    "\n",
    "# Display the number of observations and gross mean for each genre\n",
    "print(\"OBSERVATIONS \\t  GROSS MEAN\")\n",
    "for genre_name, genre_df in genre_dfs_obs:\n",
    "    num_obs = len(genre_df)\n",
    "    mean_gross = \"{:,.2f}\".format(genre_df.mean()) \n",
    "    print(f\"{genre_name}: {num_obs} \\t| {mean_gross}\")"
   ]
  },
  {
   "cell_type": "markdown",
   "id": "d2fdd641",
   "metadata": {},
   "source": [
    "It is noticeable above that the sample sizes of the genres are imbalanced. In this case, Welch's ANOVA can be used as it handles unequal sample sizes more effectively. Additionally, while ANOVA is robust to violations of normality when sample sizes are reasonably large as suggested by the Central Limit Theorem, there are 4 genres (Musical, Western, Film-Noir, and Sport) with a sample size of less than 30. Because of which, the researchers decided to perform sensitivity analysis by comparing the results with and without the 4 smaller groups. This helps us understand the impact of these groups on the overall findings."
   ]
  },
  {
   "cell_type": "markdown",
   "id": "cc68816a",
   "metadata": {},
   "source": [
    "Below are the null and the alternative hypotheses.\n",
    "\n",
    "Null Hypothesis: There is no significant difference in the means of gross earnings among the movie genres.\n",
    "\n",
    "Alternative Hypothesis: There is a significant difference in the means of gross earnings among the movie genres."
   ]
  },
  {
   "cell_type": "markdown",
   "id": "6fbee50d",
   "metadata": {},
   "source": [
    "We can perform ANOVA on the list of dataframes (genre_dfs) using the f_oneway function of the scipy.stats module."
   ]
  },
  {
   "cell_type": "code",
   "execution_count": 85,
   "id": "549738e0",
   "metadata": {},
   "outputs": [
    {
     "name": "stdout",
     "output_type": "stream",
     "text": [
      "21  GENRES\n",
      " Significance Level: 0.05\n",
      " F-statistic: 17.367878537028894\n",
      " P-value: 2.945708678828376e-57\n",
      "\n",
      "17  GENRES (excluded genres with < 30 observations)\n",
      " Significance Level: 0.05\n",
      " F-statistic: 20.785274051285604\n",
      " P-value: 5.882823725221623e-57\n"
     ]
    }
   ],
   "source": [
    "# Perform Welch's ANOVA including the 4 smaller groups\n",
    "f_statistic, p_value = stats.f_oneway(*genre_dfs)\n",
    "alpha = 0.05\n",
    "\n",
    "# Display the results\n",
    "print(len(genre_dfs),  \" GENRES\")\n",
    "print(\" Significance Level:\", alpha)\n",
    "print(\" F-statistic:\", f_statistic)\n",
    "print(\" P-value:\", p_value)\n",
    "print(\"\")\n",
    "\n",
    "# Perform Welch's ANOVA excluding the 4 smaller groups\n",
    "genre_dfs_filtered = [df for df in genre_dfs if len(df) >= 30]\n",
    "f_statistic, p_value = stats.f_oneway(*genre_dfs_filtered)\n",
    "alpha = 0.05\n",
    "\n",
    "# Display the results\n",
    "print(len(genre_dfs_filtered),  \" GENRES (excluded genres with < 30 observations)\")\n",
    "print(\" Significance Level:\", alpha)\n",
    "print(\" F-statistic:\", f_statistic)\n",
    "print(\" P-value:\", p_value)"
   ]
  },
  {
   "cell_type": "markdown",
   "id": "e0f399f4",
   "metadata": {},
   "source": [
    "The fact that the f-statistic increased when excluding genres with less than 30 observations suggests that these excluded genres might have influenced the overall f-statistic in the initial analysis. The exclusion of these genres might have resulted in a more pronounced difference in means among the remaining genres.\n",
    "\n",
    "Furthermore, it can be observed that both p-values (2.9457e-57 and 5.8828e-57) are less than the significance level (0.05) regardless of including or excluding the 4 smaller groups. Therefore, we reject the null hypothesis. We can infer that there is a significant difference in the means of gross earnings among the movie genres."
   ]
  },
  {
   "cell_type": "markdown",
   "id": "5e67eace",
   "metadata": {},
   "source": [
    "### Test of Independence : Chi-Square Test\n",
    "We use the chi-square test for independence to see if the different genres are independent of the movie's gross earnings. We will use a p = 0.05 significance level. Here are the following hypotheses.\n",
    "\n",
    "Null hypothesis: Movie genres are independent of a movie's gross earnings.\n",
    "\n",
    "Alternative hypothesis: Movie genres are dependent of a movie's gross earnings."
   ]
  },
  {
   "cell_type": "markdown",
   "id": "3dddd17f-28e6-4138-befb-1580e84cfc4f",
   "metadata": {},
   "source": [
    "We then display these information in a table."
   ]
  },
  {
   "cell_type": "code",
   "execution_count": 86,
   "id": "89861402-b695-4469-b961-de486045e9f4",
   "metadata": {
    "tags": []
   },
   "outputs": [
    {
     "data": {
      "text/html": [
       "<div>\n",
       "<style scoped>\n",
       "    .dataframe tbody tr th:only-of-type {\n",
       "        vertical-align: middle;\n",
       "    }\n",
       "\n",
       "    .dataframe tbody tr th {\n",
       "        vertical-align: top;\n",
       "    }\n",
       "\n",
       "    .dataframe thead th {\n",
       "        text-align: right;\n",
       "    }\n",
       "</style>\n",
       "<table border=\"1\" class=\"dataframe\">\n",
       "  <thead>\n",
       "    <tr style=\"text-align: right;\">\n",
       "      <th></th>\n",
       "      <th>Western</th>\n",
       "      <th>Sport</th>\n",
       "      <th>Animation</th>\n",
       "      <th>Horror</th>\n",
       "      <th>History</th>\n",
       "      <th>Crime</th>\n",
       "      <th>Fantasy</th>\n",
       "      <th>Romance</th>\n",
       "      <th>War</th>\n",
       "      <th>Adventure</th>\n",
       "      <th>...</th>\n",
       "      <th>Music</th>\n",
       "      <th>Family</th>\n",
       "      <th>Biography</th>\n",
       "      <th>Film-Noir</th>\n",
       "      <th>Comedy</th>\n",
       "      <th>Sci-Fi</th>\n",
       "      <th>Thriller</th>\n",
       "      <th>Musical</th>\n",
       "      <th>Drama</th>\n",
       "      <th>Mystery</th>\n",
       "    </tr>\n",
       "    <tr>\n",
       "      <th>gross_cat</th>\n",
       "      <th></th>\n",
       "      <th></th>\n",
       "      <th></th>\n",
       "      <th></th>\n",
       "      <th></th>\n",
       "      <th></th>\n",
       "      <th></th>\n",
       "      <th></th>\n",
       "      <th></th>\n",
       "      <th></th>\n",
       "      <th></th>\n",
       "      <th></th>\n",
       "      <th></th>\n",
       "      <th></th>\n",
       "      <th></th>\n",
       "      <th></th>\n",
       "      <th></th>\n",
       "      <th></th>\n",
       "      <th></th>\n",
       "      <th></th>\n",
       "      <th></th>\n",
       "    </tr>\n",
       "  </thead>\n",
       "  <tbody>\n",
       "    <tr>\n",
       "      <th>low</th>\n",
       "      <td>6</td>\n",
       "      <td>7</td>\n",
       "      <td>26</td>\n",
       "      <td>10</td>\n",
       "      <td>10</td>\n",
       "      <td>76</td>\n",
       "      <td>20</td>\n",
       "      <td>58</td>\n",
       "      <td>20</td>\n",
       "      <td>30</td>\n",
       "      <td>...</td>\n",
       "      <td>19</td>\n",
       "      <td>16</td>\n",
       "      <td>18</td>\n",
       "      <td>11</td>\n",
       "      <td>80</td>\n",
       "      <td>11</td>\n",
       "      <td>40</td>\n",
       "      <td>9</td>\n",
       "      <td>272</td>\n",
       "      <td>39</td>\n",
       "    </tr>\n",
       "    <tr>\n",
       "      <th>medium</th>\n",
       "      <td>9</td>\n",
       "      <td>5</td>\n",
       "      <td>22</td>\n",
       "      <td>18</td>\n",
       "      <td>33</td>\n",
       "      <td>102</td>\n",
       "      <td>22</td>\n",
       "      <td>48</td>\n",
       "      <td>24</td>\n",
       "      <td>69</td>\n",
       "      <td>...</td>\n",
       "      <td>11</td>\n",
       "      <td>18</td>\n",
       "      <td>64</td>\n",
       "      <td>8</td>\n",
       "      <td>104</td>\n",
       "      <td>25</td>\n",
       "      <td>64</td>\n",
       "      <td>6</td>\n",
       "      <td>323</td>\n",
       "      <td>43</td>\n",
       "    </tr>\n",
       "    <tr>\n",
       "      <th>high</th>\n",
       "      <td>5</td>\n",
       "      <td>7</td>\n",
       "      <td>34</td>\n",
       "      <td>4</td>\n",
       "      <td>13</td>\n",
       "      <td>31</td>\n",
       "      <td>24</td>\n",
       "      <td>19</td>\n",
       "      <td>7</td>\n",
       "      <td>97</td>\n",
       "      <td>...</td>\n",
       "      <td>5</td>\n",
       "      <td>22</td>\n",
       "      <td>27</td>\n",
       "      <td>0</td>\n",
       "      <td>49</td>\n",
       "      <td>31</td>\n",
       "      <td>33</td>\n",
       "      <td>2</td>\n",
       "      <td>129</td>\n",
       "      <td>17</td>\n",
       "    </tr>\n",
       "  </tbody>\n",
       "</table>\n",
       "<p>3 rows × 21 columns</p>\n",
       "</div>"
      ],
      "text/plain": [
       "           Western  Sport  Animation  Horror  History  Crime  Fantasy   \n",
       "gross_cat                                                               \n",
       "low              6      7         26      10       10     76       20  \\\n",
       "medium           9      5         22      18       33    102       22   \n",
       "high             5      7         34       4       13     31       24   \n",
       "\n",
       "           Romance  War  Adventure  ...  Music  Family  Biography  Film-Noir   \n",
       "gross_cat                           ...                                        \n",
       "low             58   20         30  ...     19      16         18         11  \\\n",
       "medium          48   24         69  ...     11      18         64          8   \n",
       "high            19    7         97  ...      5      22         27          0   \n",
       "\n",
       "           Comedy  Sci-Fi  Thriller  Musical  Drama  Mystery  \n",
       "gross_cat                                                     \n",
       "low            80      11        40        9    272       39  \n",
       "medium        104      25        64        6    323       43  \n",
       "high           49      31        33        2    129       17  \n",
       "\n",
       "[3 rows x 21 columns]"
      ]
     },
     "execution_count": 86,
     "metadata": {},
     "output_type": "execute_result"
    }
   ],
   "source": [
    "gen_counts = imdb_df.groupby(by=['gross_cat'])[genre_columns].sum()\n",
    "gen_counts"
   ]
  },
  {
   "cell_type": "markdown",
   "id": "a9525317-6c8a-4ef6-ac85-a431ff6bc94d",
   "metadata": {},
   "source": [
    "Let's apply the chi-square test. We can observe that a p-value of = 4.93 x 10^(-32) was calculated."
   ]
  },
  {
   "cell_type": "code",
   "execution_count": 87,
   "id": "44a26471-0ccb-4fb4-bb3c-817cb8f06129",
   "metadata": {
    "tags": []
   },
   "outputs": [
    {
     "data": {
      "text/plain": [
       "Chi2ContingencyResult(statistic=249.17032838166386, pvalue=4.934647284968975e-32, dof=40, expected_freq=array([[  6.36757182,   6.04919323,  26.10704447,  10.18811492,\n",
       "         17.8292011 ,  66.54112554,  21.01298701,  39.79732389,\n",
       "         16.23730815,  62.40220386,  60.17355372,  11.14325069,\n",
       "         17.8292011 ,  34.70326643,   6.04919323,  74.18221173,\n",
       "         21.3313656 ,  43.61786698,   5.41243605, 230.50609996,\n",
       "         31.51948052],\n",
       "       [  8.65013774,   8.21763085,  35.46556474,  13.84022039,\n",
       "         24.22038567,  90.39393939,  28.54545455,  54.06336088,\n",
       "         22.05785124,  84.77134986,  81.74380165,  15.13774105,\n",
       "         24.22038567,  47.14325069,   8.21763085, 100.77410468,\n",
       "         28.97796143,  59.25344353,   7.35261708, 313.13498623,\n",
       "         42.81818182],\n",
       "       [  4.98229044,   4.73317591,  20.42739079,   7.9716647 ,\n",
       "         13.95041322,  52.06493506,  16.44155844,  31.13931523,\n",
       "         12.70484061,  48.82644628,  47.08264463,   8.71900826,\n",
       "         13.95041322,  27.15348288,   4.73317591,  58.04368359,\n",
       "         16.69067296,  34.12868949,   4.23494687, 180.35891381,\n",
       "         24.66233766]]))"
      ]
     },
     "execution_count": 87,
     "metadata": {},
     "output_type": "execute_result"
    }
   ],
   "source": [
    "chi2_contingency(gen_counts)"
   ]
  },
  {
   "cell_type": "markdown",
   "id": "05efa008-728d-41a0-9d01-bd58ae56a25c",
   "metadata": {},
   "source": [
    "Because the p-value of 4.93e-32 is not statistically significant, we reject the null hypothesis. Therefore, movie genres are dependent of a movie's gross earnings."
   ]
  },
  {
   "cell_type": "markdown",
   "id": "319830af",
   "metadata": {},
   "source": [
    "## Insights and Conclusions\n",
    "\n",
    "Clearly state your insights and conclusions from the data to answer the research question. Make sure that the conclusion is backed up with statistical evidence using hypothesis testing.\n"
   ]
  },
  {
   "cell_type": "code",
   "execution_count": null,
   "id": "0a68180a",
   "metadata": {},
   "outputs": [],
   "source": []
  }
 ],
 "metadata": {
  "kernelspec": {
   "display_name": "Python 3 (ipykernel)",
   "language": "python",
   "name": "python3"
  },
  "language_info": {
   "codemirror_mode": {
    "name": "ipython",
    "version": 3
   },
   "file_extension": ".py",
   "mimetype": "text/x-python",
   "name": "python",
   "nbconvert_exporter": "python",
   "pygments_lexer": "ipython3",
   "version": "3.11.3"
  }
 },
 "nbformat": 4,
 "nbformat_minor": 5
}
