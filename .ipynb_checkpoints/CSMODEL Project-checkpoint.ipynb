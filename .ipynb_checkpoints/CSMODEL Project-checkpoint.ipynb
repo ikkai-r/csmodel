{
 "cells": [
  {
   "cell_type": "markdown",
   "id": "10a3f717",
   "metadata": {},
   "source": [
    "## The Dataset\n",
    "\n",
    "The IMDb Movies Dataset comprises the top 1000 most popular and highly-rated films on the IMDb website, which serves as an extensive online database for information on movies, television series, videos, and related content.\n",
    "\n",
    "According to the information page of the dataset, the IMDb Movies Dataset was constructed using web scraping techniques to extract information directly from the IMDB site itself. Web scraping is an automated extraction of data from relevant webpages in a short amount of time (Hillier, 2021). \n",
    "\n",
    "Knowing this, the dataset could potentially have data inconsistencies due to variations in how information is presented on web pages. As such, data cleaning and preprocessing efforts are required for this dataset.\n",
    "\n",
    "In the dataset, one can see that there are a total of 1000 observations (rows), across 16 variables (columns). Here are the descriptions of each variable in the dataset:\n",
    "\n",
    "- **`Poster_Link`** - link to the image of the movie's poster on IMDb\n",
    "- **`Series_Title`** - title of the movie\n",
    "- **`Released_Year`** - year in which the movie was publicly released\n",
    "- **`Certificate`** - rating that indicates the appropriate audience or age group for which the movie is suitable\n",
    "- **`Runtime`** - total duration or length of the movie, measured in minutes\n",
    "- **`Genre`** - type, category, or theme of the movie\n",
    "- **`IMDB_Rating`** - numerical score based on user reviews and rating on IMDb\n",
    "- **`Overview`** - brief summary or description of the movie's plot, storyline, or premise\n",
    "- **`Meta_score`** - numerical score based on reputed critics on IMDb\n",
    "- **`Director`** - name of the movie's director\n",
    "- **`Star1`** - name of the first lead actor/actress in the movie\n",
    "- **`Star2`** - name of the second lead actor/actress in the movie\n",
    "- **`Star3`** - name of the third lead actor/actress in the movie\n",
    "- **`Star4`** - name of the fourth lead actor/actress in the movie\n",
    "- **`No_of_votes`** - total number of votes or user reviews/ratings the movie has received on IMDb\n",
    "- **`Gross`** - amount of money earned or grossed by the movie"
   ]
  },
  {
   "cell_type": "markdown",
   "id": "36940e43",
   "metadata": {},
   "source": [
    "## Reading the Dataset\n",
    "To load the dataset, we are going to use pandas. Using the [`read_csv`](https://pandas.pydata.org/pandas-docs/stable/reference/api/pandas.read_csv.html) , the dataset will be loaded into a pandas `DataFrame`."
   ]
  },
  {
   "cell_type": "code",
   "execution_count": 1,
   "id": "fc814c14",
   "metadata": {
    "tags": []
   },
   "outputs": [],
   "source": [
    "import pandas as pd\n",
    "import numpy as np\n",
    "import warnings\n",
    "warnings.filterwarnings(\"ignore\")"
   ]
  },
  {
   "cell_type": "code",
   "execution_count": 2,
   "id": "6a8210dd-d94e-44d5-801c-335cc381cafe",
   "metadata": {
    "tags": []
   },
   "outputs": [],
   "source": [
    "imdb_df = pd.read_csv(\"imdb_top_1000.csv\")"
   ]
  },
  {
   "cell_type": "markdown",
   "id": "f312c3b7-7e18-4a27-9fcb-3853d2a7dde8",
   "metadata": {},
   "source": [
    "## Data Cleaning\n",
    "The researchers took a better look at the dataset prior to data cleaning. It seems like there are missing values in some of the variables. There are also inconsistent data types."
   ]
  },
  {
   "cell_type": "code",
   "execution_count": 3,
   "id": "1bfb2774-2948-4262-b8c3-a62474ca03f5",
   "metadata": {
    "tags": []
   },
   "outputs": [
    {
     "name": "stdout",
     "output_type": "stream",
     "text": [
      "<class 'pandas.core.frame.DataFrame'>\n",
      "RangeIndex: 1000 entries, 0 to 999\n",
      "Data columns (total 16 columns):\n",
      " #   Column         Non-Null Count  Dtype  \n",
      "---  ------         --------------  -----  \n",
      " 0   Poster_Link    1000 non-null   object \n",
      " 1   Series_Title   1000 non-null   object \n",
      " 2   Released_Year  1000 non-null   object \n",
      " 3   Certificate    899 non-null    object \n",
      " 4   Runtime        1000 non-null   object \n",
      " 5   Genre          1000 non-null   object \n",
      " 6   IMDB_Rating    1000 non-null   float64\n",
      " 7   Overview       1000 non-null   object \n",
      " 8   Meta_score     843 non-null    float64\n",
      " 9   Director       1000 non-null   object \n",
      " 10  Star1          1000 non-null   object \n",
      " 11  Star2          1000 non-null   object \n",
      " 12  Star3          1000 non-null   object \n",
      " 13  Star4          1000 non-null   object \n",
      " 14  No_of_Votes    1000 non-null   int64  \n",
      " 15  Gross          831 non-null    object \n",
      "dtypes: float64(2), int64(1), object(13)\n",
      "memory usage: 125.1+ KB\n"
     ]
    }
   ],
   "source": [
    "imdb_df.info()"
   ]
  },
  {
   "cell_type": "code",
   "execution_count": 4,
   "id": "6c426e8e-baf2-4632-b9ee-5cbececb12b2",
   "metadata": {
    "tags": []
   },
   "outputs": [
    {
     "name": "stdout",
     "output_type": "stream",
     "text": [
      "Poster_Link        0\n",
      "Series_Title       0\n",
      "Released_Year      0\n",
      "Certificate      101\n",
      "Runtime            0\n",
      "Genre              0\n",
      "IMDB_Rating        0\n",
      "Overview           0\n",
      "Meta_score       157\n",
      "Director           0\n",
      "Star1              0\n",
      "Star2              0\n",
      "Star3              0\n",
      "Star4              0\n",
      "No_of_Votes        0\n",
      "Gross            169\n",
      "dtype: int64\n"
     ]
    }
   ],
   "source": [
    "print(imdb_df.isnull().sum())"
   ]
  },
  {
   "cell_type": "markdown",
   "id": "3d5dfc0a-06b7-4252-8ee5-e9da6920d63b",
   "metadata": {
    "tags": []
   },
   "source": [
    "There are missing values in the following variables. Since they are important to the analysis, imputation will be done.\n",
    "* Certificate\n",
    "* Meta_score\n",
    "* Gross"
   ]
  },
  {
   "cell_type": "code",
   "execution_count": 5,
   "id": "b1c1e1bd-73ee-4b95-b31c-12d55dedc950",
   "metadata": {
    "tags": []
   },
   "outputs": [
    {
     "name": "stdout",
     "output_type": "stream",
     "text": [
      "Number of duplicated data: 0\n"
     ]
    }
   ],
   "source": [
    "print(\"Number of duplicated data:\", imdb_df.duplicated().sum())"
   ]
  },
  {
   "cell_type": "code",
   "execution_count": 6,
   "id": "cc7d9d08-7af1-405a-a883-a739665c0c9b",
   "metadata": {
    "tags": []
   },
   "outputs": [
    {
     "data": {
      "text/plain": [
       "U           234\n",
       "A           197\n",
       "UA          175\n",
       "R           146\n",
       "PG-13        43\n",
       "PG           37\n",
       "Passed       34\n",
       "G            12\n",
       "Approved     11\n",
       "TV-PG         3\n",
       "GP            2\n",
       "TV-14         1\n",
       "16            1\n",
       "TV-MA         1\n",
       "Unrated       1\n",
       "U/A           1\n",
       "Name: Certificate, dtype: int64"
      ]
     },
     "execution_count": 6,
     "metadata": {},
     "output_type": "execute_result"
    }
   ],
   "source": [
    "imdb_df['Certificate'].value_counts()"
   ]
  },
  {
   "cell_type": "markdown",
   "id": "acadac2d-2127-4094-afbf-5a4be28bdb71",
   "metadata": {},
   "source": [
    "There are different types of Certificate values, which may seem inconsistent. (insert source bc of diff values)"
   ]
  },
  {
   "cell_type": "code",
   "execution_count": 7,
   "id": "32e06404-b8db-40ae-b179-907ab7b821a3",
   "metadata": {
    "tags": []
   },
   "outputs": [],
   "source": [
    "## Replace null values in certificate to the most frequent category\n",
    "imdb_df['Certificate'].fillna('U', inplace=True)"
   ]
  },
  {
   "cell_type": "code",
   "execution_count": 8,
   "id": "9ca96fc2-1333-4c6e-b05d-1f91881c577b",
   "metadata": {
    "tags": []
   },
   "outputs": [],
   "source": [
    "## Convert the Runtime object to int\n",
    "imdb_df['Runtime'] = imdb_df['Runtime'].str.replace(' min', '').astype(int)"
   ]
  },
  {
   "cell_type": "code",
   "execution_count": 44,
   "id": "177b2eb3-75d7-4ded-8e2a-151c041d0895",
   "metadata": {
    "tags": []
   },
   "outputs": [],
   "source": [
    "## Replace null values in Meta_score with the mean\n",
    "imdb_df['Meta_score'].fillna(imdb_df['Meta_score'].mean(), inplace=True)"
   ]
  },
  {
   "cell_type": "code",
   "execution_count": 43,
   "id": "a357f3e9-0e3e-4200-af46-757d205615d2",
   "metadata": {
    "tags": []
   },
   "outputs": [
    {
     "ename": "AttributeError",
     "evalue": "Can only use .str accessor with string values!",
     "output_type": "error",
     "traceback": [
      "\u001b[1;31m---------------------------------------------------------------------------\u001b[0m",
      "\u001b[1;31mAttributeError\u001b[0m                            Traceback (most recent call last)",
      "Cell \u001b[1;32mIn[43], line 2\u001b[0m\n\u001b[0;32m      1\u001b[0m \u001b[38;5;66;03m## Convert Gross to float\u001b[39;00m\n\u001b[1;32m----> 2\u001b[0m imdb_df[\u001b[38;5;124m'\u001b[39m\u001b[38;5;124mGross\u001b[39m\u001b[38;5;124m'\u001b[39m] \u001b[38;5;241m=\u001b[39m imdb_df[\u001b[38;5;124m'\u001b[39m\u001b[38;5;124mGross\u001b[39m\u001b[38;5;124m'\u001b[39m]\u001b[38;5;241m.\u001b[39mstr\u001b[38;5;241m.\u001b[39mreplace(\u001b[38;5;124m'\u001b[39m\u001b[38;5;124m,\u001b[39m\u001b[38;5;124m'\u001b[39m, \u001b[38;5;124m'\u001b[39m\u001b[38;5;124m'\u001b[39m)\u001b[38;5;241m.\u001b[39mastype(\u001b[38;5;28mfloat\u001b[39m)\n",
      "File \u001b[1;32m~\\anaconda3\\Lib\\site-packages\\pandas\\core\\generic.py:5902\u001b[0m, in \u001b[0;36mNDFrame.__getattr__\u001b[1;34m(self, name)\u001b[0m\n\u001b[0;32m   5895\u001b[0m \u001b[38;5;28;01mif\u001b[39;00m (\n\u001b[0;32m   5896\u001b[0m     name \u001b[38;5;129;01mnot\u001b[39;00m \u001b[38;5;129;01min\u001b[39;00m \u001b[38;5;28mself\u001b[39m\u001b[38;5;241m.\u001b[39m_internal_names_set\n\u001b[0;32m   5897\u001b[0m     \u001b[38;5;129;01mand\u001b[39;00m name \u001b[38;5;129;01mnot\u001b[39;00m \u001b[38;5;129;01min\u001b[39;00m \u001b[38;5;28mself\u001b[39m\u001b[38;5;241m.\u001b[39m_metadata\n\u001b[0;32m   5898\u001b[0m     \u001b[38;5;129;01mand\u001b[39;00m name \u001b[38;5;129;01mnot\u001b[39;00m \u001b[38;5;129;01min\u001b[39;00m \u001b[38;5;28mself\u001b[39m\u001b[38;5;241m.\u001b[39m_accessors\n\u001b[0;32m   5899\u001b[0m     \u001b[38;5;129;01mand\u001b[39;00m \u001b[38;5;28mself\u001b[39m\u001b[38;5;241m.\u001b[39m_info_axis\u001b[38;5;241m.\u001b[39m_can_hold_identifiers_and_holds_name(name)\n\u001b[0;32m   5900\u001b[0m ):\n\u001b[0;32m   5901\u001b[0m     \u001b[38;5;28;01mreturn\u001b[39;00m \u001b[38;5;28mself\u001b[39m[name]\n\u001b[1;32m-> 5902\u001b[0m \u001b[38;5;28;01mreturn\u001b[39;00m \u001b[38;5;28mobject\u001b[39m\u001b[38;5;241m.\u001b[39m\u001b[38;5;21m__getattribute__\u001b[39m(\u001b[38;5;28mself\u001b[39m, name)\n",
      "File \u001b[1;32m~\\anaconda3\\Lib\\site-packages\\pandas\\core\\accessor.py:182\u001b[0m, in \u001b[0;36mCachedAccessor.__get__\u001b[1;34m(self, obj, cls)\u001b[0m\n\u001b[0;32m    179\u001b[0m \u001b[38;5;28;01mif\u001b[39;00m obj \u001b[38;5;129;01mis\u001b[39;00m \u001b[38;5;28;01mNone\u001b[39;00m:\n\u001b[0;32m    180\u001b[0m     \u001b[38;5;66;03m# we're accessing the attribute of the class, i.e., Dataset.geo\u001b[39;00m\n\u001b[0;32m    181\u001b[0m     \u001b[38;5;28;01mreturn\u001b[39;00m \u001b[38;5;28mself\u001b[39m\u001b[38;5;241m.\u001b[39m_accessor\n\u001b[1;32m--> 182\u001b[0m accessor_obj \u001b[38;5;241m=\u001b[39m \u001b[38;5;28mself\u001b[39m\u001b[38;5;241m.\u001b[39m_accessor(obj)\n\u001b[0;32m    183\u001b[0m \u001b[38;5;66;03m# Replace the property with the accessor object. Inspired by:\u001b[39;00m\n\u001b[0;32m    184\u001b[0m \u001b[38;5;66;03m# https://www.pydanny.com/cached-property.html\u001b[39;00m\n\u001b[0;32m    185\u001b[0m \u001b[38;5;66;03m# We need to use object.__setattr__ because we overwrite __setattr__ on\u001b[39;00m\n\u001b[0;32m    186\u001b[0m \u001b[38;5;66;03m# NDFrame\u001b[39;00m\n\u001b[0;32m    187\u001b[0m \u001b[38;5;28mobject\u001b[39m\u001b[38;5;241m.\u001b[39m\u001b[38;5;21m__setattr__\u001b[39m(obj, \u001b[38;5;28mself\u001b[39m\u001b[38;5;241m.\u001b[39m_name, accessor_obj)\n",
      "File \u001b[1;32m~\\anaconda3\\Lib\\site-packages\\pandas\\core\\strings\\accessor.py:181\u001b[0m, in \u001b[0;36mStringMethods.__init__\u001b[1;34m(self, data)\u001b[0m\n\u001b[0;32m    178\u001b[0m \u001b[38;5;28;01mdef\u001b[39;00m \u001b[38;5;21m__init__\u001b[39m(\u001b[38;5;28mself\u001b[39m, data) \u001b[38;5;241m-\u001b[39m\u001b[38;5;241m>\u001b[39m \u001b[38;5;28;01mNone\u001b[39;00m:\n\u001b[0;32m    179\u001b[0m     \u001b[38;5;28;01mfrom\u001b[39;00m \u001b[38;5;21;01mpandas\u001b[39;00m\u001b[38;5;21;01m.\u001b[39;00m\u001b[38;5;21;01mcore\u001b[39;00m\u001b[38;5;21;01m.\u001b[39;00m\u001b[38;5;21;01marrays\u001b[39;00m\u001b[38;5;21;01m.\u001b[39;00m\u001b[38;5;21;01mstring_\u001b[39;00m \u001b[38;5;28;01mimport\u001b[39;00m StringDtype\n\u001b[1;32m--> 181\u001b[0m     \u001b[38;5;28mself\u001b[39m\u001b[38;5;241m.\u001b[39m_inferred_dtype \u001b[38;5;241m=\u001b[39m \u001b[38;5;28mself\u001b[39m\u001b[38;5;241m.\u001b[39m_validate(data)\n\u001b[0;32m    182\u001b[0m     \u001b[38;5;28mself\u001b[39m\u001b[38;5;241m.\u001b[39m_is_categorical \u001b[38;5;241m=\u001b[39m is_categorical_dtype(data\u001b[38;5;241m.\u001b[39mdtype)\n\u001b[0;32m    183\u001b[0m     \u001b[38;5;28mself\u001b[39m\u001b[38;5;241m.\u001b[39m_is_string \u001b[38;5;241m=\u001b[39m \u001b[38;5;28misinstance\u001b[39m(data\u001b[38;5;241m.\u001b[39mdtype, StringDtype)\n",
      "File \u001b[1;32m~\\anaconda3\\Lib\\site-packages\\pandas\\core\\strings\\accessor.py:235\u001b[0m, in \u001b[0;36mStringMethods._validate\u001b[1;34m(data)\u001b[0m\n\u001b[0;32m    232\u001b[0m inferred_dtype \u001b[38;5;241m=\u001b[39m lib\u001b[38;5;241m.\u001b[39minfer_dtype(values, skipna\u001b[38;5;241m=\u001b[39m\u001b[38;5;28;01mTrue\u001b[39;00m)\n\u001b[0;32m    234\u001b[0m \u001b[38;5;28;01mif\u001b[39;00m inferred_dtype \u001b[38;5;129;01mnot\u001b[39;00m \u001b[38;5;129;01min\u001b[39;00m allowed_types:\n\u001b[1;32m--> 235\u001b[0m     \u001b[38;5;28;01mraise\u001b[39;00m \u001b[38;5;167;01mAttributeError\u001b[39;00m(\u001b[38;5;124m\"\u001b[39m\u001b[38;5;124mCan only use .str accessor with string values!\u001b[39m\u001b[38;5;124m\"\u001b[39m)\n\u001b[0;32m    236\u001b[0m \u001b[38;5;28;01mreturn\u001b[39;00m inferred_dtype\n",
      "\u001b[1;31mAttributeError\u001b[0m: Can only use .str accessor with string values!"
     ]
    }
   ],
   "source": [
    "## Convert Gross to float\n",
    "imdb_df['Gross'] = imdb_df['Gross'].str.replace(',', '').astype(float)"
   ]
  },
  {
   "cell_type": "code",
   "execution_count": null,
   "id": "081643ea-770d-46ce-908f-9b82dd3b4b38",
   "metadata": {
    "tags": []
   },
   "outputs": [],
   "source": [
    "## Replace null values in Gross with the mean\n",
    "imdb_df['Gross'].fillna(imdb_df['Gross'].mean(), inplace=True)"
   ]
  },
  {
   "cell_type": "code",
   "execution_count": 12,
   "id": "6e152a2c-2457-46ff-8de1-342dc66cbc21",
   "metadata": {
    "tags": []
   },
   "outputs": [
    {
     "data": {
      "text/plain": [
       "2014    32\n",
       "2004    31\n",
       "2009    29\n",
       "2013    28\n",
       "2016    28\n",
       "        ..\n",
       "1926     1\n",
       "1936     1\n",
       "1924     1\n",
       "1921     1\n",
       "PG       1\n",
       "Name: Released_Year, Length: 100, dtype: int64"
      ]
     },
     "execution_count": 12,
     "metadata": {},
     "output_type": "execute_result"
    }
   ],
   "source": [
    "# Check values in Released_Year\n",
    "imdb_df['Released_Year'].value_counts()"
   ]
  },
  {
   "cell_type": "markdown",
   "id": "3d4552c1-eb75-4be2-bb8f-bd3cbb551c8d",
   "metadata": {},
   "source": [
    "There seems to be an error in encoding in one of the observations."
   ]
  },
  {
   "cell_type": "code",
   "execution_count": 13,
   "id": "cb716017-df6a-4eef-bcaa-1e708714ee85",
   "metadata": {
    "tags": []
   },
   "outputs": [
    {
     "data": {
      "text/html": [
       "<div>\n",
       "<style scoped>\n",
       "    .dataframe tbody tr th:only-of-type {\n",
       "        vertical-align: middle;\n",
       "    }\n",
       "\n",
       "    .dataframe tbody tr th {\n",
       "        vertical-align: top;\n",
       "    }\n",
       "\n",
       "    .dataframe thead th {\n",
       "        text-align: right;\n",
       "    }\n",
       "</style>\n",
       "<table border=\"1\" class=\"dataframe\">\n",
       "  <thead>\n",
       "    <tr style=\"text-align: right;\">\n",
       "      <th></th>\n",
       "      <th>Poster_Link</th>\n",
       "      <th>Series_Title</th>\n",
       "      <th>Released_Year</th>\n",
       "      <th>Certificate</th>\n",
       "      <th>Runtime</th>\n",
       "      <th>Genre</th>\n",
       "      <th>IMDB_Rating</th>\n",
       "      <th>Overview</th>\n",
       "      <th>Meta_score</th>\n",
       "      <th>Director</th>\n",
       "      <th>Star1</th>\n",
       "      <th>Star2</th>\n",
       "      <th>Star3</th>\n",
       "      <th>Star4</th>\n",
       "      <th>No_of_Votes</th>\n",
       "      <th>Gross</th>\n",
       "    </tr>\n",
       "  </thead>\n",
       "  <tbody>\n",
       "    <tr>\n",
       "      <th>966</th>\n",
       "      <td>https://m.media-amazon.com/images/M/MV5BNjEzYj...</td>\n",
       "      <td>Apollo 13</td>\n",
       "      <td>PG</td>\n",
       "      <td>U</td>\n",
       "      <td>140</td>\n",
       "      <td>Adventure, Drama, History</td>\n",
       "      <td>7.6</td>\n",
       "      <td>NASA must devise a strategy to return Apollo 1...</td>\n",
       "      <td>77.0</td>\n",
       "      <td>Ron Howard</td>\n",
       "      <td>Tom Hanks</td>\n",
       "      <td>Bill Paxton</td>\n",
       "      <td>Kevin Bacon</td>\n",
       "      <td>Gary Sinise</td>\n",
       "      <td>269197</td>\n",
       "      <td>173837933.0</td>\n",
       "    </tr>\n",
       "  </tbody>\n",
       "</table>\n",
       "</div>"
      ],
      "text/plain": [
       "                                           Poster_Link Series_Title  \\\n",
       "966  https://m.media-amazon.com/images/M/MV5BNjEzYj...    Apollo 13   \n",
       "\n",
       "    Released_Year Certificate  Runtime                      Genre  \\\n",
       "966            PG           U      140  Adventure, Drama, History   \n",
       "\n",
       "     IMDB_Rating                                           Overview  \\\n",
       "966          7.6  NASA must devise a strategy to return Apollo 1...   \n",
       "\n",
       "     Meta_score    Director      Star1        Star2        Star3        Star4  \\\n",
       "966        77.0  Ron Howard  Tom Hanks  Bill Paxton  Kevin Bacon  Gary Sinise   \n",
       "\n",
       "     No_of_Votes        Gross  \n",
       "966       269197  173837933.0  "
      ]
     },
     "execution_count": 13,
     "metadata": {},
     "output_type": "execute_result"
    }
   ],
   "source": [
    "imdb_df[imdb_df['Released_Year'] == 'PG']"
   ]
  },
  {
   "cell_type": "markdown",
   "id": "91b44ba5-4039-4f95-a00e-b08bb9d0f20a",
   "metadata": {},
   "source": [
    "Instead of 'PG' as Apollo 13's release year, it will be replaced by its release year of 1995."
   ]
  },
  {
   "cell_type": "code",
   "execution_count": 14,
   "id": "c2e160f3-44b6-4d7f-9a1b-ad3509cfdafd",
   "metadata": {
    "tags": []
   },
   "outputs": [
    {
     "data": {
      "text/html": [
       "<div>\n",
       "<style scoped>\n",
       "    .dataframe tbody tr th:only-of-type {\n",
       "        vertical-align: middle;\n",
       "    }\n",
       "\n",
       "    .dataframe tbody tr th {\n",
       "        vertical-align: top;\n",
       "    }\n",
       "\n",
       "    .dataframe thead th {\n",
       "        text-align: right;\n",
       "    }\n",
       "</style>\n",
       "<table border=\"1\" class=\"dataframe\">\n",
       "  <thead>\n",
       "    <tr style=\"text-align: right;\">\n",
       "      <th></th>\n",
       "      <th>Poster_Link</th>\n",
       "      <th>Series_Title</th>\n",
       "      <th>Released_Year</th>\n",
       "      <th>Certificate</th>\n",
       "      <th>Runtime</th>\n",
       "      <th>Genre</th>\n",
       "      <th>IMDB_Rating</th>\n",
       "      <th>Overview</th>\n",
       "      <th>Meta_score</th>\n",
       "      <th>Director</th>\n",
       "      <th>Star1</th>\n",
       "      <th>Star2</th>\n",
       "      <th>Star3</th>\n",
       "      <th>Star4</th>\n",
       "      <th>No_of_Votes</th>\n",
       "      <th>Gross</th>\n",
       "    </tr>\n",
       "  </thead>\n",
       "  <tbody>\n",
       "    <tr>\n",
       "      <th>966</th>\n",
       "      <td>https://m.media-amazon.com/images/M/MV5BNjEzYj...</td>\n",
       "      <td>Apollo 13</td>\n",
       "      <td>1995</td>\n",
       "      <td>U</td>\n",
       "      <td>140</td>\n",
       "      <td>Adventure, Drama, History</td>\n",
       "      <td>7.6</td>\n",
       "      <td>NASA must devise a strategy to return Apollo 1...</td>\n",
       "      <td>77.0</td>\n",
       "      <td>Ron Howard</td>\n",
       "      <td>Tom Hanks</td>\n",
       "      <td>Bill Paxton</td>\n",
       "      <td>Kevin Bacon</td>\n",
       "      <td>Gary Sinise</td>\n",
       "      <td>269197</td>\n",
       "      <td>173837933.0</td>\n",
       "    </tr>\n",
       "  </tbody>\n",
       "</table>\n",
       "</div>"
      ],
      "text/plain": [
       "                                           Poster_Link Series_Title  \\\n",
       "966  https://m.media-amazon.com/images/M/MV5BNjEzYj...    Apollo 13   \n",
       "\n",
       "    Released_Year Certificate  Runtime                      Genre  \\\n",
       "966          1995           U      140  Adventure, Drama, History   \n",
       "\n",
       "     IMDB_Rating                                           Overview  \\\n",
       "966          7.6  NASA must devise a strategy to return Apollo 1...   \n",
       "\n",
       "     Meta_score    Director      Star1        Star2        Star3        Star4  \\\n",
       "966        77.0  Ron Howard  Tom Hanks  Bill Paxton  Kevin Bacon  Gary Sinise   \n",
       "\n",
       "     No_of_Votes        Gross  \n",
       "966       269197  173837933.0  "
      ]
     },
     "execution_count": 14,
     "metadata": {},
     "output_type": "execute_result"
    }
   ],
   "source": [
    "imdb_df['Released_Year'] = imdb_df['Released_Year'].replace('PG', '1995')\n",
    "imdb_df[imdb_df['Series_Title'] == 'Apollo 13']"
   ]
  },
  {
   "cell_type": "code",
   "execution_count": 15,
   "id": "3b7581df-5426-46fb-9879-d2e5bb1f9b78",
   "metadata": {
    "tags": []
   },
   "outputs": [],
   "source": [
    "## https://stackoverflow.com/questions/62408093/one-hot-encoding-multiple-categorical-data-in-a-column\n",
    "genre = imdb_df['Genre'].str.split(', ').tolist()\n",
    "\n",
    "flat_genre = [item for sublist in genre for item in sublist]\n",
    "\n",
    "set_genre = set(flat_genre)\n",
    "\n",
    "unique_genre = list(set_genre)\n",
    "\n",
    "imdb_df = imdb_df.reindex(imdb_df.columns.tolist() + unique_genre, axis=1, fill_value=0)\n",
    "\n",
    "# for each value inside column, update the dummy\n",
    "for index, row in imdb_df.iterrows():\n",
    "    for val in row.Genre.split(', '):\n",
    "        if val != 'NA':\n",
    "            imdb_df.loc[index, val] = 1\n",
    "\n",
    "imdb_df.drop('Genre', axis = 1, inplace = True)    "
   ]
  },
  {
   "cell_type": "code",
   "execution_count": 16,
   "id": "23263993-5463-4886-9735-5605fe16340d",
   "metadata": {
    "tags": []
   },
   "outputs": [],
   "source": [
    "## Merge stars\n",
    "imdb_df['Stars'] = ''\n",
    "for i in range(imdb_df.shape[0]):\n",
    "    imdb_df['Stars'][i] = [imdb_df['Star1'][i], imdb_df['Star2'][i], imdb_df['Star3'][i], imdb_df['Star4'][i]]\n",
    "    \n",
    "imdb_df.drop(['Star1', 'Star2', 'Star3', 'Star4'], axis = 1, inplace = True)"
   ]
  },
  {
   "cell_type": "code",
   "execution_count": 17,
   "id": "8fe53be9-02bd-4b03-a717-5b61b6897f86",
   "metadata": {
    "tags": []
   },
   "outputs": [],
   "source": [
    "imdb_df.drop(['Poster_Link', 'Overview'], axis = 1, inplace = True)"
   ]
  },
  {
   "cell_type": "code",
   "execution_count": 18,
   "id": "3775fe29-56ae-4b4f-99f2-596581730e77",
   "metadata": {
    "tags": []
   },
   "outputs": [
    {
     "name": "stdout",
     "output_type": "stream",
     "text": [
      "<class 'pandas.core.frame.DataFrame'>\n",
      "RangeIndex: 1000 entries, 0 to 999\n",
      "Data columns (total 31 columns):\n",
      " #   Column         Non-Null Count  Dtype  \n",
      "---  ------         --------------  -----  \n",
      " 0   Series_Title   1000 non-null   object \n",
      " 1   Released_Year  1000 non-null   object \n",
      " 2   Certificate    1000 non-null   object \n",
      " 3   Runtime        1000 non-null   int32  \n",
      " 4   IMDB_Rating    1000 non-null   float64\n",
      " 5   Meta_score     1000 non-null   float64\n",
      " 6   Director       1000 non-null   object \n",
      " 7   No_of_Votes    1000 non-null   int64  \n",
      " 8   Gross          1000 non-null   float64\n",
      " 9   War            1000 non-null   int64  \n",
      " 10  Drama          1000 non-null   int64  \n",
      " 11  Action         1000 non-null   int64  \n",
      " 12  Adventure      1000 non-null   int64  \n",
      " 13  Musical        1000 non-null   int64  \n",
      " 14  Thriller       1000 non-null   int64  \n",
      " 15  Music          1000 non-null   int64  \n",
      " 16  History        1000 non-null   int64  \n",
      " 17  Mystery        1000 non-null   int64  \n",
      " 18  Crime          1000 non-null   int64  \n",
      " 19  Comedy         1000 non-null   int64  \n",
      " 20  Animation      1000 non-null   int64  \n",
      " 21  Film-Noir      1000 non-null   int64  \n",
      " 22  Sci-Fi         1000 non-null   int64  \n",
      " 23  Biography      1000 non-null   int64  \n",
      " 24  Sport          1000 non-null   int64  \n",
      " 25  Western        1000 non-null   int64  \n",
      " 26  Romance        1000 non-null   int64  \n",
      " 27  Family         1000 non-null   int64  \n",
      " 28  Fantasy        1000 non-null   int64  \n",
      " 29  Horror         1000 non-null   int64  \n",
      " 30  Stars          1000 non-null   object \n",
      "dtypes: float64(3), int32(1), int64(22), object(5)\n",
      "memory usage: 238.4+ KB\n"
     ]
    }
   ],
   "source": [
    "imdb_df.info()"
   ]
  },
  {
   "cell_type": "code",
   "execution_count": 19,
   "id": "1a601c59-4c74-44b2-8536-e62eb7e53f0f",
   "metadata": {
    "tags": []
   },
   "outputs": [],
   "source": [
    "reordered_cols = ['Series_Title', 'Released_Year', 'Certificate', 'Runtime', 'IMDB_Rating', 'Meta_score', 'Director', 'Stars', 'No_of_Votes', 'Gross']\n",
    "final_cols = reordered_cols + unique_genre"
   ]
  },
  {
   "cell_type": "code",
   "execution_count": 20,
   "id": "d3a1ad16-1301-454a-99ac-a4cb4699c616",
   "metadata": {
    "tags": []
   },
   "outputs": [
    {
     "data": {
      "text/plain": [
       "True"
      ]
     },
     "execution_count": 20,
     "metadata": {},
     "output_type": "execute_result"
    }
   ],
   "source": [
    "set(imdb_df.columns) == set(final_cols)"
   ]
  },
  {
   "cell_type": "code",
   "execution_count": 21,
   "id": "798ac527-7edd-49f1-b81e-2edf881d8894",
   "metadata": {
    "tags": []
   },
   "outputs": [],
   "source": [
    "imdb_df = imdb_df[final_cols]"
   ]
  },
  {
   "cell_type": "code",
   "execution_count": 22,
   "id": "33d1a4e4",
   "metadata": {
    "tags": []
   },
   "outputs": [
    {
     "data": {
      "text/html": [
       "<div>\n",
       "<style scoped>\n",
       "    .dataframe tbody tr th:only-of-type {\n",
       "        vertical-align: middle;\n",
       "    }\n",
       "\n",
       "    .dataframe tbody tr th {\n",
       "        vertical-align: top;\n",
       "    }\n",
       "\n",
       "    .dataframe thead th {\n",
       "        text-align: right;\n",
       "    }\n",
       "</style>\n",
       "<table border=\"1\" class=\"dataframe\">\n",
       "  <thead>\n",
       "    <tr style=\"text-align: right;\">\n",
       "      <th></th>\n",
       "      <th>Series_Title</th>\n",
       "      <th>Released_Year</th>\n",
       "      <th>Certificate</th>\n",
       "      <th>Runtime</th>\n",
       "      <th>IMDB_Rating</th>\n",
       "      <th>Meta_score</th>\n",
       "      <th>Director</th>\n",
       "      <th>Stars</th>\n",
       "      <th>No_of_Votes</th>\n",
       "      <th>Gross</th>\n",
       "      <th>...</th>\n",
       "      <th>Animation</th>\n",
       "      <th>Film-Noir</th>\n",
       "      <th>Sci-Fi</th>\n",
       "      <th>Biography</th>\n",
       "      <th>Sport</th>\n",
       "      <th>Western</th>\n",
       "      <th>Romance</th>\n",
       "      <th>Family</th>\n",
       "      <th>Fantasy</th>\n",
       "      <th>Horror</th>\n",
       "    </tr>\n",
       "  </thead>\n",
       "  <tbody>\n",
       "    <tr>\n",
       "      <th>0</th>\n",
       "      <td>The Shawshank Redemption</td>\n",
       "      <td>1994</td>\n",
       "      <td>A</td>\n",
       "      <td>142</td>\n",
       "      <td>9.3</td>\n",
       "      <td>80.0</td>\n",
       "      <td>Frank Darabont</td>\n",
       "      <td>[Tim Robbins, Morgan Freeman, Bob Gunton, Will...</td>\n",
       "      <td>2343110</td>\n",
       "      <td>28341469.0</td>\n",
       "      <td>...</td>\n",
       "      <td>0</td>\n",
       "      <td>0</td>\n",
       "      <td>0</td>\n",
       "      <td>0</td>\n",
       "      <td>0</td>\n",
       "      <td>0</td>\n",
       "      <td>0</td>\n",
       "      <td>0</td>\n",
       "      <td>0</td>\n",
       "      <td>0</td>\n",
       "    </tr>\n",
       "    <tr>\n",
       "      <th>1</th>\n",
       "      <td>The Godfather</td>\n",
       "      <td>1972</td>\n",
       "      <td>A</td>\n",
       "      <td>175</td>\n",
       "      <td>9.2</td>\n",
       "      <td>100.0</td>\n",
       "      <td>Francis Ford Coppola</td>\n",
       "      <td>[Marlon Brando, Al Pacino, James Caan, Diane K...</td>\n",
       "      <td>1620367</td>\n",
       "      <td>134966411.0</td>\n",
       "      <td>...</td>\n",
       "      <td>0</td>\n",
       "      <td>0</td>\n",
       "      <td>0</td>\n",
       "      <td>0</td>\n",
       "      <td>0</td>\n",
       "      <td>0</td>\n",
       "      <td>0</td>\n",
       "      <td>0</td>\n",
       "      <td>0</td>\n",
       "      <td>0</td>\n",
       "    </tr>\n",
       "    <tr>\n",
       "      <th>2</th>\n",
       "      <td>The Dark Knight</td>\n",
       "      <td>2008</td>\n",
       "      <td>UA</td>\n",
       "      <td>152</td>\n",
       "      <td>9.0</td>\n",
       "      <td>84.0</td>\n",
       "      <td>Christopher Nolan</td>\n",
       "      <td>[Christian Bale, Heath Ledger, Aaron Eckhart, ...</td>\n",
       "      <td>2303232</td>\n",
       "      <td>534858444.0</td>\n",
       "      <td>...</td>\n",
       "      <td>0</td>\n",
       "      <td>0</td>\n",
       "      <td>0</td>\n",
       "      <td>0</td>\n",
       "      <td>0</td>\n",
       "      <td>0</td>\n",
       "      <td>0</td>\n",
       "      <td>0</td>\n",
       "      <td>0</td>\n",
       "      <td>0</td>\n",
       "    </tr>\n",
       "    <tr>\n",
       "      <th>3</th>\n",
       "      <td>The Godfather: Part II</td>\n",
       "      <td>1974</td>\n",
       "      <td>A</td>\n",
       "      <td>202</td>\n",
       "      <td>9.0</td>\n",
       "      <td>90.0</td>\n",
       "      <td>Francis Ford Coppola</td>\n",
       "      <td>[Al Pacino, Robert De Niro, Robert Duvall, Dia...</td>\n",
       "      <td>1129952</td>\n",
       "      <td>57300000.0</td>\n",
       "      <td>...</td>\n",
       "      <td>0</td>\n",
       "      <td>0</td>\n",
       "      <td>0</td>\n",
       "      <td>0</td>\n",
       "      <td>0</td>\n",
       "      <td>0</td>\n",
       "      <td>0</td>\n",
       "      <td>0</td>\n",
       "      <td>0</td>\n",
       "      <td>0</td>\n",
       "    </tr>\n",
       "    <tr>\n",
       "      <th>4</th>\n",
       "      <td>12 Angry Men</td>\n",
       "      <td>1957</td>\n",
       "      <td>U</td>\n",
       "      <td>96</td>\n",
       "      <td>9.0</td>\n",
       "      <td>96.0</td>\n",
       "      <td>Sidney Lumet</td>\n",
       "      <td>[Henry Fonda, Lee J. Cobb, Martin Balsam, John...</td>\n",
       "      <td>689845</td>\n",
       "      <td>4360000.0</td>\n",
       "      <td>...</td>\n",
       "      <td>0</td>\n",
       "      <td>0</td>\n",
       "      <td>0</td>\n",
       "      <td>0</td>\n",
       "      <td>0</td>\n",
       "      <td>0</td>\n",
       "      <td>0</td>\n",
       "      <td>0</td>\n",
       "      <td>0</td>\n",
       "      <td>0</td>\n",
       "    </tr>\n",
       "  </tbody>\n",
       "</table>\n",
       "<p>5 rows × 31 columns</p>\n",
       "</div>"
      ],
      "text/plain": [
       "               Series_Title Released_Year Certificate  Runtime  IMDB_Rating  \\\n",
       "0  The Shawshank Redemption          1994           A      142          9.3   \n",
       "1             The Godfather          1972           A      175          9.2   \n",
       "2           The Dark Knight          2008          UA      152          9.0   \n",
       "3    The Godfather: Part II          1974           A      202          9.0   \n",
       "4              12 Angry Men          1957           U       96          9.0   \n",
       "\n",
       "   Meta_score              Director  \\\n",
       "0        80.0        Frank Darabont   \n",
       "1       100.0  Francis Ford Coppola   \n",
       "2        84.0     Christopher Nolan   \n",
       "3        90.0  Francis Ford Coppola   \n",
       "4        96.0          Sidney Lumet   \n",
       "\n",
       "                                               Stars  No_of_Votes  \\\n",
       "0  [Tim Robbins, Morgan Freeman, Bob Gunton, Will...      2343110   \n",
       "1  [Marlon Brando, Al Pacino, James Caan, Diane K...      1620367   \n",
       "2  [Christian Bale, Heath Ledger, Aaron Eckhart, ...      2303232   \n",
       "3  [Al Pacino, Robert De Niro, Robert Duvall, Dia...      1129952   \n",
       "4  [Henry Fonda, Lee J. Cobb, Martin Balsam, John...       689845   \n",
       "\n",
       "         Gross  ...  Animation  Film-Noir  Sci-Fi  Biography  Sport  Western  \\\n",
       "0   28341469.0  ...          0          0       0          0      0        0   \n",
       "1  134966411.0  ...          0          0       0          0      0        0   \n",
       "2  534858444.0  ...          0          0       0          0      0        0   \n",
       "3   57300000.0  ...          0          0       0          0      0        0   \n",
       "4    4360000.0  ...          0          0       0          0      0        0   \n",
       "\n",
       "   Romance  Family  Fantasy  Horror  \n",
       "0        0       0        0       0  \n",
       "1        0       0        0       0  \n",
       "2        0       0        0       0  \n",
       "3        0       0        0       0  \n",
       "4        0       0        0       0  \n",
       "\n",
       "[5 rows x 31 columns]"
      ]
     },
     "execution_count": 22,
     "metadata": {},
     "output_type": "execute_result"
    }
   ],
   "source": [
    "imdb_df.head()"
   ]
  },
  {
   "cell_type": "markdown",
   "id": "b8101566",
   "metadata": {},
   "source": [
    "## Exploratory Data Analysis\n",
    "\n",
    "The primary aim of this analysis is to delve into and thoroughly examine the dataset, with the goal of acquiring valuable insights into the top 1000 movies featured on IMDb. This exploration seeks to understand the distinct features of these movies, uncover any connections between variables, and detect potential patterns or trends that may emerge.\n",
    "\n",
    "* Answer the EDA questions using both:\n",
    " - Numerical Summaries – measures of central tendency, measures of dispersion, and correlation\n",
    " - Visualization – Appropriate visualization should be used. Each visualization should be accompanied by a brief explanation.\n",
    "\n",
    "### What is the distribution of movie ratings on IMDb?\n",
    "\n",
    "The primary focus to answer this question is the variable:\n",
    "* `IMDB_Rating`: numerical score based on user reviews and rating on IMDb\n",
    "\n",
    "Write code to select the `IMDB_Rating` column as a series."
   ]
  },
  {
   "cell_type": "code",
   "execution_count": 24,
   "id": "ae7f64cb",
   "metadata": {},
   "outputs": [
    {
     "data": {
      "text/plain": [
       "0      9.3\n",
       "1      9.2\n",
       "2      9.0\n",
       "3      9.0\n",
       "4      9.0\n",
       "      ... \n",
       "995    7.6\n",
       "996    7.6\n",
       "997    7.6\n",
       "998    7.6\n",
       "999    7.6\n",
       "Name: IMDB_Rating, Length: 1000, dtype: float64"
      ]
     },
     "execution_count": 24,
     "metadata": {},
     "output_type": "execute_result"
    }
   ],
   "source": [
    "imdb_df[\"IMDB_Rating\"]"
   ]
  },
  {
   "cell_type": "markdown",
   "id": "8bb061fb",
   "metadata": {},
   "source": [
    "To understand its distribution numerically, one can look at the mean, median, mode, and standard deviation of the IMDB rating."
   ]
  },
  {
   "cell_type": "code",
   "execution_count": 27,
   "id": "925c7616",
   "metadata": {},
   "outputs": [
    {
     "data": {
      "text/plain": [
       "7.949299999999999"
      ]
     },
     "execution_count": 27,
     "metadata": {},
     "output_type": "execute_result"
    }
   ],
   "source": [
    "imdb_df[\"IMDB_Rating\"].mean()"
   ]
  },
  {
   "cell_type": "code",
   "execution_count": 28,
   "id": "7a76eaf3",
   "metadata": {},
   "outputs": [
    {
     "data": {
      "text/plain": [
       "7.9"
      ]
     },
     "execution_count": 28,
     "metadata": {},
     "output_type": "execute_result"
    }
   ],
   "source": [
    "imdb_df[\"IMDB_Rating\"].median()"
   ]
  },
  {
   "cell_type": "code",
   "execution_count": 29,
   "id": "d4a0b2a2",
   "metadata": {},
   "outputs": [
    {
     "data": {
      "text/plain": [
       "0    7.7\n",
       "Name: IMDB_Rating, dtype: float64"
      ]
     },
     "execution_count": 29,
     "metadata": {},
     "output_type": "execute_result"
    }
   ],
   "source": [
    "imdb_df[\"IMDB_Rating\"].mode()"
   ]
  },
  {
   "cell_type": "code",
   "execution_count": 30,
   "id": "70747d4e",
   "metadata": {},
   "outputs": [
    {
     "data": {
      "text/plain": [
       "0.27549120749200917"
      ]
     },
     "execution_count": 30,
     "metadata": {},
     "output_type": "execute_result"
    }
   ],
   "source": [
    "imdb_df[\"IMDB_Rating\"].std()"
   ]
  },
  {
   "cell_type": "markdown",
   "id": "01d31ea1",
   "metadata": {},
   "source": [
    "It can be said that <>.\n",
    "\n",
    "Create a histogram to further understand and visualize the distribution of the movie ratings."
   ]
  },
  {
   "cell_type": "code",
   "execution_count": 54,
   "id": "70475bdc",
   "metadata": {
    "scrolled": true
   },
   "outputs": [
    {
     "data": {
      "text/plain": [
       "array([[<Axes: title={'center': 'IMDB_Rating'}>]], dtype=object)"
      ]
     },
     "execution_count": 54,
     "metadata": {},
     "output_type": "execute_result"
    },
    {
     "data": {
      "image/png": "[encoded data removed]",
      "text/plain": [
       "<Figure size 1000x200 with 1 Axes>"
      ]
     },
     "metadata": {},
     "output_type": "display_data"
    }
   ],
   "source": [
    "imdb_df.hist(\"IMDB_Rating\", bins=30, edgecolor='w', figsize=(10, 2))"
   ]
  },
  {
   "cell_type": "markdown",
   "id": "35daec17",
   "metadata": {},
   "source": [
    "Put interpretation"
   ]
  },
  {
   "cell_type": "markdown",
   "id": "7aed817c",
   "metadata": {},
   "source": [
    "### What is the distribution of the gross earnings for movies?\n",
    "\n",
    "The primary focus to answer this question is the variable:\n",
    "\n",
    "- `Gross`: amount of money earned or grossed by the movie"
   ]
  },
  {
   "cell_type": "code",
   "execution_count": 45,
   "id": "bfe28b54",
   "metadata": {},
   "outputs": [
    {
     "data": {
      "text/plain": [
       "0      2.834147e+07\n",
       "1      1.349664e+08\n",
       "2      5.348584e+08\n",
       "3      5.730000e+07\n",
       "4      4.360000e+06\n",
       "           ...     \n",
       "995    6.803475e+07\n",
       "996    6.803475e+07\n",
       "997    3.050000e+07\n",
       "998    6.803475e+07\n",
       "999    6.803475e+07\n",
       "Name: Gross, Length: 1000, dtype: float64"
      ]
     },
     "execution_count": 45,
     "metadata": {},
     "output_type": "execute_result"
    }
   ],
   "source": [
    "imdb_df[\"Gross\"]"
   ]
  },
  {
   "cell_type": "markdown",
   "id": "e7b10e6e",
   "metadata": {},
   "source": [
    "Similar to IMDB_Ratings' distribution, one can also get the mean, median, mode, and standard deviation of the gross earnings to generate insights about the variable."
   ]
  },
  {
   "cell_type": "code",
   "execution_count": 47,
   "id": "ea5d634c",
   "metadata": {},
   "outputs": [
    {
     "data": {
      "text/plain": [
       "68034750.87364621"
      ]
     },
     "execution_count": 47,
     "metadata": {},
     "output_type": "execute_result"
    }
   ],
   "source": [
    "imdb_df[\"Gross\"].mean()"
   ]
  },
  {
   "cell_type": "code",
   "execution_count": 48,
   "id": "3d2b2652",
   "metadata": {},
   "outputs": [
    {
     "data": {
      "text/plain": [
       "42389449.0"
      ]
     },
     "execution_count": 48,
     "metadata": {},
     "output_type": "execute_result"
    }
   ],
   "source": [
    "imdb_df[\"Gross\"].median()"
   ]
  },
  {
   "cell_type": "code",
   "execution_count": 49,
   "id": "be3cee19",
   "metadata": {},
   "outputs": [
    {
     "data": {
      "text/plain": [
       "0    6.803475e+07\n",
       "Name: Gross, dtype: float64"
      ]
     },
     "execution_count": 49,
     "metadata": {},
     "output_type": "execute_result"
    }
   ],
   "source": [
    "imdb_df[\"Gross\"].mode()"
   ]
  },
  {
   "cell_type": "code",
   "execution_count": 50,
   "id": "57b4e2c6",
   "metadata": {},
   "outputs": [
    {
     "data": {
      "text/plain": [
       "100037078.9314189"
      ]
     },
     "execution_count": 50,
     "metadata": {},
     "output_type": "execute_result"
    }
   ],
   "source": [
    "imdb_df[\"Gross\"].std()"
   ]
  },
  {
   "cell_type": "markdown",
   "id": "156b520d",
   "metadata": {},
   "source": [
    "The <> interpretation chuchu\n",
    "\n",
    "A histogram will also be useful in this case to visualize the distribution of gross earnings."
   ]
  },
  {
   "cell_type": "code",
   "execution_count": 57,
   "id": "21a01d49",
   "metadata": {
    "scrolled": false
   },
   "outputs": [
    {
     "data": {
      "text/plain": [
       "array([[<Axes: title={'center': 'Gross'}>]], dtype=object)"
      ]
     },
     "execution_count": 57,
     "metadata": {},
     "output_type": "execute_result"
    },
    {
     "data": {
      "image/png": "[encoded data removed]",
      "text/plain": [
       "<Figure size 1000x300 with 1 Axes>"
      ]
     },
     "metadata": {},
     "output_type": "display_data"
    }
   ],
   "source": [
    "imdb_df.hist(\"Gross\", bins=30, edgecolor='w', figsize=(10, 3))"
   ]
  },
  {
   "cell_type": "markdown",
   "id": "73eb4682",
   "metadata": {},
   "source": [
    "### What are the most common movie genres in the dataset?\n",
    "\n",
    "The primary focus to answer this question are the variables:\n",
    "\n",
    "- `War`: \n",
    "- `Drama`:\n",
    "- `Action`:\n",
    "- `Adventure`:\n",
    "- `Musical`:\n",
    "- `Thriller`:\n",
    "- `Music`:\n",
    "- `History`:\n",
    "- `Mystery`:\n",
    "- `Crime`:\n",
    "- `Comedy`:\n",
    "- `Animation`:\n",
    "- `Film-Noir`:\n",
    "- `Sci-Fi`:\n",
    "- `Biography`:\n",
    "- `Sport`:\n",
    "- `Western`:\n",
    "- `Romance`:\n",
    "- `Family`:\n",
    "- `Fantasy`:\n",
    "- `Horror`:"
   ]
  },
  {
   "cell_type": "code",
   "execution_count": 73,
   "id": "034c12ad",
   "metadata": {
    "scrolled": true
   },
   "outputs": [],
   "source": [
    "genre_columns = ['War', 'Drama', 'Action', 'Adventure', 'Musical', 'Thriller', 'Music', 'History', 'Mystery', 'Crime', 'Comedy', 'Animation', 'Film-Noir', 'Sci-Fi', 'Biography', 'Sport', 'Western', 'Romance', 'Family', 'Fantasy', 'Horror']"
   ]
  },
  {
   "cell_type": "markdown",
   "id": "eb2d32c1",
   "metadata": {},
   "source": [
    "Use the panda function, `dtypes` to check the data types of the genre variables in the IMDb dataset."
   ]
  },
  {
   "cell_type": "code",
   "execution_count": 77,
   "id": "cc566af5",
   "metadata": {},
   "outputs": [
    {
     "data": {
      "text/plain": [
       "War          bool\n",
       "Drama        bool\n",
       "Action       bool\n",
       "Adventure    bool\n",
       "Musical      bool\n",
       "Thriller     bool\n",
       "Music        bool\n",
       "History      bool\n",
       "Mystery      bool\n",
       "Crime        bool\n",
       "Comedy       bool\n",
       "Animation    bool\n",
       "Film-Noir    bool\n",
       "Sci-Fi       bool\n",
       "Biography    bool\n",
       "Sport        bool\n",
       "Western      bool\n",
       "Romance      bool\n",
       "Family       bool\n",
       "Fantasy      bool\n",
       "Horror       bool\n",
       "dtype: object"
      ]
     },
     "execution_count": 77,
     "metadata": {},
     "output_type": "execute_result"
    }
   ],
   "source": [
    "imdb_df[genre_columns].dtypes"
   ]
  },
  {
   "cell_type": "markdown",
   "id": "144bd376",
   "metadata": {},
   "source": [
    "The datatype is seen to be int64. To convert it, use the following code, `astype` to bool."
   ]
  },
  {
   "cell_type": "code",
   "execution_count": 78,
   "id": "5a58aa58",
   "metadata": {},
   "outputs": [],
   "source": [
    "imdb_df[genre_columns] = imdb_df[genre_columns].astype(bool)"
   ]
  },
  {
   "cell_type": "markdown",
   "id": "b1c0908a",
   "metadata": {},
   "source": [
    "Now that the genres are in a boolean datatype, you can use the `sum` function to count how many movies have the genres for the following."
   ]
  },
  {
   "cell_type": "code",
   "execution_count": 79,
   "id": "d5e26f02",
   "metadata": {},
   "outputs": [],
   "source": [
    "genre_counts = imdb_df[genre_columns].sum()"
   ]
  },
  {
   "cell_type": "markdown",
   "id": "adcf63a0",
   "metadata": {},
   "source": [
    "Sort values based on the genre counts."
   ]
  },
  {
   "cell_type": "code",
   "execution_count": 81,
   "id": "a2619d97",
   "metadata": {},
   "outputs": [
    {
     "data": {
      "text/plain": [
       "Drama        724\n",
       "Comedy       233\n",
       "Crime        209\n",
       "Adventure    196\n",
       "Action       189\n",
       "Thriller     137\n",
       "Romance      125\n",
       "Biography    109\n",
       "Mystery       99\n",
       "Animation     82\n",
       "Sci-Fi        67\n",
       "Fantasy       66\n",
       "Family        56\n",
       "History       56\n",
       "War           51\n",
       "Music         35\n",
       "Horror        32\n",
       "Western       20\n",
       "Sport         19\n",
       "Film-Noir     19\n",
       "Musical       17\n",
       "dtype: int64"
      ]
     },
     "execution_count": 81,
     "metadata": {},
     "output_type": "execute_result"
    }
   ],
   "source": [
    "genre_counts.sort_values(ascending=False)"
   ]
  },
  {
   "cell_type": "markdown",
   "id": "28abfbe9",
   "metadata": {},
   "source": [
    "### Which genre has the most gross earnings for movies?\n",
    "\n",
    "The primary focus to answer this question are the variables:\n"
   ]
  },
  {
   "cell_type": "markdown",
   "id": "d516873d",
   "metadata": {},
   "source": [
    "### How has the distribution of movie releases evolved over time?\n",
    "\n",
    "The primary focus to answer this question are the variables:\n"
   ]
  },
  {
   "cell_type": "markdown",
   "id": "adac8de8",
   "metadata": {},
   "source": [
    "### Are there commonalities among the top-rated movies, top-voted movies, and highest-grossing movies?\n"
   ]
  },
  {
   "cell_type": "markdown",
   "id": "e95db8f7",
   "metadata": {},
   "source": [
    "### How does the movie's gross earnings relate to its IMDb rating?\n"
   ]
  },
  {
   "cell_type": "markdown",
   "id": "63936c1c",
   "metadata": {},
   "source": [
    "### Is there a relationship between the movie's genres and the movie's gross earnings?\n"
   ]
  },
  {
   "cell_type": "markdown",
   "id": "b08cc974",
   "metadata": {},
   "source": [
    "### Are there any trends or patterns in the relationship between the movie's gross earnings and the metascore from critics of movies?\n"
   ]
  },
  {
   "cell_type": "markdown",
   "id": "15bb7e9d",
   "metadata": {},
   "source": [
    "### Are there any trends or patterns in the relationship between the movie's director and the metascore from critics of movies and the gross earnings?\n"
   ]
  },
  {
   "cell_type": "markdown",
   "id": "6e5b0c90",
   "metadata": {},
   "source": [
    "### Is there any relationship between the movie's rating on IMDb and the metascore earned by the movie?\n"
   ]
  },
  {
   "cell_type": "markdown",
   "id": "8166473e",
   "metadata": {},
   "source": [
    "###  How does the distribution of ratings, votes, and earnings change over time?\n"
   ]
  },
  {
   "cell_type": "markdown",
   "id": "b019f6ce",
   "metadata": {},
   "source": [
    "### How do ratings, votes, and earnings correlate with each other?\n"
   ]
  }
 ],
 "metadata": {
  "kernelspec": {
   "display_name": "Python 3 (ipykernel)",
   "language": "python",
   "name": "python3"
  },
  "language_info": {
   "codemirror_mode": {
    "name": "ipython",
    "version": 3
   },
   "file_extension": ".py",
   "mimetype": "text/x-python",
   "name": "python",
   "nbconvert_exporter": "python",
   "pygments_lexer": "ipython3",
   "version": "3.11.4"
  }
 },
 "nbformat": 4,
 "nbformat_minor": 5
}
