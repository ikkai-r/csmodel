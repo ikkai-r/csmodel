{
 "cells": [
  {
   "cell_type": "markdown",
   "id": "a97fb3a8",
   "metadata": {},
   "source": [
    "## <> Dataset\n",
    "\n",
    "* State a brief description of the dataset. Provide a description of the collection process executed to build the dataset. Discuss the implications of the data collection method on the generated conclusions and insights. Note that you may need to look at relevant sources related to the dataset to acquire necessary information for this part of the project.\n",
    "* Describe the structure of the dataset file.\n",
    "    * What does each row and column represent?\n",
    "    * How many observations are there in the dataset?\n",
    "    * How many variables are there in the dataset?\n",
    "* If the dataset is composed of different files that you will combine in the succeeding steps, describe the structure and the contents of each file.\n",
    "* Discuss the variables in each dataset file. What does each variable represent? All variables, even those which are not used for the study, should be described to the reader.\n",
    "* The purpose of each variable in the dataset should be clear to the reader of the notebook without having to go through an external link.\n"
   ]
  },
  {
   "cell_type": "markdown",
   "id": "d0f62f7f",
   "metadata": {},
   "source": [
    "## Reading the Dataset\n",
    "Our first step is to load the dataset using pandas. This will load the dataset into a pandas `DataFrame`. To load the dataset, we use the [`read_csv`](https://pandas.pydata.org/pandas-docs/stable/reference/api/pandas.read_csv.html) function. Note that you may need to change the path depending on the location of the file in your machine."
   ]
  },
  {
   "cell_type": "code",
   "execution_count": null,
   "id": "e356d0c4",
   "metadata": {},
   "outputs": [],
   "source": []
  }
 ],
 "metadata": {
  "kernelspec": {
   "display_name": "Python 3 (ipykernel)",
   "language": "python",
   "name": "python3"
  },
  "language_info": {
   "codemirror_mode": {
    "name": "ipython",
    "version": 3
   },
   "file_extension": ".py",
   "mimetype": "text/x-python",
   "name": "python",
   "nbconvert_exporter": "python",
   "pygments_lexer": "ipython3",
   "version": "3.11.4"
  }
 },
 "nbformat": 4,
 "nbformat_minor": 5
}
