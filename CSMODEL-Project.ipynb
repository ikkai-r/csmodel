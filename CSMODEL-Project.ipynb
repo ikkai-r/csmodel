{
 "cells": [
  {
   "cell_type": "markdown",
   "id": "10a3f717",
   "metadata": {},
   "source": [
    "## The Dataset\n",
    "\n",
    "The IMDb Movies Dataset comprises the top 1000 most popular and highly-rated films on the IMDb website, which serves as an extensive online database for information on movies, television series, videos, and related content.\n",
    "\n",
    "According to the information page of the dataset, the IMDb Movies Dataset was constructed using web scraping techniques to extract information directly from the IMDB site itself. Web scraping is an automated extraction of data from relevant webpages in a short amount of time (Hillier, 2021).\n",
    "\n",
    "Knowing this, the dataset could potentially have data inconsistencies due to variations in how information is presented on web pages. As such, data cleaning and preprocessing efforts are required for this dataset.\n",
    "\n",
    "In the dataset, one can see that there are a total of 1000 observations (rows), across 16 variables (columns). Here are the descriptions of each variable in the dataset:\n",
    "\n",
    "- **`Poster_Link`** - link to the image of the movie's poster on IMDb\n",
    "- **`Series_Title`** - title of the movie\n",
    "- **`Released_Year`** - year in which the movie was publicly released\n",
    "- **`Certificate`** - rating that indicates the appropriate audience or age group for which the movie is suitable\n",
    "- **`Runtime`** - total duration or length of the movie, measured in minutes\n",
    "- **`Genre`** - type, category, or theme of the movie\n",
    "- **`IMDB_Rating`** - numerical score based on user reviews and rating on IMDb\n",
    "- **`Overview`** - brief summary or description of the movie's plot, storyline, or premise\n",
    "- **`Meta_score`** - numerical score based on reputed critics on IMDb\n",
    "- **`Director`** - name of the movie's director\n",
    "- **`Star1`** - name of the first lead actor/actress in the movie\n",
    "- **`Star2`** - name of the second lead actor/actress in the movie\n",
    "- **`Star3`** - name of the third lead actor/actress in the movie\n",
    "- **`Star4`** - name of the fourth lead actor/actress in the movie\n",
    "- **`No_of_votes`** - total number of votes or user reviews/ratings the movie has received on IMDb\n",
    "- **`Gross`** - amount of money earned or grossed by the movie\n"
   ]
  },
  {
   "cell_type": "markdown",
   "id": "36940e43",
   "metadata": {},
   "source": [
    "## Reading the Dataset\n",
    "\n",
    "The function [`read_csv`](https://pandas.pydata.org/pandas-docs/stable/reference/api/pandas.read_csv.html) will load the IMDb Movie Dataset into a pandas `DataFrame`. Now, one can perform various data manipulation and analysis tasks with the dataset. Make sure to replace `'imdb_top_1000.csv'` in the `read_csv` parameter with the actual path to the dataset file in your local storage.\n"
   ]
  },
  {
   "cell_type": "code",
   "execution_count": 1,
   "id": "fc814c14",
   "metadata": {
    "tags": []
   },
   "outputs": [],
   "source": [
    "import pandas as pd\n",
    "import numpy as np\n",
    "import matplotlib.pyplot as plt\n",
    "from pandas.plotting import scatter_matrix\n",
    "import warnings\n",
    "warnings.filterwarnings(\"ignore\")"
   ]
  },
  {
   "cell_type": "code",
   "execution_count": 2,
   "id": "6a8210dd-d94e-44d5-801c-335cc381cafe",
   "metadata": {
    "tags": []
   },
   "outputs": [],
   "source": [
    "imdb_df = pd.read_csv(\"imdb_top_1000.csv\")"
   ]
  },
  {
   "cell_type": "markdown",
   "id": "f312c3b7-7e18-4a27-9fcb-3853d2a7dde8",
   "metadata": {},
   "source": [
    "## Data Cleaning\n",
    "\n",
    "The researchers took a better look at the dataset prior to data cleaning. It seems like there are missing values in some of the variables. There are also inconsistent data types.\n"
   ]
  },
  {
   "cell_type": "markdown",
   "id": "9ffc2b0e",
   "metadata": {},
   "source": [
    "### A. General Information\n"
   ]
  },
  {
   "cell_type": "code",
   "execution_count": 3,
   "id": "1bfb2774-2948-4262-b8c3-a62474ca03f5",
   "metadata": {
    "scrolled": true,
    "tags": []
   },
   "outputs": [
    {
     "name": "stdout",
     "output_type": "stream",
     "text": [
      "<class 'pandas.core.frame.DataFrame'>\n",
      "RangeIndex: 1000 entries, 0 to 999\n",
      "Data columns (total 16 columns):\n",
      " #   Column         Non-Null Count  Dtype  \n",
      "---  ------         --------------  -----  \n",
      " 0   Poster_Link    1000 non-null   object \n",
      " 1   Series_Title   1000 non-null   object \n",
      " 2   Released_Year  1000 non-null   object \n",
      " 3   Certificate    899 non-null    object \n",
      " 4   Runtime        1000 non-null   object \n",
      " 5   Genre          1000 non-null   object \n",
      " 6   IMDB_Rating    1000 non-null   float64\n",
      " 7   Overview       1000 non-null   object \n",
      " 8   Meta_score     843 non-null    float64\n",
      " 9   Director       1000 non-null   object \n",
      " 10  Star1          1000 non-null   object \n",
      " 11  Star2          1000 non-null   object \n",
      " 12  Star3          1000 non-null   object \n",
      " 13  Star4          1000 non-null   object \n",
      " 14  No_of_Votes    1000 non-null   int64  \n",
      " 15  Gross          831 non-null    object \n",
      "dtypes: float64(2), int64(1), object(13)\n",
      "memory usage: 125.1+ KB\n"
     ]
    }
   ],
   "source": [
    "# Display general information\n",
    "imdb_df.info()"
   ]
  },
  {
   "cell_type": "markdown",
   "id": "a12fb1e1",
   "metadata": {},
   "source": [
    "### B. Dropping of Variables\n"
   ]
  },
  {
   "cell_type": "code",
   "execution_count": 4,
   "id": "f796d799",
   "metadata": {},
   "outputs": [
    {
     "name": "stdout",
     "output_type": "stream",
     "text": [
      "<class 'pandas.core.frame.DataFrame'>\n",
      "RangeIndex: 1000 entries, 0 to 999\n",
      "Data columns (total 14 columns):\n",
      " #   Column         Non-Null Count  Dtype  \n",
      "---  ------         --------------  -----  \n",
      " 0   Series_Title   1000 non-null   object \n",
      " 1   Released_Year  1000 non-null   object \n",
      " 2   Certificate    899 non-null    object \n",
      " 3   Runtime        1000 non-null   object \n",
      " 4   Genre          1000 non-null   object \n",
      " 5   IMDB_Rating    1000 non-null   float64\n",
      " 6   Meta_score     843 non-null    float64\n",
      " 7   Director       1000 non-null   object \n",
      " 8   Star1          1000 non-null   object \n",
      " 9   Star2          1000 non-null   object \n",
      " 10  Star3          1000 non-null   object \n",
      " 11  Star4          1000 non-null   object \n",
      " 12  No_of_Votes    1000 non-null   int64  \n",
      " 13  Gross          831 non-null    object \n",
      "dtypes: float64(2), int64(1), object(11)\n",
      "memory usage: 109.5+ KB\n"
     ]
    }
   ],
   "source": [
    "# Drop variables not utilized in the study\n",
    "imdb_df = imdb_df.drop(columns=['Poster_Link', 'Overview'])\n",
    "imdb_df.info()"
   ]
  },
  {
   "cell_type": "markdown",
   "id": "3b951cd3",
   "metadata": {},
   "source": [
    "### C. Missing Data\n"
   ]
  },
  {
   "cell_type": "code",
   "execution_count": 5,
   "id": "6c426e8e-baf2-4632-b9ee-5cbececb12b2",
   "metadata": {
    "scrolled": true,
    "tags": []
   },
   "outputs": [
    {
     "data": {
      "text/plain": [
       "Series_Title       0\n",
       "Released_Year      0\n",
       "Certificate      101\n",
       "Runtime            0\n",
       "Genre              0\n",
       "IMDB_Rating        0\n",
       "Meta_score       157\n",
       "Director           0\n",
       "Star1              0\n",
       "Star2              0\n",
       "Star3              0\n",
       "Star4              0\n",
       "No_of_Votes        0\n",
       "Gross            169\n",
       "dtype: int64"
      ]
     },
     "execution_count": 5,
     "metadata": {},
     "output_type": "execute_result"
    }
   ],
   "source": [
    "# Check for missing data\n",
    "imdb_df.isnull().sum()"
   ]
  },
  {
   "cell_type": "markdown",
   "id": "3d5dfc0a-06b7-4252-8ee5-e9da6920d63b",
   "metadata": {
    "tags": []
   },
   "source": [
    "There are missing values in the following variables. Since they are important to the analysis, imputation will be done.\n",
    "\n",
    "- Certificate\n",
    "- Meta_score\n",
    "- Gross\n"
   ]
  },
  {
   "cell_type": "markdown",
   "id": "e4ec18a7",
   "metadata": {},
   "source": [
    "#### C.1 Missing Data - Certificate\n"
   ]
  },
  {
   "cell_type": "code",
   "execution_count": 6,
   "id": "cc7d9d08-7af1-405a-a883-a739665c0c9b",
   "metadata": {
    "tags": []
   },
   "outputs": [
    {
     "data": {
      "text/plain": [
       "Certificate\n",
       "U           234\n",
       "A           197\n",
       "UA          175\n",
       "R           146\n",
       "PG-13        43\n",
       "PG           37\n",
       "Passed       34\n",
       "G            12\n",
       "Approved     11\n",
       "TV-PG         3\n",
       "GP            2\n",
       "TV-14         1\n",
       "16            1\n",
       "TV-MA         1\n",
       "Unrated       1\n",
       "U/A           1\n",
       "Name: count, dtype: int64"
      ]
     },
     "execution_count": 6,
     "metadata": {},
     "output_type": "execute_result"
    }
   ],
   "source": [
    "# Find the most frequent Certificate category\n",
    "imdb_df['Certificate'].value_counts()"
   ]
  },
  {
   "cell_type": "markdown",
   "id": "acadac2d-2127-4094-afbf-5a4be28bdb71",
   "metadata": {},
   "source": [
    "Note: There are different types of Certificate values, which may seem inconsistent. (insert source bc of diff values)\n"
   ]
  },
  {
   "cell_type": "code",
   "execution_count": 7,
   "id": "32e06404-b8db-40ae-b179-907ab7b821a3",
   "metadata": {
    "tags": []
   },
   "outputs": [],
   "source": [
    "# Replace null values in Certificate to the most frequent category\n",
    "imdb_df['Certificate'].fillna('U', inplace=True)"
   ]
  },
  {
   "cell_type": "markdown",
   "id": "6dec86aa",
   "metadata": {},
   "source": [
    "#### C.2 Missing Data - Meta_score\n"
   ]
  },
  {
   "cell_type": "code",
   "execution_count": 8,
   "id": "b5b5f8c8",
   "metadata": {},
   "outputs": [
    {
     "data": {
      "text/plain": [
       "0       80.0\n",
       "1      100.0\n",
       "2       84.0\n",
       "3       90.0\n",
       "4       96.0\n",
       "       ...  \n",
       "995     76.0\n",
       "996     84.0\n",
       "997     85.0\n",
       "998     78.0\n",
       "999     93.0\n",
       "Name: Meta_score, Length: 1000, dtype: float64"
      ]
     },
     "metadata": {},
     "output_type": "display_data"
    }
   ],
   "source": [
    "# Check the contents of Meta_score\n",
    "display(imdb_df['Meta_score'])"
   ]
  },
  {
   "cell_type": "code",
   "execution_count": 9,
   "id": "177b2eb3-75d7-4ded-8e2a-151c041d0895",
   "metadata": {
    "tags": []
   },
   "outputs": [],
   "source": [
    "# Replace null values in Meta_score with the mean\n",
    "imdb_df['Meta_score'].fillna(round(imdb_df['Meta_score'].mean()), inplace=True)\n",
    "\n",
    "# Convert Meta_score data to int\n",
    "imdb_df['Meta_score'] = imdb_df['Meta_score'].astype('int')"
   ]
  },
  {
   "cell_type": "markdown",
   "id": "d1192af1",
   "metadata": {},
   "source": [
    "#### C.3 Missing Data - Gross\n"
   ]
  },
  {
   "cell_type": "code",
   "execution_count": 10,
   "id": "d277c1f1",
   "metadata": {},
   "outputs": [
    {
     "data": {
      "text/plain": [
       "0       28,341,469\n",
       "1      134,966,411\n",
       "2      534,858,444\n",
       "3       57,300,000\n",
       "4        4,360,000\n",
       "          ...     \n",
       "995            NaN\n",
       "996            NaN\n",
       "997     30,500,000\n",
       "998            NaN\n",
       "999            NaN\n",
       "Name: Gross, Length: 1000, dtype: object"
      ]
     },
     "metadata": {},
     "output_type": "display_data"
    }
   ],
   "source": [
    "# Check the contents of Gross\n",
    "display(imdb_df['Gross'])"
   ]
  },
  {
   "cell_type": "code",
   "execution_count": 11,
   "id": "a357f3e9-0e3e-4200-af46-757d205615d2",
   "metadata": {
    "tags": []
   },
   "outputs": [
    {
     "name": "stdout",
     "output_type": "stream",
     "text": [
      "Number of non-numerical data:  0\n"
     ]
    }
   ],
   "source": [
    "# Remove commas in Gross\n",
    "imdb_df['Gross'] = imdb_df['Gross'].str.replace(',', '')\n",
    "\n",
    "# Check if there are non-numerical data (because dtype is object)\n",
    "print('Number of non-numerical data: ', len(imdb_df[imdb_df['Gross'].str.match('^\\d+$') == False]))"
   ]
  },
  {
   "cell_type": "code",
   "execution_count": 12,
   "id": "d782f0f7",
   "metadata": {},
   "outputs": [],
   "source": [
    "# Convert Gross data to float (to handle NaN)\n",
    "imdb_df['Gross'] = imdb_df['Gross'].astype(float).astype('Int64')\n",
    "\n",
    "# Replace null values in Gross with the mean\n",
    "imdb_df['Gross'].fillna(round(imdb_df['Gross'].mean()), inplace=True)\n",
    "\n",
    "# Convert Gross data to int\n",
    "imdb_df['Gross'] = imdb_df['Gross'].astype('int')"
   ]
  },
  {
   "cell_type": "markdown",
   "id": "abb895b2",
   "metadata": {},
   "source": [
    "### D. Data Types\n"
   ]
  },
  {
   "cell_type": "code",
   "execution_count": 13,
   "id": "b525a408",
   "metadata": {},
   "outputs": [
    {
     "name": "stdout",
     "output_type": "stream",
     "text": [
      "<class 'pandas.core.frame.DataFrame'>\n",
      "RangeIndex: 1000 entries, 0 to 999\n",
      "Data columns (total 14 columns):\n",
      " #   Column         Non-Null Count  Dtype  \n",
      "---  ------         --------------  -----  \n",
      " 0   Series_Title   1000 non-null   object \n",
      " 1   Released_Year  1000 non-null   object \n",
      " 2   Certificate    1000 non-null   object \n",
      " 3   Runtime        1000 non-null   object \n",
      " 4   Genre          1000 non-null   object \n",
      " 5   IMDB_Rating    1000 non-null   float64\n",
      " 6   Meta_score     1000 non-null   int32  \n",
      " 7   Director       1000 non-null   object \n",
      " 8   Star1          1000 non-null   object \n",
      " 9   Star2          1000 non-null   object \n",
      " 10  Star3          1000 non-null   object \n",
      " 11  Star4          1000 non-null   object \n",
      " 12  No_of_Votes    1000 non-null   int64  \n",
      " 13  Gross          1000 non-null   int32  \n",
      "dtypes: float64(1), int32(2), int64(1), object(10)\n",
      "memory usage: 101.7+ KB\n"
     ]
    }
   ],
   "source": [
    "# Display general information\n",
    "imdb_df.info()"
   ]
  },
  {
   "cell_type": "markdown",
   "id": "98b63605",
   "metadata": {},
   "source": [
    "Released_Year and Runtime should be represented as int\n"
   ]
  },
  {
   "cell_type": "markdown",
   "id": "e737fe7b",
   "metadata": {},
   "source": [
    "#### D.1 Data Types - Released_Year\n"
   ]
  },
  {
   "cell_type": "code",
   "execution_count": 14,
   "id": "6e152a2c-2457-46ff-8de1-342dc66cbc21",
   "metadata": {
    "scrolled": true,
    "tags": []
   },
   "outputs": [
    {
     "data": {
      "text/plain": [
       "0      1994\n",
       "1      1972\n",
       "2      2008\n",
       "3      1974\n",
       "4      1957\n",
       "       ... \n",
       "995    1961\n",
       "996    1956\n",
       "997    1953\n",
       "998    1944\n",
       "999    1935\n",
       "Name: Released_Year, Length: 1000, dtype: object"
      ]
     },
     "metadata": {},
     "output_type": "display_data"
    }
   ],
   "source": [
    "# Check values in Released_Year\n",
    "display(imdb_df['Released_Year'])"
   ]
  },
  {
   "cell_type": "code",
   "execution_count": 15,
   "id": "bb314bab",
   "metadata": {},
   "outputs": [
    {
     "name": "stdout",
     "output_type": "stream",
     "text": [
      "Number of non-numerical data:  1\n"
     ]
    }
   ],
   "source": [
    "# Check if there are non-numerical data (because dtype is object)\n",
    "print('Number of non-numerical data: ', len(imdb_df[imdb_df['Released_Year'].str.match('^\\d+$') == False]))"
   ]
  },
  {
   "cell_type": "markdown",
   "id": "3d4552c1-eb75-4be2-bb8f-bd3cbb551c8d",
   "metadata": {},
   "source": [
    "There seems to be an error in encoding in one of the observations.\n"
   ]
  },
  {
   "cell_type": "code",
   "execution_count": 16,
   "id": "cb716017-df6a-4eef-bcaa-1e708714ee85",
   "metadata": {
    "tags": []
   },
   "outputs": [
    {
     "data": {
      "text/html": [
       "<div>\n",
       "<style scoped>\n",
       "    .dataframe tbody tr th:only-of-type {\n",
       "        vertical-align: middle;\n",
       "    }\n",
       "\n",
       "    .dataframe tbody tr th {\n",
       "        vertical-align: top;\n",
       "    }\n",
       "\n",
       "    .dataframe thead th {\n",
       "        text-align: right;\n",
       "    }\n",
       "</style>\n",
       "<table border=\"1\" class=\"dataframe\">\n",
       "  <thead>\n",
       "    <tr style=\"text-align: right;\">\n",
       "      <th></th>\n",
       "      <th>Series_Title</th>\n",
       "      <th>Released_Year</th>\n",
       "      <th>Certificate</th>\n",
       "      <th>Runtime</th>\n",
       "      <th>Genre</th>\n",
       "      <th>IMDB_Rating</th>\n",
       "      <th>Meta_score</th>\n",
       "      <th>Director</th>\n",
       "      <th>Star1</th>\n",
       "      <th>Star2</th>\n",
       "      <th>Star3</th>\n",
       "      <th>Star4</th>\n",
       "      <th>No_of_Votes</th>\n",
       "      <th>Gross</th>\n",
       "    </tr>\n",
       "  </thead>\n",
       "  <tbody>\n",
       "    <tr>\n",
       "      <th>966</th>\n",
       "      <td>Apollo 13</td>\n",
       "      <td>PG</td>\n",
       "      <td>U</td>\n",
       "      <td>140 min</td>\n",
       "      <td>Adventure, Drama, History</td>\n",
       "      <td>7.6</td>\n",
       "      <td>77</td>\n",
       "      <td>Ron Howard</td>\n",
       "      <td>Tom Hanks</td>\n",
       "      <td>Bill Paxton</td>\n",
       "      <td>Kevin Bacon</td>\n",
       "      <td>Gary Sinise</td>\n",
       "      <td>269197</td>\n",
       "      <td>173837933</td>\n",
       "    </tr>\n",
       "  </tbody>\n",
       "</table>\n",
       "</div>"
      ],
      "text/plain": [
       "    Series_Title Released_Year Certificate  Runtime  \\\n",
       "966    Apollo 13            PG           U  140 min   \n",
       "\n",
       "                         Genre  IMDB_Rating  Meta_score    Director  \\\n",
       "966  Adventure, Drama, History          7.6          77  Ron Howard   \n",
       "\n",
       "         Star1        Star2        Star3        Star4  No_of_Votes      Gross  \n",
       "966  Tom Hanks  Bill Paxton  Kevin Bacon  Gary Sinise       269197  173837933  "
      ]
     },
     "execution_count": 16,
     "metadata": {},
     "output_type": "execute_result"
    }
   ],
   "source": [
    "# Identify the non-numerical data\n",
    "imdb_df[imdb_df['Released_Year'].str.match('^\\d+$') == False]"
   ]
  },
  {
   "cell_type": "markdown",
   "id": "91b44ba5-4039-4f95-a00e-b08bb9d0f20a",
   "metadata": {},
   "source": [
    "Instead of 'PG' as Apollo 13's release year, it will be replaced by its release year of 1995.\n"
   ]
  },
  {
   "cell_type": "code",
   "execution_count": 17,
   "id": "c2e160f3-44b6-4d7f-9a1b-ad3509cfdafd",
   "metadata": {
    "tags": []
   },
   "outputs": [
    {
     "data": {
      "text/html": [
       "<div>\n",
       "<style scoped>\n",
       "    .dataframe tbody tr th:only-of-type {\n",
       "        vertical-align: middle;\n",
       "    }\n",
       "\n",
       "    .dataframe tbody tr th {\n",
       "        vertical-align: top;\n",
       "    }\n",
       "\n",
       "    .dataframe thead th {\n",
       "        text-align: right;\n",
       "    }\n",
       "</style>\n",
       "<table border=\"1\" class=\"dataframe\">\n",
       "  <thead>\n",
       "    <tr style=\"text-align: right;\">\n",
       "      <th></th>\n",
       "      <th>Series_Title</th>\n",
       "      <th>Released_Year</th>\n",
       "      <th>Certificate</th>\n",
       "      <th>Runtime</th>\n",
       "      <th>Genre</th>\n",
       "      <th>IMDB_Rating</th>\n",
       "      <th>Meta_score</th>\n",
       "      <th>Director</th>\n",
       "      <th>Star1</th>\n",
       "      <th>Star2</th>\n",
       "      <th>Star3</th>\n",
       "      <th>Star4</th>\n",
       "      <th>No_of_Votes</th>\n",
       "      <th>Gross</th>\n",
       "    </tr>\n",
       "  </thead>\n",
       "  <tbody>\n",
       "    <tr>\n",
       "      <th>966</th>\n",
       "      <td>Apollo 13</td>\n",
       "      <td>1995</td>\n",
       "      <td>U</td>\n",
       "      <td>140 min</td>\n",
       "      <td>Adventure, Drama, History</td>\n",
       "      <td>7.6</td>\n",
       "      <td>77</td>\n",
       "      <td>Ron Howard</td>\n",
       "      <td>Tom Hanks</td>\n",
       "      <td>Bill Paxton</td>\n",
       "      <td>Kevin Bacon</td>\n",
       "      <td>Gary Sinise</td>\n",
       "      <td>269197</td>\n",
       "      <td>173837933</td>\n",
       "    </tr>\n",
       "  </tbody>\n",
       "</table>\n",
       "</div>"
      ],
      "text/plain": [
       "    Series_Title Released_Year Certificate  Runtime  \\\n",
       "966    Apollo 13          1995           U  140 min   \n",
       "\n",
       "                         Genre  IMDB_Rating  Meta_score    Director  \\\n",
       "966  Adventure, Drama, History          7.6          77  Ron Howard   \n",
       "\n",
       "         Star1        Star2        Star3        Star4  No_of_Votes      Gross  \n",
       "966  Tom Hanks  Bill Paxton  Kevin Bacon  Gary Sinise       269197  173837933  "
      ]
     },
     "execution_count": 17,
     "metadata": {},
     "output_type": "execute_result"
    }
   ],
   "source": [
    "# Replace the value for Released_Year\n",
    "imdb_df['Released_Year'] = imdb_df['Released_Year'].replace('PG', '1995')\n",
    "imdb_df[imdb_df['Series_Title'] == 'Apollo 13']"
   ]
  },
  {
   "cell_type": "code",
   "execution_count": 18,
   "id": "1afe09af-0b0c-4176-b357-5a8431b36dc7",
   "metadata": {
    "tags": []
   },
   "outputs": [],
   "source": [
    "# Convert Released_Year data to int\n",
    "imdb_df['Released_Year'] = imdb_df['Released_Year'].astype(int)"
   ]
  },
  {
   "cell_type": "markdown",
   "id": "f3ee5a90",
   "metadata": {},
   "source": [
    "#### D.2 Data Types - Runtime\n"
   ]
  },
  {
   "cell_type": "code",
   "execution_count": 19,
   "id": "3604967e",
   "metadata": {
    "scrolled": true
   },
   "outputs": [
    {
     "data": {
      "text/plain": [
       "0      142 min\n",
       "1      175 min\n",
       "2      152 min\n",
       "3      202 min\n",
       "4       96 min\n",
       "        ...   \n",
       "995    115 min\n",
       "996    201 min\n",
       "997    118 min\n",
       "998     97 min\n",
       "999     86 min\n",
       "Name: Runtime, Length: 1000, dtype: object"
      ]
     },
     "metadata": {},
     "output_type": "display_data"
    }
   ],
   "source": [
    "# Check values in Runtime\n",
    "display(imdb_df['Runtime'])"
   ]
  },
  {
   "cell_type": "code",
   "execution_count": 20,
   "id": "9ca96fc2-1333-4c6e-b05d-1f91881c577b",
   "metadata": {
    "tags": []
   },
   "outputs": [
    {
     "name": "stdout",
     "output_type": "stream",
     "text": [
      "Number of non-numerical data:  0\n"
     ]
    }
   ],
   "source": [
    "# Remove ' min' in Runtime\n",
    "imdb_df['Runtime'] = imdb_df['Runtime'].str.replace(' min', '')\n",
    "\n",
    "# Check if there are non-numerical data (because dtype is object)\n",
    "print('Number of non-numerical data: ', len(imdb_df[imdb_df['Runtime'].str.match('^\\d+$') == False]))"
   ]
  },
  {
   "cell_type": "code",
   "execution_count": 21,
   "id": "8b7d3db2",
   "metadata": {},
   "outputs": [],
   "source": [
    "# Convert Runtime data to int\n",
    "imdb_df['Runtime'] = imdb_df['Runtime'].astype(int)"
   ]
  },
  {
   "cell_type": "markdown",
   "id": "3bf9407f",
   "metadata": {},
   "source": [
    "### E. Duplicate Data\n"
   ]
  },
  {
   "cell_type": "code",
   "execution_count": 22,
   "id": "b1c1e1bd-73ee-4b95-b31c-12d55dedc950",
   "metadata": {
    "tags": []
   },
   "outputs": [
    {
     "name": "stdout",
     "output_type": "stream",
     "text": [
      "Number of duplicate rows: 0\n",
      "Number of duplicate data for 'Series_Titles': 1\n"
     ]
    }
   ],
   "source": [
    "# Check for duplicate data\n",
    "print(\"Number of duplicate rows:\", imdb_df.duplicated().sum())\n",
    "print(\"Number of duplicate data for 'Series_Titles':\", imdb_df.Series_Title.duplicated().sum())"
   ]
  },
  {
   "cell_type": "code",
   "execution_count": 23,
   "id": "c48dd2de",
   "metadata": {},
   "outputs": [
    {
     "data": {
      "text/plain": [
       "136    Drishyam\n",
       "Name: Series_Title, dtype: object"
      ]
     },
     "execution_count": 23,
     "metadata": {},
     "output_type": "execute_result"
    }
   ],
   "source": [
    "# Identify the duplicated series title\n",
    "duplicated_ST = imdb_df[imdb_df.Series_Title.duplicated()]\n",
    "duplicated_ST.Series_Title"
   ]
  },
  {
   "cell_type": "code",
   "execution_count": 24,
   "id": "0bec3401",
   "metadata": {
    "scrolled": true
   },
   "outputs": [
    {
     "data": {
      "text/html": [
       "<div>\n",
       "<style scoped>\n",
       "    .dataframe tbody tr th:only-of-type {\n",
       "        vertical-align: middle;\n",
       "    }\n",
       "\n",
       "    .dataframe tbody tr th {\n",
       "        vertical-align: top;\n",
       "    }\n",
       "\n",
       "    .dataframe thead th {\n",
       "        text-align: right;\n",
       "    }\n",
       "</style>\n",
       "<table border=\"1\" class=\"dataframe\">\n",
       "  <thead>\n",
       "    <tr style=\"text-align: right;\">\n",
       "      <th></th>\n",
       "      <th>Series_Title</th>\n",
       "      <th>Released_Year</th>\n",
       "      <th>Certificate</th>\n",
       "      <th>Runtime</th>\n",
       "      <th>Genre</th>\n",
       "      <th>IMDB_Rating</th>\n",
       "      <th>Meta_score</th>\n",
       "      <th>Director</th>\n",
       "      <th>Star1</th>\n",
       "      <th>Star2</th>\n",
       "      <th>Star3</th>\n",
       "      <th>Star4</th>\n",
       "      <th>No_of_Votes</th>\n",
       "      <th>Gross</th>\n",
       "    </tr>\n",
       "  </thead>\n",
       "  <tbody>\n",
       "    <tr>\n",
       "      <th>87</th>\n",
       "      <td>Drishyam</td>\n",
       "      <td>2013</td>\n",
       "      <td>U</td>\n",
       "      <td>160</td>\n",
       "      <td>Crime, Drama, Thriller</td>\n",
       "      <td>8.3</td>\n",
       "      <td>78</td>\n",
       "      <td>Jeethu Joseph</td>\n",
       "      <td>Mohanlal</td>\n",
       "      <td>Meena</td>\n",
       "      <td>Asha Sharath</td>\n",
       "      <td>Ansiba</td>\n",
       "      <td>30722</td>\n",
       "      <td>68034751</td>\n",
       "    </tr>\n",
       "    <tr>\n",
       "      <th>136</th>\n",
       "      <td>Drishyam</td>\n",
       "      <td>2015</td>\n",
       "      <td>UA</td>\n",
       "      <td>163</td>\n",
       "      <td>Crime, Drama, Mystery</td>\n",
       "      <td>8.2</td>\n",
       "      <td>78</td>\n",
       "      <td>Nishikant Kamat</td>\n",
       "      <td>Ajay Devgn</td>\n",
       "      <td>Shriya Saran</td>\n",
       "      <td>Tabu</td>\n",
       "      <td>Rajat Kapoor</td>\n",
       "      <td>70367</td>\n",
       "      <td>739478</td>\n",
       "    </tr>\n",
       "  </tbody>\n",
       "</table>\n",
       "</div>"
      ],
      "text/plain": [
       "    Series_Title  Released_Year Certificate  Runtime                   Genre  \\\n",
       "87      Drishyam           2013           U      160  Crime, Drama, Thriller   \n",
       "136     Drishyam           2015          UA      163   Crime, Drama, Mystery   \n",
       "\n",
       "     IMDB_Rating  Meta_score         Director       Star1         Star2  \\\n",
       "87           8.3          78    Jeethu Joseph    Mohanlal         Meena   \n",
       "136          8.2          78  Nishikant Kamat  Ajay Devgn  Shriya Saran   \n",
       "\n",
       "            Star3         Star4  No_of_Votes     Gross  \n",
       "87   Asha Sharath        Ansiba        30722  68034751  \n",
       "136          Tabu  Rajat Kapoor        70367    739478  "
      ]
     },
     "execution_count": 24,
     "metadata": {},
     "output_type": "execute_result"
    }
   ],
   "source": [
    "# Identify the rows with 'Drishyam' as the series title\n",
    "imdb_df[(imdb_df.Series_Title == 'Drishyam')]"
   ]
  },
  {
   "cell_type": "code",
   "execution_count": 25,
   "id": "64fbc09e",
   "metadata": {},
   "outputs": [
    {
     "data": {
      "text/html": [
       "<div>\n",
       "<style scoped>\n",
       "    .dataframe tbody tr th:only-of-type {\n",
       "        vertical-align: middle;\n",
       "    }\n",
       "\n",
       "    .dataframe tbody tr th {\n",
       "        vertical-align: top;\n",
       "    }\n",
       "\n",
       "    .dataframe thead th {\n",
       "        text-align: right;\n",
       "    }\n",
       "</style>\n",
       "<table border=\"1\" class=\"dataframe\">\n",
       "  <thead>\n",
       "    <tr style=\"text-align: right;\">\n",
       "      <th></th>\n",
       "      <th>Series_Title</th>\n",
       "      <th>Released_Year</th>\n",
       "      <th>Certificate</th>\n",
       "      <th>Runtime</th>\n",
       "      <th>Genre</th>\n",
       "      <th>IMDB_Rating</th>\n",
       "      <th>Meta_score</th>\n",
       "      <th>Director</th>\n",
       "      <th>Star1</th>\n",
       "      <th>Star2</th>\n",
       "      <th>Star3</th>\n",
       "      <th>Star4</th>\n",
       "      <th>No_of_Votes</th>\n",
       "      <th>Gross</th>\n",
       "    </tr>\n",
       "  </thead>\n",
       "  <tbody>\n",
       "    <tr>\n",
       "      <th>87</th>\n",
       "      <td>Drishyam (2013)</td>\n",
       "      <td>2013</td>\n",
       "      <td>U</td>\n",
       "      <td>160</td>\n",
       "      <td>Crime, Drama, Thriller</td>\n",
       "      <td>8.3</td>\n",
       "      <td>78</td>\n",
       "      <td>Jeethu Joseph</td>\n",
       "      <td>Mohanlal</td>\n",
       "      <td>Meena</td>\n",
       "      <td>Asha Sharath</td>\n",
       "      <td>Ansiba</td>\n",
       "      <td>30722</td>\n",
       "      <td>68034751</td>\n",
       "    </tr>\n",
       "    <tr>\n",
       "      <th>136</th>\n",
       "      <td>Drishyam (2015)</td>\n",
       "      <td>2015</td>\n",
       "      <td>UA</td>\n",
       "      <td>163</td>\n",
       "      <td>Crime, Drama, Mystery</td>\n",
       "      <td>8.2</td>\n",
       "      <td>78</td>\n",
       "      <td>Nishikant Kamat</td>\n",
       "      <td>Ajay Devgn</td>\n",
       "      <td>Shriya Saran</td>\n",
       "      <td>Tabu</td>\n",
       "      <td>Rajat Kapoor</td>\n",
       "      <td>70367</td>\n",
       "      <td>739478</td>\n",
       "    </tr>\n",
       "  </tbody>\n",
       "</table>\n",
       "</div>"
      ],
      "text/plain": [
       "        Series_Title  Released_Year Certificate  Runtime  \\\n",
       "87   Drishyam (2013)           2013           U      160   \n",
       "136  Drishyam (2015)           2015          UA      163   \n",
       "\n",
       "                      Genre  IMDB_Rating  Meta_score         Director  \\\n",
       "87   Crime, Drama, Thriller          8.3          78    Jeethu Joseph   \n",
       "136   Crime, Drama, Mystery          8.2          78  Nishikant Kamat   \n",
       "\n",
       "          Star1         Star2         Star3         Star4  No_of_Votes  \\\n",
       "87     Mohanlal         Meena  Asha Sharath        Ansiba        30722   \n",
       "136  Ajay Devgn  Shriya Saran          Tabu  Rajat Kapoor        70367   \n",
       "\n",
       "        Gross  \n",
       "87   68034751  \n",
       "136    739478  "
      ]
     },
     "execution_count": 25,
     "metadata": {},
     "output_type": "execute_result"
    }
   ],
   "source": [
    "# Rename the two series by adding the year of release\n",
    "imdb_df.at[87, 'Series_Title'] = 'Drishyam (2013)'\n",
    "imdb_df.at[136, 'Series_Title'] = 'Drishyam (2015)'\n",
    "imdb_df.iloc[[87, 136]]"
   ]
  },
  {
   "cell_type": "markdown",
   "id": "734e8489",
   "metadata": {},
   "source": [
    "### F. One-hot encoding - Genre\n"
   ]
  },
  {
   "cell_type": "code",
   "execution_count": 26,
   "id": "3b7581df-5426-46fb-9879-d2e5bb1f9b78",
   "metadata": {
    "tags": []
   },
   "outputs": [],
   "source": [
    "# split\n",
    "genre = imdb_df['Genre'].str.split(', ').tolist()\n",
    "genre_joined = imdb_df['Genre'].str.split(', ')\n",
    "\n",
    "flat_genre = [item for sublist in genre for item in sublist]\n",
    "\n",
    "unique_genre = list(set(flat_genre))\n",
    "\n",
    "imdb_df = imdb_df.reindex(imdb_df.columns.tolist() + unique_genre, axis=1, fill_value=0)\n",
    "\n",
    "for index, row in imdb_df.iterrows():\n",
    "    for val in row.Genre.split(', '):\n",
    "        imdb_df.loc[index, val] = 1\n",
    "\n",
    "imdb_df['Genre'] = ''\n",
    "for i in range(imdb_df.shape[0]):\n",
    "    imdb_df['Genre'][i] = genre_joined[i]"
   ]
  },
  {
   "cell_type": "markdown",
   "id": "2b607a64",
   "metadata": {},
   "source": [
    "### G. Merging data - Stars\n"
   ]
  },
  {
   "cell_type": "code",
   "execution_count": 27,
   "id": "23263993-5463-4886-9735-5605fe16340d",
   "metadata": {
    "tags": []
   },
   "outputs": [],
   "source": [
    "# Merge stars\n",
    "imdb_df['Stars'] = ''\n",
    "for i in range(imdb_df.shape[0]):\n",
    "    imdb_df['Stars'][i] = [imdb_df['Star1'][i], imdb_df['Star2'][i], imdb_df['Star3'][i], imdb_df['Star4'][i]]\n",
    "    \n",
    "imdb_df.drop(['Star1', 'Star2', 'Star3', 'Star4'], axis = 1, inplace = True)"
   ]
  },
  {
   "cell_type": "markdown",
   "id": "b67433ba",
   "metadata": {},
   "source": [
    "### H. Finalizing the Variables\n"
   ]
  },
  {
   "cell_type": "code",
   "execution_count": 28,
   "id": "3775fe29-56ae-4b4f-99f2-596581730e77",
   "metadata": {
    "scrolled": true,
    "tags": []
   },
   "outputs": [
    {
     "name": "stdout",
     "output_type": "stream",
     "text": [
      "<class 'pandas.core.frame.DataFrame'>\n",
      "RangeIndex: 1000 entries, 0 to 999\n",
      "Data columns (total 32 columns):\n",
      " #   Column         Non-Null Count  Dtype  \n",
      "---  ------         --------------  -----  \n",
      " 0   Series_Title   1000 non-null   object \n",
      " 1   Released_Year  1000 non-null   int32  \n",
      " 2   Certificate    1000 non-null   object \n",
      " 3   Runtime        1000 non-null   int32  \n",
      " 4   Genre          1000 non-null   object \n",
      " 5   IMDB_Rating    1000 non-null   float64\n",
      " 6   Meta_score     1000 non-null   int32  \n",
      " 7   Director       1000 non-null   object \n",
      " 8   No_of_Votes    1000 non-null   int64  \n",
      " 9   Gross          1000 non-null   int32  \n",
      " 10  Sport          1000 non-null   int64  \n",
      " 11  Mystery        1000 non-null   int64  \n",
      " 12  History        1000 non-null   int64  \n",
      " 13  Comedy         1000 non-null   int64  \n",
      " 14  Thriller       1000 non-null   int64  \n",
      " 15  Fantasy        1000 non-null   int64  \n",
      " 16  Romance        1000 non-null   int64  \n",
      " 17  Sci-Fi         1000 non-null   int64  \n",
      " 18  Horror         1000 non-null   int64  \n",
      " 19  Biography      1000 non-null   int64  \n",
      " 20  Music          1000 non-null   int64  \n",
      " 21  Drama          1000 non-null   int64  \n",
      " 22  Family         1000 non-null   int64  \n",
      " 23  Animation      1000 non-null   int64  \n",
      " 24  Adventure      1000 non-null   int64  \n",
      " 25  Musical        1000 non-null   int64  \n",
      " 26  Film-Noir      1000 non-null   int64  \n",
      " 27  War            1000 non-null   int64  \n",
      " 28  Crime          1000 non-null   int64  \n",
      " 29  Action         1000 non-null   int64  \n",
      " 30  Western        1000 non-null   int64  \n",
      " 31  Stars          1000 non-null   object \n",
      "dtypes: float64(1), int32(4), int64(22), object(5)\n",
      "memory usage: 234.5+ KB\n"
     ]
    }
   ],
   "source": [
    "imdb_df.info()"
   ]
  },
  {
   "cell_type": "code",
   "execution_count": 29,
   "id": "1a601c59-4c74-44b2-8536-e62eb7e53f0f",
   "metadata": {
    "tags": []
   },
   "outputs": [],
   "source": [
    "reordered_cols = ['Series_Title', 'Released_Year', 'Certificate', 'Runtime', 'Genre', 'IMDB_Rating', 'Meta_score', 'Director', 'Stars', 'No_of_Votes', 'Gross']\n",
    "final_cols = reordered_cols + unique_genre"
   ]
  },
  {
   "cell_type": "code",
   "execution_count": 30,
   "id": "d3a1ad16-1301-454a-99ac-a4cb4699c616",
   "metadata": {
    "tags": []
   },
   "outputs": [
    {
     "data": {
      "text/plain": [
       "True"
      ]
     },
     "execution_count": 30,
     "metadata": {},
     "output_type": "execute_result"
    }
   ],
   "source": [
    "set(imdb_df.columns) == set(final_cols)"
   ]
  },
  {
   "cell_type": "code",
   "execution_count": 31,
   "id": "798ac527-7edd-49f1-b81e-2edf881d8894",
   "metadata": {
    "tags": []
   },
   "outputs": [],
   "source": [
    "imdb_df = imdb_df[final_cols]"
   ]
  },
  {
   "cell_type": "code",
   "execution_count": 32,
   "id": "33d1a4e4",
   "metadata": {
    "tags": []
   },
   "outputs": [
    {
     "data": {
      "text/html": [
       "<div>\n",
       "<style scoped>\n",
       "    .dataframe tbody tr th:only-of-type {\n",
       "        vertical-align: middle;\n",
       "    }\n",
       "\n",
       "    .dataframe tbody tr th {\n",
       "        vertical-align: top;\n",
       "    }\n",
       "\n",
       "    .dataframe thead th {\n",
       "        text-align: right;\n",
       "    }\n",
       "</style>\n",
       "<table border=\"1\" class=\"dataframe\">\n",
       "  <thead>\n",
       "    <tr style=\"text-align: right;\">\n",
       "      <th></th>\n",
       "      <th>Series_Title</th>\n",
       "      <th>Released_Year</th>\n",
       "      <th>Certificate</th>\n",
       "      <th>Runtime</th>\n",
       "      <th>Genre</th>\n",
       "      <th>IMDB_Rating</th>\n",
       "      <th>Meta_score</th>\n",
       "      <th>Director</th>\n",
       "      <th>Stars</th>\n",
       "      <th>No_of_Votes</th>\n",
       "      <th>...</th>\n",
       "      <th>Drama</th>\n",
       "      <th>Family</th>\n",
       "      <th>Animation</th>\n",
       "      <th>Adventure</th>\n",
       "      <th>Musical</th>\n",
       "      <th>Film-Noir</th>\n",
       "      <th>War</th>\n",
       "      <th>Crime</th>\n",
       "      <th>Action</th>\n",
       "      <th>Western</th>\n",
       "    </tr>\n",
       "  </thead>\n",
       "  <tbody>\n",
       "    <tr>\n",
       "      <th>0</th>\n",
       "      <td>The Shawshank Redemption</td>\n",
       "      <td>1994</td>\n",
       "      <td>A</td>\n",
       "      <td>142</td>\n",
       "      <td>[Drama]</td>\n",
       "      <td>9.3</td>\n",
       "      <td>80</td>\n",
       "      <td>Frank Darabont</td>\n",
       "      <td>[Tim Robbins, Morgan Freeman, Bob Gunton, Will...</td>\n",
       "      <td>2343110</td>\n",
       "      <td>...</td>\n",
       "      <td>1</td>\n",
       "      <td>0</td>\n",
       "      <td>0</td>\n",
       "      <td>0</td>\n",
       "      <td>0</td>\n",
       "      <td>0</td>\n",
       "      <td>0</td>\n",
       "      <td>0</td>\n",
       "      <td>0</td>\n",
       "      <td>0</td>\n",
       "    </tr>\n",
       "    <tr>\n",
       "      <th>1</th>\n",
       "      <td>The Godfather</td>\n",
       "      <td>1972</td>\n",
       "      <td>A</td>\n",
       "      <td>175</td>\n",
       "      <td>[Crime, Drama]</td>\n",
       "      <td>9.2</td>\n",
       "      <td>100</td>\n",
       "      <td>Francis Ford Coppola</td>\n",
       "      <td>[Marlon Brando, Al Pacino, James Caan, Diane K...</td>\n",
       "      <td>1620367</td>\n",
       "      <td>...</td>\n",
       "      <td>1</td>\n",
       "      <td>0</td>\n",
       "      <td>0</td>\n",
       "      <td>0</td>\n",
       "      <td>0</td>\n",
       "      <td>0</td>\n",
       "      <td>0</td>\n",
       "      <td>1</td>\n",
       "      <td>0</td>\n",
       "      <td>0</td>\n",
       "    </tr>\n",
       "    <tr>\n",
       "      <th>2</th>\n",
       "      <td>The Dark Knight</td>\n",
       "      <td>2008</td>\n",
       "      <td>UA</td>\n",
       "      <td>152</td>\n",
       "      <td>[Action, Crime, Drama]</td>\n",
       "      <td>9.0</td>\n",
       "      <td>84</td>\n",
       "      <td>Christopher Nolan</td>\n",
       "      <td>[Christian Bale, Heath Ledger, Aaron Eckhart, ...</td>\n",
       "      <td>2303232</td>\n",
       "      <td>...</td>\n",
       "      <td>1</td>\n",
       "      <td>0</td>\n",
       "      <td>0</td>\n",
       "      <td>0</td>\n",
       "      <td>0</td>\n",
       "      <td>0</td>\n",
       "      <td>0</td>\n",
       "      <td>1</td>\n",
       "      <td>1</td>\n",
       "      <td>0</td>\n",
       "    </tr>\n",
       "    <tr>\n",
       "      <th>3</th>\n",
       "      <td>The Godfather: Part II</td>\n",
       "      <td>1974</td>\n",
       "      <td>A</td>\n",
       "      <td>202</td>\n",
       "      <td>[Crime, Drama]</td>\n",
       "      <td>9.0</td>\n",
       "      <td>90</td>\n",
       "      <td>Francis Ford Coppola</td>\n",
       "      <td>[Al Pacino, Robert De Niro, Robert Duvall, Dia...</td>\n",
       "      <td>1129952</td>\n",
       "      <td>...</td>\n",
       "      <td>1</td>\n",
       "      <td>0</td>\n",
       "      <td>0</td>\n",
       "      <td>0</td>\n",
       "      <td>0</td>\n",
       "      <td>0</td>\n",
       "      <td>0</td>\n",
       "      <td>1</td>\n",
       "      <td>0</td>\n",
       "      <td>0</td>\n",
       "    </tr>\n",
       "    <tr>\n",
       "      <th>4</th>\n",
       "      <td>12 Angry Men</td>\n",
       "      <td>1957</td>\n",
       "      <td>U</td>\n",
       "      <td>96</td>\n",
       "      <td>[Crime, Drama]</td>\n",
       "      <td>9.0</td>\n",
       "      <td>96</td>\n",
       "      <td>Sidney Lumet</td>\n",
       "      <td>[Henry Fonda, Lee J. Cobb, Martin Balsam, John...</td>\n",
       "      <td>689845</td>\n",
       "      <td>...</td>\n",
       "      <td>1</td>\n",
       "      <td>0</td>\n",
       "      <td>0</td>\n",
       "      <td>0</td>\n",
       "      <td>0</td>\n",
       "      <td>0</td>\n",
       "      <td>0</td>\n",
       "      <td>1</td>\n",
       "      <td>0</td>\n",
       "      <td>0</td>\n",
       "    </tr>\n",
       "  </tbody>\n",
       "</table>\n",
       "<p>5 rows × 32 columns</p>\n",
       "</div>"
      ],
      "text/plain": [
       "               Series_Title  Released_Year Certificate  Runtime  \\\n",
       "0  The Shawshank Redemption           1994           A      142   \n",
       "1             The Godfather           1972           A      175   \n",
       "2           The Dark Knight           2008          UA      152   \n",
       "3    The Godfather: Part II           1974           A      202   \n",
       "4              12 Angry Men           1957           U       96   \n",
       "\n",
       "                    Genre  IMDB_Rating  Meta_score              Director  \\\n",
       "0                 [Drama]          9.3          80        Frank Darabont   \n",
       "1          [Crime, Drama]          9.2         100  Francis Ford Coppola   \n",
       "2  [Action, Crime, Drama]          9.0          84     Christopher Nolan   \n",
       "3          [Crime, Drama]          9.0          90  Francis Ford Coppola   \n",
       "4          [Crime, Drama]          9.0          96          Sidney Lumet   \n",
       "\n",
       "                                               Stars  No_of_Votes  ...  Drama  \\\n",
       "0  [Tim Robbins, Morgan Freeman, Bob Gunton, Will...      2343110  ...      1   \n",
       "1  [Marlon Brando, Al Pacino, James Caan, Diane K...      1620367  ...      1   \n",
       "2  [Christian Bale, Heath Ledger, Aaron Eckhart, ...      2303232  ...      1   \n",
       "3  [Al Pacino, Robert De Niro, Robert Duvall, Dia...      1129952  ...      1   \n",
       "4  [Henry Fonda, Lee J. Cobb, Martin Balsam, John...       689845  ...      1   \n",
       "\n",
       "   Family  Animation  Adventure  Musical  Film-Noir  War  Crime  Action  \\\n",
       "0       0          0          0        0          0    0      0       0   \n",
       "1       0          0          0        0          0    0      1       0   \n",
       "2       0          0          0        0          0    0      1       1   \n",
       "3       0          0          0        0          0    0      1       0   \n",
       "4       0          0          0        0          0    0      1       0   \n",
       "\n",
       "   Western  \n",
       "0        0  \n",
       "1        0  \n",
       "2        0  \n",
       "3        0  \n",
       "4        0  \n",
       "\n",
       "[5 rows x 32 columns]"
      ]
     },
     "execution_count": 32,
     "metadata": {},
     "output_type": "execute_result"
    }
   ],
   "source": [
    "imdb_df.head()"
   ]
  },
  {
   "cell_type": "markdown",
   "id": "b8101566",
   "metadata": {},
   "source": [
    "## Exploratory Data Analysis\n",
    "\n",
    "The primary aim of this analysis is to delve into and thoroughly examine the dataset, with the goal of acquiring valuable insights into the top 1000 movies featured on IMDb. This exploration seeks to understand the distinct features of these movies, uncover any connections between variables, and detect potential patterns or trends that may emerge.\n",
    "\n",
    "- Answer the EDA questions using both:\n",
    "\n",
    "* Numerical Summaries – measures of central tendency, measures of dispersion, and correlation\n",
    "* Visualization – Appropriate visualization should be used. Each visualization should be accompanied by a brief explanation.\n",
    "\n",
    "### What is the distribution of movie ratings on IMDb?\n",
    "\n",
    "The primary focus to answer this question is the variable:\n",
    "\n",
    "- `IMDB_Rating`: numerical score based on user reviews and rating on IMDb.\n",
    "\n",
    "Write code to select the `IMDB_Rating` column as a series.\n"
   ]
  },
  {
   "cell_type": "code",
   "execution_count": 33,
   "id": "263b1b5a",
   "metadata": {},
   "outputs": [
    {
     "name": "stdout",
     "output_type": "stream",
     "text": [
      "0      9.3\n",
      "1      9.2\n",
      "2      9.0\n",
      "3      9.0\n",
      "4      9.0\n",
      "      ... \n",
      "995    7.6\n",
      "996    7.6\n",
      "997    7.6\n",
      "998    7.6\n",
      "999    7.6\n",
      "Name: IMDB_Rating, Length: 1000, dtype: float64\n"
     ]
    }
   ],
   "source": [
    "ratings_df = imdb_df[\"IMDB_Rating\"]\n",
    "print(ratings_df)"
   ]
  },
  {
   "cell_type": "markdown",
   "id": "420b82a0",
   "metadata": {},
   "source": [
    "To numerically analyze the movie ratings, one can get the mean, median, mode, and standard deviation of the observations for ratings.\n"
   ]
  },
  {
   "cell_type": "code",
   "execution_count": 34,
   "id": "c6317b6f",
   "metadata": {},
   "outputs": [
    {
     "data": {
      "text/plain": [
       "count    1000.000000\n",
       "mean        7.949300\n",
       "std         0.275491\n",
       "min         7.600000\n",
       "25%         7.700000\n",
       "50%         7.900000\n",
       "75%         8.100000\n",
       "max         9.300000\n",
       "Name: IMDB_Rating, dtype: float64"
      ]
     },
     "execution_count": 34,
     "metadata": {},
     "output_type": "execute_result"
    }
   ],
   "source": [
    "ratings_df.describe()"
   ]
  },
  {
   "cell_type": "markdown",
   "id": "706c0245",
   "metadata": {},
   "source": [
    "### It can be seen from the results that the movies in the dataset generally have high ratings with a narrow distribution.\n",
    "\n",
    "To understand the distribution further, it is best to put the data in a histogram plot for visual representation.\n"
   ]
  },
  {
   "cell_type": "code",
   "execution_count": 35,
   "id": "7974dd77",
   "metadata": {
    "scrolled": true
   },
   "outputs": [
    {
     "data": {
      "text/plain": [
       "Text(0, 0.5, 'Movies')"
      ]
     },
     "execution_count": 35,
     "metadata": {},
     "output_type": "execute_result"
    },
    {
     "data": {
      "image/png": "[encoded data removed]",
      "text/plain": [
       "<Figure size 900x300 with 1 Axes>"
      ]
     },
     "metadata": {},
     "output_type": "display_data"
    }
   ],
   "source": [
    "plt.figure(figsize=(9, 3))\n",
    "plt.hist(ratings_df, bins=30, edgecolor='k', color='skyblue')\n",
    "plt.title(\"Distribution of IMDb User Ratings for the Top 1000 IMDb Movies\")\n",
    "plt.xlabel(\"IMDb User Ratings\")\n",
    "plt.ylabel(\"Movies\")"
   ]
  },
  {
   "cell_type": "markdown",
   "id": "d393b47d",
   "metadata": {},
   "source": [
    "### Examining the histogram, it is evident that the distribution of movie ratings exhibits a positive skew, which corroborates the numerical analysis. This observation is logical, given that the dataset comprises the top 1000 most popular and highly-rated films on the IMDb website.\n"
   ]
  },
  {
   "cell_type": "markdown",
   "id": "2b8159d9",
   "metadata": {},
   "source": [
    "### What is the distribution of the gross earnings for movies?\n",
    "\n",
    "The primary focus to answer this question is the variable:\n",
    "\n",
    "- `Gross`: amount of money earned or grossed by the movie\n",
    "\n",
    "Select the `Gross` column as a series.\n"
   ]
  },
  {
   "cell_type": "code",
   "execution_count": 36,
   "id": "de10918a",
   "metadata": {},
   "outputs": [
    {
     "name": "stdout",
     "output_type": "stream",
     "text": [
      "0       28341469\n",
      "1      134966411\n",
      "2      534858444\n",
      "3       57300000\n",
      "4        4360000\n",
      "         ...    \n",
      "995     68034751\n",
      "996     68034751\n",
      "997     30500000\n",
      "998     68034751\n",
      "999     68034751\n",
      "Name: Gross, Length: 1000, dtype: int32\n"
     ]
    }
   ],
   "source": [
    "gross_df = imdb_df[\"Gross\"]\n",
    "print(gross_df)"
   ]
  },
  {
   "cell_type": "markdown",
   "id": "e3cc25cf",
   "metadata": {},
   "source": [
    "Similar to the distribution of movie ratings, getting the mean, median, and mode of the gross earnings can help generate insights from the said variable.\n"
   ]
  },
  {
   "cell_type": "code",
   "execution_count": 37,
   "id": "87c3b90a",
   "metadata": {},
   "outputs": [
    {
     "data": {
      "text/plain": [
       "count    1.000000e+03\n",
       "mean     6.803475e+07\n",
       "std      1.000371e+08\n",
       "min      1.305000e+03\n",
       "25%      5.012919e+06\n",
       "50%      4.238945e+07\n",
       "75%      6.803475e+07\n",
       "max      9.366622e+08\n",
       "Name: Gross, dtype: float64"
      ]
     },
     "execution_count": 37,
     "metadata": {},
     "output_type": "execute_result"
    }
   ],
   "source": [
    "gross_df.describe()"
   ]
  },
  {
   "cell_type": "markdown",
   "id": "17335665",
   "metadata": {},
   "source": [
    "### The results show that movie gross earnings vary significantly, with a wide range from very low to very high earnings. The average gross earning is approximately $68 million, but the data's standard deviation indicates that there is substantial variability in earnings across the movies. This means that while some movies in the dataset are highly successful and earn a substantial amount, others may not perform as well financially.\n",
    "\n",
    "To visualize the gross earnings' distribution, a histogram plot will be useful.\n"
   ]
  },
  {
   "cell_type": "code",
   "execution_count": 38,
   "id": "3e7132ca",
   "metadata": {
    "scrolled": true
   },
   "outputs": [
    {
     "data": {
      "text/plain": [
       "Text(0, 0.5, 'Movies')"
      ]
     },
     "execution_count": 38,
     "metadata": {},
     "output_type": "execute_result"
    },
    {
     "data": {
      "image/png": "[encoded data removed]",
      "text/plain": [
       "<Figure size 900x300 with 1 Axes>"
      ]
     },
     "metadata": {},
     "output_type": "display_data"
    }
   ],
   "source": [
    "plt.figure(figsize=(9, 3)) \n",
    "plt.hist(gross_df, bins=30, edgecolor='k', color='skyblue')\n",
    "plt.title(\"Distribution of Gross Earnings for the Top 1000 IMDb Movies\")\n",
    "plt.xlabel(\"Gross Earnings\")\n",
    "plt.ylabel(\"Movies\")"
   ]
  },
  {
   "cell_type": "markdown",
   "id": "6b6a81a7",
   "metadata": {},
   "source": [
    "### The distribution of movie gross earnings in this dataset is positively skewed, with a wide range of earnings, and a few highly successful movies contributing to the positive skew. The substantial variability also aligns with the numerical analysis and is clearly evident in the historgram plot.\n"
   ]
  },
  {
   "cell_type": "markdown",
   "id": "4ac27378-9217-47f1-b884-ee881b42291a",
   "metadata": {},
   "source": [
    "### What are the most common movie genres in the dataset?\n",
    "\n",
    "Remember that in data preprocessing, one-hot encoding was applied to the genre variable.\n",
    "\n",
    "Thus, the primary focus to answer this question are the variables under:\n",
    "\n",
    "- `Genre`: type, category, or theme of the movie\n",
    "\n",
    "which are:\n",
    "\n",
    "`War`, `Drama`, `Action`, `Adventure`, `Musical`, `Thriller`, `Music`, `History`, `Mystery`, `Crime`, `Comedy`, `Animation`, `Film-Noir`, `Sci-Fi`, `Biography`, `Sport`, `Western`, `Romance`, `Family`, `Fantasy`, `Horror`\n",
    "\n",
    "To count the movies associated with each genre, we first put the individual genres into an array for easier selection in the DataFrame.\n"
   ]
  },
  {
   "cell_type": "code",
   "execution_count": 39,
   "id": "92452d17-62e7-4fd3-8244-954d8b72108c",
   "metadata": {
    "tags": []
   },
   "outputs": [],
   "source": [
    "genre_columns = ['War', 'Drama', 'Action', 'Adventure', 'Musical', 'Thriller', 'Music', 'History', 'Mystery', 'Crime', 'Comedy', 'Animation', 'Film-Noir', 'Sci-Fi', 'Biography', 'Sport', 'Western', 'Romance', 'Family', 'Fantasy', 'Horror']"
   ]
  },
  {
   "cell_type": "markdown",
   "id": "9063840f",
   "metadata": {},
   "source": [
    "When the datatype is examined, one can see that the columns are in `int64`, rather than `boolean`.\n",
    "\n",
    "So, to perform the method `sum` to get the total number of movies per genre, we first need to convert it to boolean using the method `astype(bool)`.\n"
   ]
  },
  {
   "cell_type": "code",
   "execution_count": 40,
   "id": "9275b9d5",
   "metadata": {},
   "outputs": [],
   "source": [
    "imdb_df[genre_columns] = imdb_df[genre_columns].astype(bool)"
   ]
  },
  {
   "cell_type": "code",
   "execution_count": 41,
   "id": "c0e2d461",
   "metadata": {},
   "outputs": [
    {
     "name": "stdout",
     "output_type": "stream",
     "text": [
      "War           51\n",
      "Drama        724\n",
      "Action       189\n",
      "Adventure    196\n",
      "Musical       17\n",
      "Thriller     137\n",
      "Music         35\n",
      "History       56\n",
      "Mystery       99\n",
      "Crime        209\n",
      "Comedy       233\n",
      "Animation     82\n",
      "Film-Noir     19\n",
      "Sci-Fi        67\n",
      "Biography    109\n",
      "Sport         19\n",
      "Western       20\n",
      "Romance      125\n",
      "Family        56\n",
      "Fantasy       66\n",
      "Horror        32\n",
      "dtype: int64\n"
     ]
    }
   ],
   "source": [
    "genre_counts = imdb_df[genre_columns].sum()\n",
    "print(genre_counts)"
   ]
  },
  {
   "cell_type": "markdown",
   "id": "94e0fd12",
   "metadata": {},
   "source": [
    "After getting the genre_counts, we can get the 10 most common genres overall using the `sort_values` by descending order method and the `head(10)` method\n"
   ]
  },
  {
   "cell_type": "code",
   "execution_count": 42,
   "id": "72f6cbb0",
   "metadata": {
    "scrolled": true
   },
   "outputs": [
    {
     "data": {
      "text/plain": [
       "Drama        724\n",
       "Comedy       233\n",
       "Crime        209\n",
       "Adventure    196\n",
       "Action       189\n",
       "Thriller     137\n",
       "Romance      125\n",
       "Biography    109\n",
       "Mystery       99\n",
       "Animation     82\n",
       "dtype: int64"
      ]
     },
     "execution_count": 42,
     "metadata": {},
     "output_type": "execute_result"
    }
   ],
   "source": [
    "genre_counts = genre_counts.sort_values(ascending=False).head(10)\n",
    "genre_counts"
   ]
  },
  {
   "cell_type": "markdown",
   "id": "caebacf9",
   "metadata": {},
   "source": [
    "Utilizing a bar plot is an effective way to visually represent the genre frequency within the dataset.\n"
   ]
  },
  {
   "cell_type": "code",
   "execution_count": 43,
   "id": "efdbc583",
   "metadata": {},
   "outputs": [
    {
     "data": {
      "image/png": "[encoded data removed]",
      "text/plain": [
       "<Figure size 900x300 with 1 Axes>"
      ]
     },
     "metadata": {},
     "output_type": "display_data"
    }
   ],
   "source": [
    "fig, ax = plt.subplots(figsize=(9, 3))\n",
    "genre_counts[:10].plot(kind='bar', x='Genre', y='Count', ax=ax, edgecolor='k', color='skyblue')\n",
    "plt.xlabel(\"Genres\")\n",
    "plt.ylabel(\"Movies\")\n",
    "plt.show()"
   ]
  },
  {
   "cell_type": "markdown",
   "id": "3cbbc894",
   "metadata": {},
   "source": [
    "### The bar plot analysis underscores the prevalence of the top 10 genres: drama, comedy, crime, adventure, action, thriller, romance, biography, mystery, and animation. Notably, drama stands out as the most frequent genre, constituting a significant 72.4% of the movies in the dataset.\n"
   ]
  },
  {
   "cell_type": "markdown",
   "id": "75a29d9c",
   "metadata": {},
   "source": [
    "### How has the distribution of movie releases evolved over time?\n",
    "\n",
    "The primary focus to answer this question is the variable:\n",
    "\n",
    "- `Released Year`: year in which the movie was publicly released\n",
    "\n",
    "When looking at the years movies were released, one can examine the frequency of movie releases.\n",
    "\n",
    "Select the `Released_Year` as a Series.\n"
   ]
  },
  {
   "cell_type": "code",
   "execution_count": 44,
   "id": "dc1135ca",
   "metadata": {},
   "outputs": [],
   "source": [
    "years_df = imdb_df['Released_Year']"
   ]
  },
  {
   "cell_type": "code",
   "execution_count": 45,
   "id": "a4f24793",
   "metadata": {},
   "outputs": [
    {
     "name": "stdout",
     "output_type": "stream",
     "text": [
      "Released_Year\n",
      "2014    32\n",
      "2004    31\n",
      "2009    29\n",
      "2013    28\n",
      "2016    28\n",
      "        ..\n",
      "1930     1\n",
      "1921     1\n",
      "1936     1\n",
      "1922     1\n",
      "1943     1\n",
      "Name: count, Length: 99, dtype: int64\n"
     ]
    }
   ],
   "source": [
    "year_counts = years_df.value_counts()\n",
    "print(year_counts)"
   ]
  },
  {
   "cell_type": "markdown",
   "id": "0706f2f3",
   "metadata": {},
   "source": [
    "One can also determine the most frequent year the top 1000 movies on IMDb was released in.\n"
   ]
  },
  {
   "cell_type": "code",
   "execution_count": 46,
   "id": "db4df88e-9596-4f04-b43a-699f55b7d487",
   "metadata": {
    "scrolled": true,
    "tags": []
   },
   "outputs": [
    {
     "data": {
      "text/html": [
       "<div>\n",
       "<style scoped>\n",
       "    .dataframe tbody tr th:only-of-type {\n",
       "        vertical-align: middle;\n",
       "    }\n",
       "\n",
       "    .dataframe tbody tr th {\n",
       "        vertical-align: top;\n",
       "    }\n",
       "\n",
       "    .dataframe thead tr th {\n",
       "        text-align: left;\n",
       "    }\n",
       "</style>\n",
       "<table border=\"1\" class=\"dataframe\">\n",
       "  <thead>\n",
       "    <tr>\n",
       "      <th></th>\n",
       "      <th>Released_Year</th>\n",
       "    </tr>\n",
       "    <tr>\n",
       "      <th></th>\n",
       "      <th>mode</th>\n",
       "    </tr>\n",
       "  </thead>\n",
       "  <tbody>\n",
       "    <tr>\n",
       "      <th>0</th>\n",
       "      <td>2014</td>\n",
       "    </tr>\n",
       "  </tbody>\n",
       "</table>\n",
       "</div>"
      ],
      "text/plain": [
       "  Released_Year\n",
       "           mode\n",
       "0          2014"
      ]
     },
     "execution_count": 46,
     "metadata": {},
     "output_type": "execute_result"
    }
   ],
   "source": [
    "imdb_df.agg({\"Released_Year\": [\"mode\"]})"
   ]
  },
  {
   "cell_type": "markdown",
   "id": "24ba83fd",
   "metadata": {},
   "source": [
    "### The mode suggests a noteworthy surge in the number of movie releases during the year 2014.\n",
    "\n",
    "The line chart below will help visualize the distribution of movie releases over time, with years on the x-axis and the number of movies on the y-axis.\n"
   ]
  },
  {
   "cell_type": "code",
   "execution_count": null,
   "id": "9126ee1c-025a-43b6-b872-fc1eaf7f7a50",
   "metadata": {
    "tags": []
   },
   "outputs": [
    {
     "data": {
      "text/plain": [
       "Text(0, 0.5, 'Number of Movies Released')"
      ]
     },
     "execution_count": 47,
     "metadata": {},
     "output_type": "execute_result"
    }
   ],
   "source": [
    "plt.figure(figsize=(12, 6))\n",
    "plt.plot(year_counts.index, year_counts.values, marker='o', linestyle='-')\n",
    "plt.title(\"Distribution of Movie Releases Over Time\")\n",
    "plt.xlabel(\"Year\")\n",
    "plt.ylabel(\"Number of Movies Released\")"
   ]
  },
  {
   "cell_type": "markdown",
   "id": "434661f1",
   "metadata": {},
   "source": [
    "A histogram will also help in visualizing the data, as shown below.\n"
   ]
  },
  {
   "cell_type": "code",
   "execution_count": null,
   "id": "b5cbc4bf",
   "metadata": {
    "scrolled": true
   },
   "outputs": [],
   "source": [
    "plt.figure(figsize=(12, 6))  \n",
    "plt.hist(years_df, bins=30, edgecolor='k', color='skyblue')\n",
    "plt.title(\"Distribution of Movie Releases Over Time\")\n",
    "plt.xlabel(\"Year\")\n",
    "plt.ylabel(\"Number of Movies Released\")"
   ]
  },
  {
   "cell_type": "code",
   "execution_count": null,
   "id": "d7546ebf",
   "metadata": {},
   "outputs": [],
   "source": [
    "imdb_df['Released_Year'].describe()"
   ]
  },
  {
   "cell_type": "markdown",
   "id": "3c0d8e98",
   "metadata": {},
   "source": [
    "### The distribution of movie release years in this dataset appears to be relatively narrow and positively skewed, signifying a trend of increasing movie releases over time.\n"
   ]
  },
  {
   "cell_type": "markdown",
   "id": "f7443516",
   "metadata": {},
   "source": [
    "### How does the movie's gross earnings relate to its IMDb rating?\n",
    "\n",
    "The primary focus to answer this question are the variables:\n",
    "\n",
    "- `Gross`: year in which the movie was publicly released\n",
    "- `IMDB_Rating`: year in which the movie was publicly released\n",
    "\n",
    "Below, you can see the summary statistics for both IMDB_Rating and Gross in the dataset.\n"
   ]
  },
  {
   "cell_type": "code",
   "execution_count": null,
   "id": "edaf8ecc",
   "metadata": {},
   "outputs": [],
   "source": [
    "ratings_df.describe()"
   ]
  },
  {
   "cell_type": "code",
   "execution_count": null,
   "id": "718108b0",
   "metadata": {},
   "outputs": [],
   "source": [
    "gross_df.describe()"
   ]
  },
  {
   "cell_type": "markdown",
   "id": "a0bb6b3a",
   "metadata": {},
   "source": [
    "In determining their relationship, their correlation to each other must be calculated. This can be done using the method `corr`.\n"
   ]
  },
  {
   "cell_type": "code",
   "execution_count": null,
   "id": "25c05c68",
   "metadata": {},
   "outputs": [],
   "source": [
    "ratings_df.corr(gross_df)"
   ]
  },
  {
   "cell_type": "markdown",
   "id": "b748ce83",
   "metadata": {},
   "source": [
    "### The correlation coefficient suggests a weak positive linear relationship between these two variables, implying a slight tendency for movies with higher IMDb ratings to exhibit higher gross earnings.\n",
    "\n",
    "Knowing this, the scatterplot can be used to further confirm and visualize the interpretation.\n"
   ]
  },
  {
   "cell_type": "code",
   "execution_count": null,
   "id": "aa9c2d87-52c0-4571-881e-ab44357c51b7",
   "metadata": {
    "scrolled": true,
    "tags": []
   },
   "outputs": [],
   "source": [
    "plt.figure(figsize=(10, 6))\n",
    "plt.scatter(ratings_df, gross_df, alpha=0.5)\n",
    "plt.title('IMDb Rating vs. Gross Earnings')\n",
    "plt.xlabel('IMDb Rating')\n",
    "plt.ylabel('Gross Earnings')"
   ]
  },
  {
   "cell_type": "markdown",
   "id": "39ba41f2",
   "metadata": {},
   "source": [
    "### Is there any relationship between the movie's release date and the movie's gross earnings?\n",
    "\n",
    "The primary focus to answer this question are the variables:\n",
    "\n",
    "- `Gross`: year in which the movie was publicly released\n",
    "- `Released_Year`: year in which the movie was publicly released\n",
    "\n",
    "Similar to the earlier question, one can also compute the correlation coefficient between the two variables to determine their relationship.\n"
   ]
  },
  {
   "cell_type": "code",
   "execution_count": null,
   "id": "9be5536c",
   "metadata": {},
   "outputs": [],
   "source": [
    "years_df.corr(gross_df)"
   ]
  },
  {
   "cell_type": "markdown",
   "id": "f396b24e",
   "metadata": {},
   "source": [
    "### The correlation coefficient suggests that there is a weak positive relationship between the two variables, suggesting that, to some extent, more recent movies tend to have higher gross earnings.\n",
    "\n",
    "The scatterplot below will help us visualize more about the relationship between them, as per our interpretation for the coefficient.\n"
   ]
  },
  {
   "cell_type": "code",
   "execution_count": null,
   "id": "0f6700a4",
   "metadata": {},
   "outputs": [],
   "source": [
    "plt.figure(figsize=(10, 6))\n",
    "plt.scatter(years_df, gross_df, alpha=0.5)\n",
    "plt.title('Released Year vs. Gross Earnings')\n",
    "plt.xlabel('Released Year')\n",
    "plt.ylabel('Gross Earnings')"
   ]
  },
  {
   "cell_type": "markdown",
   "id": "09945501",
   "metadata": {},
   "source": [
    "### Is there any relationship between the movie's gross earnings and the metascore from critics of movies?\n",
    "\n",
    "The primary focus to answer this question are the variables:\n",
    "\n",
    "- `Gross`: year in which the movie was publicly released\n",
    "- `Meta_score`: year in which the movie was publicly released\n",
    "\n",
    "Extract the metascore from the IMDb dataframe to make a series for the said variable.\n"
   ]
  },
  {
   "cell_type": "code",
   "execution_count": null,
   "id": "edbabf21",
   "metadata": {},
   "outputs": [],
   "source": [
    "metascore_df = imdb_df[\"Meta_score\"]\n",
    "print(metascore_df)"
   ]
  },
  {
   "cell_type": "markdown",
   "id": "12a5667a",
   "metadata": {},
   "source": [
    "The correlation coefficient between the `Gross` and `Metascore` is calculated to assess the nature and strength of their relationship below.\n"
   ]
  },
  {
   "cell_type": "code",
   "execution_count": null,
   "id": "6ab294cc",
   "metadata": {},
   "outputs": [],
   "source": [
    "metascore_df.corr(gross_df)"
   ]
  },
  {
   "cell_type": "markdown",
   "id": "6d6dd850",
   "metadata": {},
   "source": [
    "### The correlation coefficient suggests that there is a very weak, almost negligible negative relationship, indicating that there is no meaningful linear relationship between a movie's Metascore rating and its gross earnings in the dataset.\n",
    "\n",
    "\n",
    "The scatterplot below will aid in visualizing this relationship.\n"
   ]
  },
  {
   "cell_type": "code",
   "execution_count": null,
   "id": "1c440e06",
   "metadata": {},
   "outputs": [],
   "source": [
    "plt.figure(figsize=(10, 6))\n",
    "plt.scatter(metascore_df, gross_df, alpha=0.5)\n",
    "plt.title('Meta Score from Critics vs. Gross Earnings')\n",
    "plt.xlabel('Meta Score from Critics')\n",
    "plt.ylabel('Gross Earnings')"
   ]
  },
  {
   "cell_type": "markdown",
   "id": "d86fa96a",
   "metadata": {},
   "source": [
    "### Which genres are most commonly featured in top grossing movies?"
   ]
  },
  {
   "cell_type": "code",
   "execution_count": null,
   "id": "171b336f",
   "metadata": {},
   "outputs": [],
   "source": [
    "top_gross_movies = imdb_df.nlargest(10, 'Gross')[['Series_Title', 'Gross']]\n",
    "top_gross_movies_genres = imdb_df.loc[top_gross_movies.index, genre_columns]\n",
    "top_gross_genre_counts = top_gross_movies_genres.sum()\n",
    "top_gross_genre_counts\n"
   ]
  },
  {
   "cell_type": "code",
   "execution_count": null,
   "id": "1d8a34f7",
   "metadata": {},
   "outputs": [],
   "source": [
    "fig, ax = plt.subplots(figsize=(12,6))\n",
    "top_gross_genre_counts.plot(kind='bar', x='Genre', y='Count', ax=ax, edgecolor='k', color='skyblue')\n",
    "plt.title('Genre Counts in Top 10 Grossing Movies')\n",
    "plt.xlabel('Genre')\n",
    "plt.ylabel('Count')\n",
    "plt.xticks(rotation=70)\n",
    "plt.show()"
   ]
  },
  {
   "cell_type": "markdown",
   "id": "af046f14",
   "metadata": {},
   "source": [
    "### Observing the bar graph, it becomes apparent that the action and adventure genres are prominent among the top-grossing movies."
   ]
  },
  {
   "cell_type": "markdown",
   "id": "ae654526",
   "metadata": {},
   "source": [
    "### Which genres are most commonly featured in top rated movies?"
   ]
  },
  {
   "cell_type": "code",
   "execution_count": null,
   "id": "02e4c60f",
   "metadata": {},
   "outputs": [],
   "source": [
    "top_rated_movies = imdb_df.nlargest(10, 'IMDB_Rating')[['Series_Title', 'Gross']]"
   ]
  },
  {
   "cell_type": "code",
   "execution_count": null,
   "id": "6245168d",
   "metadata": {},
   "outputs": [],
   "source": [
    "top_rated_movies = imdb_df.nlargest(10, 'IMDB_Rating')[['Series_Title', 'Gross']]\n",
    "top_rated_movies_genres = imdb_df.loc[top_rated_movies.index, genre_columns]\n",
    "top_rated_genre_counts = top_rated_movies_genres.sum()\n",
    "top_rated_genre_counts\n"
   ]
  },
  {
   "cell_type": "code",
   "execution_count": null,
   "id": "b09d218f",
   "metadata": {},
   "outputs": [],
   "source": [
    "fig, ax = plt.subplots(figsize=(12,6))\n",
    "top_rated_genre_counts.plot(kind='bar', x='Genre', y='Count', ax=ax, edgecolor='k', color='skyblue')\n",
    "plt.title('Genre Counts in Top 10 Rated Movies')\n",
    "plt.xlabel('Genre')\n",
    "plt.ylabel('Count')\n",
    "plt.xticks(rotation=70)\n",
    "plt.show()"
   ]
  },
  {
   "cell_type": "markdown",
   "id": "34762f27",
   "metadata": {},
   "source": [
    "###  From the bar graph, it becomes apparent that the drama genre is prevalent among top-rated movies."
   ]
  },
  {
   "cell_type": "markdown",
   "id": "e05d4136",
   "metadata": {},
   "source": [
    "### What is the average gross earning per genre?"
   ]
  },
  {
   "cell_type": "code",
   "execution_count": null,
   "id": "d8b1b258",
   "metadata": {},
   "outputs": [],
   "source": [
    "genre_gross_means = {}\n",
    "\n",
    "for x in genre_columns:\n",
    "    genre_gross_means[x] = imdb_df.groupby(x)['Gross'].mean()[1]\n",
    "\n",
    "genre_gross_means"
   ]
  },
  {
   "cell_type": "code",
   "execution_count": null,
   "id": "5fb3227f",
   "metadata": {},
   "outputs": [],
   "source": [
    "plt.figure(figsize=(12,6)) \n",
    "plt.bar(genre_gross_means.keys(), genre_gross_means.values(), edgecolor='k', color='skyblue')\n",
    "plt.title('Average Gross Earnings by Genre')\n",
    "plt.xlabel('Genre')\n",
    "plt.ylabel('Average Gross Earnings')\n",
    "plt.xticks(rotation=70)\n",
    "plt.show()"
   ]
  },
  {
   "cell_type": "markdown",
   "id": "b5e17cda",
   "metadata": {},
   "source": [
    "###  Based on the bar graph, it becomes clear that the genres of action, adventure, animation, sci-fi, family, and fantasy yield notably high average gross earnings."
   ]
  },
  {
   "cell_type": "markdown",
   "id": "2192d635",
   "metadata": {},
   "source": [
    "## Research Question\n",
    "\n",
    "Following our exploratory data analysis, we sought to address the question: \"Are there particular combinations of genres that tend to perform exceptionally well financially, and can we identify patterns in these combinations?\"\n",
    "\n",
    "This question emerged as we identified significant variability in the gross earnings of movies in the dataset, with certain genres achieving notably high average gross earnings, many of which are prominently featured among the top-grossing films. Furthermore, our analysis focused on the individual genre's financial performance, prompting the need to explore how these genres interact and form combinations in relation to financial success. By doing so, we aim to provide valuable insights that can guide filmmakers, studios, and producers in making informed decisions when selecting genre combinations for their projects, which, in turn, mitigates uncertainty associated with production costs. Aside from the optimized genre selection, these insights can also shed light on the ever-evolving preferences of audiences and the dynamics of the film industry. "
   ]
  }
 ],
 "metadata": {
  "kernelspec": {
   "display_name": "Python 3 (ipykernel)",
   "language": "python",
   "name": "python3"
  },
  "language_info": {
   "codemirror_mode": {
    "name": "ipython",
    "version": 3
   },
   "file_extension": ".py",
   "mimetype": "text/x-python",
   "name": "python",
   "nbconvert_exporter": "python",
   "pygments_lexer": "ipython3",
   "version": "3.11.4"
  }
 },
 "nbformat": 4,
 "nbformat_minor": 5
}
